{
 "cells": [
  {
   "cell_type": "markdown",
   "metadata": {},
   "source": [
    "___\n",
    "\n",
    "<a href='https://www.udemy.com/user/joseportilla/'><img src='../Pierian_Data_Logo.png'/></a>\n",
    "___\n",
    "<center><em>Content Copyright by Pierian Data</em></center>"
   ]
  },
  {
   "cell_type": "markdown",
   "metadata": {},
   "source": [
    "# Guessing Game Challenge\n",
    "\n",
    "Let's use `while` loops to create a guessing game.\n",
    "\n",
    "The Challenge:\n",
    "\n",
    "Write a program that picks a random integer from 1 to 100, and has players guess the number. The rules are:\n",
    "\n",
    "1. If a player's guess is less than 1 or greater than 100, say \"OUT OF BOUNDS\"\n",
    "2. On a player's first turn, if their guess is\n",
    " * within 10 of the number, return \"WARM!\"\n",
    " * further than 10 away from the number, return \"COLD!\"\n",
    "3. On all subsequent turns, if a guess is \n",
    " * closer to the number than the previous guess return \"WARMER!\"\n",
    " * farther from the number than the previous guess, return \"COLDER!\"\n",
    "4. When the player's guess equals the number, tell them they've guessed correctly *and* how many guesses it took!\n",
    "\n",
    "You can try this from scratch, or follow the steps outlined below. A separate Solution notebook has been provided. Good luck!\n"
   ]
  },
  {
   "cell_type": "markdown",
   "metadata": {},
   "source": [
    "#### First, pick a random integer from 1 to 100 using the random module and assign it to a variable\n",
    "\n",
    "Note: `random.randint(a,b)` returns a random integer in range `[a, b]`, including both end points."
   ]
  },
  {
   "cell_type": "code",
   "execution_count": 4,
   "metadata": {},
   "outputs": [],
   "source": [
    "import random\n",
    "number = random.randint(1, 100)"
   ]
  },
  {
   "cell_type": "markdown",
   "metadata": {},
   "source": [
    "#### Next, print an introduction to the game and explain the rules"
   ]
  },
  {
   "cell_type": "code",
   "execution_count": 11,
   "metadata": {},
   "outputs": [],
   "source": [
    "rules = [\n",
    "'''\n",
    "Hello, Player!\n",
    "You need to guess a number from 1 to 100.\n",
    "\n",
    "The rules are:\n",
    "\n",
    "If a player's guess is less than 1 or greater than 100, say \"OUT OF BOUNDS\"\n",
    "On a player's first turn, if their guess is\n",
    "within 10 of the number, return \"WARM!\"\n",
    "further than 10 away from the number, return \"COLD!\"\n",
    "On all subsequent turns, if a guess is\n",
    "closer to the number than the previous guess return \"WARMER!\"\n",
    "farther from the number than the previous guess, return \"COLDER!\"\n",
    "When the player's guess equals the number, tell them they've guessed correctly and how many guesses it took!\n",
    "'''\n",
    "]"
   ]
  },
  {
   "cell_type": "code",
   "execution_count": 12,
   "metadata": {},
   "outputs": [
    {
     "data": {
      "text/plain": [
       "['\\nHello, Player!\\nYou need to guess a number from 1 to 100.\\n\\nThe rules are:\\n\\nIf a player\\'s guess is less than 1 or greater than 100, say \"OUT OF BOUNDS\"\\nOn a player\\'s first turn, if their guess is\\nwithin 10 of the number, return \"WARM!\"\\nfurther than 10 away from the number, return \"COLD!\"\\nOn all subsequent turns, if a guess is\\ncloser to the number than the previous guess return \"WARMER!\"\\nfarther from the number than the previous guess, return \"COLDER!\"\\nWhen the player\\'s guess equals the number, tell them they\\'ve guessed correctly and how many guesses it took!\\n']"
      ]
     },
     "execution_count": 12,
     "metadata": {},
     "output_type": "execute_result"
    }
   ],
   "source": [
    "rules"
   ]
  },
  {
   "cell_type": "markdown",
   "metadata": {},
   "source": [
    "#### Create a list to store guesses\n",
    "\n",
    "Hint: zero is a good placeholder value. It's useful because it evaluates to \"False\""
   ]
  },
  {
   "cell_type": "code",
   "execution_count": 2,
   "metadata": {},
   "outputs": [],
   "source": [
    "guesses_num = [0]"
   ]
  },
  {
   "cell_type": "markdown",
   "metadata": {},
   "source": [
    "#### Write a `while` loop that asks for a valid guess. Test it a few times to make sure it works."
   ]
  },
  {
   "cell_type": "code",
   "execution_count": 14,
   "metadata": {},
   "outputs": [
    {
     "name": "stdout",
     "output_type": "stream",
     "text": [
      "Guess the number from 1 to 100: 56\n"
     ]
    }
   ],
   "source": [
    "while True:\n",
    "    player_num = int(input(\"Guess the number from 1 to 100: \"))\n",
    "    if player_num < 1 or player_num > 100:\n",
    "        print(\"OUT OF BOUNDS\")\n",
    "        print(\"Try again...\")\n",
    "        continue\n",
    "    break"
   ]
  },
  {
   "cell_type": "markdown",
   "metadata": {},
   "source": [
    "#### Write a `while` loop that compares the player's guess to our number. If the player guesses correctly, break from the loop. Otherwise, tell the player if they're warmer or colder, and continue asking for guesses.\n",
    "\n",
    "Some hints:\n",
    "* it may help to sketch out all possible combinations on paper first!\n",
    "* you can use the `abs()` function to find the positive difference between two numbers\n",
    "* if you append all new guesses to the list, then the previous guess is given as `guesses[-2]`"
   ]
  },
  {
   "cell_type": "code",
   "execution_count": 45,
   "metadata": {},
   "outputs": [
    {
     "name": "stdout",
     "output_type": "stream",
     "text": [
      "Guess the number from 1 to 100: 85\n",
      "85\n",
      "Congratulation! You guess correctly!\n",
      "It's take 9 attempts for you to guess!\n"
     ]
    }
   ],
   "source": [
    "while True:\n",
    "    player_num = int(input(\"Guess the number from 1 to 100: \"))\n",
    "    print(number)\n",
    "    \n",
    "    if player_num < 1 or player_num > 100:\n",
    "        print(\"OUT OF BOUNDS\")\n",
    "        print(\"Try again...\")\n",
    "            \n",
    "    if player_num == number:\n",
    "        print(\"Congratulation! You guess correctly!\")\n",
    "        print(f\"It's take {len(guesses_num)} attempts for you to guess!\")\n",
    "        break\n",
    "        \n",
    "    guesses_num.append(player_num)\n",
    "        \n",
    "    if guesses_num[-2]:\n",
    "        if abs(number - player_num) < abs(number - guesses_num[-2]):\n",
    "            print(\"WARMER!\")\n",
    "            print(number)\n",
    "            print(player_num)\n",
    "            print(guesses_num[-2])\n",
    "            \n",
    "        else:\n",
    "            print(\"COLDER!\")\n",
    "    \n",
    "    else:\n",
    "        if abs(number - player_num) <= 10:\n",
    "            print(\"WARM!\")\n",
    "            print(abs(number - player_num))\n",
    "        else:\n",
    "            print(\"COLD!\")\n",
    "            print(abs(number - player_num))"
   ]
  },
  {
   "cell_type": "code",
   "execution_count": 43,
   "metadata": {},
   "outputs": [
    {
     "data": {
      "text/plain": [
       "85"
      ]
     },
     "execution_count": 43,
     "metadata": {},
     "output_type": "execute_result"
    }
   ],
   "source": [
    "number"
   ]
  },
  {
   "cell_type": "markdown",
   "metadata": {},
   "source": [
    "If a player's guess is less than 1 or greater than 100, say \"OUT OF BOUNDS\"\n",
    "On a player's first turn, if their guess is\n",
    "within 10 of the number, return \"WARM!\"\n",
    "further than 10 away from the number, return \"COLD!\"\n",
    "On all subsequent turns, if a guess is\n",
    "closer to the number than the previous guess return \"WARMER!\"\n",
    "farther from the number than the previous guess, return \"COLDER!\"\n",
    "When the player's guess equals the number, tell them they've guessed correctly and how many guesses it took!"
   ]
  },
  {
   "cell_type": "markdown",
   "metadata": {},
   "source": [
    "That's it! You've just programmed your first game!\n",
    "\n",
    "In the next section we'll learn how to turn some of these repetitive actions into *functions* that can be called whenever we need them."
   ]
  },
  {
   "cell_type": "markdown",
   "metadata": {},
   "source": [
    "### Good Job!"
   ]
  },
  {
   "cell_type": "code",
   "execution_count": null,
   "metadata": {},
   "outputs": [],
   "source": []
  },
  {
   "cell_type": "code",
   "execution_count": null,
   "metadata": {},
   "outputs": [],
   "source": []
  },
  {
   "cell_type": "code",
   "execution_count": 3,
   "metadata": {},
   "outputs": [],
   "source": [
    "def count_code(string):\n",
    "    count = 0\n",
    "    for i in range(0, len(string), 1):\n",
    "        if string[i] == 'c' and string[i+1] == 'o' and string[i+3] == 'e':\n",
    "            count += 1\n",
    "            \n",
    "    return count"
   ]
  },
  {
   "cell_type": "code",
   "execution_count": 6,
   "metadata": {},
   "outputs": [
    {
     "data": {
      "text/plain": [
       "2"
      ]
     },
     "execution_count": 6,
     "metadata": {},
     "output_type": "execute_result"
    }
   ],
   "source": [
    "count_code('aaacodebbbcole')"
   ]
  },
  {
   "cell_type": "code",
   "execution_count": null,
   "metadata": {},
   "outputs": [],
   "source": []
  }
 ],
 "metadata": {
  "kernelspec": {
   "display_name": "Python 3 (ipykernel)",
   "language": "python",
   "name": "python3"
  },
  "language_info": {
   "codemirror_mode": {
    "name": "ipython",
    "version": 3
   },
   "file_extension": ".py",
   "mimetype": "text/x-python",
   "name": "python",
   "nbconvert_exporter": "python",
   "pygments_lexer": "ipython3",
   "version": "3.9.12"
  }
 },
 "nbformat": 4,
 "nbformat_minor": 2
}
