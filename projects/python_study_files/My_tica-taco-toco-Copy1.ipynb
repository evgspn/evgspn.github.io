{
 "cells": [
  {
   "cell_type": "code",
   "execution_count": 39,
   "metadata": {},
   "outputs": [],
   "source": [
    "from IPython.display import clear_output"
   ]
  },
  {
   "cell_type": "code",
   "execution_count": 40,
   "metadata": {},
   "outputs": [],
   "source": [
    "def display_board(gboard):\n",
    "    clear_output\n",
    "    print(gboard[7] + '|' + gboard[8] + '|' + gboard[9])\n",
    "    print(gboard[4] + '|' + gboard[5] + '|' + gboard[6])\n",
    "    print(gboard[1] + '|' + gboard[2] + '|' + gboard[3])"
   ]
  },
  {
   "cell_type": "code",
   "execution_count": 41,
   "metadata": {},
   "outputs": [
    {
     "name": "stdout",
     "output_type": "stream",
     "text": [
      "7|8|9\n",
      "4|5|6\n",
      "1|2|3\n"
     ]
    }
   ],
   "source": [
    "test_board = ['#', '1', '2', '3', '4', '5', '6', '7', '8', '9']\n",
    "display_board(test_board)\n",
    "\n",
    "# or test_board = [' ']*10"
   ]
  },
  {
   "cell_type": "code",
   "execution_count": 42,
   "metadata": {},
   "outputs": [
    {
     "name": "stdout",
     "output_type": "stream",
     "text": [
      " | | \n",
      " | | \n",
      " | | \n"
     ]
    }
   ],
   "source": [
    "gboard = [' ', ' ', ' ', ' ', ' ', ' ', ' ', ' ', ' ', ' ']\n",
    "display_board(gboard)"
   ]
  },
  {
   "cell_type": "code",
   "execution_count": 5,
   "metadata": {},
   "outputs": [],
   "source": [
    "# Сообщения перед началом игры\n",
    "def print_start_messages():\n",
    "    print('Добро пожаловать в игру \"Крестики-Нолики\"')\n",
    "    print(\"В игру играют 2 человека - Player_1 и Player_2\")\n",
    "    print('Начинает Player_1 с выбора Х или О')\n",
    "    print('Нумерация ходов совпадает со следующими цифрами: ')\n",
    "    display_board(test_board)"
   ]
  },
  {
   "cell_type": "code",
   "execution_count": 6,
   "metadata": {
    "scrolled": true
   },
   "outputs": [
    {
     "name": "stdout",
     "output_type": "stream",
     "text": [
      "Добро пожаловать в игру \"Крестики-Нолики\"\n",
      "В игру играют 2 человека - Player_1 и Player_2\n",
      "Начинает Player_1 с выбора Х или О\n",
      "Нумерация ходов совпадает со следующими цифрами: \n",
      "7|8|9\n",
      "4|5|6\n",
      "1|2|3\n"
     ]
    }
   ],
   "source": [
    "print_start_messages()"
   ]
  },
  {
   "cell_type": "code",
   "execution_count": 29,
   "metadata": {},
   "outputs": [],
   "source": [
    "def start_game():\n",
    "    \n",
    "    choice_start = 'something'\n",
    "    \n",
    "    while choice_start not in ['Y','N']:\n",
    "        \n",
    "        choice_start = input('Вы готовы сыграть? (Y или N) ')\n",
    "        choice_start = choice_start.upper()\n",
    "        \n",
    "        if choice_start not in ['Y','N']:\n",
    "            print('Введите Y или N')\n",
    "    \n",
    "    if choice_start == 'Y':\n",
    "        print('Замечаааательно!')\n",
    "        return True\n",
    "    else:\n",
    "        print('Как Вам будет угодно...')\n",
    "        return False"
   ]
  },
  {
   "cell_type": "code",
   "execution_count": 8,
   "metadata": {},
   "outputs": [
    {
     "name": "stdout",
     "output_type": "stream",
     "text": [
      "Вы готовы сыграть? (Y или N) y\n",
      "Замечаааательно!\n"
     ]
    },
    {
     "data": {
      "text/plain": [
       "True"
      ]
     },
     "execution_count": 8,
     "metadata": {},
     "output_type": "execute_result"
    }
   ],
   "source": [
    "start_game()"
   ]
  },
  {
   "cell_type": "code",
   "execution_count": 43,
   "metadata": {},
   "outputs": [],
   "source": [
    "def player_input_xo():\n",
    "    \n",
    "    ''' \n",
    "    OUTPUT = (player 1 marker, player 2 marker)\n",
    "    '''\n",
    "    \n",
    "    print('Поехали!')\n",
    "    marker = ''\n",
    "    \n",
    "    # Игрок 1 выбирает Х или О:\n",
    "    \n",
    "    while not (marker == 'X' or marker == 'O'):\n",
    "        marker = input('Игрок 1 выберете X или O (англ.раскладка)?  ').upper()\n",
    "        \n",
    "    # Назначаем Игроку 2 противопложный маркер:\n",
    "    player1 = marker\n",
    "        \n",
    "    if marker == 'X':\n",
    "        return('X', 'O')\n",
    "        print('Outstanding!')\n",
    "    else:\n",
    "        return('O','X')\n",
    "        print('BravO!')"
   ]
  },
  {
   "cell_type": "code",
   "execution_count": 44,
   "metadata": {
    "scrolled": true
   },
   "outputs": [
    {
     "name": "stdout",
     "output_type": "stream",
     "text": [
      "Поехали!\n",
      "Игрок 1 выберете X или O (англ.раскладка)?  x\n"
     ]
    }
   ],
   "source": [
    "player1_marker, player2_marker = player_input_xo()"
   ]
  },
  {
   "cell_type": "code",
   "execution_count": 11,
   "metadata": {
    "scrolled": true
   },
   "outputs": [
    {
     "data": {
      "text/plain": [
       "'O'"
      ]
     },
     "execution_count": 11,
     "metadata": {},
     "output_type": "execute_result"
    }
   ],
   "source": [
    "player2_marker"
   ]
  },
  {
   "cell_type": "code",
   "execution_count": 12,
   "metadata": {},
   "outputs": [],
   "source": [
    "def player_input_move(board_play, marker, position):\n",
    "    \n",
    "    board_play[position] = marker\n",
    "    "
   ]
  },
  {
   "cell_type": "code",
   "execution_count": 13,
   "metadata": {},
   "outputs": [
    {
     "name": "stdout",
     "output_type": "stream",
     "text": [
      " | | \n",
      " | | \n",
      " | | \n"
     ]
    }
   ],
   "source": [
    "board_play = ['#', ' ', ' ', ' ', ' ', ' ', ' ', ' ', ' ', ' ']\n",
    "display_board(board_play)"
   ]
  },
  {
   "cell_type": "code",
   "execution_count": 14,
   "metadata": {
    "scrolled": true
   },
   "outputs": [],
   "source": [
    "player_input_move(board_play, '$', 6)"
   ]
  },
  {
   "cell_type": "code",
   "execution_count": 15,
   "metadata": {},
   "outputs": [
    {
     "name": "stdout",
     "output_type": "stream",
     "text": [
      " | | \n",
      " | |$\n",
      " | | \n"
     ]
    }
   ],
   "source": [
    "display_board(board_play)"
   ]
  },
  {
   "cell_type": "code",
   "execution_count": 16,
   "metadata": {},
   "outputs": [],
   "source": [
    "def win_check(board, mark):\n",
    "    \n",
    "    # WIN TIC TAC TO??\n",
    "    # It's mean: need to check that all RAWS have the same marker.\n",
    "    return ((board[1] == mark and board[2] == mark and board[3] == mark) or\n",
    "    (board[4] == mark and board[5] == mark and board[6] == mark) or\n",
    "    (board[7] == mark and board[8] == mark and board[9] == mark) or\n",
    "   \n",
    "    # Then do this for COLUMN.\n",
    "    (board[1] == board[4] == board[7] == mark) or\n",
    "    (board[2] == board[5] == board[8] == mark) or\n",
    "    (board[3] == board[6] == board[9] == mark) or\n",
    "    \n",
    "    # And then check the diagonals for match.\n",
    "    (board[1] == board[5] == board[9] == mark) or\n",
    "    (board[3] == board[5] == board[7] == mark))"
   ]
  },
  {
   "cell_type": "code",
   "execution_count": 45,
   "metadata": {},
   "outputs": [
    {
     "name": "stdout",
     "output_type": "stream",
     "text": [
      " | | \n",
      " | |$\n",
      " | | \n"
     ]
    },
    {
     "data": {
      "text/plain": [
       "False"
      ]
     },
     "execution_count": 45,
     "metadata": {},
     "output_type": "execute_result"
    }
   ],
   "source": [
    "display_board(board_play)\n",
    "win_check(board_play, '$')"
   ]
  },
  {
   "cell_type": "code",
   "execution_count": 30,
   "metadata": {},
   "outputs": [],
   "source": [
    "import random\n",
    "\n",
    "def choose_first():\n",
    "    \n",
    "    flip = random.randint(0, 1)\n",
    "    \n",
    "    if flip == 0:\n",
    "        return 'Player 1'\n",
    "    else:\n",
    "        return 'Player 2'"
   ]
  },
  {
   "cell_type": "code",
   "execution_count": 31,
   "metadata": {
    "scrolled": true
   },
   "outputs": [
    {
     "data": {
      "text/plain": [
       "'Player 2'"
      ]
     },
     "execution_count": 31,
     "metadata": {},
     "output_type": "execute_result"
    }
   ],
   "source": [
    "choose_first()"
   ]
  },
  {
   "cell_type": "code",
   "execution_count": 20,
   "metadata": {},
   "outputs": [],
   "source": [
    "def space_check(board, position):\n",
    "    \n",
    "    return board[position] == ' '"
   ]
  },
  {
   "cell_type": "code",
   "execution_count": 21,
   "metadata": {},
   "outputs": [
    {
     "data": {
      "text/plain": [
       "True"
      ]
     },
     "execution_count": 21,
     "metadata": {},
     "output_type": "execute_result"
    }
   ],
   "source": [
    "space_check(board_play, 5)"
   ]
  },
  {
   "cell_type": "code",
   "execution_count": 22,
   "metadata": {},
   "outputs": [],
   "source": [
    "def full_board_check(board):\n",
    "    \n",
    "    for i in range(1, 10):\n",
    "        if space_check(board,i):\n",
    "            return False\n",
    "    # If board is full --> return True\n",
    "    return True\n",
    "        "
   ]
  },
  {
   "cell_type": "code",
   "execution_count": 23,
   "metadata": {},
   "outputs": [
    {
     "data": {
      "text/plain": [
       "False"
      ]
     },
     "execution_count": 23,
     "metadata": {},
     "output_type": "execute_result"
    }
   ],
   "source": [
    "full_board_check(board_play)"
   ]
  },
  {
   "cell_type": "code",
   "execution_count": 38,
   "metadata": {},
   "outputs": [],
   "source": [
    "def player_choice(board):\n",
    "    position = 0\n",
    "    \n",
    "    while position not in [1, 2, 3, 4, 5, 6, 7, 8, 9] or not space_check(board, position):\n",
    "        \n",
    "        position = int(input('Игрок выберите позицию X для своего хода (1 - 9): '))\n",
    "           \n",
    "    return position"
   ]
  },
  {
   "cell_type": "code",
   "execution_count": 25,
   "metadata": {},
   "outputs": [
    {
     "name": "stdout",
     "output_type": "stream",
     "text": [
      "Игрок выберите позицию X для своего хода (1 - 9): 2\n"
     ]
    },
    {
     "data": {
      "text/plain": [
       "2"
      ]
     },
     "execution_count": 25,
     "metadata": {},
     "output_type": "execute_result"
    }
   ],
   "source": [
    "player_choice(board_play)"
   ]
  },
  {
   "cell_type": "code",
   "execution_count": 26,
   "metadata": {},
   "outputs": [],
   "source": [
    "def replay():\n",
    "    \n",
    "    choice = input('Вы хотите сыграть снова? Yes или No? ')\n",
    "    \n",
    "    return choice == 'Yes'"
   ]
  },
  {
   "cell_type": "code",
   "execution_count": 27,
   "metadata": {},
   "outputs": [
    {
     "name": "stdout",
     "output_type": "stream",
     "text": [
      "Вы хотите сыграть снова? Yes или No? yes\n"
     ]
    },
    {
     "data": {
      "text/plain": [
       "False"
      ]
     },
     "execution_count": 27,
     "metadata": {},
     "output_type": "execute_result"
    }
   ],
   "source": [
    "replay()"
   ]
  },
  {
   "cell_type": "code",
   "execution_count": 46,
   "metadata": {},
   "outputs": [
    {
     "name": "stdout",
     "output_type": "stream",
     "text": [
      "Добро пожаловать в игру Крестики-нолики\n",
      "Поехали!\n",
      "Игрок 1 выберете X или O (англ.раскладка)?  x\n",
      "Player 2 ходит первым.\n",
      "Готовы сыграть? Y or NY\n",
      " | | \n",
      " | | \n",
      " | | \n",
      "Игрок выберите позицию X для своего хода (1 - 9): 5\n",
      " | | \n",
      " |O| \n",
      " | | \n",
      "Игрок выберите позицию X для своего хода (1 - 9): 5\n",
      "Игрок выберите позицию X для своего хода (1 - 9): 4\n",
      " | | \n",
      "O|O| \n",
      " | | \n",
      "Игрок выберите позицию X для своего хода (1 - 9): 6\n",
      " | | \n",
      "O|O|O\n",
      " | | \n",
      "Игрок 2 выиграл!\n",
      "Вы хотите сыграть снова? Yes или No? No\n"
     ]
    }
   ],
   "source": [
    "# The Game!\n",
    "print('Добро пожаловать в игру Крестики-нолики')\n",
    "\n",
    "# While loop to keep running the game\n",
    "\n",
    "while True:\n",
    "        \n",
    "    # Play the Game\n",
    "    \n",
    "    ## Set everything up (board, who is firs and choose markers X,O)\n",
    "    game_board = [' ']*10\n",
    "    player1_marker, player2_marker = player_input_xo()\n",
    "    \n",
    "    turn = choose_first()\n",
    "    print(turn + ' ходит первым.')\n",
    "    \n",
    "    play_game = input('Готовы сыграть? Y or N').upper()\n",
    "    \n",
    "    if play_game == 'Y':\n",
    "        game_on = True\n",
    "    else:\n",
    "        game_on = False\n",
    "   \n",
    "\n",
    "    ## Gameplay    \n",
    "    while game_on:\n",
    "        \n",
    "        ### Player 1 turn\n",
    "        if turn == 'Player 1':\n",
    "            \n",
    "            # show the board\n",
    "            display_board(game_board)\n",
    "            # choose the position\n",
    "            position = player_choice(game_board)\n",
    "            # place the marker on the position\n",
    "            player_input_move(game_board, player1_marker, position)\n",
    "            # check if they on\n",
    "            if win_check(game_board, player1_marker):\n",
    "                display_board(game_board)\n",
    "                print('Игрок 1 выиграл!')\n",
    "                game_on = False\n",
    "               \n",
    "            # check if they tie\n",
    "            else: \n",
    "                if full_board_check(game_board):\n",
    "                    display_board(game_board)\n",
    "                    print('НИЧЬЯ!')\n",
    "                    game_on = False\n",
    "                else:\n",
    "                    turn == 'Player 2'\n",
    "            # no tie and no win --> next player turn\n",
    "            \n",
    "            \n",
    "            \n",
    "        \n",
    "        else:\n",
    "        ### Player 2 turn\n",
    "             # show the board\n",
    "            display_board(game_board)\n",
    "            \n",
    "            # choose the position\n",
    "            position = player_choice(game_board)\n",
    "        \n",
    "            # place the marker on the position\n",
    "            player_input_move(game_board, player2_marker, position)\n",
    "            \n",
    "            # check if they on\n",
    "            if win_check(game_board, player2_marker):\n",
    "                display_board(game_board)\n",
    "                print('Игрок 2 выиграл!')\n",
    "                game_on = False\n",
    "               \n",
    "            # check if they tie\n",
    "            else: \n",
    "                if full_board_check(game_board):\n",
    "                    display_board(game_board)\n",
    "                    print('НИЧЬЯ!')\n",
    "                    game_on = False\n",
    "                else:\n",
    "                    turn == 'Player 1'\n",
    "            # no tie and no win --> next player turn\n",
    "    \n",
    "# Break out the while loop on replay\n",
    "    if not replay():\n",
    "        break\n"
   ]
  },
  {
   "cell_type": "code",
   "execution_count": null,
   "metadata": {},
   "outputs": [],
   "source": []
  },
  {
   "cell_type": "code",
   "execution_count": null,
   "metadata": {},
   "outputs": [],
   "source": []
  }
 ],
 "metadata": {
  "kernelspec": {
   "display_name": "Python 3",
   "language": "python",
   "name": "python3"
  },
  "language_info": {
   "codemirror_mode": {
    "name": "ipython",
    "version": 3
   },
   "file_extension": ".py",
   "mimetype": "text/x-python",
   "name": "python",
   "nbconvert_exporter": "python",
   "pygments_lexer": "ipython3",
   "version": "3.8.5"
  }
 },
 "nbformat": 4,
 "nbformat_minor": 4
}
