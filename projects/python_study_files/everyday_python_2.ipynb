{
 "cells": [
  {
   "cell_type": "code",
   "execution_count": 1,
   "id": "f525ac91",
   "metadata": {},
   "outputs": [],
   "source": [
    "# Let's use bruteforce approach\n",
    "def two_sum(numbers, target):\n",
    "    # check_indexes = []\n",
    "    \n",
    "    for i in range(len(numbers)):\n",
    "        for j in range(len(numbers)):\n",
    "            if numbers[j] + numbers[i] == target and i != j:\n",
    "                return [i, j]\n",
    "                \n",
    "        #print(check)\n",
    "                # print(numbers[j], numbers[i])\n",
    "\n",
    "    # return check_indexes"
   ]
  },
  {
   "cell_type": "code",
   "execution_count": 2,
   "id": "8d2f1f00",
   "metadata": {},
   "outputs": [],
   "source": [
    "def two_sum(numbers, target):\n",
    "    \n",
    "    for i in range(len(numbers)):\n",
    "        for j in range(len(numbers)):\n",
    "            # print(target, numbers[j], target - numbers[j])\n",
    "            # print(numbers[i])\n",
    "            if target - numbers[j] == numbers[i] and i != j:       \n",
    "                return [i, j]"
   ]
  },
  {
   "cell_type": "code",
   "execution_count": 3,
   "id": "a9e44756",
   "metadata": {},
   "outputs": [
    {
     "data": {
      "text/plain": [
       "[0, 1]"
      ]
     },
     "execution_count": 3,
     "metadata": {},
     "output_type": "execute_result"
    }
   ],
   "source": [
    "two_sum([2, 2, 3], 4) "
   ]
  },
  {
   "cell_type": "code",
   "execution_count": 4,
   "id": "35186e3c",
   "metadata": {},
   "outputs": [
    {
     "name": "stdout",
     "output_type": "stream",
     "text": [
      "Index for Value java:  [2, 6, 8]\n"
     ]
    }
   ],
   "source": [
    "list=['Code', 'Favtutor', 'java','Machine Learning', 'Students', 'Studies', 'java', 'python','java']\n",
    "index = [i for i ,e in enumerate(list) if e == 'java']\n",
    "print(\"Index for Value java: \", index)"
   ]
  },
  {
   "cell_type": "code",
   "execution_count": 1,
   "id": "03458ad5",
   "metadata": {},
   "outputs": [],
   "source": [
    "def order(sentence):\n",
    "  # code here\n",
    "    if not sentence:\n",
    "        return ''\n",
    "    else:\n",
    "        #split the sentence into a list\n",
    "        sentence_list=sentence.split()\n",
    "        order=[]\n",
    "        for word in sentence_list:\n",
    "            for c in word:\n",
    "                # we save the number of each word\n",
    "                if c.isdigit():\n",
    "                    order.append(c)\n",
    "        # we create a list of tuples zipping the sentence list and the order list and we can sort by the 'order'\n",
    "        sentence_sorted=[y for x,y in sorted(zip(order, sentence_list))]\n",
    "        print(sentence_sorted)\n",
    "        return ' '.join(sentence_sorted)"
   ]
  },
  {
   "cell_type": "code",
   "execution_count": null,
   "id": "4e8f168a",
   "metadata": {},
   "outputs": [],
   "source": []
  },
  {
   "cell_type": "code",
   "execution_count": 41,
   "id": "b823ef4e",
   "metadata": {},
   "outputs": [],
   "source": [
    "def is_valid_walk(walk):\n",
    "    #determine if walk is valid\n",
    "    my_dict = {'n': 0, 's': 0, 'w': 0, 'e': 0}\n",
    "    \n",
    "    for i in walk:\n",
    "        my_dict[i] += 1\n",
    "    print(my_dict)\n",
    "    \n",
    "    if len(walk) == 10 and my_dict['n'] == my_dict['s'] and my_dict['w'] == my_dict['e']:\n",
    "        return True\n",
    "    return False"
   ]
  },
  {
   "cell_type": "code",
   "execution_count": null,
   "id": "c04302c0",
   "metadata": {},
   "outputs": [],
   "source": []
  },
  {
   "cell_type": "code",
   "execution_count": 92,
   "id": "49e3dd57",
   "metadata": {},
   "outputs": [],
   "source": [
    "def number(lines):\n",
    "    \n",
    "    return [f'{el}: {cnt}' for el, cnt in enumerate(lines, 1)]\n",
    "        #print([f'{el}: {cnt}'])\n",
    "    "
   ]
  },
  {
   "cell_type": "code",
   "execution_count": 95,
   "id": "9e9e7132",
   "metadata": {},
   "outputs": [
    {
     "data": {
      "text/plain": [
       "['1: a', '2: b', '3: c']"
      ]
     },
     "execution_count": 95,
     "metadata": {},
     "output_type": "execute_result"
    }
   ],
   "source": [
    "number([\"a\", \"b\", \"c\"])"
   ]
  },
  {
   "cell_type": "code",
   "execution_count": 39,
   "id": "363ea7a8",
   "metadata": {},
   "outputs": [
    {
     "name": "stdout",
     "output_type": "stream",
     "text": [
      "The original string is  John - 10 , Rick - 20, Sam - 30\n",
      "dict_values([10, 20, 30]): dict_keys(['John', 'Rick', 'Sam'])\n"
     ]
    }
   ],
   "source": [
    "original_String = \"John - 10 , Rick - 20, Sam - 30\"  \n",
    "print(\"The original string is \",original_String)  \n",
    "\n",
    "#using strip() and split()  methodsa\n",
    "result = dict((a.strip(), int(b.strip()))  \n",
    "for a, b in (element.split('-')  \n",
    "for element in original_String.split(', '))) \n",
    "print(f'{result.values()}: {result.keys()}')"
   ]
  },
  {
   "cell_type": "code",
   "execution_count": 60,
   "id": "4ac4ac18",
   "metadata": {},
   "outputs": [
    {
     "name": "stdout",
     "output_type": "stream",
     "text": [
      "Index for Value java:  [1, 2, 3, 4, 5, 6, 7, 8, 9]\n"
     ]
    }
   ],
   "source": [
    "list=['Code', 'Favtutor', 'java','Machine Learning', 'Students', 'Studies', 'java', 'python','java']\n",
    "index = [i for i ,e in enumerate(list, 1)]\n",
    "print(\"Index for Value java: \", index)"
   ]
  },
  {
   "cell_type": "code",
   "execution_count": 67,
   "id": "9e277071",
   "metadata": {},
   "outputs": [
    {
     "name": "stdout",
     "output_type": "stream",
     "text": [
      "{'1': 'a', '2': 'b', '3': 'c'}\n"
     ]
    }
   ],
   "source": [
    "lst = [\"a\", \"b\", \"c\"] \n",
    "values = [v for k,v in enumerate(lst, start=1)]\n",
    "keys = [str(k) for k,v in enumerate(lst, start=1)]\n",
    "dct = dict(zip(keys, values))\n",
    "print(dct)\n",
    "#for k, v in dct:\n",
    "   # print(k, v)"
   ]
  },
  {
   "cell_type": "code",
   "execution_count": null,
   "id": "485001d6",
   "metadata": {},
   "outputs": [],
   "source": []
  },
  {
   "cell_type": "code",
   "execution_count": 73,
   "id": "75eb5483",
   "metadata": {},
   "outputs": [
    {
     "ename": "TypeError",
     "evalue": "'list' object is not callable",
     "output_type": "error",
     "traceback": [
      "\u001b[1;31m---------------------------------------------------------------------------\u001b[0m",
      "\u001b[1;31mTypeError\u001b[0m                                 Traceback (most recent call last)",
      "Cell \u001b[1;32mIn[73], line 2\u001b[0m\n\u001b[0;32m      1\u001b[0m keys \u001b[38;5;241m=\u001b[39m [char \u001b[38;5;28;01mfor\u001b[39;00m char \u001b[38;5;129;01min\u001b[39;00m string\u001b[38;5;241m.\u001b[39mascii_lowercase]\n\u001b[1;32m----> 2\u001b[0m values \u001b[38;5;241m=\u001b[39m \u001b[38;5;28mlist\u001b[39m(\u001b[38;5;28mrange\u001b[39m(\u001b[38;5;241m1\u001b[39m, \u001b[38;5;241m27\u001b[39m))\n\u001b[0;32m      3\u001b[0m dictionary \u001b[38;5;241m=\u001b[39m \u001b[38;5;28mdict\u001b[39m(\u001b[38;5;28mzip\u001b[39m(keys, values))\n\u001b[0;32m      4\u001b[0m \u001b[38;5;28mprint\u001b[39m(dictionary)\n",
      "\u001b[1;31mTypeError\u001b[0m: 'list' object is not callable"
     ]
    }
   ],
   "source": [
    "keys = [char for char in string.ascii_lowercase]\n",
    "values = list(range(1, 27))\n",
    "dictionary = dict(zip(keys, values))\n",
    "print(dictionary) # {'a': 1, 'b': 2, 'c': 3}"
   ]
  },
  {
   "cell_type": "code",
   "execution_count": 50,
   "id": "a8d2b9f7",
   "metadata": {},
   "outputs": [
    {
     "name": "stdout",
     "output_type": "stream",
     "text": [
      "{'a, b, c': 1}\n"
     ]
    }
   ],
   "source": [
    "string = [\"a, b, c\"]\n",
    "dic = dict()\n",
    "for character in string:\n",
    "    dic[character] = dic.get(character, 0) + 1\n",
    "    print (dic)"
   ]
  },
  {
   "cell_type": "code",
   "execution_count": 42,
   "id": "c93c3542",
   "metadata": {},
   "outputs": [
    {
     "name": "stdout",
     "output_type": "stream",
     "text": [
      "{'n': 6, 's': 4, 'w': 0, 'e': 0}\n"
     ]
    },
    {
     "data": {
      "text/plain": [
       "False"
      ]
     },
     "execution_count": 42,
     "metadata": {},
     "output_type": "execute_result"
    }
   ],
   "source": [
    "is_valid_walk(['n','n','n','s','n','s','n','s','n','s'])"
   ]
  },
  {
   "cell_type": "code",
   "execution_count": null,
   "id": "c5272f19",
   "metadata": {},
   "outputs": [],
   "source": []
  },
  {
   "cell_type": "code",
   "execution_count": null,
   "id": "36b234ac",
   "metadata": {},
   "outputs": [],
   "source": []
  },
  {
   "cell_type": "code",
   "execution_count": 80,
   "id": "3d97649b",
   "metadata": {},
   "outputs": [],
   "source": [
    "def series_sum(n):\n",
    "    output = 0\n",
    "    for i in range(n):\n",
    "        print(round(1 / (1 + i*3), 2))\n",
    "        output += (1 / (1 + i*3))\n",
    "        \n",
    "    #return str(round(output, 3))\n",
    "    return f'{output:.2f}'"
   ]
  },
  {
   "cell_type": "code",
   "execution_count": 81,
   "id": "0f4978c7",
   "metadata": {},
   "outputs": [
    {
     "name": "stdout",
     "output_type": "stream",
     "text": [
      "1.0\n"
     ]
    },
    {
     "data": {
      "text/plain": [
       "'1.00'"
      ]
     },
     "execution_count": 81,
     "metadata": {},
     "output_type": "execute_result"
    }
   ],
   "source": [
    "series_sum(1)"
   ]
  },
  {
   "cell_type": "code",
   "execution_count": 49,
   "id": "44550fd3",
   "metadata": {},
   "outputs": [
    {
     "ename": "SyntaxError",
     "evalue": "invalid syntax (2632590669.py, line 1)",
     "output_type": "error",
     "traceback": [
      "\u001b[1;36m  Cell \u001b[1;32mIn[49], line 1\u001b[1;36m\u001b[0m\n\u001b[1;33m    1 --> 1 --> \"1.00\"\u001b[0m\n\u001b[1;37m       ^\u001b[0m\n\u001b[1;31mSyntaxError\u001b[0m\u001b[1;31m:\u001b[0m invalid syntax\n"
     ]
    }
   ],
   "source": [
    "1 --> 1 --> \"1.00\"\n",
    "2 --> 1 + 1/4 --> \"1.25\"\n",
    "5 --> 1 + 1/4 + 1/7 + 1/10 + 1/13 --> \"1.57\""
   ]
  },
  {
   "cell_type": "code",
   "execution_count": null,
   "id": "7e739ecc",
   "metadata": {},
   "outputs": [],
   "source": []
  },
  {
   "cell_type": "code",
   "execution_count": 1,
   "id": "3fc52025",
   "metadata": {},
   "outputs": [],
   "source": [
    "s = \"00xx\""
   ]
  },
  {
   "cell_type": "code",
   "execution_count": 2,
   "id": "611de621",
   "metadata": {},
   "outputs": [
    {
     "name": "stdout",
     "output_type": "stream",
     "text": [
      "0\n",
      "0\n",
      "x\n",
      "x\n"
     ]
    }
   ],
   "source": [
    "for char in s:\n",
    "    print(char)"
   ]
  },
  {
   "cell_type": "code",
   "execution_count": null,
   "id": "29fe8ee6",
   "metadata": {},
   "outputs": [],
   "source": [
    "XO(\"ooxx\") => true\n",
    "XO(\"xooxx\") => false\n",
    "XO(\"ooxXm\") => true\n",
    "XO(\"zpzpzpp\") => true // when no 'x' and 'o' is present should return true\n",
    "XO(\"zzoo\") => false"
   ]
  },
  {
   "cell_type": "code",
   "execution_count": null,
   "id": "8ef1c3bd",
   "metadata": {},
   "outputs": [],
   "source": []
  },
  {
   "cell_type": "code",
   "execution_count": 12,
   "id": "beab2b45",
   "metadata": {},
   "outputs": [
    {
     "name": "stdout",
     "output_type": "stream",
     "text": [
      "Hello!\n",
      "1\n",
      "4\n"
     ]
    }
   ],
   "source": [
    "s = input()\n",
    "d = {\"UPPER CASE\":0, \"LOWER CASE\":0}\n",
    "\n",
    "for char in s:\n",
    "    if char.isupper():\n",
    "        d[\"UPPER CASE\"] += 1\n",
    "    elif char.islower():\n",
    "        d[\"LOWER CASE\"] += 1\n",
    "    else:\n",
    "        pass\n",
    "print(d[\"UPPER CASE\"])\n",
    "print(d[\"LOWER CASE\"])\n",
    "\n",
    "# Write a program that accepts a sentence and calculate the number of upper case letters and lower case letters.\n",
    "\n",
    "# Suppose the following input is supplied to the program: Hello world!"
   ]
  },
  {
   "cell_type": "code",
   "execution_count": null,
   "id": "61f3884d",
   "metadata": {},
   "outputs": [],
   "source": []
  },
  {
   "cell_type": "code",
   "execution_count": 38,
   "id": "65f2999d",
   "metadata": {},
   "outputs": [],
   "source": [
    "def find_even_index(arr):\n",
    "    for index in range(len(arr)):\n",
    "        if sum(arr[1 + index:]) == sum(arr[:index]):\n",
    "            return index\n",
    "    return -1"
   ]
  },
  {
   "cell_type": "code",
   "execution_count": 46,
   "id": "618bb08a",
   "metadata": {},
   "outputs": [
    {
     "name": "stdout",
     "output_type": "stream",
     "text": [
      "0 20\n",
      "110\n",
      "20\n",
      "1 10\n",
      "100\n",
      "30\n",
      "2 30\n",
      "70\n",
      "60\n",
      "3 10\n",
      "60\n"
     ]
    },
    {
     "data": {
      "text/plain": [
       "3"
      ]
     },
     "execution_count": 46,
     "metadata": {},
     "output_type": "execute_result"
    }
   ],
   "source": [
    "find_even_index([20,10,30,10,10,15,35])"
   ]
  },
  {
   "cell_type": "code",
   "execution_count": 17,
   "id": "1ff46e82",
   "metadata": {},
   "outputs": [],
   "source": [
    "arr = [20,10,30,10,10,15,35]"
   ]
  },
  {
   "cell_type": "code",
   "execution_count": 45,
   "id": "a009feb1",
   "metadata": {},
   "outputs": [],
   "source": [
    "def find_even_index(arr):\n",
    "    left, right = 0, sum(arr)\n",
    "    for i, e in enumerate(arr):\n",
    "        print(i, e)\n",
    "        right -= e\n",
    "        print(right)\n",
    "        if left == right:\n",
    "            return i\n",
    "        left += e\n",
    "        print(left)\n",
    "    return -1"
   ]
  },
  {
   "cell_type": "code",
   "execution_count": null,
   "id": "64613cb2",
   "metadata": {},
   "outputs": [],
   "source": []
  },
  {
   "cell_type": "code",
   "execution_count": 105,
   "id": "2306acc6",
   "metadata": {},
   "outputs": [],
   "source": [
    "def is_isogram(string):\n",
    "    string_check = []\n",
    "    for char in string.lower():\n",
    "        if char not in string_check:\n",
    "            string_check.append(char)\n",
    "    return len(string_check) == len (string)"
   ]
  },
  {
   "cell_type": "code",
   "execution_count": 107,
   "id": "9200791e",
   "metadata": {},
   "outputs": [
    {
     "data": {
      "text/plain": [
       "False"
      ]
     },
     "execution_count": 107,
     "metadata": {},
     "output_type": "execute_result"
    }
   ],
   "source": [
    "is_isogram(\"moOs\")"
   ]
  },
  {
   "cell_type": "code",
   "execution_count": null,
   "id": "a1d72bae",
   "metadata": {},
   "outputs": [],
   "source": []
  },
  {
   "cell_type": "code",
   "execution_count": 29,
   "id": "dedac0f1",
   "metadata": {},
   "outputs": [],
   "source": [
    "def remove_every_other(my_list):\n",
    "    \n",
    "    output = []\n",
    "    \n",
    "    for index, el in enumerate(my_list):\n",
    "        if index % 2 == 0:\n",
    "            output.append(el)\n",
    "    return output\n",
    "        \n",
    "    \n",
    "    \n",
    "    \n",
    "    # return [x for x in my_list if len% 2 == 0]"
   ]
  },
  {
   "cell_type": "code",
   "execution_count": 31,
   "id": "dc84c6b3",
   "metadata": {},
   "outputs": [],
   "source": [
    "def remove_every_other(my_list):\n",
    "    return my_list[::2]"
   ]
  },
  {
   "cell_type": "code",
   "execution_count": 32,
   "id": "955818a5",
   "metadata": {},
   "outputs": [
    {
     "data": {
      "text/plain": [
       "['Hello', 'Hello Again']"
      ]
     },
     "execution_count": 32,
     "metadata": {},
     "output_type": "execute_result"
    }
   ],
   "source": [
    "remove_every_other(['Hello', 'Goodbye', 'Hello Again']) # ['Hello', 'Hello Again']"
   ]
  },
  {
   "cell_type": "code",
   "execution_count": null,
   "id": "b84956da",
   "metadata": {},
   "outputs": [],
   "source": []
  },
  {
   "cell_type": "code",
   "execution_count": 113,
   "id": "a9fe0ae6",
   "metadata": {},
   "outputs": [],
   "source": [
    "def greet(language):\n",
    "    \n",
    "    database = [ (\"english\", \"Welcome\")\n",
    "    , (\"czech\", \"Vitejte\")\n",
    "    , (\"danish\", \"Velkomst\")\n",
    "    , (\"dutch\", \"Welkom\")\n",
    "    , (\"estonian\", \"Tere tulemast\")\n",
    "    , (\"finnish\", \"Tervetuloa\")\n",
    "    , (\"flemish\", \"Welgekomen\")\n",
    "    , (\"french\", \"Bienvenue\")\n",
    "    , (\"german\", \"Willkommen\")\n",
    "    , (\"irish\", \"Failte\")\n",
    "    , (\"italian\", \"Benvenuto\")\n",
    "    , (\"latvian\", \"Gaidits\")\n",
    "    , (\"lithuanian\", \"Laukiamas\")\n",
    "    , (\"polish\", \"Witamy\")\n",
    "    , (\"spanish\", \"Bienvenido\")\n",
    "    , (\"swedish\", \"Valkommen\")\n",
    "    , (\"welsh\", \"Croeso\") ]\n",
    "    \n",
    "    if isinstance(language, str):\n",
    "        for x in database:\n",
    "            if x[0] == language:\n",
    "                return x[1]\n",
    "        else:\n",
    "            return 'Welcome'\n",
    "    else:\n",
    "        return 'Welcome'\n",
    "    \n",
    "    \n",
    "    \n",
    "        "
   ]
  },
  {
   "cell_type": "code",
   "execution_count": 116,
   "id": "487cb15b",
   "metadata": {},
   "outputs": [],
   "source": [
    "def greet(language='Welcome'):\n",
    "    \n",
    "    database = [ (\"english\", \"Welcome\")\n",
    "    , (\"czech\", \"Vitejte\")\n",
    "    , (\"danish\", \"Velkomst\")\n",
    "    , (\"dutch\", \"Welkom\")\n",
    "    , (\"estonian\", \"Tere tulemast\")\n",
    "    , (\"finnish\", \"Tervetuloa\")\n",
    "    , (\"flemish\", \"Welgekomen\")\n",
    "    , (\"french\", \"Bienvenue\")\n",
    "    , (\"german\", \"Willkommen\")\n",
    "    , (\"irish\", \"Failte\")\n",
    "    , (\"italian\", \"Benvenuto\")\n",
    "    , (\"latvian\", \"Gaidits\")\n",
    "    , (\"lithuanian\", \"Laukiamas\")\n",
    "    , (\"polish\", \"Witamy\")\n",
    "    , (\"spanish\", \"Bienvenido\")\n",
    "    , (\"swedish\", \"Valkommen\")\n",
    "    , (\"welsh\", \"Croeso\") ]\n",
    "    \n",
    "    if isinstance(language, str):\n",
    "        for x in database:\n",
    "            if x[0] == language:\n",
    "                return x[1]\n",
    "        #else:\n",
    "            #return 'Welcome'\n",
    "    else:\n",
    "        return 'Welcome'\n",
    "    \n",
    "    \n",
    "    \n",
    "        "
   ]
  },
  {
   "cell_type": "code",
   "execution_count": 117,
   "id": "afcefd91",
   "metadata": {},
   "outputs": [
    {
     "data": {
      "text/plain": [
       "'Welgekomen'"
      ]
     },
     "execution_count": 117,
     "metadata": {},
     "output_type": "execute_result"
    }
   ],
   "source": [
    "greet('flemish')"
   ]
  },
  {
   "cell_type": "code",
   "execution_count": null,
   "id": "d8772efa",
   "metadata": {},
   "outputs": [],
   "source": []
  },
  {
   "cell_type": "code",
   "execution_count": 123,
   "id": "f94f0c61",
   "metadata": {},
   "outputs": [],
   "source": [
    "def stray(arr):\n",
    "    return [x for x in arr if arr.count(x) == 1]"
   ]
  },
  {
   "cell_type": "code",
   "execution_count": 130,
   "id": "841821f7",
   "metadata": {},
   "outputs": [
    {
     "name": "stdout",
     "output_type": "stream",
     "text": [
      "{1, 2} 6\n",
      "{1, 2} 1\n"
     ]
    },
    {
     "data": {
      "text/plain": [
       "2"
      ]
     },
     "execution_count": 130,
     "metadata": {},
     "output_type": "execute_result"
    }
   ],
   "source": [
    "stray([1, 1, 1, 1, 1, 1, 2])"
   ]
  },
  {
   "cell_type": "code",
   "execution_count": 125,
   "id": "391f5c83",
   "metadata": {},
   "outputs": [],
   "source": [
    "lst = [1, 1, 1, 1, 1, 1, 2]"
   ]
  },
  {
   "cell_type": "code",
   "execution_count": 126,
   "id": "fddee6c9",
   "metadata": {},
   "outputs": [
    {
     "data": {
      "text/plain": [
       "{1, 2}"
      ]
     },
     "execution_count": 126,
     "metadata": {},
     "output_type": "execute_result"
    }
   ],
   "source": [
    "set(lst)"
   ]
  },
  {
   "cell_type": "code",
   "execution_count": 129,
   "id": "9bd5c1c1",
   "metadata": {},
   "outputs": [],
   "source": [
    "def stray(arr):\n",
    "    for x in set(arr):\n",
    "        print(set(arr), arr.count(x))\n",
    "        if arr.count(x) == 1: return x"
   ]
  },
  {
   "cell_type": "code",
   "execution_count": null,
   "id": "c8d44367",
   "metadata": {},
   "outputs": [],
   "source": []
  },
  {
   "cell_type": "code",
   "execution_count": 143,
   "id": "d06b47eb",
   "metadata": {},
   "outputs": [],
   "source": [
    "def divisors(n):\n",
    "    count = 1\n",
    "    i = 1\n",
    "    while i <= n/2:\n",
    "        if n % i == 0:\n",
    "            count += 1\n",
    "        i += 1\n",
    "    return count"
   ]
  },
  {
   "cell_type": "code",
   "execution_count": 153,
   "id": "62d6751b",
   "metadata": {},
   "outputs": [
    {
     "data": {
      "text/plain": [
       "6"
      ]
     },
     "execution_count": 153,
     "metadata": {},
     "output_type": "execute_result"
    }
   ],
   "source": [
    "divisors(12)"
   ]
  },
  {
   "cell_type": "code",
   "execution_count": 152,
   "id": "d0e585bd",
   "metadata": {},
   "outputs": [],
   "source": [
    "def divisors2(n):\n",
    "    for x in range(1, n+1):\n",
    "        return sum(n%x == 0)\n",
    "    \n",
    "    # return sum([n % x == 0 for x in range(1, n + 1)])"
   ]
  },
  {
   "cell_type": "code",
   "execution_count": null,
   "id": "92ab941a",
   "metadata": {},
   "outputs": [],
   "source": []
  },
  {
   "cell_type": "code",
   "execution_count": 165,
   "id": "db3d2566",
   "metadata": {},
   "outputs": [],
   "source": [
    "def find_it(seq):\n",
    "    #counter = 0\n",
    "    \n",
    "    for x in seq:\n",
    "        if seq.count(x) % 2 != 0:\n",
    "            return x\n",
    "        # print(seq.count(x) % 3 == 0)\n",
    "    # return counter"
   ]
  },
  {
   "cell_type": "code",
   "execution_count": 167,
   "id": "cae22a4c",
   "metadata": {},
   "outputs": [
    {
     "data": {
      "text/plain": [
       "0"
      ]
     },
     "execution_count": 167,
     "metadata": {},
     "output_type": "execute_result"
    }
   ],
   "source": [
    "find_it([0,1,0,1,0])"
   ]
  },
  {
   "cell_type": "code",
   "execution_count": 158,
   "id": "fb0273e3",
   "metadata": {},
   "outputs": [],
   "source": [
    "lst = [1,1,2]"
   ]
  },
  {
   "cell_type": "code",
   "execution_count": 159,
   "id": "e256ef78",
   "metadata": {},
   "outputs": [
    {
     "data": {
      "text/plain": [
       "2"
      ]
     },
     "execution_count": 159,
     "metadata": {},
     "output_type": "execute_result"
    }
   ],
   "source": [
    "lst.count(1)"
   ]
  },
  {
   "cell_type": "code",
   "execution_count": null,
   "id": "a5272616",
   "metadata": {},
   "outputs": [],
   "source": [
    "Examples\n",
    "[7] should return 7, because it occurs 1 time (which is odd).\n",
    "[0] should return 0, because it occurs 1 time (which is odd).\n",
    "[1,1,2] should return 2, because it occurs 1 time (which is odd).\n",
    "[0,1,0,1,0] should return 0, because it occurs 3 times (which is odd).\n",
    "[1,2,2,3,3,3,4,3,3,3,2,2,1] should return 4, because it appears 1 time (which is odd)."
   ]
  },
  {
   "cell_type": "code",
   "execution_count": null,
   "id": "e4f44547",
   "metadata": {},
   "outputs": [],
   "source": []
  },
  {
   "cell_type": "code",
   "execution_count": 84,
   "id": "5b8d35a8",
   "metadata": {},
   "outputs": [],
   "source": [
    "def how_much_i_love_you(nb_petals):\n",
    "\n",
    "    #phrases = {1: \"I love you\", 2: \"a little\", 3: \"a lot\", 4: \"passionately\", 5: \"madly\", 6: \"not at all\"}\n",
    "    phrases = [\"I love you\", \"a little\", \"a lot\", \"passionately\", \"madly\", \"not at all\"]\n",
    "    \n",
    "    #for x in range(1, len(phrases)):\n",
    "    \n",
    "    return phrases[(nb_petals-1)%(len(phrases))]"
   ]
  },
  {
   "cell_type": "code",
   "execution_count": 85,
   "id": "f8194d50",
   "metadata": {},
   "outputs": [
    {
     "data": {
      "text/plain": [
       "'I love you'"
      ]
     },
     "execution_count": 85,
     "metadata": {},
     "output_type": "execute_result"
    }
   ],
   "source": [
    "how_much_i_love_you(1)"
   ]
  },
  {
   "cell_type": "code",
   "execution_count": 2,
   "id": "1016507d",
   "metadata": {},
   "outputs": [],
   "source": [
    "phrases = {1: \"I love you\", 2: \"a little\", 3: \"a lot\", \n",
    "              4: \"passionately\", 5: \"madly\", 6: \"not at all\"}"
   ]
  },
  {
   "cell_type": "code",
   "execution_count": 6,
   "id": "159f990b",
   "metadata": {},
   "outputs": [
    {
     "data": {
      "text/plain": [
       "'a little'"
      ]
     },
     "execution_count": 6,
     "metadata": {},
     "output_type": "execute_result"
    }
   ],
   "source": [
    "phrases[2]"
   ]
  },
  {
   "cell_type": "code",
   "execution_count": 33,
   "id": "bffee1ce",
   "metadata": {},
   "outputs": [
    {
     "data": {
      "text/plain": [
       "range(0, 6)"
      ]
     },
     "execution_count": 33,
     "metadata": {},
     "output_type": "execute_result"
    }
   ],
   "source": [
    "range(len(phrases))"
   ]
  },
  {
   "cell_type": "code",
   "execution_count": null,
   "id": "2124b727",
   "metadata": {},
   "outputs": [],
   "source": []
  },
  {
   "cell_type": "markdown",
   "id": "c791972d",
   "metadata": {},
   "source": [
    "url = \"http://github.com/carbonfive/raygun\" -> domain name = \"github\"\n",
    "\n",
    "url = \"http://www.zombie-bites.com\"         -> domain name = \"zombie-bites\"\n",
    "\n",
    "url = \"https://www.cnet.com\"                -> domain name = cnet\"\n",
    "\n",
    "        test.assert_equals(domain_name(\"http://google.com\"), \"google\")\n",
    "        test.assert_equals(domain_name(\"http://google.co.jp\"), \"google\")\n",
    "        test.assert_equals(domain_name(\"https://123.net\"), \"123\")\n",
    "        test.assert_equals(domain_name(\"https://hyphen-site.org\"), \"hyphen-site\")\n",
    "        test.assert_equals(domain_name(\"http://codewars.com\"), \"codewars\")\n",
    "        test.assert_equals(domain_name(\"www.xakep.ru\"), \"xakep\")\n",
    "        test.assert_equals(domain_name(\"https://youtube.com\"), \"youtube\")\n",
    "        test.assert_equals(domain_name(\"http://www.codewars.com/kata/\"), \"codewars\")\n",
    "        test.assert_equals(domain_name(\"icann.org\"), \"icann\")"
   ]
  },
  {
   "cell_type": "code",
   "execution_count": 52,
   "id": "74a9e943",
   "metadata": {},
   "outputs": [],
   "source": [
    "s1 = \"icann.org\"\n",
    "s2 = \"http://github.com/carbonfive/raygun\""
   ]
  },
  {
   "cell_type": "code",
   "execution_count": 53,
   "id": "7c8d3f93",
   "metadata": {},
   "outputs": [
    {
     "data": {
      "text/plain": [
       "'icann'"
      ]
     },
     "execution_count": 53,
     "metadata": {},
     "output_type": "execute_result"
    }
   ],
   "source": [
    "#import re\n",
    "\n",
    "s1.split(\"www.\")[-1].split(\"//\")[-1].split(\".\")[0]"
   ]
  },
  {
   "cell_type": "code",
   "execution_count": 56,
   "id": "b803da05",
   "metadata": {},
   "outputs": [],
   "source": [
    "def domain_name(url):\n",
    "    #if url.endswith(\"pawww.com\"):\n",
    "        #return \"pawww\"\n",
    "    url = url.replace(\"https://\",\"\")\n",
    "    url = url.replace(\"http://\",\"\")\n",
    "    url = url.replace(\"www.\",\"\")\n",
    "    return url.split(\".\")[0]"
   ]
  },
  {
   "cell_type": "code",
   "execution_count": 57,
   "id": "2115e234",
   "metadata": {},
   "outputs": [],
   "source": [
    "def domain_name(url):\n",
    "    url = url.replace('www.','')\n",
    "    url = url.replace('https://','')\n",
    "    url = url.replace('http://','')\n",
    "    \n",
    "    return url[0:url.find('.')]"
   ]
  },
  {
   "cell_type": "code",
   "execution_count": 58,
   "id": "cb4c1105",
   "metadata": {},
   "outputs": [
    {
     "data": {
      "text/plain": [
       "'github'"
      ]
     },
     "execution_count": 58,
     "metadata": {},
     "output_type": "execute_result"
    }
   ],
   "source": [
    "domain_name(\"http://github.com/carbonfive/raygun\")"
   ]
  },
  {
   "cell_type": "code",
   "execution_count": null,
   "id": "2b0c649c",
   "metadata": {},
   "outputs": [],
   "source": []
  },
  {
   "cell_type": "code",
   "execution_count": 68,
   "id": "5413d60f",
   "metadata": {},
   "outputs": [],
   "source": [
    "s = \"11 years old\""
   ]
  },
  {
   "cell_type": "code",
   "execution_count": 69,
   "id": "168f7fd0",
   "metadata": {},
   "outputs": [
    {
     "data": {
      "text/plain": [
       "11"
      ]
     },
     "execution_count": 69,
     "metadata": {},
     "output_type": "execute_result"
    }
   ],
   "source": [
    "int(s.split()[0])"
   ]
  },
  {
   "cell_type": "code",
   "execution_count": 70,
   "id": "a8a85e0d",
   "metadata": {},
   "outputs": [
    {
     "data": {
      "text/plain": [
       "'1'"
      ]
     },
     "execution_count": 70,
     "metadata": {},
     "output_type": "execute_result"
    }
   ],
   "source": [
    "s[0]"
   ]
  },
  {
   "cell_type": "code",
   "execution_count": 82,
   "id": "c60696c0",
   "metadata": {},
   "outputs": [
    {
     "data": {
      "text/plain": [
       "85"
      ]
     },
     "execution_count": 82,
     "metadata": {},
     "output_type": "execute_result"
    }
   ],
   "source": [
    "int((s * 100000) // 3600)"
   ]
  },
  {
   "cell_type": "code",
   "execution_count": 81,
   "id": "1897905a",
   "metadata": {},
   "outputs": [
    {
     "data": {
      "text/plain": [
       "85.0"
      ]
     },
     "execution_count": 81,
     "metadata": {},
     "output_type": "execute_result"
    }
   ],
   "source": [
    "(3.061470334815067 * 100000) // 3600"
   ]
  },
  {
   "cell_type": "code",
   "execution_count": null,
   "id": "b978dc4f",
   "metadata": {},
   "outputs": [],
   "source": []
  },
  {
   "cell_type": "code",
   "execution_count": 9,
   "id": "5729c27b",
   "metadata": {},
   "outputs": [],
   "source": [
    "def get_sum(a,b):\n",
    "    if a == b:\n",
    "        return a\n",
    "    elif b < a:\n",
    "        return (sum(list(range(b, a+1))))\n",
    "    else:\n",
    "        return sum(list(range(a,b+1)))"
   ]
  },
  {
   "cell_type": "code",
   "execution_count": 10,
   "id": "6cf09a0b",
   "metadata": {},
   "outputs": [
    {
     "data": {
      "text/plain": [
       "-3"
      ]
     },
     "execution_count": 10,
     "metadata": {},
     "output_type": "execute_result"
    }
   ],
   "source": [
    "get_sum(2,-3)"
   ]
  },
  {
   "cell_type": "code",
   "execution_count": 11,
   "id": "3c6586f5",
   "metadata": {},
   "outputs": [
    {
     "data": {
      "text/plain": [
       "5458268"
      ]
     },
     "execution_count": 11,
     "metadata": {},
     "output_type": "execute_result"
    }
   ],
   "source": [
    "get_sum(3912, -2095) #5458268.0"
   ]
  },
  {
   "cell_type": "code",
   "execution_count": 12,
   "id": "f4b512c3",
   "metadata": {},
   "outputs": [
    {
     "data": {
      "text/plain": [
       "-3.0"
      ]
     },
     "execution_count": 12,
     "metadata": {},
     "output_type": "execute_result"
    }
   ],
   "source": [
    "(a + b) * (abs(a - b) + 1) / 2"
   ]
  },
  {
   "cell_type": "code",
   "execution_count": null,
   "id": "e7d0b332",
   "metadata": {},
   "outputs": [],
   "source": []
  },
  {
   "cell_type": "code",
   "execution_count": 64,
   "id": "cc5807cd",
   "metadata": {},
   "outputs": [],
   "source": [
    "def two_sort(array):\n",
    "    \n",
    "    return ''.join([(x + '***') for x in sorted(array)[0]])[:-3]"
   ]
  },
  {
   "cell_type": "code",
   "execution_count": 68,
   "id": "057d3e1a",
   "metadata": {},
   "outputs": [],
   "source": [
    "def two_sort(array):\n",
    "    return '***'.join(min(array))"
   ]
  },
  {
   "cell_type": "code",
   "execution_count": 69,
   "id": "91b1c718",
   "metadata": {},
   "outputs": [
    {
     "data": {
      "text/plain": [
       "'b***i***t***c***o***i***n'"
      ]
     },
     "execution_count": 69,
     "metadata": {},
     "output_type": "execute_result"
    }
   ],
   "source": [
    "two_sort([\"bitcoin\", \"take\", \"over\", \"the\", \"world\", \"maybe\", \"who\", \"knows\", \"perhaps\"]) # 'b***i***t***c***o***i***n' "
   ]
  },
  {
   "cell_type": "code",
   "execution_count": 57,
   "id": "7d518c5a",
   "metadata": {},
   "outputs": [],
   "source": [
    "s = 'bitcoin'"
   ]
  },
  {
   "cell_type": "code",
   "execution_count": 61,
   "id": "3d2aa9de",
   "metadata": {},
   "outputs": [
    {
     "data": {
      "text/plain": [
       "'b***i***t***c***o***i***n'"
      ]
     },
     "execution_count": 61,
     "metadata": {},
     "output_type": "execute_result"
    }
   ],
   "source": [
    "''.join([(x + '***') for x in s])[:-3]"
   ]
  },
  {
   "cell_type": "code",
   "execution_count": 70,
   "id": "21771c45",
   "metadata": {},
   "outputs": [],
   "source": [
    "array = [\"bitcoin\", \"take\", \"over\", \"the\", \"world\", \"maybe\", \"who\", \"knows\", \"perhaps\"]"
   ]
  },
  {
   "cell_type": "code",
   "execution_count": 74,
   "id": "bff51382",
   "metadata": {},
   "outputs": [
    {
     "data": {
      "text/plain": [
       "'b***i***t***c***o***i***n'"
      ]
     },
     "execution_count": 74,
     "metadata": {},
     "output_type": "execute_result"
    }
   ],
   "source": [
    "'***'.join(min(array))"
   ]
  },
  {
   "cell_type": "code",
   "execution_count": null,
   "id": "c78efafd",
   "metadata": {},
   "outputs": [],
   "source": []
  },
  {
   "cell_type": "code",
   "execution_count": 212,
   "id": "ffb41ba2",
   "metadata": {},
   "outputs": [],
   "source": [
    "# проверка простая: элемент следующий за элементом, должен быть равен предыдущему, если из него вычесть 1. \n",
    "# Если не равен - этот элемент и будет искомым.\n",
    "\n",
    "def first_non_consecutive(arr):\n",
    "    for num in range(len(arr) - 1):\n",
    "        if arr[num] != (arr[num+1] - 1):\n",
    "                print(arr[num], (arr[num+1] - 1))\n",
    "                return (arr[num+1])\n",
    " \n",
    "    return None"
   ]
  },
  {
   "cell_type": "code",
   "execution_count": 216,
   "id": "ae254f40",
   "metadata": {},
   "outputs": [],
   "source": [
    "# Еще 3 варианта решения задачи:\n",
    "def first_non_consecutive(arr):\n",
    "    for a,b in zip(arr, arr[1:]):\n",
    "            if b - a != 1:\n",
    "                return b"
   ]
  },
  {
   "cell_type": "code",
   "execution_count": 217,
   "id": "ef42c582",
   "metadata": {},
   "outputs": [],
   "source": [
    "def first_non_consecutive(arr):\n",
    "    return next((b for a, b in enumerate(arr, arr[0]) if a != b), None)"
   ]
  },
  {
   "cell_type": "code",
   "execution_count": 225,
   "id": "eb80e3c6",
   "metadata": {},
   "outputs": [],
   "source": [
    "def first_non_consecutive(arr):\n",
    "    for i, x in enumerate(arr, arr[0]):\n",
    "            if i != x:\n",
    "                return x\n",
    "    return None"
   ]
  },
  {
   "cell_type": "code",
   "execution_count": 226,
   "id": "94a99b22",
   "metadata": {},
   "outputs": [
    {
     "data": {
      "text/plain": [
       "6"
      ]
     },
     "execution_count": 226,
     "metadata": {},
     "output_type": "execute_result"
    }
   ],
   "source": [
    "first_non_consecutive([1,2,3,4,6,7,8]) # 6"
   ]
  },
  {
   "cell_type": "code",
   "execution_count": 227,
   "id": "a8f8adce",
   "metadata": {},
   "outputs": [],
   "source": [
    "first_non_consecutive([1,2,3,4,5,6,7,8]) # None"
   ]
  },
  {
   "cell_type": "code",
   "execution_count": 228,
   "id": "21facc2c",
   "metadata": {},
   "outputs": [
    {
     "data": {
      "text/plain": [
       "0"
      ]
     },
     "execution_count": 228,
     "metadata": {},
     "output_type": "execute_result"
    }
   ],
   "source": [
    "first_non_consecutive([-3,-2,0,1]) # 0)"
   ]
  },
  {
   "cell_type": "code",
   "execution_count": 132,
   "id": "e35b7ab9",
   "metadata": {},
   "outputs": [],
   "source": [
    "arr = [-3,-2,0,1]"
   ]
  },
  {
   "cell_type": "code",
   "execution_count": 135,
   "id": "f35afdd1",
   "metadata": {},
   "outputs": [
    {
     "data": {
      "text/plain": [
       "[-3, -2, -1, 0, 1]"
      ]
     },
     "execution_count": 135,
     "metadata": {},
     "output_type": "execute_result"
    }
   ],
   "source": [
    "list(range(arr[0], arr[-1] + 1))"
   ]
  },
  {
   "cell_type": "code",
   "execution_count": null,
   "id": "2f054bd5",
   "metadata": {},
   "outputs": [],
   "source": []
  },
  {
   "cell_type": "code",
   "execution_count": 18,
   "id": "ea98ea83",
   "metadata": {},
   "outputs": [],
   "source": [
    "def to_alternating_case(string):\n",
    "    new_string = ''\n",
    "    \n",
    "    for char in string:\n",
    "        if char.islower():\n",
    "            new_string += char.upper()\n",
    "        elif char.isupper():\n",
    "            new_string += char.lower()\n",
    "        else:\n",
    "            new_string += char\n",
    "        \n",
    "    return new_string\n"
   ]
  },
  {
   "cell_type": "code",
   "execution_count": 21,
   "id": "3928dfc3",
   "metadata": {},
   "outputs": [
    {
     "data": {
      "text/plain": [
       "'HeLLo WoRLD'"
      ]
     },
     "execution_count": 21,
     "metadata": {},
     "output_type": "execute_result"
    }
   ],
   "source": [
    "to_alternating_case(\"hEllO wOrld\")"
   ]
  },
  {
   "cell_type": "code",
   "execution_count": null,
   "id": "f250ff67",
   "metadata": {},
   "outputs": [],
   "source": []
  },
  {
   "cell_type": "code",
   "execution_count": 47,
   "id": "bb52e7cb",
   "metadata": {},
   "outputs": [],
   "source": [
    "def top_3_words(text):\n",
    "    \n",
    "    # check for alphanumeric or an apostrophe:\n",
    "    for char in text:\n",
    "        if not (char.isalpha() or char==\"'\"):\n",
    "            #replace with a space\n",
    "            text = text.replace(char, ' ')\n",
    "    # create variables:\n",
    "    words, counts, out = [], [], []\n",
    "    \n",
    "    # let's loop for every word in a text and count its appereances:\n",
    "    for word in list(filter(None, text.lower().split())):\n",
    "        # check if all elements is alphanum:\n",
    "        if all([not char.isalpha() for char in word]):\n",
    "            continue\n",
    "        if word in words:\n",
    "            counts[words.index(word)] += 1\n",
    "        else:\n",
    "            words.append(word)\n",
    "            counts.append(0)\n",
    "    \n",
    "    # loop while bigger than 0 and less than 3\n",
    "    while len(words) > 0 and len(out) < 3:\n",
    "        out.append(words.pop(counts.index(max(counts))).lower())\n",
    "        counts.remove(max(counts))\n",
    "    \n",
    "    return out"
   ]
  },
  {
   "cell_type": "code",
   "execution_count": 2,
   "id": "727bd796",
   "metadata": {},
   "outputs": [],
   "source": [
    "s = \"e e e e DDD ddd DdD: ddd ddd aa aA Aa, bb cc cC e e e\""
   ]
  },
  {
   "cell_type": "code",
   "execution_count": 42,
   "id": "fd6c6958",
   "metadata": {},
   "outputs": [
    {
     "data": {
      "text/plain": [
       "[37, 37, 37]"
      ]
     },
     "execution_count": 42,
     "metadata": {},
     "output_type": "execute_result"
    }
   ],
   "source": [
    "sorted([s.count(w) for w in s.split() if w.isalnum()], reverse=True)[:3]"
   ]
  },
  {
   "cell_type": "code",
   "execution_count": 48,
   "id": "0f1e2669",
   "metadata": {},
   "outputs": [
    {
     "data": {
      "text/plain": [
       "['e', 'ddd', 'aa']"
      ]
     },
     "execution_count": 48,
     "metadata": {},
     "output_type": "execute_result"
    }
   ],
   "source": [
    "top_3_words(\"e e e e DDD ddd DdD: ddd ddd aa aA Aa, bb cc cC e e e\")"
   ]
  },
  {
   "cell_type": "code",
   "execution_count": null,
   "id": "04a68cf1",
   "metadata": {},
   "outputs": [],
   "source": []
  },
  {
   "cell_type": "code",
   "execution_count": 64,
   "id": "0505d5dc",
   "metadata": {},
   "outputs": [],
   "source": [
    "def same_structure_as(original,other):\n",
    "    \n",
    "    for el1 in original:\n",
    "        for el2 in other:\n",
    "            print(original[el1], other[el2])\n",
    "            #if original[el1] == other[el2]:\n",
    "                #return True\n",
    "        #else:\n",
    "            #return False"
   ]
  },
  {
   "cell_type": "code",
   "execution_count": 65,
   "id": "47b3a737",
   "metadata": {},
   "outputs": [
    {
     "ename": "IndexError",
     "evalue": "list index out of range",
     "output_type": "error",
     "traceback": [
      "\u001b[1;31m---------------------------------------------------------------------------\u001b[0m",
      "\u001b[1;31mIndexError\u001b[0m                                Traceback (most recent call last)",
      "Cell \u001b[1;32mIn[65], line 1\u001b[0m\n\u001b[1;32m----> 1\u001b[0m same_structure_as([\u001b[38;5;241m1\u001b[39m,[\u001b[38;5;241m1\u001b[39m,\u001b[38;5;241m1\u001b[39m]],[\u001b[38;5;241m2\u001b[39m,[\u001b[38;5;241m2\u001b[39m,\u001b[38;5;241m2\u001b[39m]])\n",
      "Cell \u001b[1;32mIn[64], line 5\u001b[0m, in \u001b[0;36msame_structure_as\u001b[1;34m(original, other)\u001b[0m\n\u001b[0;32m      3\u001b[0m \u001b[38;5;28;01mfor\u001b[39;00m el1 \u001b[38;5;129;01min\u001b[39;00m original:\n\u001b[0;32m      4\u001b[0m     \u001b[38;5;28;01mfor\u001b[39;00m el2 \u001b[38;5;129;01min\u001b[39;00m other:\n\u001b[1;32m----> 5\u001b[0m         \u001b[38;5;28mprint\u001b[39m(original[el1], other[el2])\n",
      "\u001b[1;31mIndexError\u001b[0m: list index out of range"
     ]
    }
   ],
   "source": [
    "same_structure_as([1,[1,1]],[2,[2,2]])"
   ]
  },
  {
   "cell_type": "code",
   "execution_count": null,
   "id": "290a8cf5",
   "metadata": {},
   "outputs": [],
   "source": []
  }
 ],
 "metadata": {
  "kernelspec": {
   "display_name": "Python 3 (ipykernel)",
   "language": "python",
   "name": "python3"
  },
  "language_info": {
   "codemirror_mode": {
    "name": "ipython",
    "version": 3
   },
   "file_extension": ".py",
   "mimetype": "text/x-python",
   "name": "python",
   "nbconvert_exporter": "python",
   "pygments_lexer": "ipython3",
   "version": "3.11.5"
  }
 },
 "nbformat": 4,
 "nbformat_minor": 5
}
