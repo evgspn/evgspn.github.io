{
 "cells": [
  {
   "cell_type": "code",
   "execution_count": 2,
   "id": "fa7590df",
   "metadata": {},
   "outputs": [
    {
     "name": "stdout",
     "output_type": "stream",
     "text": [
      "What is your name, sir? Evginy\n",
      "Welcome, Evginy\n"
     ]
    }
   ],
   "source": [
    "name = input(\"What is your name, sir? \")\n",
    "print(\"Welcome, \" + name)"
   ]
  },
  {
   "cell_type": "code",
   "execution_count": 3,
   "id": "8d837dff",
   "metadata": {},
   "outputs": [
    {
     "data": {
      "text/plain": [
       "'!olleH'"
      ]
     },
     "execution_count": 3,
     "metadata": {},
     "output_type": "execute_result"
    }
   ],
   "source": [
    "s = 'Hello!'\n",
    "s[::-1]"
   ]
  },
  {
   "cell_type": "code",
   "execution_count": 2,
   "id": "4ef1992e",
   "metadata": {},
   "outputs": [
    {
     "name": "stdout",
     "output_type": "stream",
     "text": [
      "<class 'int'>\n"
     ]
    }
   ],
   "source": [
    "print(type(2+4))"
   ]
  },
  {
   "cell_type": "code",
   "execution_count": 3,
   "id": "32fbe527",
   "metadata": {},
   "outputs": [
    {
     "name": "stdout",
     "output_type": "stream",
     "text": [
      "<class 'float'>\n"
     ]
    }
   ],
   "source": [
    "print(type(6/10))"
   ]
  },
  {
   "cell_type": "code",
   "execution_count": 5,
   "id": "a2a166a5",
   "metadata": {},
   "outputs": [],
   "source": [
    "# NOTE: We need more memory to store float numbers\n",
    "# \"7.5\" - \"7\" в одном и \"5\" в \"другом месте\"\n",
    "# use python doc for detailed 'technical' information about float type and operation with it."
   ]
  },
  {
   "cell_type": "code",
   "execution_count": 8,
   "id": "65f0d112",
   "metadata": {},
   "outputs": [
    {
     "name": "stdout",
     "output_type": "stream",
     "text": [
      "0b1000\n"
     ]
    }
   ],
   "source": [
    "print(bin(8))"
   ]
  },
  {
   "cell_type": "code",
   "execution_count": 9,
   "id": "0cc106e6",
   "metadata": {},
   "outputs": [],
   "source": [
    "a, c, b = 1, 2, 3"
   ]
  },
  {
   "cell_type": "code",
   "execution_count": 10,
   "id": "effa0914",
   "metadata": {},
   "outputs": [
    {
     "data": {
      "text/plain": [
       "1"
      ]
     },
     "execution_count": 10,
     "metadata": {},
     "output_type": "execute_result"
    }
   ],
   "source": [
    "a"
   ]
  },
  {
   "cell_type": "code",
   "execution_count": 11,
   "id": "247dca6d",
   "metadata": {},
   "outputs": [
    {
     "data": {
      "text/plain": [
       "3"
      ]
     },
     "execution_count": 11,
     "metadata": {},
     "output_type": "execute_result"
    }
   ],
   "source": [
    "b"
   ]
  },
  {
   "cell_type": "code",
   "execution_count": 12,
   "id": "e66f2760",
   "metadata": {},
   "outputs": [
    {
     "data": {
      "text/plain": [
       "2"
      ]
     },
     "execution_count": 12,
     "metadata": {},
     "output_type": "execute_result"
    }
   ],
   "source": [
    "c"
   ]
  },
  {
   "cell_type": "markdown",
   "id": "3f59961f",
   "metadata": {},
   "source": [
    "### Strings"
   ]
  },
  {
   "cell_type": "code",
   "execution_count": 13,
   "id": "333339fd",
   "metadata": {},
   "outputs": [
    {
     "data": {
      "text/plain": [
       "str"
      ]
     },
     "execution_count": 13,
     "metadata": {},
     "output_type": "execute_result"
    }
   ],
   "source": [
    "type(\"hi\")"
   ]
  },
  {
   "cell_type": "code",
   "execution_count": 14,
   "id": "75ab1876",
   "metadata": {},
   "outputs": [
    {
     "data": {
      "text/plain": [
       "'100'"
      ]
     },
     "execution_count": 14,
     "metadata": {},
     "output_type": "execute_result"
    }
   ],
   "source": [
    "str(100)"
   ]
  },
  {
   "cell_type": "code",
   "execution_count": 15,
   "id": "f1c74d77",
   "metadata": {},
   "outputs": [
    {
     "data": {
      "text/plain": [
       "str"
      ]
     },
     "execution_count": 15,
     "metadata": {},
     "output_type": "execute_result"
    }
   ],
   "source": [
    "type(str(100))"
   ]
  },
  {
   "cell_type": "code",
   "execution_count": 16,
   "id": "e00cb078",
   "metadata": {},
   "outputs": [
    {
     "name": "stdout",
     "output_type": "stream",
     "text": [
      "100\n"
     ]
    }
   ],
   "source": [
    "print(str(100))"
   ]
  },
  {
   "cell_type": "code",
   "execution_count": 35,
   "id": "ff397258",
   "metadata": {},
   "outputs": [],
   "source": [
    "# Escape Sequence\n",
    "weather = \"It's \\\"kind of\\\" sunny! \\nHave a great day!\""
   ]
  },
  {
   "cell_type": "code",
   "execution_count": 36,
   "id": "4e28965f",
   "metadata": {},
   "outputs": [
    {
     "name": "stdout",
     "output_type": "stream",
     "text": [
      "It's \"kind of\" sunny! \n",
      "Have a great day!\n"
     ]
    }
   ],
   "source": [
    "print(weather)"
   ]
  },
  {
   "cell_type": "code",
   "execution_count": 39,
   "id": "c2af523d",
   "metadata": {},
   "outputs": [],
   "source": [
    "name = 'Jack'\n",
    "age = 40"
   ]
  },
  {
   "cell_type": "code",
   "execution_count": 41,
   "id": "685de305",
   "metadata": {},
   "outputs": [
    {
     "name": "stdout",
     "output_type": "stream",
     "text": [
      "Hi, Jack. You are beautiful. And you are 40 year old.\n"
     ]
    }
   ],
   "source": [
    "print(\"Hi, \" + name + \". You are beautiful. And you are \" + str(age) + ' year old.')"
   ]
  },
  {
   "cell_type": "code",
   "execution_count": 44,
   "id": "e425cef6",
   "metadata": {},
   "outputs": [
    {
     "name": "stdout",
     "output_type": "stream",
     "text": [
      "hi Jack. You are 40 years old.\n"
     ]
    }
   ],
   "source": [
    "# Preferable way (from Python 3.x)\n",
    "print(f'hi {name}. You are {age} years old.')"
   ]
  },
  {
   "cell_type": "code",
   "execution_count": 50,
   "id": "33b4cdcb",
   "metadata": {},
   "outputs": [
    {
     "name": "stdout",
     "output_type": "stream",
     "text": [
      "hi Jack. You are 40 years old.\n"
     ]
    }
   ],
   "source": [
    "# Old way:\n",
    "print('hi {}. You are {} years old.'.format(name, age))"
   ]
  },
  {
   "cell_type": "code",
   "execution_count": 57,
   "id": "2c9d1668",
   "metadata": {},
   "outputs": [
    {
     "data": {
      "text/plain": [
       "'m em eh'"
      ]
     },
     "execution_count": 57,
     "metadata": {},
     "output_type": "execute_result"
    }
   ],
   "source": [
    "# string indexes\n",
    "selfish = 'me me me yeah!'\n",
    "\n",
    "# [start:stop]\n",
    "# [start:stop:stepover] // [::1] - default behavior\n",
    "selfish[0:14:2]"
   ]
  },
  {
   "cell_type": "code",
   "execution_count": 56,
   "id": "44e8f893",
   "metadata": {},
   "outputs": [
    {
     "data": {
      "text/plain": [
       "'me me me y'"
      ]
     },
     "execution_count": 56,
     "metadata": {},
     "output_type": "execute_result"
    }
   ],
   "source": [
    "selfish[:10]"
   ]
  },
  {
   "cell_type": "markdown",
   "id": "9031d845",
   "metadata": {},
   "source": [
    "### Build-In Functions"
   ]
  },
  {
   "cell_type": "code",
   "execution_count": 1,
   "id": "38ea5377",
   "metadata": {},
   "outputs": [],
   "source": [
    "greet = 'hellloooy!'"
   ]
  },
  {
   "cell_type": "code",
   "execution_count": 2,
   "id": "6d005ce3",
   "metadata": {},
   "outputs": [
    {
     "data": {
      "text/plain": [
       "'hellloooy!'"
      ]
     },
     "execution_count": 2,
     "metadata": {},
     "output_type": "execute_result"
    }
   ],
   "source": [
    "# len()\n",
    "greet[0:len(greet)]"
   ]
  },
  {
   "cell_type": "code",
   "execution_count": 65,
   "id": "f584e894",
   "metadata": {},
   "outputs": [],
   "source": [
    "quote = \"to be or not to be\""
   ]
  },
  {
   "cell_type": "code",
   "execution_count": 67,
   "id": "92176fcc",
   "metadata": {},
   "outputs": [
    {
     "data": {
      "text/plain": [
       "'To be or not to be'"
      ]
     },
     "execution_count": 67,
     "metadata": {},
     "output_type": "execute_result"
    }
   ],
   "source": [
    "quote.capitalize()"
   ]
  },
  {
   "cell_type": "code",
   "execution_count": 69,
   "id": "102480d4",
   "metadata": {},
   "outputs": [
    {
     "data": {
      "text/plain": [
       "3"
      ]
     },
     "execution_count": 69,
     "metadata": {},
     "output_type": "execute_result"
    }
   ],
   "source": [
    "quote.find(\"be\") # give a number of index, when \"be\" start - 3"
   ]
  },
  {
   "cell_type": "code",
   "execution_count": 70,
   "id": "f438f25c",
   "metadata": {},
   "outputs": [
    {
     "data": {
      "text/plain": [
       "'to bee or not to bee'"
      ]
     },
     "execution_count": 70,
     "metadata": {},
     "output_type": "execute_result"
    }
   ],
   "source": [
    "quote.replace(\"be\", \"bee\")"
   ]
  },
  {
   "cell_type": "code",
   "execution_count": 71,
   "id": "bb6c8432",
   "metadata": {},
   "outputs": [
    {
     "data": {
      "text/plain": [
       "'to be or not to be'"
      ]
     },
     "execution_count": 71,
     "metadata": {},
     "output_type": "execute_result"
    }
   ],
   "source": [
    "quote"
   ]
  },
  {
   "cell_type": "code",
   "execution_count": 72,
   "id": "527d174a",
   "metadata": {},
   "outputs": [],
   "source": [
    "quote_2 = quote.replace(\"be\", \"bee\")"
   ]
  },
  {
   "cell_type": "code",
   "execution_count": 73,
   "id": "7b8a6809",
   "metadata": {},
   "outputs": [
    {
     "data": {
      "text/plain": [
       "'to bee or not to bee'"
      ]
     },
     "execution_count": 73,
     "metadata": {},
     "output_type": "execute_result"
    }
   ],
   "source": [
    "quote_2"
   ]
  },
  {
   "cell_type": "markdown",
   "id": "321871ca",
   "metadata": {},
   "source": [
    "### Booleans"
   ]
  },
  {
   "cell_type": "code",
   "execution_count": 74,
   "id": "b9a0e7e0",
   "metadata": {},
   "outputs": [],
   "source": [
    "name = \"Zhenya\""
   ]
  },
  {
   "cell_type": "code",
   "execution_count": 75,
   "id": "ff01f05b",
   "metadata": {},
   "outputs": [
    {
     "data": {
      "text/plain": [
       "True"
      ]
     },
     "execution_count": 75,
     "metadata": {},
     "output_type": "execute_result"
    }
   ],
   "source": [
    "bool(name)"
   ]
  },
  {
   "cell_type": "code",
   "execution_count": 76,
   "id": "18922c3b",
   "metadata": {},
   "outputs": [
    {
     "data": {
      "text/plain": [
       "False"
      ]
     },
     "execution_count": 76,
     "metadata": {},
     "output_type": "execute_result"
    }
   ],
   "source": [
    "bool(0)"
   ]
  },
  {
   "cell_type": "code",
   "execution_count": 77,
   "id": "a0723d3e",
   "metadata": {},
   "outputs": [
    {
     "data": {
      "text/plain": [
       "True"
      ]
     },
     "execution_count": 77,
     "metadata": {},
     "output_type": "execute_result"
    }
   ],
   "source": [
    "bool(1)"
   ]
  },
  {
   "cell_type": "markdown",
   "id": "91aff91e",
   "metadata": {},
   "source": [
    "## Exercise - Type Conversion"
   ]
  },
  {
   "cell_type": "code",
   "execution_count": 78,
   "id": "e6e8a954",
   "metadata": {},
   "outputs": [],
   "source": [
    "name = \"Zhenya\"\n",
    "age = 25\n",
    "relshp_status = 'single'"
   ]
  },
  {
   "cell_type": "code",
   "execution_count": 83,
   "id": "14858c6c",
   "metadata": {},
   "outputs": [
    {
     "name": "stdout",
     "output_type": "stream",
     "text": [
      "What year were you born? 1900\n",
      "Your age is 122 years old!\n"
     ]
    }
   ],
   "source": [
    "# Let's create a little program that count your age.\n",
    "\n",
    "birth_year = int(input(\"What year were you born? \"))\n",
    "actual_year = 2022\n",
    "age = actual_year - birth_year\n",
    "print(f'Your age is {age} years old!')"
   ]
  },
  {
   "cell_type": "markdown",
   "id": "34221535",
   "metadata": {},
   "source": [
    "## Exercise - Password's lenght"
   ]
  },
  {
   "cell_type": "code",
   "execution_count": 94,
   "id": "1272beeb",
   "metadata": {},
   "outputs": [
    {
     "name": "stdout",
     "output_type": "stream",
     "text": [
      "Enter your username: Jack\n",
      "Enter your password: Winner\n",
      "Jack, your password ****** is 6 letters long\n"
     ]
    }
   ],
   "source": [
    "user_name = input(\"Enter your username: \")\n",
    "user_password = input(\"Enter your password: \")\n",
    "password_lenght = int(len(user_password))\n",
    "hidden_password = \"*\" * password_lenght\n",
    "\n",
    "# print(f\"{user_name}, your password {'*' * len(user_password)} is {len(user_password)} letters long\")\n",
    "# Code above - not so easy-to-understand; SO ==>\n",
    "print(f\"{user_name}, your password {hidden_password} is {password_lenght} letters long\")"
   ]
  },
  {
   "cell_type": "markdown",
   "id": "d1d34c9d",
   "metadata": {},
   "source": [
    "# Lists"
   ]
  },
  {
   "cell_type": "code",
   "execution_count": 106,
   "id": "5770023d",
   "metadata": {},
   "outputs": [],
   "source": [
    "amazon_cart = ['notebook', 'smartphone', 'sunglasses', 'food']"
   ]
  },
  {
   "cell_type": "code",
   "execution_count": 108,
   "id": "f23f07b7",
   "metadata": {},
   "outputs": [
    {
     "data": {
      "text/plain": [
       "['notebook', 'sunglasses']"
      ]
     },
     "execution_count": 108,
     "metadata": {},
     "output_type": "execute_result"
    }
   ],
   "source": [
    "amazon_cart[0::2] # step 2"
   ]
  },
  {
   "cell_type": "code",
   "execution_count": 109,
   "id": "e5037b15",
   "metadata": {},
   "outputs": [],
   "source": [
    "amazon_cart[0] = 'laptop'"
   ]
  },
  {
   "cell_type": "code",
   "execution_count": 110,
   "id": "77c166d1",
   "metadata": {},
   "outputs": [
    {
     "data": {
      "text/plain": [
       "['laptop', 'smartphone', 'sunglasses', 'food']"
      ]
     },
     "execution_count": 110,
     "metadata": {},
     "output_type": "execute_result"
    }
   ],
   "source": [
    "amazon_cart"
   ]
  },
  {
   "cell_type": "code",
   "execution_count": 111,
   "id": "704defb8",
   "metadata": {},
   "outputs": [],
   "source": [
    "new_cart = amazon_cart[0:3]"
   ]
  },
  {
   "cell_type": "code",
   "execution_count": 112,
   "id": "082b6340",
   "metadata": {},
   "outputs": [
    {
     "data": {
      "text/plain": [
       "['laptop', 'smartphone', 'sunglasses']"
      ]
     },
     "execution_count": 112,
     "metadata": {},
     "output_type": "execute_result"
    }
   ],
   "source": [
    "new_cart"
   ]
  },
  {
   "cell_type": "code",
   "execution_count": 113,
   "id": "be0b4828",
   "metadata": {},
   "outputs": [
    {
     "data": {
      "text/plain": [
       "['laptop', 'smartphone', 'sunglasses', 'food']"
      ]
     },
     "execution_count": 113,
     "metadata": {},
     "output_type": "execute_result"
    }
   ],
   "source": [
    "amazon_cart"
   ]
  },
  {
   "cell_type": "code",
   "execution_count": 114,
   "id": "d4d4f5fc",
   "metadata": {},
   "outputs": [],
   "source": [
    "new_cart[0] = 'gum'"
   ]
  },
  {
   "cell_type": "code",
   "execution_count": 115,
   "id": "4e33899c",
   "metadata": {},
   "outputs": [
    {
     "data": {
      "text/plain": [
       "['gum', 'smartphone', 'sunglasses']"
      ]
     },
     "execution_count": 115,
     "metadata": {},
     "output_type": "execute_result"
    }
   ],
   "source": [
    "new_cart"
   ]
  },
  {
   "cell_type": "code",
   "execution_count": 116,
   "id": "b1881a18",
   "metadata": {},
   "outputs": [
    {
     "data": {
      "text/plain": [
       "['laptop', 'smartphone', 'sunglasses', 'food']"
      ]
     },
     "execution_count": 116,
     "metadata": {},
     "output_type": "execute_result"
    }
   ],
   "source": [
    "amazon_cart"
   ]
  },
  {
   "cell_type": "code",
   "execution_count": 117,
   "id": "fbc511cc",
   "metadata": {},
   "outputs": [],
   "source": [
    "new_cart = amazon_cart"
   ]
  },
  {
   "cell_type": "code",
   "execution_count": 120,
   "id": "3ae845bf",
   "metadata": {},
   "outputs": [],
   "source": [
    "new_cart[0] = 'jar'"
   ]
  },
  {
   "cell_type": "code",
   "execution_count": 121,
   "id": "f4e85a84",
   "metadata": {},
   "outputs": [
    {
     "data": {
      "text/plain": [
       "['jar', 'smartphone', 'sunglasses', 'food']"
      ]
     },
     "execution_count": 121,
     "metadata": {},
     "output_type": "execute_result"
    }
   ],
   "source": [
    "new_cart"
   ]
  },
  {
   "cell_type": "code",
   "execution_count": 122,
   "id": "d35b429d",
   "metadata": {},
   "outputs": [
    {
     "data": {
      "text/plain": [
       "['jar', 'smartphone', 'sunglasses', 'food']"
      ]
     },
     "execution_count": 122,
     "metadata": {},
     "output_type": "execute_result"
    }
   ],
   "source": [
    "amazon_cart"
   ]
  },
  {
   "cell_type": "code",
   "execution_count": 123,
   "id": "6e67d89e",
   "metadata": {},
   "outputs": [],
   "source": [
    "# Note: to copy lists use [:]\n",
    "new_cart = amazon_cart[:]"
   ]
  },
  {
   "cell_type": "markdown",
   "id": "16e1e295",
   "metadata": {},
   "source": [
    "### Matrix"
   ]
  },
  {
   "cell_type": "code",
   "execution_count": 124,
   "id": "eefe14dd",
   "metadata": {},
   "outputs": [],
   "source": [
    "matrix = [[1, 2, 3], [2, 4, 5], [7, 8, 9]]"
   ]
  },
  {
   "cell_type": "code",
   "execution_count": 129,
   "id": "03bcbc7f",
   "metadata": {},
   "outputs": [
    {
     "data": {
      "text/plain": [
       "3"
      ]
     },
     "execution_count": 129,
     "metadata": {},
     "output_type": "execute_result"
    }
   ],
   "source": [
    "matrix[0][2]"
   ]
  },
  {
   "cell_type": "markdown",
   "id": "52ec053b",
   "metadata": {},
   "source": [
    "### List methods"
   ]
  },
  {
   "cell_type": "code",
   "execution_count": 38,
   "id": "21892016",
   "metadata": {},
   "outputs": [],
   "source": [
    "basket = [1,2,3,4,5]"
   ]
  },
  {
   "cell_type": "code",
   "execution_count": 39,
   "id": "9ae4c430",
   "metadata": {},
   "outputs": [],
   "source": [
    "# Adding\n",
    "new_list = basket.append(100) # !new_list will be not modified (\"none\") => some (? or all list methods)  methods works INPLACE\n",
    "new_list\n",
    "#print(basket.append)"
   ]
  },
  {
   "cell_type": "code",
   "execution_count": 22,
   "id": "a7f9c7ae",
   "metadata": {},
   "outputs": [
    {
     "data": {
      "text/plain": [
       "[1, 2, 3, 4, 5, 100, 100]"
      ]
     },
     "execution_count": 22,
     "metadata": {},
     "output_type": "execute_result"
    }
   ],
   "source": [
    "basket"
   ]
  },
  {
   "cell_type": "code",
   "execution_count": 8,
   "id": "ae187360",
   "metadata": {},
   "outputs": [],
   "source": [
    "basket.append(110)\n",
    "new_list = basket"
   ]
  },
  {
   "cell_type": "code",
   "execution_count": 10,
   "id": "5d47fb59",
   "metadata": {},
   "outputs": [
    {
     "data": {
      "text/plain": [
       "[1, 2, 3, 4, 5, 100, 110, 110]"
      ]
     },
     "execution_count": 10,
     "metadata": {},
     "output_type": "execute_result"
    }
   ],
   "source": [
    "new_list"
   ]
  },
  {
   "cell_type": "code",
   "execution_count": 11,
   "id": "f272b8d9",
   "metadata": {},
   "outputs": [],
   "source": [
    "basket.insert(4, 99)"
   ]
  },
  {
   "cell_type": "code",
   "execution_count": 12,
   "id": "42346766",
   "metadata": {},
   "outputs": [
    {
     "data": {
      "text/plain": [
       "[1, 2, 3, 4, 99, 5, 100, 110, 110]"
      ]
     },
     "execution_count": 12,
     "metadata": {},
     "output_type": "execute_result"
    }
   ],
   "source": [
    "basket"
   ]
  },
  {
   "cell_type": "code",
   "execution_count": 13,
   "id": "0032baf0",
   "metadata": {},
   "outputs": [],
   "source": [
    "basket.extend([105])"
   ]
  },
  {
   "cell_type": "code",
   "execution_count": 14,
   "id": "388f80b7",
   "metadata": {},
   "outputs": [
    {
     "data": {
      "text/plain": [
       "[1, 2, 3, 4, 99, 5, 100, 110, 110, 105]"
      ]
     },
     "execution_count": 14,
     "metadata": {},
     "output_type": "execute_result"
    }
   ],
   "source": [
    "basket"
   ]
  },
  {
   "cell_type": "code",
   "execution_count": 16,
   "id": "7021bf8a",
   "metadata": {},
   "outputs": [
    {
     "data": {
      "text/plain": [
       "110"
      ]
     },
     "execution_count": 16,
     "metadata": {},
     "output_type": "execute_result"
    }
   ],
   "source": [
    "basket.pop()"
   ]
  },
  {
   "cell_type": "code",
   "execution_count": 41,
   "id": "ac5537dd",
   "metadata": {},
   "outputs": [
    {
     "data": {
      "text/plain": [
       "[1, 2, 3, 4, 5, 100]"
      ]
     },
     "execution_count": 41,
     "metadata": {},
     "output_type": "execute_result"
    }
   ],
   "source": [
    "basket"
   ]
  },
  {
   "cell_type": "code",
   "execution_count": 18,
   "id": "a9d8f0e6",
   "metadata": {},
   "outputs": [
    {
     "data": {
      "text/plain": [
       "99"
      ]
     },
     "execution_count": 18,
     "metadata": {},
     "output_type": "execute_result"
    }
   ],
   "source": [
    "basket.pop(4) # remove index pos."
   ]
  },
  {
   "cell_type": "code",
   "execution_count": 19,
   "id": "f3865f0d",
   "metadata": {},
   "outputs": [],
   "source": [
    "basket.remove(110) # remove number"
   ]
  },
  {
   "cell_type": "code",
   "execution_count": 25,
   "id": "5c66936a",
   "metadata": {},
   "outputs": [
    {
     "data": {
      "text/plain": [
       "[1, 2, 3, 4, 5, 100]"
      ]
     },
     "execution_count": 25,
     "metadata": {},
     "output_type": "execute_result"
    }
   ],
   "source": [
    "basket"
   ]
  },
  {
   "cell_type": "code",
   "execution_count": 26,
   "id": "c65b9b81",
   "metadata": {},
   "outputs": [],
   "source": [
    "new_list = basket.pop(5)"
   ]
  },
  {
   "cell_type": "code",
   "execution_count": 28,
   "id": "fc7fa7ad",
   "metadata": {},
   "outputs": [
    {
     "data": {
      "text/plain": [
       "100"
      ]
     },
     "execution_count": 28,
     "metadata": {},
     "output_type": "execute_result"
    }
   ],
   "source": [
    "new_list # it's return the number that was \"pop\"-ed."
   ]
  },
  {
   "cell_type": "code",
   "execution_count": 29,
   "id": "98187fde",
   "metadata": {},
   "outputs": [],
   "source": [
    "# removing the list\n",
    "new_list = basket.clear()"
   ]
  },
  {
   "cell_type": "code",
   "execution_count": 30,
   "id": "4257ba12",
   "metadata": {},
   "outputs": [],
   "source": [
    "new_list"
   ]
  },
  {
   "cell_type": "code",
   "execution_count": 31,
   "id": "ef72cabb",
   "metadata": {
    "scrolled": true
   },
   "outputs": [
    {
     "data": {
      "text/plain": [
       "[]"
      ]
     },
     "execution_count": 31,
     "metadata": {},
     "output_type": "execute_result"
    }
   ],
   "source": [
    "basket"
   ]
  },
  {
   "cell_type": "code",
   "execution_count": 46,
   "id": "6f293983",
   "metadata": {},
   "outputs": [
    {
     "data": {
      "text/plain": [
       "[100, 5, 4, 3, 2, 1]"
      ]
     },
     "execution_count": 46,
     "metadata": {},
     "output_type": "execute_result"
    }
   ],
   "source": [
    "basket.reverse()\n",
    "basket"
   ]
  },
  {
   "cell_type": "code",
   "execution_count": 49,
   "id": "5eefade5",
   "metadata": {},
   "outputs": [
    {
     "data": {
      "text/plain": [
       "[1, 2, 3, 4, 5, 100]"
      ]
     },
     "execution_count": 49,
     "metadata": {},
     "output_type": "execute_result"
    }
   ],
   "source": [
    "basket[::-1] # it makes a new list!"
   ]
  },
  {
   "cell_type": "code",
   "execution_count": 50,
   "id": "8e550eb8",
   "metadata": {},
   "outputs": [
    {
     "data": {
      "text/plain": [
       "[100, 5, 4, 3, 2, 1]"
      ]
     },
     "execution_count": 50,
     "metadata": {},
     "output_type": "execute_result"
    }
   ],
   "source": [
    "basket"
   ]
  },
  {
   "cell_type": "code",
   "execution_count": null,
   "id": "084cffc3",
   "metadata": {},
   "outputs": [],
   "source": []
  },
  {
   "cell_type": "code",
   "execution_count": 58,
   "id": "854d3bec",
   "metadata": {},
   "outputs": [],
   "source": [
    "sentence = '!'"
   ]
  },
  {
   "cell_type": "code",
   "execution_count": 59,
   "id": "ab98f125",
   "metadata": {},
   "outputs": [
    {
     "data": {
      "text/plain": [
       "'Hi!my!name!is'"
      ]
     },
     "execution_count": 59,
     "metadata": {},
     "output_type": "execute_result"
    }
   ],
   "source": [
    "sentence.join(['Hi', 'my', 'name', 'is'])"
   ]
  },
  {
   "cell_type": "code",
   "execution_count": 60,
   "id": "b639f748",
   "metadata": {},
   "outputs": [
    {
     "data": {
      "text/plain": [
       "'!'"
      ]
     },
     "execution_count": 60,
     "metadata": {},
     "output_type": "execute_result"
    }
   ],
   "source": [
    "sentence"
   ]
  },
  {
   "cell_type": "code",
   "execution_count": 61,
   "id": "61afe9a8",
   "metadata": {},
   "outputs": [],
   "source": [
    "new_sentence = sentence.join(['Hi', 'my', 'name', 'is'])"
   ]
  },
  {
   "cell_type": "code",
   "execution_count": 62,
   "id": "1ccd2c9e",
   "metadata": {},
   "outputs": [
    {
     "data": {
      "text/plain": [
       "'Hi!my!name!is'"
      ]
     },
     "execution_count": 62,
     "metadata": {},
     "output_type": "execute_result"
    }
   ],
   "source": [
    "new_sentence"
   ]
  },
  {
   "cell_type": "code",
   "execution_count": 63,
   "id": "a2338ce5",
   "metadata": {},
   "outputs": [],
   "source": [
    "new_sentence2 = ' '.join(['Hi', 'my', 'name', 'is'])"
   ]
  },
  {
   "cell_type": "code",
   "execution_count": 64,
   "id": "17f33282",
   "metadata": {},
   "outputs": [
    {
     "data": {
      "text/plain": [
       "'Hi my name is'"
      ]
     },
     "execution_count": 64,
     "metadata": {},
     "output_type": "execute_result"
    }
   ],
   "source": [
    "new_sentence2"
   ]
  },
  {
   "cell_type": "code",
   "execution_count": 65,
   "id": "0fa29eb2",
   "metadata": {},
   "outputs": [],
   "source": [
    "# ' '.join([]) - \"convert list to a string\""
   ]
  },
  {
   "cell_type": "markdown",
   "id": "c77046d3",
   "metadata": {},
   "source": [
    "#### Indexing and finding smth in the list"
   ]
  },
  {
   "cell_type": "code",
   "execution_count": 32,
   "id": "a8ea8714",
   "metadata": {},
   "outputs": [],
   "source": [
    "basket_2 = [\"a\", \"b\", \"c\", \"d\", \"e\"]"
   ]
  },
  {
   "cell_type": "code",
   "execution_count": 33,
   "id": "d6b8ebb1",
   "metadata": {},
   "outputs": [
    {
     "data": {
      "text/plain": [
       "4"
      ]
     },
     "execution_count": 33,
     "metadata": {},
     "output_type": "execute_result"
    }
   ],
   "source": [
    "basket_2.index(\"e\")"
   ]
  },
  {
   "cell_type": "code",
   "execution_count": 39,
   "id": "d20fe502",
   "metadata": {},
   "outputs": [
    {
     "data": {
      "text/plain": [
       "3"
      ]
     },
     "execution_count": 39,
     "metadata": {},
     "output_type": "execute_result"
    }
   ],
   "source": [
    "basket_2.index(\"d\", 2, 4) # Между какими индексами искать"
   ]
  },
  {
   "cell_type": "code",
   "execution_count": 41,
   "id": "168cc147",
   "metadata": {},
   "outputs": [
    {
     "data": {
      "text/plain": [
       "True"
      ]
     },
     "execution_count": 41,
     "metadata": {},
     "output_type": "execute_result"
    }
   ],
   "source": [
    "# Another way to find smth in the list\n",
    "\"d\" in basket_2"
   ]
  },
  {
   "cell_type": "code",
   "execution_count": 43,
   "id": "2873ebdb",
   "metadata": {},
   "outputs": [
    {
     "data": {
      "text/plain": [
       "True"
      ]
     },
     "execution_count": 43,
     "metadata": {},
     "output_type": "execute_result"
    }
   ],
   "source": [
    "# With the strings this works too:\n",
    "\"x\" in \"People-x\""
   ]
  },
  {
   "cell_type": "markdown",
   "id": "e183b934",
   "metadata": {},
   "source": [
    "#### Counting, Sorting, "
   ]
  },
  {
   "cell_type": "code",
   "execution_count": 46,
   "id": "7228b8ca",
   "metadata": {},
   "outputs": [
    {
     "data": {
      "text/plain": [
       "1"
      ]
     },
     "execution_count": 46,
     "metadata": {},
     "output_type": "execute_result"
    }
   ],
   "source": [
    "basket_2.count(\"d\") # how many times \"d\" in the list"
   ]
  },
  {
   "cell_type": "code",
   "execution_count": 50,
   "id": "f7e907a1",
   "metadata": {},
   "outputs": [],
   "source": [
    "basket_2 = [\"a\", \"x\", \"b\", \"z\", \"c\", \"d\", \"e\"]"
   ]
  },
  {
   "cell_type": "code",
   "execution_count": 51,
   "id": "04fd228a",
   "metadata": {},
   "outputs": [],
   "source": [
    "basket_2.sort()"
   ]
  },
  {
   "cell_type": "code",
   "execution_count": 52,
   "id": "d49cba9a",
   "metadata": {},
   "outputs": [
    {
     "data": {
      "text/plain": [
       "['a', 'b', 'c', 'd', 'e', 'x', 'z']"
      ]
     },
     "execution_count": 52,
     "metadata": {},
     "output_type": "execute_result"
    }
   ],
   "source": [
    "basket_2"
   ]
  },
  {
   "cell_type": "code",
   "execution_count": 53,
   "id": "bb30ffbd",
   "metadata": {},
   "outputs": [],
   "source": [
    "basket_2 = [\"a\", \"x\", \"b\", \"z\", \"c\", \"d\", \"e\"]"
   ]
  },
  {
   "cell_type": "code",
   "execution_count": 54,
   "id": "43d0f133",
   "metadata": {},
   "outputs": [
    {
     "data": {
      "text/plain": [
       "['a', 'b', 'c', 'd', 'e', 'x', 'z']"
      ]
     },
     "execution_count": 54,
     "metadata": {},
     "output_type": "execute_result"
    }
   ],
   "source": [
    "sorted(basket_2)"
   ]
  },
  {
   "cell_type": "code",
   "execution_count": 55,
   "id": "ef42d11b",
   "metadata": {},
   "outputs": [
    {
     "data": {
      "text/plain": [
       "['a', 'x', 'b', 'z', 'c', 'd', 'e']"
      ]
     },
     "execution_count": 55,
     "metadata": {},
     "output_type": "execute_result"
    }
   ],
   "source": [
    "basket_2"
   ]
  },
  {
   "cell_type": "code",
   "execution_count": 56,
   "id": "5c726cc7",
   "metadata": {},
   "outputs": [],
   "source": [
    "new_basket2 = basket_2[:]"
   ]
  },
  {
   "cell_type": "code",
   "execution_count": 58,
   "id": "595f0d7f",
   "metadata": {},
   "outputs": [],
   "source": [
    "new_basket2.sort()"
   ]
  },
  {
   "cell_type": "code",
   "execution_count": 59,
   "id": "00eb1b87",
   "metadata": {},
   "outputs": [
    {
     "data": {
      "text/plain": [
       "['a', 'b', 'c', 'd', 'e', 'x', 'z']"
      ]
     },
     "execution_count": 59,
     "metadata": {},
     "output_type": "execute_result"
    }
   ],
   "source": [
    "new_basket2"
   ]
  },
  {
   "cell_type": "code",
   "execution_count": 60,
   "id": "21a6c712",
   "metadata": {},
   "outputs": [
    {
     "data": {
      "text/plain": [
       "['a', 'x', 'b', 'z', 'c', 'd', 'e']"
      ]
     },
     "execution_count": 60,
     "metadata": {},
     "output_type": "execute_result"
    }
   ],
   "source": [
    "basket_2"
   ]
  },
  {
   "cell_type": "code",
   "execution_count": 61,
   "id": "ca1c63bf",
   "metadata": {},
   "outputs": [],
   "source": [
    "# Instead of list_name[:] we can use .copy()\n",
    "new_basket2 = basket_2.copy()"
   ]
  },
  {
   "cell_type": "code",
   "execution_count": 62,
   "id": "90df328c",
   "metadata": {},
   "outputs": [
    {
     "data": {
      "text/plain": [
       "['a', 'x', 'b', 'z', 'c', 'd', 'e']"
      ]
     },
     "execution_count": 62,
     "metadata": {},
     "output_type": "execute_result"
    }
   ],
   "source": [
    "new_basket2"
   ]
  },
  {
   "cell_type": "code",
   "execution_count": 63,
   "id": "d9306847",
   "metadata": {},
   "outputs": [],
   "source": [
    "basket_2.reverse()"
   ]
  },
  {
   "cell_type": "code",
   "execution_count": 64,
   "id": "8e1443f3",
   "metadata": {},
   "outputs": [
    {
     "data": {
      "text/plain": [
       "['e', 'd', 'c', 'z', 'b', 'x', 'a']"
      ]
     },
     "execution_count": 64,
     "metadata": {},
     "output_type": "execute_result"
    }
   ],
   "source": [
    "basket_2"
   ]
  },
  {
   "cell_type": "markdown",
   "id": "4fcbb14c",
   "metadata": {},
   "source": [
    "## Common list patterns"
   ]
  },
  {
   "cell_type": "code",
   "execution_count": 65,
   "id": "c39b8b12",
   "metadata": {},
   "outputs": [
    {
     "data": {
      "text/plain": [
       "7"
      ]
     },
     "execution_count": 65,
     "metadata": {},
     "output_type": "execute_result"
    }
   ],
   "source": [
    "len(basket_2)"
   ]
  },
  {
   "cell_type": "code",
   "execution_count": 68,
   "id": "57bcae0a",
   "metadata": {},
   "outputs": [
    {
     "data": {
      "text/plain": [
       "['a', 'b', 'c', 'd', 'e', 'x', 'z']"
      ]
     },
     "execution_count": 68,
     "metadata": {},
     "output_type": "execute_result"
    }
   ],
   "source": [
    "basket_2.sort()\n",
    "basket_2"
   ]
  },
  {
   "cell_type": "code",
   "execution_count": 69,
   "id": "bb705d09",
   "metadata": {},
   "outputs": [
    {
     "data": {
      "text/plain": [
       "['z', 'x', 'e', 'd', 'c', 'b', 'a']"
      ]
     },
     "execution_count": 69,
     "metadata": {},
     "output_type": "execute_result"
    }
   ],
   "source": [
    "basket_2.reverse()\n",
    "basket_2"
   ]
  },
  {
   "cell_type": "code",
   "execution_count": 70,
   "id": "3b7bb6b0",
   "metadata": {},
   "outputs": [
    {
     "data": {
      "text/plain": [
       "['a', 'b', 'c', 'd', 'e', 'x', 'z']"
      ]
     },
     "execution_count": 70,
     "metadata": {},
     "output_type": "execute_result"
    }
   ],
   "source": [
    "basket_2[::-1]"
   ]
  },
  {
   "cell_type": "code",
   "execution_count": 77,
   "id": "78fbc460",
   "metadata": {},
   "outputs": [],
   "source": [
    "# To generate range from 1 to 100\n",
    "new_list3 = list(range(1, 101))"
   ]
  },
  {
   "cell_type": "code",
   "execution_count": 79,
   "id": "f64e3148",
   "metadata": {},
   "outputs": [
    {
     "name": "stdout",
     "output_type": "stream",
     "text": [
      "[1, 2, 3, 4, 5, 6, 7, 8, 9, 10, 11, 12, 13, 14, 15, 16, 17, 18, 19, 20, 21, 22, 23, 24, 25, 26, 27, 28, 29, 30, 31, 32, 33, 34, 35, 36, 37, 38, 39, 40, 41, 42, 43, 44, 45, 46, 47, 48, 49, 50, 51, 52, 53, 54, 55, 56, 57, 58, 59, 60, 61, 62, 63, 64, 65, 66, 67, 68, 69, 70, 71, 72, 73, 74, 75, 76, 77, 78, 79, 80, 81, 82, 83, 84, 85, 86, 87, 88, 89, 90, 91, 92, 93, 94, 95, 96, 97, 98, 99, 100]\n"
     ]
    }
   ],
   "source": [
    "print(new_list3)"
   ]
  },
  {
   "cell_type": "code",
   "execution_count": 85,
   "id": "c34c2c6f",
   "metadata": {},
   "outputs": [
    {
     "data": {
      "text/plain": [
       "'hi my name is Johnny'"
      ]
     },
     "execution_count": 85,
     "metadata": {},
     "output_type": "execute_result"
    }
   ],
   "source": [
    "sentence = ' '\n",
    "sentence.join(['hi', 'my', 'name', 'is', 'Johnny'])"
   ]
  },
  {
   "cell_type": "code",
   "execution_count": 88,
   "id": "0c25fb40",
   "metadata": {},
   "outputs": [
    {
     "data": {
      "text/plain": [
       "'hi!my!name!is!Johnny'"
      ]
     },
     "execution_count": 88,
     "metadata": {},
     "output_type": "execute_result"
    }
   ],
   "source": [
    "sentence = '!'\n",
    "sentence.join(['hi', 'my', 'name', 'is', 'Johnny']) # create a new string from a list of items"
   ]
  },
  {
   "cell_type": "code",
   "execution_count": 89,
   "id": "d9ba301e",
   "metadata": {},
   "outputs": [],
   "source": [
    "# or you can use:\n",
    "new_sentence = ' '.join(['hi', 'my', 'name', 'is', 'Johnny'])"
   ]
  },
  {
   "cell_type": "code",
   "execution_count": 90,
   "id": "503e2d78",
   "metadata": {},
   "outputs": [
    {
     "data": {
      "text/plain": [
       "'hi my name is Johnny'"
      ]
     },
     "execution_count": 90,
     "metadata": {},
     "output_type": "execute_result"
    }
   ],
   "source": [
    "new_sentence"
   ]
  },
  {
   "cell_type": "markdown",
   "id": "3b19afe8",
   "metadata": {},
   "source": [
    "#### List unpacking"
   ]
  },
  {
   "cell_type": "code",
   "execution_count": 92,
   "id": "b1064c92",
   "metadata": {},
   "outputs": [],
   "source": [
    "a,b,c = [1,2,3]"
   ]
  },
  {
   "cell_type": "code",
   "execution_count": 96,
   "id": "c66d4597",
   "metadata": {},
   "outputs": [
    {
     "data": {
      "text/plain": [
       "(1, 2, 3)"
      ]
     },
     "execution_count": 96,
     "metadata": {},
     "output_type": "execute_result"
    }
   ],
   "source": [
    "a, b, c"
   ]
  },
  {
   "cell_type": "code",
   "execution_count": 97,
   "id": "6a47b05f",
   "metadata": {},
   "outputs": [],
   "source": [
    "a,b,c, *other = [1,2,3,4,5,6,7,8,9]"
   ]
  },
  {
   "cell_type": "code",
   "execution_count": 98,
   "id": "c097db85",
   "metadata": {},
   "outputs": [
    {
     "data": {
      "text/plain": [
       "[4, 5, 6, 7, 8, 9]"
      ]
     },
     "execution_count": 98,
     "metadata": {},
     "output_type": "execute_result"
    }
   ],
   "source": [
    "other"
   ]
  },
  {
   "cell_type": "code",
   "execution_count": 99,
   "id": "50ab3994",
   "metadata": {},
   "outputs": [],
   "source": [
    "a,b,c, *other, d = [1,2,3,4,5,6,7,8,9]"
   ]
  },
  {
   "cell_type": "code",
   "execution_count": 100,
   "id": "6f73a3fe",
   "metadata": {},
   "outputs": [
    {
     "data": {
      "text/plain": [
       "[4, 5, 6, 7, 8]"
      ]
     },
     "execution_count": 100,
     "metadata": {},
     "output_type": "execute_result"
    }
   ],
   "source": [
    "other"
   ]
  },
  {
   "cell_type": "code",
   "execution_count": 101,
   "id": "e3cb43d7",
   "metadata": {},
   "outputs": [
    {
     "data": {
      "text/plain": [
       "9"
      ]
     },
     "execution_count": 101,
     "metadata": {},
     "output_type": "execute_result"
    }
   ],
   "source": [
    "d"
   ]
  },
  {
   "cell_type": "code",
   "execution_count": 103,
   "id": "9f0a35cb",
   "metadata": {},
   "outputs": [],
   "source": [
    "weapons = None"
   ]
  },
  {
   "cell_type": "code",
   "execution_count": 105,
   "id": "e32f89b5",
   "metadata": {},
   "outputs": [
    {
     "data": {
      "text/plain": [
       "NoneType"
      ]
     },
     "execution_count": 105,
     "metadata": {},
     "output_type": "execute_result"
    }
   ],
   "source": [
    "type(weapons)"
   ]
  },
  {
   "cell_type": "markdown",
   "id": "c7e17125",
   "metadata": {},
   "source": [
    "## Dictionaries (`dict`)"
   ]
  },
  {
   "cell_type": "code",
   "execution_count": 109,
   "id": "fae477e5",
   "metadata": {},
   "outputs": [],
   "source": [
    "dictionary = {'a': 1, 'b': 2, 'x': 3}"
   ]
  },
  {
   "cell_type": "code",
   "execution_count": 108,
   "id": "cc9f0557",
   "metadata": {},
   "outputs": [
    {
     "data": {
      "text/plain": [
       "1"
      ]
     },
     "execution_count": 108,
     "metadata": {},
     "output_type": "execute_result"
    }
   ],
   "source": [
    "dictionary['a']"
   ]
  },
  {
   "cell_type": "code",
   "execution_count": 120,
   "id": "a2b9de99",
   "metadata": {},
   "outputs": [],
   "source": [
    "my_list = [\n",
    "    {'a': 1, 'b': 2, 'x': 3},\n",
    "    {'a': [1,2,3], 'hello': 2, 'x': True},\n",
    "    {'a': [4,5,6], 'hello': 2, 'x': True},\n",
    "]"
   ]
  },
  {
   "cell_type": "code",
   "execution_count": 121,
   "id": "ad13de09",
   "metadata": {},
   "outputs": [
    {
     "data": {
      "text/plain": [
       "[{'a': 1, 'b': 2, 'x': 3},\n",
       " {'a': [1, 2, 3], 'hello': 2, 'x': True},\n",
       " {'a': [4, 5, 6], 'hello': 2, 'x': True}]"
      ]
     },
     "execution_count": 121,
     "metadata": {},
     "output_type": "execute_result"
    }
   ],
   "source": [
    "my_list"
   ]
  },
  {
   "cell_type": "code",
   "execution_count": 124,
   "id": "da70efc0",
   "metadata": {},
   "outputs": [
    {
     "data": {
      "text/plain": [
       "3"
      ]
     },
     "execution_count": 124,
     "metadata": {},
     "output_type": "execute_result"
    }
   ],
   "source": [
    "my_list[1]['a'][2]"
   ]
  },
  {
   "cell_type": "code",
   "execution_count": 127,
   "id": "1b918e85",
   "metadata": {},
   "outputs": [],
   "source": [
    "# Dictionary's keys need to be immutable\n",
    "# i.e. key can not change\n",
    "\n",
    "# a Key in dict must be unique"
   ]
  },
  {
   "cell_type": "markdown",
   "id": "5698b8b7",
   "metadata": {},
   "source": [
    "### Dictionary methods"
   ]
  },
  {
   "cell_type": "code",
   "execution_count": 135,
   "id": "d3f6d6d9",
   "metadata": {},
   "outputs": [],
   "source": [
    "user_age = 35\n",
    "user_name = 'Nick'\n",
    "\n",
    "user = {\n",
    "    'age': user_age,\n",
    "    'name': user_name,\n",
    "    'status': 'occupay'\n",
    "}"
   ]
  },
  {
   "cell_type": "code",
   "execution_count": 131,
   "id": "2d3a0240",
   "metadata": {},
   "outputs": [
    {
     "data": {
      "text/plain": [
       "'Nick'"
      ]
     },
     "execution_count": 131,
     "metadata": {},
     "output_type": "execute_result"
    }
   ],
   "source": [
    "user['name']"
   ]
  },
  {
   "cell_type": "code",
   "execution_count": 137,
   "id": "ebdb16e5",
   "metadata": {},
   "outputs": [
    {
     "data": {
      "text/plain": [
       "'occupay'"
      ]
     },
     "execution_count": 137,
     "metadata": {},
     "output_type": "execute_result"
    }
   ],
   "source": [
    "user.get('status', 'free') # if dict has no key 'status', use default 'free'; if has - use it in dict."
   ]
  },
  {
   "cell_type": "code",
   "execution_count": 140,
   "id": "012c3d60",
   "metadata": {},
   "outputs": [],
   "source": [
    "# Create dict - not very common way:\n",
    "user2 = dict(name=\"John Doe\")"
   ]
  },
  {
   "cell_type": "code",
   "execution_count": 141,
   "id": "28f9e5d9",
   "metadata": {},
   "outputs": [
    {
     "data": {
      "text/plain": [
       "{'name': 'John Doe'}"
      ]
     },
     "execution_count": 141,
     "metadata": {},
     "output_type": "execute_result"
    }
   ],
   "source": [
    "user2"
   ]
  },
  {
   "cell_type": "code",
   "execution_count": null,
   "id": "33e5691d",
   "metadata": {},
   "outputs": [],
   "source": []
  },
  {
   "cell_type": "code",
   "execution_count": 142,
   "id": "4c811e23",
   "metadata": {},
   "outputs": [
    {
     "name": "stdout",
     "output_type": "stream",
     "text": [
      "True\n"
     ]
    }
   ],
   "source": [
    "print('age' in user)"
   ]
  },
  {
   "cell_type": "code",
   "execution_count": 144,
   "id": "3c13865a",
   "metadata": {},
   "outputs": [
    {
     "name": "stdout",
     "output_type": "stream",
     "text": [
      "True\n"
     ]
    }
   ],
   "source": [
    "print('age' in user.keys())"
   ]
  },
  {
   "cell_type": "code",
   "execution_count": 147,
   "id": "e4aab685",
   "metadata": {},
   "outputs": [
    {
     "name": "stdout",
     "output_type": "stream",
     "text": [
      "True\n"
     ]
    }
   ],
   "source": [
    "print(user_name in user.values())"
   ]
  },
  {
   "cell_type": "code",
   "execution_count": 149,
   "id": "d916af16",
   "metadata": {},
   "outputs": [
    {
     "name": "stdout",
     "output_type": "stream",
     "text": [
      "dict_items([('age', 35), ('name', 'Nick'), ('status', 'occupay')])\n"
     ]
    }
   ],
   "source": [
    "print(user.items()) # you can search in `items` too"
   ]
  },
  {
   "cell_type": "code",
   "execution_count": 150,
   "id": "5760d475",
   "metadata": {},
   "outputs": [],
   "source": [
    "# Copy\n",
    "user2 = user.copy()"
   ]
  },
  {
   "cell_type": "code",
   "execution_count": 152,
   "id": "35b1d2f9",
   "metadata": {},
   "outputs": [
    {
     "name": "stdout",
     "output_type": "stream",
     "text": [
      "{'age': 35, 'name': 'Nick', 'status': 'occupay'}\n",
      "{'age': 35, 'name': 'Nick', 'status': 'occupay'}\n"
     ]
    }
   ],
   "source": [
    "print(user)\n",
    "print(user2)"
   ]
  },
  {
   "cell_type": "code",
   "execution_count": 153,
   "id": "61cccd8c",
   "metadata": {},
   "outputs": [
    {
     "name": "stdout",
     "output_type": "stream",
     "text": [
      "None\n",
      "{'age': 35, 'name': 'Nick', 'status': 'occupay'}\n"
     ]
    }
   ],
   "source": [
    "print(user.clear())\n",
    "print(user2)"
   ]
  },
  {
   "cell_type": "code",
   "execution_count": 154,
   "id": "5592b5fd",
   "metadata": {},
   "outputs": [
    {
     "data": {
      "text/plain": [
       "'occupay'"
      ]
     },
     "execution_count": 154,
     "metadata": {},
     "output_type": "execute_result"
    }
   ],
   "source": [
    "# `pop` return the value that we've got remove\n",
    "user2.pop('status')"
   ]
  },
  {
   "cell_type": "code",
   "execution_count": 155,
   "id": "832d643c",
   "metadata": {},
   "outputs": [
    {
     "data": {
      "text/plain": [
       "{'age': 35, 'name': 'Nick'}"
      ]
     },
     "execution_count": 155,
     "metadata": {},
     "output_type": "execute_result"
    }
   ],
   "source": [
    "user2"
   ]
  },
  {
   "cell_type": "code",
   "execution_count": 160,
   "id": "89b9decc",
   "metadata": {},
   "outputs": [],
   "source": [
    "# `popitem` RANDOMLY remove some key!\n",
    "# \"useful to destructively iterate over a dictionary\""
   ]
  },
  {
   "cell_type": "code",
   "execution_count": 159,
   "id": "e663b89d",
   "metadata": {},
   "outputs": [
    {
     "data": {
      "text/plain": [
       "('name', 'Nick')"
      ]
     },
     "execution_count": 159,
     "metadata": {},
     "output_type": "execute_result"
    }
   ],
   "source": [
    "user2.popitem()"
   ]
  },
  {
   "cell_type": "code",
   "execution_count": 164,
   "id": "d60d51aa",
   "metadata": {},
   "outputs": [],
   "source": [
    "# UPDATE a key value\n",
    "user2.update({'age': 29})"
   ]
  },
  {
   "cell_type": "code",
   "execution_count": 165,
   "id": "dbf5734b",
   "metadata": {},
   "outputs": [
    {
     "data": {
      "text/plain": [
       "{'age': 29}"
      ]
     },
     "execution_count": 165,
     "metadata": {},
     "output_type": "execute_result"
    }
   ],
   "source": [
    "user2"
   ]
  },
  {
   "cell_type": "markdown",
   "id": "f5ade152",
   "metadata": {},
   "source": [
    "## Tuples"
   ]
  },
  {
   "cell_type": "markdown",
   "id": "1fd75f23",
   "metadata": {},
   "source": [
    "**When to use Tuples**\n",
    "\n",
    "You may be wondering, \"Why bother using tuples when they have fewer available methods?\" To be honest, tuples are not used as often as lists in programming, but are used when immutability is necessary. If in your program you are passing around an object and need to make sure it does not get changed, then tuple become your solution. It provides a convenient source of data integrity."
   ]
  },
  {
   "cell_type": "code",
   "execution_count": 10,
   "id": "50598248",
   "metadata": {},
   "outputs": [],
   "source": [
    "my_tuple = (1,2,3,4,5,1)"
   ]
  },
  {
   "cell_type": "code",
   "execution_count": 5,
   "id": "95ab9f8a",
   "metadata": {},
   "outputs": [
    {
     "data": {
      "text/plain": [
       "(4,)"
      ]
     },
     "execution_count": 5,
     "metadata": {},
     "output_type": "execute_result"
    }
   ],
   "source": [
    "my_tuple[3:4]"
   ]
  },
  {
   "cell_type": "code",
   "execution_count": 6,
   "id": "d3be82b2",
   "metadata": {},
   "outputs": [],
   "source": [
    "x,y,z, *other = (1,2,3,4,5)"
   ]
  },
  {
   "cell_type": "code",
   "execution_count": 7,
   "id": "c8312ce7",
   "metadata": {},
   "outputs": [
    {
     "data": {
      "text/plain": [
       "[4, 5]"
      ]
     },
     "execution_count": 7,
     "metadata": {},
     "output_type": "execute_result"
    }
   ],
   "source": [
    "other"
   ]
  },
  {
   "cell_type": "code",
   "execution_count": 11,
   "id": "e5399f92",
   "metadata": {},
   "outputs": [
    {
     "data": {
      "text/plain": [
       "2"
      ]
     },
     "execution_count": 11,
     "metadata": {},
     "output_type": "execute_result"
    }
   ],
   "source": [
    "my_tuple.count(1)"
   ]
  },
  {
   "cell_type": "code",
   "execution_count": 14,
   "id": "233fcdf6",
   "metadata": {},
   "outputs": [
    {
     "data": {
      "text/plain": [
       "4"
      ]
     },
     "execution_count": 14,
     "metadata": {},
     "output_type": "execute_result"
    }
   ],
   "source": [
    "my_tuple.index(5)"
   ]
  },
  {
   "cell_type": "markdown",
   "id": "d5ffaa80",
   "metadata": {},
   "source": [
    "## Sets"
   ]
  },
  {
   "cell_type": "code",
   "execution_count": 43,
   "id": "17865a76",
   "metadata": {},
   "outputs": [
    {
     "data": {
      "text/plain": [
       "{1, 2, 3, 4, 5, 6, 7}"
      ]
     },
     "execution_count": 43,
     "metadata": {},
     "output_type": "execute_result"
    }
   ],
   "source": [
    "my_set = {1,2,3,4,5,6,7}\n",
    "my_set"
   ]
  },
  {
   "cell_type": "code",
   "execution_count": 36,
   "id": "208e2c02",
   "metadata": {},
   "outputs": [
    {
     "data": {
      "text/plain": [
       "{1, 2, 3, 4, 5, 6}"
      ]
     },
     "execution_count": 36,
     "metadata": {},
     "output_type": "execute_result"
    }
   ],
   "source": [
    "another_set = {1,2,3,4,5,6,6,6}\n",
    "another_set"
   ]
  },
  {
   "cell_type": "code",
   "execution_count": 18,
   "id": "37fe2c31",
   "metadata": {},
   "outputs": [],
   "source": [
    "# Only unique elements"
   ]
  },
  {
   "cell_type": "code",
   "execution_count": 19,
   "id": "dd749c15",
   "metadata": {},
   "outputs": [],
   "source": [
    "my_list = [1,2,3,4,5,5,5,5]"
   ]
  },
  {
   "cell_type": "code",
   "execution_count": 20,
   "id": "ff7baa33",
   "metadata": {},
   "outputs": [
    {
     "data": {
      "text/plain": [
       "{1, 2, 3, 4, 5}"
      ]
     },
     "execution_count": 20,
     "metadata": {},
     "output_type": "execute_result"
    }
   ],
   "source": [
    "set(my_list)"
   ]
  },
  {
   "cell_type": "code",
   "execution_count": 21,
   "id": "00b45fbb",
   "metadata": {},
   "outputs": [
    {
     "ename": "TypeError",
     "evalue": "'set' object is not subscriptable",
     "output_type": "error",
     "traceback": [
      "\u001b[1;31m---------------------------------------------------------------------------\u001b[0m",
      "\u001b[1;31mTypeError\u001b[0m                                 Traceback (most recent call last)",
      "Input \u001b[1;32mIn [21]\u001b[0m, in \u001b[0;36m<cell line: 1>\u001b[1;34m()\u001b[0m\n\u001b[1;32m----> 1\u001b[0m \u001b[43mmy_set\u001b[49m\u001b[43m[\u001b[49m\u001b[38;5;241;43m0\u001b[39;49m\u001b[43m]\u001b[49m\n",
      "\u001b[1;31mTypeError\u001b[0m: 'set' object is not subscriptable"
     ]
    }
   ],
   "source": [
    "my_set[0]"
   ]
  },
  {
   "cell_type": "code",
   "execution_count": 22,
   "id": "7c147033",
   "metadata": {},
   "outputs": [
    {
     "name": "stdout",
     "output_type": "stream",
     "text": [
      "True\n"
     ]
    }
   ],
   "source": [
    "print(1 in my_set)"
   ]
  },
  {
   "cell_type": "code",
   "execution_count": 24,
   "id": "4bd59e97",
   "metadata": {},
   "outputs": [
    {
     "data": {
      "text/plain": [
       "6"
      ]
     },
     "execution_count": 24,
     "metadata": {},
     "output_type": "execute_result"
    }
   ],
   "source": [
    "len(another_set) # only unique elements!"
   ]
  },
  {
   "cell_type": "code",
   "execution_count": 37,
   "id": "25bbd22d",
   "metadata": {},
   "outputs": [],
   "source": [
    "new_set = another_set.copy()"
   ]
  },
  {
   "cell_type": "code",
   "execution_count": 38,
   "id": "c98f2bd5",
   "metadata": {},
   "outputs": [
    {
     "data": {
      "text/plain": [
       "{1, 2, 3, 4, 5, 6}"
      ]
     },
     "execution_count": 38,
     "metadata": {},
     "output_type": "execute_result"
    }
   ],
   "source": [
    "new_set"
   ]
  },
  {
   "cell_type": "code",
   "execution_count": 39,
   "id": "9f756a3e",
   "metadata": {},
   "outputs": [],
   "source": [
    "# another_set.clear()"
   ]
  },
  {
   "cell_type": "code",
   "execution_count": 40,
   "id": "e875c348",
   "metadata": {},
   "outputs": [
    {
     "data": {
      "text/plain": [
       "{1, 2, 3, 4, 5, 6}"
      ]
     },
     "execution_count": 40,
     "metadata": {},
     "output_type": "execute_result"
    }
   ],
   "source": [
    "new_set"
   ]
  },
  {
   "cell_type": "markdown",
   "id": "7ffc7d1c",
   "metadata": {},
   "source": [
    "### Methods on Sets"
   ]
  },
  {
   "cell_type": "code",
   "execution_count": 45,
   "id": "f8db4bc8",
   "metadata": {},
   "outputs": [
    {
     "data": {
      "text/plain": [
       "{7}"
      ]
     },
     "execution_count": 45,
     "metadata": {},
     "output_type": "execute_result"
    }
   ],
   "source": [
    "my_set.difference(another_set)"
   ]
  },
  {
   "cell_type": "code",
   "execution_count": 44,
   "id": "f532f0df",
   "metadata": {},
   "outputs": [
    {
     "data": {
      "text/plain": [
       "{1, 2, 3, 4, 5, 6, 7}"
      ]
     },
     "execution_count": 44,
     "metadata": {},
     "output_type": "execute_result"
    }
   ],
   "source": [
    "my_set"
   ]
  },
  {
   "cell_type": "code",
   "execution_count": 46,
   "id": "a1438efd",
   "metadata": {},
   "outputs": [
    {
     "data": {
      "text/plain": [
       "{1, 2, 3, 4, 5, 6}"
      ]
     },
     "execution_count": 46,
     "metadata": {},
     "output_type": "execute_result"
    }
   ],
   "source": [
    "another_set"
   ]
  },
  {
   "cell_type": "code",
   "execution_count": 47,
   "id": "70c3adca",
   "metadata": {},
   "outputs": [],
   "source": [
    "my_set.discard(7)"
   ]
  },
  {
   "cell_type": "code",
   "execution_count": 48,
   "id": "439e4f83",
   "metadata": {},
   "outputs": [
    {
     "data": {
      "text/plain": [
       "{1, 2, 3, 4, 5, 6}"
      ]
     },
     "execution_count": 48,
     "metadata": {},
     "output_type": "execute_result"
    }
   ],
   "source": [
    "my_set"
   ]
  },
  {
   "cell_type": "code",
   "execution_count": 49,
   "id": "eb5428ba",
   "metadata": {},
   "outputs": [],
   "source": [
    "my_set.difference_update(another_set)"
   ]
  },
  {
   "cell_type": "code",
   "execution_count": 50,
   "id": "a84a082c",
   "metadata": {},
   "outputs": [
    {
     "data": {
      "text/plain": [
       "set()"
      ]
     },
     "execution_count": 50,
     "metadata": {},
     "output_type": "execute_result"
    }
   ],
   "source": [
    "my_set "
   ]
  },
  {
   "cell_type": "code",
   "execution_count": 51,
   "id": "76157e8a",
   "metadata": {},
   "outputs": [],
   "source": [
    "my_set = {1,2,3,4,5,6,7}"
   ]
  },
  {
   "cell_type": "code",
   "execution_count": 52,
   "id": "af066b8b",
   "metadata": {},
   "outputs": [],
   "source": [
    "new_set = {5,6,7,8,9,10}"
   ]
  },
  {
   "cell_type": "code",
   "execution_count": 53,
   "id": "97b23db4",
   "metadata": {},
   "outputs": [],
   "source": [
    "my_set.difference_update(new_set)"
   ]
  },
  {
   "cell_type": "code",
   "execution_count": 54,
   "id": "12a13e88",
   "metadata": {},
   "outputs": [
    {
     "data": {
      "text/plain": [
       "{1, 2, 3, 4}"
      ]
     },
     "execution_count": 54,
     "metadata": {},
     "output_type": "execute_result"
    }
   ],
   "source": [
    "my_set"
   ]
  },
  {
   "cell_type": "code",
   "execution_count": 55,
   "id": "f68d1a19",
   "metadata": {},
   "outputs": [
    {
     "data": {
      "text/plain": [
       "{5, 6, 7, 8, 9, 10}"
      ]
     },
     "execution_count": 55,
     "metadata": {},
     "output_type": "execute_result"
    }
   ],
   "source": [
    "new_set"
   ]
  },
  {
   "cell_type": "code",
   "execution_count": 56,
   "id": "f1ea2d94",
   "metadata": {},
   "outputs": [],
   "source": [
    "my_set = {1,2,3,4,5,6,7}"
   ]
  },
  {
   "cell_type": "code",
   "execution_count": 65,
   "id": "fa0a6731",
   "metadata": {},
   "outputs": [
    {
     "data": {
      "text/plain": [
       "{5, 6, 7}"
      ]
     },
     "execution_count": 65,
     "metadata": {},
     "output_type": "execute_result"
    }
   ],
   "source": [
    "my_set.intersection(new_set) # you can use `my_set & new_set - the same method"
   ]
  },
  {
   "cell_type": "code",
   "execution_count": 58,
   "id": "771f132d",
   "metadata": {},
   "outputs": [
    {
     "data": {
      "text/plain": [
       "False"
      ]
     },
     "execution_count": 58,
     "metadata": {},
     "output_type": "execute_result"
    }
   ],
   "source": [
    "my_set.isdisjoint(new_set)"
   ]
  },
  {
   "cell_type": "code",
   "execution_count": 60,
   "id": "860195cc",
   "metadata": {},
   "outputs": [
    {
     "data": {
      "text/plain": [
       "False"
      ]
     },
     "execution_count": 60,
     "metadata": {},
     "output_type": "execute_result"
    }
   ],
   "source": [
    "new_set.isdisjoint(my_set)"
   ]
  },
  {
   "cell_type": "code",
   "execution_count": 61,
   "id": "de13b12e",
   "metadata": {},
   "outputs": [],
   "source": [
    "check_set = {8,9,10}"
   ]
  },
  {
   "cell_type": "code",
   "execution_count": 62,
   "id": "9456e875",
   "metadata": {},
   "outputs": [
    {
     "data": {
      "text/plain": [
       "True"
      ]
     },
     "execution_count": 62,
     "metadata": {},
     "output_type": "execute_result"
    }
   ],
   "source": [
    "my_set.isdisjoint(check_set)"
   ]
  },
  {
   "cell_type": "code",
   "execution_count": 66,
   "id": "8227bcb6",
   "metadata": {},
   "outputs": [
    {
     "data": {
      "text/plain": [
       "{1, 2, 3, 4, 5, 6, 7, 8, 9, 10}"
      ]
     },
     "execution_count": 66,
     "metadata": {},
     "output_type": "execute_result"
    }
   ],
   "source": [
    "my_set.union(new_set) # my_set | new_set - the same operation"
   ]
  },
  {
   "cell_type": "code",
   "execution_count": 67,
   "id": "bc4dfe2c",
   "metadata": {},
   "outputs": [
    {
     "data": {
      "text/plain": [
       "{1, 2, 3, 4, 5, 6, 7}"
      ]
     },
     "execution_count": 67,
     "metadata": {},
     "output_type": "execute_result"
    }
   ],
   "source": [
    "my_set"
   ]
  },
  {
   "cell_type": "code",
   "execution_count": 68,
   "id": "fd6bbda9",
   "metadata": {},
   "outputs": [],
   "source": [
    "my_new_set = {8,9}"
   ]
  },
  {
   "cell_type": "code",
   "execution_count": 69,
   "id": "0e5b7195",
   "metadata": {},
   "outputs": [
    {
     "data": {
      "text/plain": [
       "True"
      ]
     },
     "execution_count": 69,
     "metadata": {},
     "output_type": "execute_result"
    }
   ],
   "source": [
    "my_new_set.issubset(check_set)"
   ]
  },
  {
   "cell_type": "markdown",
   "id": "14a73ed5",
   "metadata": {},
   "source": [
    "# Conditional logic\n",
    "It's all about writing code with \"make sense\" (not only for you, but for other people too!)\n",
    "## Booleans, Truthy/Falsy"
   ]
  },
  {
   "cell_type": "code",
   "execution_count": 70,
   "id": "a4a5fd66",
   "metadata": {},
   "outputs": [],
   "source": [
    "next_list = []"
   ]
  },
  {
   "cell_type": "code",
   "execution_count": 71,
   "id": "7f784464",
   "metadata": {},
   "outputs": [
    {
     "data": {
      "text/plain": [
       "False"
      ]
     },
     "execution_count": 71,
     "metadata": {},
     "output_type": "execute_result"
    }
   ],
   "source": [
    "bool(next_list)"
   ]
  },
  {
   "cell_type": "code",
   "execution_count": 72,
   "id": "15e89ce7",
   "metadata": {},
   "outputs": [
    {
     "data": {
      "text/plain": [
       "False"
      ]
     },
     "execution_count": 72,
     "metadata": {},
     "output_type": "execute_result"
    }
   ],
   "source": [
    "bool(0)"
   ]
  },
  {
   "cell_type": "code",
   "execution_count": 73,
   "id": "d2df173a",
   "metadata": {},
   "outputs": [
    {
     "data": {
      "text/plain": [
       "True"
      ]
     },
     "execution_count": 73,
     "metadata": {},
     "output_type": "execute_result"
    }
   ],
   "source": [
    "bool(1)"
   ]
  },
  {
   "cell_type": "markdown",
   "id": "a28e9d5e",
   "metadata": {},
   "source": [
    "## if/else/elif\n",
    "### Ternary operator"
   ]
  },
  {
   "cell_type": "code",
   "execution_count": 81,
   "id": "ab331b65",
   "metadata": {},
   "outputs": [],
   "source": [
    "# condition_if_true if condition else condition_if_false\n",
    "# Ternary operator - nice short-hand way to check conditions and do smthng"
   ]
  },
  {
   "cell_type": "code",
   "execution_count": 76,
   "id": "79b64a85",
   "metadata": {},
   "outputs": [],
   "source": [
    "is_friend = False\n",
    "can_message = \"message allowed\" if is_friend else \"not allowed to message\""
   ]
  },
  {
   "cell_type": "code",
   "execution_count": 77,
   "id": "45dedab5",
   "metadata": {},
   "outputs": [
    {
     "data": {
      "text/plain": [
       "'not allowed to message'"
      ]
     },
     "execution_count": 77,
     "metadata": {},
     "output_type": "execute_result"
    }
   ],
   "source": [
    "can_message"
   ]
  },
  {
   "cell_type": "markdown",
   "id": "993528ff",
   "metadata": {},
   "source": [
    "### Short Circuiting"
   ]
  },
  {
   "cell_type": "code",
   "execution_count": 86,
   "id": "071aab92",
   "metadata": {},
   "outputs": [],
   "source": [
    "# `or` - use it for \"short curcuiting\""
   ]
  },
  {
   "cell_type": "code",
   "execution_count": 82,
   "id": "790d56d9",
   "metadata": {},
   "outputs": [],
   "source": [
    "is_Friend = True\n",
    "is_User = True"
   ]
  },
  {
   "cell_type": "code",
   "execution_count": 85,
   "id": "ca8b01b7",
   "metadata": {},
   "outputs": [
    {
     "name": "stdout",
     "output_type": "stream",
     "text": [
      "best frends 4ever!\n"
     ]
    }
   ],
   "source": [
    "if is_Friend and is_User:\n",
    "    print('best frends 4ever!')"
   ]
  },
  {
   "cell_type": "code",
   "execution_count": 88,
   "id": "7520d37c",
   "metadata": {},
   "outputs": [
    {
     "name": "stdout",
     "output_type": "stream",
     "text": [
      "best frends 4ever!\n"
     ]
    }
   ],
   "source": [
    "# Short cuirtuting:\n",
    "if is_Friend or is_User:\n",
    "    print('best frends 4ever!')"
   ]
  },
  {
   "cell_type": "markdown",
   "id": "a33ba772",
   "metadata": {},
   "source": [
    "### Logical Operators"
   ]
  },
  {
   "cell_type": "code",
   "execution_count": 92,
   "id": "4cb2ed61",
   "metadata": {},
   "outputs": [
    {
     "data": {
      "text/plain": [
       "True"
      ]
     },
     "execution_count": 92,
     "metadata": {},
     "output_type": "execute_result"
    }
   ],
   "source": [
    "bool('String1')"
   ]
  },
  {
   "cell_type": "code",
   "execution_count": 99,
   "id": "ee1f8ca7",
   "metadata": {},
   "outputs": [
    {
     "data": {
      "text/plain": [
       "False"
      ]
     },
     "execution_count": 99,
     "metadata": {},
     "output_type": "execute_result"
    }
   ],
   "source": [
    "\"String1\" > \"String2\""
   ]
  },
  {
   "cell_type": "code",
   "execution_count": 100,
   "id": "00a28609",
   "metadata": {},
   "outputs": [
    {
     "data": {
      "text/plain": [
       "True"
      ]
     },
     "execution_count": 100,
     "metadata": {},
     "output_type": "execute_result"
    }
   ],
   "source": [
    "\"string1\" > \"String2\""
   ]
  },
  {
   "cell_type": "markdown",
   "id": "7648a01e",
   "metadata": {},
   "source": [
    "### Excersise"
   ]
  },
  {
   "cell_type": "code",
   "execution_count": 111,
   "id": "d5b7f03f",
   "metadata": {},
   "outputs": [
    {
     "name": "stdout",
     "output_type": "stream",
     "text": [
      "You are a master magician!\n"
     ]
    }
   ],
   "source": [
    "is_magician = True\n",
    "is_expert = True\n",
    "\n",
    "# check if magician AND expert: \"You are a master magician!\"\n",
    "if is_magician and is_expert:\n",
    "    print(\"You are a master magician!\")\n",
    "\n",
    "\n",
    "# check if magician but not expert: \"At least you're getting there...\"\n",
    "# elif is_magician and is_expert == False: -- instead write:\n",
    "elif is_magician and not is_expert:\n",
    "        print(\"At least you're getting there...\")\n",
    "\n",
    "# if you're not a magician: \"You nead a magic powers...\"\n",
    "elif not is_magician:\n",
    "        print(\"You nead a magic powers...\")\n",
    "        "
   ]
  },
  {
   "cell_type": "markdown",
   "id": "7f53fe88",
   "metadata": {},
   "source": [
    "## For Loops"
   ]
  },
  {
   "cell_type": "code",
   "execution_count": 118,
   "id": "507fbd61",
   "metadata": {},
   "outputs": [
    {
     "name": "stdout",
     "output_type": "stream",
     "text": [
      "1 a\n",
      "1 b\n",
      "1 c\n",
      "2 a\n",
      "2 b\n",
      "2 c\n",
      "3 a\n",
      "3 b\n",
      "3 c\n"
     ]
    }
   ],
   "source": [
    "for item in (1,2,3):\n",
    "    for x in ['a', 'b', 'c']: # you can nest it!\n",
    "        print(item, x)"
   ]
  },
  {
   "cell_type": "code",
   "execution_count": 119,
   "id": "13c43664",
   "metadata": {},
   "outputs": [],
   "source": [
    "# iterable - list, dictionary, tuple, set, string\n",
    "# iterated --> one by one check each item in the collection."
   ]
  },
  {
   "cell_type": "code",
   "execution_count": 121,
   "id": "cdf5947b",
   "metadata": {},
   "outputs": [],
   "source": [
    "user = {\"name\": 'Golem', \"age\": 5000, \"can_swim\": False}"
   ]
  },
  {
   "cell_type": "code",
   "execution_count": 127,
   "id": "84be6436",
   "metadata": {},
   "outputs": [
    {
     "name": "stdout",
     "output_type": "stream",
     "text": [
      "('name', 'Golem')\n",
      "('age', 5000)\n",
      "('can_swim', False)\n"
     ]
    }
   ],
   "source": [
    "for item in user.items(): # can use `user.values()`, `user.keys()`\n",
    "    print(item)"
   ]
  },
  {
   "cell_type": "code",
   "execution_count": 132,
   "id": "f990a811",
   "metadata": {},
   "outputs": [
    {
     "name": "stdout",
     "output_type": "stream",
     "text": [
      "name Golem\n",
      "age 5000\n",
      "can_swim False\n"
     ]
    }
   ],
   "source": [
    "for item in user.items():\n",
    "    key, value = item\n",
    "    print(key, value)"
   ]
  },
  {
   "cell_type": "code",
   "execution_count": 131,
   "id": "f1207f9b",
   "metadata": {},
   "outputs": [
    {
     "name": "stdout",
     "output_type": "stream",
     "text": [
      "name Golem\n",
      "age 5000\n",
      "can_swim False\n"
     ]
    }
   ],
   "source": [
    "for k, v in user.items():\n",
    "    print(k, v)"
   ]
  },
  {
   "cell_type": "code",
   "execution_count": 133,
   "id": "3491625e",
   "metadata": {},
   "outputs": [
    {
     "ename": "TypeError",
     "evalue": "'int' object is not iterable",
     "output_type": "error",
     "traceback": [
      "\u001b[1;31m---------------------------------------------------------------------------\u001b[0m",
      "\u001b[1;31mTypeError\u001b[0m                                 Traceback (most recent call last)",
      "Input \u001b[1;32mIn [133]\u001b[0m, in \u001b[0;36m<cell line: 1>\u001b[1;34m()\u001b[0m\n\u001b[1;32m----> 1\u001b[0m \u001b[38;5;28;01mfor\u001b[39;00m item \u001b[38;5;129;01min\u001b[39;00m \u001b[38;5;241m50\u001b[39m:\n\u001b[0;32m      2\u001b[0m     \u001b[38;5;28mprint\u001b[39m(item)\n",
      "\u001b[1;31mTypeError\u001b[0m: 'int' object is not iterable"
     ]
    }
   ],
   "source": [
    "for item in 50:\n",
    "    print(item)"
   ]
  },
  {
   "cell_type": "markdown",
   "id": "c40c7b7f",
   "metadata": {},
   "source": [
    "### Exercise - Counter"
   ]
  },
  {
   "cell_type": "code",
   "execution_count": 134,
   "id": "4a5bab30",
   "metadata": {},
   "outputs": [],
   "source": [
    "my_list = [1,2,3,4,5,6,7,8,9,10]"
   ]
  },
  {
   "cell_type": "code",
   "execution_count": 141,
   "id": "25ad5da8",
   "metadata": {},
   "outputs": [],
   "source": [
    "# check_list = list(range(1,11))"
   ]
  },
  {
   "cell_type": "code",
   "execution_count": 147,
   "id": "4cc009c3",
   "metadata": {},
   "outputs": [
    {
     "name": "stdout",
     "output_type": "stream",
     "text": [
      "55\n"
     ]
    }
   ],
   "source": [
    "counter = 0 # this variable need to be OUTSIDE the loop!\n",
    "\n",
    "for item in my_list:\n",
    "    counter += item\n",
    "    # print(counter) -- not correct for the sum! need indentation\n",
    "print(counter)"
   ]
  },
  {
   "cell_type": "markdown",
   "id": "9c5979d5",
   "metadata": {},
   "source": [
    "#### range()"
   ]
  },
  {
   "cell_type": "code",
   "execution_count": 148,
   "id": "6838d5b3",
   "metadata": {},
   "outputs": [
    {
     "data": {
      "text/plain": [
       "range(0, 100)"
      ]
     },
     "execution_count": 148,
     "metadata": {},
     "output_type": "execute_result"
    }
   ],
   "source": [
    "range(100)"
   ]
  },
  {
   "cell_type": "code",
   "execution_count": 151,
   "id": "74eac5c5",
   "metadata": {},
   "outputs": [
    {
     "name": "stdout",
     "output_type": "stream",
     "text": [
      "0\n",
      "1\n",
      "2\n",
      "3\n"
     ]
    }
   ],
   "source": [
    "for number in range(0, 4):\n",
    "    print(number)"
   ]
  },
  {
   "cell_type": "code",
   "execution_count": 152,
   "id": "3f9089da",
   "metadata": {},
   "outputs": [
    {
     "name": "stdout",
     "output_type": "stream",
     "text": [
      "[0, 1, 2, 3, 4, 5, 6, 7, 8, 9]\n",
      "[0, 1, 2, 3, 4, 5, 6, 7, 8, 9]\n",
      "[0, 1, 2, 3, 4, 5, 6, 7, 8, 9]\n"
     ]
    }
   ],
   "source": [
    "for _ in range(3):\n",
    "    print(list(range(10)))"
   ]
  },
  {
   "cell_type": "markdown",
   "id": "3dddac74",
   "metadata": {},
   "source": [
    "#### enumerate()"
   ]
  },
  {
   "cell_type": "code",
   "execution_count": 161,
   "id": "2595eee5",
   "metadata": {},
   "outputs": [
    {
     "name": "stdout",
     "output_type": "stream",
     "text": [
      "False H\n",
      "False e\n",
      "False l\n",
      "False l\n",
      "False l\n",
      "False o\n",
      "False o\n",
      "False !\n"
     ]
    }
   ],
   "source": [
    "for i, char in enumerate('Hellloo!'):\n",
    "    print(i, char)"
   ]
  },
  {
   "cell_type": "code",
   "execution_count": 172,
   "id": "4bd5460c",
   "metadata": {},
   "outputs": [
    {
     "name": "stdout",
     "output_type": "stream",
     "text": [
      "Index of number 50 is: 50\n"
     ]
    }
   ],
   "source": [
    "for i, num in enumerate(list(range(100))):\n",
    "    if num == 50:\n",
    "        print(f'Index of number {num} is: {i}')"
   ]
  },
  {
   "cell_type": "markdown",
   "id": "8b5798f3",
   "metadata": {},
   "source": [
    "## While Loop"
   ]
  },
  {
   "cell_type": "code",
   "execution_count": 5,
   "id": "59c7c398",
   "metadata": {},
   "outputs": [
    {
     "name": "stdout",
     "output_type": "stream",
     "text": [
      "0\n",
      "1\n",
      "2\n",
      "3\n",
      "4\n",
      "5\n",
      "6\n",
      "7\n",
      "8\n",
      "9\n",
      "10\n",
      "11\n",
      "12\n",
      "13\n",
      "14\n",
      "15\n",
      "16\n",
      "17\n",
      "18\n",
      "19\n",
      "20\n",
      "21\n",
      "22\n",
      "23\n",
      "24\n",
      "25\n",
      "26\n",
      "27\n",
      "28\n",
      "29\n",
      "30\n",
      "31\n",
      "32\n",
      "33\n",
      "34\n",
      "35\n",
      "36\n",
      "37\n",
      "38\n",
      "39\n",
      "40\n",
      "41\n",
      "42\n",
      "43\n",
      "44\n",
      "45\n",
      "46\n",
      "47\n",
      "48\n",
      "49\n",
      "Done with all the work\n"
     ]
    }
   ],
   "source": [
    "i = 0\n",
    "\n",
    "# print i 50 times\n",
    "while i < 50:\n",
    "    print(i)\n",
    "    i += 1\n",
    "    \n",
    "else:\n",
    "    print(\"Done with all the work\")"
   ]
  },
  {
   "cell_type": "code",
   "execution_count": 8,
   "id": "8621eb42",
   "metadata": {},
   "outputs": [
    {
     "name": "stdout",
     "output_type": "stream",
     "text": [
      "1\n",
      "2\n",
      "3\n",
      "1\n",
      "2\n",
      "3\n"
     ]
    }
   ],
   "source": [
    "my_list = [1,2,3]\n",
    "\n",
    "for item in my_list:\n",
    "    print(item)\n",
    "    \n",
    "i = 0\n",
    "while i < len(my_list):\n",
    "    print(my_list[i])\n",
    "    i += 1"
   ]
  },
  {
   "cell_type": "code",
   "execution_count": 10,
   "id": "9ef04292",
   "metadata": {},
   "outputs": [
    {
     "name": "stdout",
     "output_type": "stream",
     "text": [
      "say something: kdj\n",
      "say something: bye!\n"
     ]
    }
   ],
   "source": [
    "while True:\n",
    "    response = input('say something: ')\n",
    "    if response == 'bye!':\n",
    "        break"
   ]
  },
  {
   "cell_type": "code",
   "execution_count": 12,
   "id": "b9c896a0",
   "metadata": {},
   "outputs": [],
   "source": [
    "# For and While loops:\n",
    "\n",
    "# continue - continue to the top of enclosing loop.\n",
    "# pass - rare see in the code; good way to have a placeholder while you coding\n",
    "# break"
   ]
  },
  {
   "cell_type": "markdown",
   "id": "33fb3aa3",
   "metadata": {},
   "source": [
    "### Excersise\n",
    "Given a array of numbers (matrix) - display \"empty space\" on zeros in the array, and instead of \"one\" - display `*`.\n",
    "The picture should have the same rows and columns as the matrix."
   ]
  },
  {
   "cell_type": "code",
   "execution_count": 13,
   "id": "311d9098",
   "metadata": {},
   "outputs": [],
   "source": [
    "picture = [\n",
    "    [0,0,0,1,0,0,0],\n",
    "    [0,0,1,1,1,0,0],\n",
    "    [0,1,1,1,1,1,0],\n",
    "    [1,1,1,1,1,1,1],\n",
    "    [0,0,0,1,0,0,0],\n",
    "    [0,0,0,1,0,0,0],\n",
    "]"
   ]
  },
  {
   "cell_type": "code",
   "execution_count": 55,
   "id": "c46c83b8",
   "metadata": {},
   "outputs": [
    {
     "name": "stdout",
     "output_type": "stream",
     "text": [
      "   *   \n",
      "  ***  \n",
      " ***** \n",
      "*******\n",
      "   *   \n",
      "   *   \n"
     ]
    }
   ],
   "source": [
    "for row in picture:\n",
    "    for pixel in row:\n",
    "        if pixel == 0:\n",
    "            print(' ', end='')\n",
    "        elif pixel == 1:\n",
    "            print('*', end='')\n",
    "    print('') # for a new line after every row\n",
    "    "
   ]
  },
  {
   "cell_type": "code",
   "execution_count": 58,
   "id": "c7a1cd51",
   "metadata": {},
   "outputs": [
    {
     "name": "stdout",
     "output_type": "stream",
     "text": [
      "   $   \n",
      "  $$$  \n",
      " $$$$$ \n",
      "$$$$$$$\n",
      "   $   \n",
      "   $   \n"
     ]
    }
   ],
   "source": [
    "# Making the code more \"clean, readable, etc.\"\n",
    "fill = \"$\"\n",
    "empty = ' '\n",
    "\n",
    "for row in picture:\n",
    "    for pixel in row:\n",
    "        if pixel:\n",
    "            print(fill, end='')\n",
    "        else:\n",
    "            print(empty, end='')\n",
    "    print('') "
   ]
  },
  {
   "cell_type": "markdown",
   "id": "0112c29e",
   "metadata": {},
   "source": [
    "### Exercise - Find Duplicates"
   ]
  },
  {
   "cell_type": "code",
   "execution_count": 60,
   "id": "56fde88f",
   "metadata": {},
   "outputs": [],
   "source": [
    "# Check for duplicates in given list (not allowed to use `set` - only loops!):\n",
    "some_list = ['a', 'b', 'c', 'b', 'd', 'm', 'n', 'n']"
   ]
  },
  {
   "cell_type": "code",
   "execution_count": 74,
   "id": "90522119",
   "metadata": {},
   "outputs": [
    {
     "name": "stdout",
     "output_type": "stream",
     "text": [
      "['b', 'n']\n"
     ]
    }
   ],
   "source": [
    "dupl_list = []\n",
    "\n",
    "for item in some_list:\n",
    "    if some_list.count(item) > 1:\n",
    "        if item not in dupl_list:\n",
    "            dupl_list.append(item)\n",
    "print(dupl_list)"
   ]
  },
  {
   "cell_type": "markdown",
   "id": "3df5d56f",
   "metadata": {},
   "source": [
    "# Functions"
   ]
  },
  {
   "cell_type": "code",
   "execution_count": 84,
   "id": "86964850",
   "metadata": {},
   "outputs": [],
   "source": [
    "def say_hello():\n",
    "    print(\"Hello, Dear!\")"
   ]
  },
  {
   "cell_type": "code",
   "execution_count": 85,
   "id": "c42a9f32",
   "metadata": {},
   "outputs": [
    {
     "name": "stdout",
     "output_type": "stream",
     "text": [
      "Hello, Dear!\n"
     ]
    }
   ],
   "source": [
    "say_hello()"
   ]
  },
  {
   "cell_type": "markdown",
   "id": "250d3cd0",
   "metadata": {},
   "source": [
    "## Parameters and Arguments"
   ]
  },
  {
   "cell_type": "code",
   "execution_count": 89,
   "id": "362e29e1",
   "metadata": {},
   "outputs": [
    {
     "name": "stdout",
     "output_type": "stream",
     "text": [
      "Hello, Dear Brother=)!\n",
      "Hello, Dear Babe:-)!\n"
     ]
    }
   ],
   "source": [
    "# Parameters (we use parameters WHEN we DEFINE a function)\n",
    "def say_hello(name, emoji): # parameters inside a brackets! \n",
    "    print(f\"Hello, Dear {name}{emoji}!\")\n",
    "    \n",
    "# Arguments are used when we CALL the function /as a value we provide TO a function/ - to \"call\", \"invoke\" the function.\n",
    "say_hello(\"Brother\", \"=)\")\n",
    "\n",
    "# positional arguments\n",
    "# keyword arguments\n",
    "say_hello(emoji=':-)', name='Babe')"
   ]
  },
  {
   "cell_type": "code",
   "execution_count": 91,
   "id": "20a4a19f",
   "metadata": {},
   "outputs": [
    {
     "name": "stdout",
     "output_type": "stream",
     "text": [
      "Hello, Dear Darth Vader|*-*|!\n",
      "Hello, Dear Luiwe|*-*|!\n"
     ]
    }
   ],
   "source": [
    "# Default parameters\n",
    "def say_hello(name='Darth Vader', emoji = '|*-*|'): # parameters inside a brackets! \n",
    "    print(f\"Hello, Dear {name}{emoji}!\")\n",
    "    \n",
    "say_hello()\n",
    "say_hello('Luiwe')"
   ]
  },
  {
   "cell_type": "markdown",
   "id": "e6d7aa98",
   "metadata": {},
   "source": [
    "## return"
   ]
  },
  {
   "cell_type": "code",
   "execution_count": 92,
   "id": "f4bb1bdc",
   "metadata": {},
   "outputs": [],
   "source": [
    "# Function should do one things really well.\n",
    "# Function should return something."
   ]
  },
  {
   "cell_type": "code",
   "execution_count": 102,
   "id": "8398f171",
   "metadata": {},
   "outputs": [],
   "source": [
    "def checkDriverAge(age = 0):\n",
    "    #age = input(\"What is your age?: \")\n",
    "    \n",
    "    if int(age) < 18:\n",
    "        print(\"Sorry, you are too young to drive this car. Powering off\")\n",
    "    elif int(age) > 18:\n",
    "        print(\"Powering On. Enjoy the ride!\")\n",
    "    elif int(age) == 18:\n",
    "        print(\"Congrats on your first year of driving. Enjoy the ride!\")"
   ]
  },
  {
   "cell_type": "code",
   "execution_count": 104,
   "id": "466efbbc",
   "metadata": {},
   "outputs": [
    {
     "name": "stdout",
     "output_type": "stream",
     "text": [
      "Sorry, you are too young to drive this car. Powering off\n"
     ]
    }
   ],
   "source": [
    "checkDriverAge(9)"
   ]
  },
  {
   "cell_type": "markdown",
   "id": "312933b6",
   "metadata": {},
   "source": [
    "## Methods vs Functions"
   ]
  },
  {
   "cell_type": "code",
   "execution_count": 105,
   "id": "56b7cef4",
   "metadata": {},
   "outputs": [],
   "source": [
    "# Methods should be owned by something (чем-то, что располагается слева от точки - \"somestring\".capitalize() )."
   ]
  },
  {
   "cell_type": "code",
   "execution_count": 106,
   "id": "3e7b409e",
   "metadata": {},
   "outputs": [],
   "source": [
    "# Methods and functions - its a \"action\", that we perform to do something."
   ]
  },
  {
   "cell_type": "markdown",
   "id": "fee768f5",
   "metadata": {},
   "source": [
    "## Docstrings `''' '''`"
   ]
  },
  {
   "cell_type": "code",
   "execution_count": 108,
   "id": "f43ee788",
   "metadata": {},
   "outputs": [],
   "source": [
    "def test(a):\n",
    "    '''\n",
    "    Info: this function tests and prints param a\n",
    "    '''\n",
    "    print(a)"
   ]
  },
  {
   "cell_type": "code",
   "execution_count": 109,
   "id": "cbf85782",
   "metadata": {},
   "outputs": [
    {
     "name": "stdout",
     "output_type": "stream",
     "text": [
      "37\n"
     ]
    }
   ],
   "source": [
    "test(37)"
   ]
  },
  {
   "cell_type": "code",
   "execution_count": 110,
   "id": "44ccaad8",
   "metadata": {},
   "outputs": [
    {
     "name": "stdout",
     "output_type": "stream",
     "text": [
      "Help on function test in module __main__:\n",
      "\n",
      "test(a)\n",
      "    Info: this function tests and prints param a\n",
      "\n"
     ]
    }
   ],
   "source": [
    "help(test)"
   ]
  },
  {
   "cell_type": "code",
   "execution_count": 112,
   "id": "bf746f2f",
   "metadata": {},
   "outputs": [
    {
     "name": "stdout",
     "output_type": "stream",
     "text": [
      "\n",
      "    Info: this function tests and prints param a\n",
      "    \n"
     ]
    }
   ],
   "source": [
    "print(test.__doc__)"
   ]
  },
  {
   "cell_type": "markdown",
   "id": "9646a0d5",
   "metadata": {},
   "source": [
    "## *args and **kwargs (arguments and keyword arguments)"
   ]
  },
  {
   "cell_type": "code",
   "execution_count": 1,
   "id": "c3ba0ade",
   "metadata": {},
   "outputs": [
    {
     "ename": "TypeError",
     "evalue": "super_func() takes 1 positional argument but 5 were given",
     "output_type": "error",
     "traceback": [
      "\u001b[1;31m---------------------------------------------------------------------------\u001b[0m",
      "\u001b[1;31mTypeError\u001b[0m                                 Traceback (most recent call last)",
      "\u001b[1;32m~\\AppData\\Local\\Temp\\ipykernel_18328\\2294421671.py\u001b[0m in \u001b[0;36m<module>\u001b[1;34m\u001b[0m\n\u001b[0;32m      2\u001b[0m     \u001b[1;32mreturn\u001b[0m \u001b[0msum\u001b[0m\u001b[1;33m(\u001b[0m\u001b[0margs\u001b[0m\u001b[1;33m)\u001b[0m\u001b[1;33m\u001b[0m\u001b[1;33m\u001b[0m\u001b[0m\n\u001b[0;32m      3\u001b[0m \u001b[1;33m\u001b[0m\u001b[0m\n\u001b[1;32m----> 4\u001b[1;33m \u001b[0msuper_func\u001b[0m\u001b[1;33m(\u001b[0m\u001b[1;36m1\u001b[0m\u001b[1;33m,\u001b[0m\u001b[1;36m2\u001b[0m\u001b[1;33m,\u001b[0m\u001b[1;36m3\u001b[0m\u001b[1;33m,\u001b[0m\u001b[1;36m4\u001b[0m\u001b[1;33m,\u001b[0m\u001b[1;36m5\u001b[0m\u001b[1;33m)\u001b[0m\u001b[1;33m\u001b[0m\u001b[1;33m\u001b[0m\u001b[0m\n\u001b[0m",
      "\u001b[1;31mTypeError\u001b[0m: super_func() takes 1 positional argument but 5 were given"
     ]
    }
   ],
   "source": [
    "def super_func(args):\n",
    "    return sum(args)\n",
    "\n",
    "super_func(1,2,3,4,5)"
   ]
  },
  {
   "cell_type": "code",
   "execution_count": 2,
   "id": "8ff3a771",
   "metadata": {},
   "outputs": [
    {
     "data": {
      "text/plain": [
       "15"
      ]
     },
     "execution_count": 2,
     "metadata": {},
     "output_type": "execute_result"
    }
   ],
   "source": [
    "def super_func(*args):\n",
    "    return sum(args)\n",
    "\n",
    "super_func(1,2,3,4,5)"
   ]
  },
  {
   "cell_type": "code",
   "execution_count": 117,
   "id": "3cc6b569",
   "metadata": {},
   "outputs": [],
   "source": [
    "def super_func(*args, **kwargs):\n",
    "    total = 0\n",
    "    for items in kwargs.values():\n",
    "        total += items\n",
    "    return sum(args) + total"
   ]
  },
  {
   "cell_type": "code",
   "execution_count": 119,
   "id": "a19d89d9",
   "metadata": {},
   "outputs": [
    {
     "data": {
      "text/plain": [
       "30"
      ]
     },
     "execution_count": 119,
     "metadata": {},
     "output_type": "execute_result"
    }
   ],
   "source": [
    "super_func(1,2,3,4,5, num1=5, num2=10)"
   ]
  },
  {
   "cell_type": "markdown",
   "id": "d74fe185",
   "metadata": {},
   "source": [
    "**Rule:** params, `*args`, default parameters, `**kwagrs`"
   ]
  },
  {
   "cell_type": "code",
   "execution_count": 120,
   "id": "04e6f6a8",
   "metadata": {},
   "outputs": [],
   "source": [
    "def super_func(name, *args, i='hi', **kwargs):\n",
    "    total = 0\n",
    "    for items in kwargs.values():\n",
    "        total += items\n",
    "    return sum(args) + total"
   ]
  },
  {
   "cell_type": "code",
   "execution_count": 123,
   "id": "9b251f6b",
   "metadata": {},
   "outputs": [
    {
     "data": {
      "text/plain": [
       "30"
      ]
     },
     "execution_count": 123,
     "metadata": {},
     "output_type": "execute_result"
    }
   ],
   "source": [
    "super_func('Miky', 1,2,3,4,5, num1=5, num2=10)"
   ]
  },
  {
   "cell_type": "markdown",
   "id": "d0aa5249",
   "metadata": {},
   "source": [
    "### Excersise"
   ]
  },
  {
   "cell_type": "code",
   "execution_count": 124,
   "id": "bdc2a63b",
   "metadata": {},
   "outputs": [],
   "source": [
    "# Given a list - find a highest even number"
   ]
  },
  {
   "cell_type": "code",
   "execution_count": 146,
   "id": "c3022ede",
   "metadata": {},
   "outputs": [],
   "source": [
    "def highest_even(li):\n",
    "    list_even = []\n",
    "    for num in li:\n",
    "        if num % 2 == 0:\n",
    "            list_even.append(num)\n",
    "    print(list_even)\n",
    "    return max(list_even)"
   ]
  },
  {
   "cell_type": "code",
   "execution_count": 147,
   "id": "ca9c3e76",
   "metadata": {},
   "outputs": [
    {
     "name": "stdout",
     "output_type": "stream",
     "text": [
      "[10, 8, 2, 4]\n"
     ]
    },
    {
     "data": {
      "text/plain": [
       "10"
      ]
     },
     "execution_count": 147,
     "metadata": {},
     "output_type": "execute_result"
    }
   ],
   "source": [
    "highest_even([10, 8, 2, 4, 5])"
   ]
  },
  {
   "cell_type": "markdown",
   "id": "293cbc12",
   "metadata": {},
   "source": [
    "###  Scope (пер.: рамки, область действия)\n",
    "**Scope - what variables do I have access to?**"
   ]
  },
  {
   "cell_type": "markdown",
   "id": "3495f8ea",
   "metadata": {},
   "source": [
    "We can ONLY 'work' with значения переменной(-ых) ВНУТРИ функции - словно это отдельный мир (отделенный отступами).\n",
    "\n",
    "Кто имеет доступ к кому."
   ]
  },
  {
   "cell_type": "markdown",
   "id": "b5161468",
   "metadata": {},
   "source": [
    "* 1. Start with local scope (переменная внутри функции)\n",
    "* 2. Parent local?\n",
    "* 3. Global (переменная, которая не имеет отступов).\n",
    "* 4. Build in python functions."
   ]
  },
  {
   "cell_type": "markdown",
   "id": "63d293f3",
   "metadata": {},
   "source": [
    "#### Global keyword `global`"
   ]
  },
  {
   "cell_type": "code",
   "execution_count": 6,
   "id": "6c9f125e",
   "metadata": {},
   "outputs": [],
   "source": [
    "total = 0\n",
    "\n",
    "def count():\n",
    "    total = 0\n",
    "    total += 1\n",
    "    return total"
   ]
  },
  {
   "cell_type": "code",
   "execution_count": 7,
   "id": "28b089b9",
   "metadata": {},
   "outputs": [
    {
     "data": {
      "text/plain": [
       "1"
      ]
     },
     "execution_count": 7,
     "metadata": {},
     "output_type": "execute_result"
    }
   ],
   "source": [
    "count()\n",
    "count()"
   ]
  },
  {
   "cell_type": "code",
   "execution_count": 16,
   "id": "dd058446",
   "metadata": {},
   "outputs": [],
   "source": [
    "def count():\n",
    "    global total\n",
    "    total += 1\n",
    "    return total"
   ]
  },
  {
   "cell_type": "code",
   "execution_count": 17,
   "id": "dd562b0c",
   "metadata": {},
   "outputs": [
    {
     "data": {
      "text/plain": [
       "3"
      ]
     },
     "execution_count": 17,
     "metadata": {},
     "output_type": "execute_result"
    }
   ],
   "source": [
    "count()\n",
    "count()\n",
    "count()"
   ]
  },
  {
   "cell_type": "code",
   "execution_count": 13,
   "id": "b04d6e58",
   "metadata": {},
   "outputs": [],
   "source": [
    "total = 0"
   ]
  },
  {
   "cell_type": "code",
   "execution_count": 14,
   "id": "8df869ee",
   "metadata": {},
   "outputs": [
    {
     "name": "stdout",
     "output_type": "stream",
     "text": [
      "3\n"
     ]
    }
   ],
   "source": [
    "# Use `global` may a not actually good way to doing things (it's like all different universes accessing each other's variables)\n",
    "# Хотя с этим (выше) - можно поспорить (но Andrei рекомендует использовать то, что ниже).\n",
    "# Better way - using \"dependency injection\":\n",
    "\n",
    "def count(total):\n",
    "    total += 1\n",
    "    return total\n",
    "\n",
    "print(count(count(count(total))))"
   ]
  },
  {
   "cell_type": "markdown",
   "id": "076467b9",
   "metadata": {},
   "source": [
    "#### nonlocal keyword"
   ]
  },
  {
   "cell_type": "code",
   "execution_count": 18,
   "id": "ce3d7b78",
   "metadata": {},
   "outputs": [],
   "source": [
    "def outer():\n",
    "    x = 'local'\n",
    "    def inner():\n",
    "        nonlocal x\n",
    "        x = 'nonlocal'\n",
    "        print(\"inner: \", x)\n",
    "    \n",
    "    inner()\n",
    "    print(\"outer: \", x)"
   ]
  },
  {
   "cell_type": "code",
   "execution_count": 20,
   "id": "e75d6b97",
   "metadata": {},
   "outputs": [
    {
     "name": "stdout",
     "output_type": "stream",
     "text": [
      "inner:  nonlocal\n",
      "outer:  nonlocal\n"
     ]
    }
   ],
   "source": [
    "outer()"
   ]
  },
  {
   "cell_type": "code",
   "execution_count": 21,
   "id": "c3839efc",
   "metadata": {},
   "outputs": [],
   "source": [
    "def outer():\n",
    "    x = 'local'\n",
    "    def inner():\n",
    "        # nonlocal x\n",
    "        x = 'nonlocal'\n",
    "        print(\"inner: \", x)\n",
    "    \n",
    "    inner()\n",
    "    print(\"outer: \", x)"
   ]
  },
  {
   "cell_type": "code",
   "execution_count": 22,
   "id": "96b46200",
   "metadata": {},
   "outputs": [
    {
     "name": "stdout",
     "output_type": "stream",
     "text": [
      "inner:  nonlocal\n",
      "outer:  local\n"
     ]
    }
   ],
   "source": [
    "outer()"
   ]
  },
  {
   "cell_type": "markdown",
   "id": "d15daffb",
   "metadata": {},
   "source": [
    "**Note:** Pure Function (ease to understand your code, test your code better):\n",
    "\n",
    "            - produce the same result always;\n",
    "            - not interact with the outside world (i.e. lines of code outside the function).\n",
    "            \n",
    " Pure functions is more a 'guideline' than an absolute (because it's not possible to have pure functions everywhere). But when you can - use Idea of Pure Functions."
   ]
  },
  {
   "cell_type": "markdown",
   "id": "17a9fe64",
   "metadata": {},
   "source": [
    "### map, filter, zip and reduce"
   ]
  },
  {
   "cell_type": "markdown",
   "id": "12e2e8aa",
   "metadata": {},
   "source": [
    "#### map()"
   ]
  },
  {
   "cell_type": "code",
   "execution_count": 3,
   "id": "47df11d3",
   "metadata": {},
   "outputs": [],
   "source": [
    "def multiply_by2(li):\n",
    "    new_list = []\n",
    "    for item in li:\n",
    "        new_list.append(item*2)\n",
    "    return new_list"
   ]
  },
  {
   "cell_type": "code",
   "execution_count": 5,
   "id": "e53a219f",
   "metadata": {},
   "outputs": [
    {
     "ename": "TypeError",
     "evalue": "'int' object is not iterable",
     "output_type": "error",
     "traceback": [
      "\u001b[1;31m---------------------------------------------------------------------------\u001b[0m",
      "\u001b[1;31mTypeError\u001b[0m                                 Traceback (most recent call last)",
      "\u001b[1;32m~\\AppData\\Local\\Temp\\ipykernel_18328\\3530144128.py\u001b[0m in \u001b[0;36m<module>\u001b[1;34m\u001b[0m\n\u001b[1;32m----> 1\u001b[1;33m \u001b[0mlist\u001b[0m\u001b[1;33m(\u001b[0m\u001b[0mmap\u001b[0m\u001b[1;33m(\u001b[0m\u001b[0mmultiply_by2\u001b[0m\u001b[1;33m,\u001b[0m \u001b[1;33m[\u001b[0m\u001b[1;36m1\u001b[0m\u001b[1;33m,\u001b[0m\u001b[1;36m2\u001b[0m\u001b[1;33m,\u001b[0m\u001b[1;36m3\u001b[0m\u001b[1;33m]\u001b[0m\u001b[1;33m)\u001b[0m\u001b[1;33m)\u001b[0m\u001b[1;33m\u001b[0m\u001b[1;33m\u001b[0m\u001b[0m\n\u001b[0m",
      "\u001b[1;32m~\\AppData\\Local\\Temp\\ipykernel_18328\\3518565704.py\u001b[0m in \u001b[0;36mmultiply_by2\u001b[1;34m(li)\u001b[0m\n\u001b[0;32m      1\u001b[0m \u001b[1;32mdef\u001b[0m \u001b[0mmultiply_by2\u001b[0m\u001b[1;33m(\u001b[0m\u001b[0mli\u001b[0m\u001b[1;33m)\u001b[0m\u001b[1;33m:\u001b[0m\u001b[1;33m\u001b[0m\u001b[1;33m\u001b[0m\u001b[0m\n\u001b[0;32m      2\u001b[0m     \u001b[0mnew_list\u001b[0m \u001b[1;33m=\u001b[0m \u001b[1;33m[\u001b[0m\u001b[1;33m]\u001b[0m\u001b[1;33m\u001b[0m\u001b[1;33m\u001b[0m\u001b[0m\n\u001b[1;32m----> 3\u001b[1;33m     \u001b[1;32mfor\u001b[0m \u001b[0mitem\u001b[0m \u001b[1;32min\u001b[0m \u001b[0mli\u001b[0m\u001b[1;33m:\u001b[0m\u001b[1;33m\u001b[0m\u001b[1;33m\u001b[0m\u001b[0m\n\u001b[0m\u001b[0;32m      4\u001b[0m         \u001b[0mnew_list\u001b[0m\u001b[1;33m.\u001b[0m\u001b[0mappend\u001b[0m\u001b[1;33m(\u001b[0m\u001b[0mitem\u001b[0m\u001b[1;33m*\u001b[0m\u001b[1;36m2\u001b[0m\u001b[1;33m)\u001b[0m\u001b[1;33m\u001b[0m\u001b[1;33m\u001b[0m\u001b[0m\n\u001b[0;32m      5\u001b[0m     \u001b[1;32mreturn\u001b[0m \u001b[0mnew_list\u001b[0m\u001b[1;33m\u001b[0m\u001b[1;33m\u001b[0m\u001b[0m\n",
      "\u001b[1;31mTypeError\u001b[0m: 'int' object is not iterable"
     ]
    }
   ],
   "source": [
    "list(map(multiply_by2, [1,2,3]))"
   ]
  },
  {
   "cell_type": "code",
   "execution_count": 6,
   "id": "cfb80e72",
   "metadata": {},
   "outputs": [],
   "source": [
    "# with `map` we do not need to create a `new_list = []`\n",
    "my_list = [1,2,3]\n",
    "def multiply_by2(item):\n",
    "    return item*2"
   ]
  },
  {
   "cell_type": "code",
   "execution_count": 7,
   "id": "379ab0d3",
   "metadata": {},
   "outputs": [
    {
     "data": {
      "text/plain": [
       "[2, 4, 6]"
      ]
     },
     "execution_count": 7,
     "metadata": {},
     "output_type": "execute_result"
    }
   ],
   "source": [
    "list(map(multiply_by2, [1,2,3]))"
   ]
  },
  {
   "cell_type": "code",
   "execution_count": 8,
   "id": "5a056d92",
   "metadata": {},
   "outputs": [
    {
     "data": {
      "text/plain": [
       "[2, 4, 6]"
      ]
     },
     "execution_count": 8,
     "metadata": {},
     "output_type": "execute_result"
    }
   ],
   "source": [
    "list(map(multiply_by2, my_list))"
   ]
  },
  {
   "cell_type": "code",
   "execution_count": 9,
   "id": "baf130b8",
   "metadata": {},
   "outputs": [
    {
     "data": {
      "text/plain": [
       "[1, 2, 3]"
      ]
     },
     "execution_count": 9,
     "metadata": {},
     "output_type": "execute_result"
    }
   ],
   "source": [
    "my_list"
   ]
  },
  {
   "cell_type": "code",
   "execution_count": 36,
   "id": "d9de65d9",
   "metadata": {},
   "outputs": [],
   "source": [
    "# ! map does not modify my_list - its create a whole NEW LIST. (I.e. - does not interact with \"outer world (outside the function))"
   ]
  },
  {
   "cell_type": "markdown",
   "id": "b20660a0",
   "metadata": {},
   "source": [
    "#### filter()"
   ]
  },
  {
   "cell_type": "code",
   "execution_count": 38,
   "id": "b536db7d",
   "metadata": {},
   "outputs": [],
   "source": [
    "def only_odd(item):\n",
    "    return item % 2 != 0"
   ]
  },
  {
   "cell_type": "code",
   "execution_count": 39,
   "id": "bc95df13",
   "metadata": {},
   "outputs": [
    {
     "data": {
      "text/plain": [
       "[1, 3]"
      ]
     },
     "execution_count": 39,
     "metadata": {},
     "output_type": "execute_result"
    }
   ],
   "source": [
    "list(filter(only_odd, my_list))"
   ]
  },
  {
   "cell_type": "code",
   "execution_count": 45,
   "id": "dfa98445",
   "metadata": {},
   "outputs": [],
   "source": [
    "user_names = ['Albert', 'Volk', 'absent', 'Nancy', 'Craxy', 'Angel']"
   ]
  },
  {
   "cell_type": "code",
   "execution_count": 41,
   "id": "201d8994",
   "metadata": {},
   "outputs": [],
   "source": [
    "def name_start_a(item):\n",
    "    if item[0].lower() == 'a':\n",
    "        return item"
   ]
  },
  {
   "cell_type": "code",
   "execution_count": 46,
   "id": "e6a38fd7",
   "metadata": {},
   "outputs": [
    {
     "data": {
      "text/plain": [
       "['Albert', 'absent', 'Angel']"
      ]
     },
     "execution_count": 46,
     "metadata": {},
     "output_type": "execute_result"
    }
   ],
   "source": [
    "list(filter(name_start_a, user_names))"
   ]
  },
  {
   "cell_type": "markdown",
   "id": "c5ffe24c",
   "metadata": {},
   "source": [
    "#### zip()"
   ]
  },
  {
   "cell_type": "code",
   "execution_count": 49,
   "id": "9a1c10ca",
   "metadata": {},
   "outputs": [],
   "source": [
    "my_list = [1,2,3]\n",
    "your_list = [10,20,30]\n",
    "their_list = (5,4,3)"
   ]
  },
  {
   "cell_type": "code",
   "execution_count": 50,
   "id": "7a7ef12e",
   "metadata": {},
   "outputs": [
    {
     "data": {
      "text/plain": [
       "[(1, 10), (2, 20), (3, 30)]"
      ]
     },
     "execution_count": 50,
     "metadata": {},
     "output_type": "execute_result"
    }
   ],
   "source": [
    "list(zip(my_list, your_list))"
   ]
  },
  {
   "cell_type": "code",
   "execution_count": 51,
   "id": "d32c950d",
   "metadata": {},
   "outputs": [
    {
     "data": {
      "text/plain": [
       "[(1, 10, 5), (2, 20, 4), (3, 30, 3)]"
      ]
     },
     "execution_count": 51,
     "metadata": {},
     "output_type": "execute_result"
    }
   ],
   "source": [
    "list(zip(my_list, your_list, their_list))"
   ]
  },
  {
   "cell_type": "markdown",
   "id": "a6b98ac2",
   "metadata": {},
   "source": [
    "#### reduce()"
   ]
  },
  {
   "cell_type": "code",
   "execution_count": 52,
   "id": "7590d1d6",
   "metadata": {},
   "outputs": [],
   "source": [
    "from functools import reduce"
   ]
  },
  {
   "cell_type": "code",
   "execution_count": 54,
   "id": "d143e1ce",
   "metadata": {},
   "outputs": [],
   "source": [
    "def accumulator(acc, item):\n",
    "    print(acc, item)\n",
    "    return acc + item"
   ]
  },
  {
   "cell_type": "code",
   "execution_count": 56,
   "id": "6be6bb21",
   "metadata": {},
   "outputs": [
    {
     "name": "stdout",
     "output_type": "stream",
     "text": [
      "0 1\n",
      "1 2\n",
      "3 3\n"
     ]
    },
    {
     "data": {
      "text/plain": [
       "6"
      ]
     },
     "execution_count": 56,
     "metadata": {},
     "output_type": "execute_result"
    }
   ],
   "source": [
    "reduce(accumulator, my_list, 0)"
   ]
  },
  {
   "cell_type": "code",
   "execution_count": null,
   "id": "a2650f43",
   "metadata": {},
   "outputs": [],
   "source": [
    "# Accumulate data (all values) and reduce it to one single number."
   ]
  },
  {
   "cell_type": "code",
   "execution_count": null,
   "id": "b7cfc039",
   "metadata": {},
   "outputs": [],
   "source": []
  },
  {
   "cell_type": "markdown",
   "id": "53919145",
   "metadata": {},
   "source": [
    "## Comprehensions"
   ]
  },
  {
   "cell_type": "code",
   "execution_count": 68,
   "id": "acae7a5c",
   "metadata": {},
   "outputs": [],
   "source": [
    "# Comprehensions a quick way to create list, set, dictionary (чем, возможно, looping)"
   ]
  },
  {
   "cell_type": "markdown",
   "id": "7ff3b662",
   "metadata": {},
   "source": [
    "#### List comprehensions"
   ]
  },
  {
   "cell_type": "code",
   "execution_count": 59,
   "id": "6f2af63d",
   "metadata": {},
   "outputs": [
    {
     "name": "stdout",
     "output_type": "stream",
     "text": [
      "['h', 'e', 'l', 'l', 'o']\n"
     ]
    }
   ],
   "source": [
    "my_list = []\n",
    "\n",
    "for char in 'hello':\n",
    "    my_list.append(char)\n",
    "print(my_list)"
   ]
  },
  {
   "cell_type": "code",
   "execution_count": 61,
   "id": "9bd2a51c",
   "metadata": {},
   "outputs": [
    {
     "data": {
      "text/plain": [
       "['h', 'e', 'l', 'l', 'o']"
      ]
     },
     "execution_count": 61,
     "metadata": {},
     "output_type": "execute_result"
    }
   ],
   "source": [
    "my_list = [char for char in 'hello']\n",
    "my_list"
   ]
  },
  {
   "cell_type": "code",
   "execution_count": 64,
   "id": "d49e3365",
   "metadata": {},
   "outputs": [
    {
     "data": {
      "text/plain": [
       "[1, 2, 3, 4, 5, 6, 7, 8, 9]"
      ]
     },
     "execution_count": 64,
     "metadata": {},
     "output_type": "execute_result"
    }
   ],
   "source": [
    "my_list2 = [num for num in range(1,10)]\n",
    "my_list2"
   ]
  },
  {
   "cell_type": "code",
   "execution_count": 66,
   "id": "52324241",
   "metadata": {},
   "outputs": [
    {
     "data": {
      "text/plain": [
       "[2, 4, 6, 8, 10, 12, 14, 16, 18]"
      ]
     },
     "execution_count": 66,
     "metadata": {},
     "output_type": "execute_result"
    }
   ],
   "source": [
    "my_list3 = [num*2 for num in range(1,10)]\n",
    "my_list3"
   ]
  },
  {
   "cell_type": "code",
   "execution_count": 67,
   "id": "a9ad5a42",
   "metadata": {},
   "outputs": [
    {
     "data": {
      "text/plain": [
       "[4, 8, 12, 16]"
      ]
     },
     "execution_count": 67,
     "metadata": {},
     "output_type": "execute_result"
    }
   ],
   "source": [
    "my_list4 = [num*2 for num in range(1,10) if num % 2 == 0]\n",
    "my_list4"
   ]
  },
  {
   "cell_type": "markdown",
   "id": "903435cf",
   "metadata": {},
   "source": [
    "#### Sets comprehensions"
   ]
  },
  {
   "cell_type": "code",
   "execution_count": 69,
   "id": "f36914b1",
   "metadata": {},
   "outputs": [],
   "source": [
    "# Аналогично list comprehension"
   ]
  },
  {
   "cell_type": "code",
   "execution_count": 70,
   "id": "49ca22bf",
   "metadata": {},
   "outputs": [
    {
     "data": {
      "text/plain": [
       "{2, 4, 6, 8, 10, 12, 14, 16, 18}"
      ]
     },
     "execution_count": 70,
     "metadata": {},
     "output_type": "execute_result"
    }
   ],
   "source": [
    "my_set1 = {num*2 for num in range(1,10)}\n",
    "my_set1"
   ]
  },
  {
   "cell_type": "code",
   "execution_count": 71,
   "id": "319c111e",
   "metadata": {},
   "outputs": [
    {
     "data": {
      "text/plain": [
       "{4, 8, 12, 16}"
      ]
     },
     "execution_count": 71,
     "metadata": {},
     "output_type": "execute_result"
    }
   ],
   "source": [
    "my_set4 = {num*2 for num in range(1,10) if num % 2 == 0}\n",
    "my_set4"
   ]
  },
  {
   "cell_type": "markdown",
   "id": "d31b04b9",
   "metadata": {},
   "source": [
    "#### Dictionary comprehensions"
   ]
  },
  {
   "cell_type": "code",
   "execution_count": 75,
   "id": "80bc40d0",
   "metadata": {},
   "outputs": [
    {
     "data": {
      "text/plain": [
       "{'b': 4}"
      ]
     },
     "execution_count": 75,
     "metadata": {},
     "output_type": "execute_result"
    }
   ],
   "source": [
    "simple_dict = {'a':1, 'b':2}\n",
    "# my_dict = {key:value**2 for key, value in simple_dict.items()}\n",
    "my_dict = {k:v**2 for k, v in simple_dict.items() if v%2==0}\n",
    "my_dict"
   ]
  },
  {
   "cell_type": "code",
   "execution_count": 77,
   "id": "77e3bf6a",
   "metadata": {},
   "outputs": [
    {
     "data": {
      "text/plain": [
       "{1: 1, 2: 4, 3: 9}"
      ]
     },
     "execution_count": 77,
     "metadata": {},
     "output_type": "execute_result"
    }
   ],
   "source": [
    "my_dict2 = {num:num**2 for num in [1,2,3]}\n",
    "my_dict2"
   ]
  },
  {
   "cell_type": "markdown",
   "id": "fd7a73e1",
   "metadata": {},
   "source": [
    "#### Exercise"
   ]
  },
  {
   "cell_type": "code",
   "execution_count": 78,
   "id": "6baa3a12",
   "metadata": {},
   "outputs": [],
   "source": [
    "some_list = ['a', 'b', 'c', 'b', 'd', 'm', 'n', 'n']"
   ]
  },
  {
   "cell_type": "code",
   "execution_count": 79,
   "id": "a6f45bd6",
   "metadata": {},
   "outputs": [
    {
     "name": "stdout",
     "output_type": "stream",
     "text": [
      "['b', 'n']\n"
     ]
    }
   ],
   "source": [
    "# Do the same with one line list/set comprehensions:\n",
    "dupl_list = []\n",
    "\n",
    "for item in some_list:\n",
    "    if some_list.count(item) > 1:\n",
    "        if item not in dupl_list:\n",
    "            dupl_list.append(item)\n",
    "print(dupl_list)"
   ]
  },
  {
   "cell_type": "code",
   "execution_count": 96,
   "id": "2579e707",
   "metadata": {},
   "outputs": [
    {
     "data": {
      "text/plain": [
       "['b', 'n']"
      ]
     },
     "execution_count": 96,
     "metadata": {},
     "output_type": "execute_result"
    }
   ],
   "source": [
    "duplicates = list({value for value in some_list if some_list.count(value) > 1})\n",
    "duplicates"
   ]
  },
  {
   "cell_type": "code",
   "execution_count": 97,
   "id": "30e6f21e",
   "metadata": {},
   "outputs": [
    {
     "data": {
      "text/plain": [
       "{'a', 'b', 'c', 'd', 'm', 'n'}"
      ]
     },
     "execution_count": 97,
     "metadata": {},
     "output_type": "execute_result"
    }
   ],
   "source": [
    "check_set = {'a', 'b', 'c', 'b', 'd', 'm', 'n', 'n'}\n",
    "check_set"
   ]
  },
  {
   "cell_type": "code",
   "execution_count": 148,
   "id": "f67557a5",
   "metadata": {},
   "outputs": [],
   "source": [
    "def first_two(str):\n",
    "    return str[:2]\n"
   ]
  },
  {
   "cell_type": "code",
   "execution_count": 157,
   "id": "1d0a64c7",
   "metadata": {},
   "outputs": [
    {
     "data": {
      "text/plain": [
       "'0'"
      ]
     },
     "execution_count": 157,
     "metadata": {},
     "output_type": "execute_result"
    }
   ],
   "source": [
    "first_two('0')"
   ]
  },
  {
   "cell_type": "markdown",
   "id": "3fa35922",
   "metadata": {},
   "source": [
    "## Modules"
   ]
  },
  {
   "cell_type": "code",
   "execution_count": 158,
   "id": "24ecb68f",
   "metadata": {},
   "outputs": [],
   "source": [
    "# main.py\n",
    "# utility.py\n",
    "# users.py"
   ]
  },
  {
   "cell_type": "code",
   "execution_count": 159,
   "id": "77adbbfb",
   "metadata": {},
   "outputs": [],
   "source": [
    "# We organize code with modules"
   ]
  },
  {
   "cell_type": "markdown",
   "id": "c363669d",
   "metadata": {},
   "source": [
    "## Packages in Python"
   ]
  },
  {
   "cell_type": "code",
   "execution_count": 160,
   "id": "f508b8bf",
   "metadata": {},
   "outputs": [],
   "source": [
    "# Package is a folder with modules"
   ]
  },
  {
   "cell_type": "code",
   "execution_count": null,
   "id": "673e0307",
   "metadata": {},
   "outputs": [],
   "source": [
    "# import shopping.shopping_cart"
   ]
  },
  {
   "cell_type": "code",
   "execution_count": null,
   "id": "07336b9f",
   "metadata": {},
   "outputs": [],
   "source": []
  },
  {
   "cell_type": "code",
   "execution_count": null,
   "id": "d226a2ac",
   "metadata": {},
   "outputs": [],
   "source": []
  },
  {
   "cell_type": "markdown",
   "id": "2c0ce9ad",
   "metadata": {},
   "source": [
    "#### Some exercises from CodingBat:"
   ]
  },
  {
   "cell_type": "code",
   "execution_count": 41,
   "id": "6fc2a1bf",
   "metadata": {},
   "outputs": [],
   "source": [
    "def sum2(nums):\n",
    "  \n",
    "  if len(nums) > 2:\n",
    "    return sum(nums[0:2])\n",
    "  else:\n",
    "    return sum(nums)"
   ]
  },
  {
   "cell_type": "code",
   "execution_count": 42,
   "id": "4b2eb89f",
   "metadata": {},
   "outputs": [
    {
     "data": {
      "text/plain": [
       "15"
      ]
     },
     "execution_count": 42,
     "metadata": {},
     "output_type": "execute_result"
    }
   ],
   "source": [
    "sum2([4,11,4])"
   ]
  },
  {
   "cell_type": "code",
   "execution_count": 35,
   "id": "79e21f68",
   "metadata": {},
   "outputs": [],
   "source": [
    "def double_char(str):\n",
    "    double_str = ''\n",
    "    for char in range(0, len(str), 1):\n",
    "        double_str += str[char]*2\n",
    "    return double_str"
   ]
  },
  {
   "cell_type": "code",
   "execution_count": 36,
   "id": "1ea494a7",
   "metadata": {},
   "outputs": [
    {
     "data": {
      "text/plain": [
       "'HHii!!'"
      ]
     },
     "execution_count": 36,
     "metadata": {},
     "output_type": "execute_result"
    }
   ],
   "source": [
    "double_char('Hi!')"
   ]
  },
  {
   "cell_type": "code",
   "execution_count": null,
   "id": "27939363",
   "metadata": {},
   "outputs": [],
   "source": []
  }
 ],
 "metadata": {
  "kernelspec": {
   "display_name": "Python 3 (ipykernel)",
   "language": "python",
   "name": "python3"
  },
  "language_info": {
   "codemirror_mode": {
    "name": "ipython",
    "version": 3
   },
   "file_extension": ".py",
   "mimetype": "text/x-python",
   "name": "python",
   "nbconvert_exporter": "python",
   "pygments_lexer": "ipython3",
   "version": "3.9.13"
  }
 },
 "nbformat": 4,
 "nbformat_minor": 5
}
