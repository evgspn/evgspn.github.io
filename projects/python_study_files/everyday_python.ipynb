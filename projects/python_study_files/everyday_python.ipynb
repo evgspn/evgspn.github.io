{
 "cells": [
  {
   "cell_type": "code",
   "execution_count": 1,
   "id": "e130e810",
   "metadata": {},
   "outputs": [],
   "source": [
    "a = '34,67,55,33,12,98'"
   ]
  },
  {
   "cell_type": "code",
   "execution_count": 10,
   "id": "0fdecb50",
   "metadata": {},
   "outputs": [
    {
     "name": "stdout",
     "output_type": "stream",
     "text": [
      "Please, enter a series of numbers divided by comma23,32, 325, 532, 23, 2\n"
     ]
    }
   ],
   "source": [
    "b = input(\"Please, enter a series of numbers divided by comma\")"
   ]
  },
  {
   "cell_type": "code",
   "execution_count": 1,
   "id": "974bccef",
   "metadata": {},
   "outputs": [],
   "source": [
    "def tuple_list():\n",
    "    b = input(\"Please, enter a series of numbers divided by comma: \")\n",
    "    print(list(b.split(',')))\n",
    "    print(tuple(b.split(',')))"
   ]
  },
  {
   "cell_type": "code",
   "execution_count": 2,
   "id": "7a004dc0",
   "metadata": {},
   "outputs": [
    {
     "name": "stdout",
     "output_type": "stream",
     "text": [
      "Please, enter a series of numbers divided by comma: 34, 32, 33, 55, 25\n",
      "['34', ' 32', ' 33', ' 55', ' 25']\n",
      "('34', ' 32', ' 33', ' 55', ' 25')\n"
     ]
    }
   ],
   "source": [
    "tuple_list()"
   ]
  },
  {
   "cell_type": "code",
   "execution_count": 16,
   "id": "a811e5fd",
   "metadata": {},
   "outputs": [],
   "source": [
    "class IOstring():\n",
    "    def get_string(self):\n",
    "        self.s = input()\n",
    "    \n",
    "    def print_string(self):\n",
    "        print(self.s.upper())"
   ]
  },
  {
   "cell_type": "code",
   "execution_count": 18,
   "id": "f9453456",
   "metadata": {},
   "outputs": [
    {
     "name": "stdout",
     "output_type": "stream",
     "text": [
      "352kj jkjdk ksjljl\n",
      "352KJ JKJDK KSJLJL\n"
     ]
    }
   ],
   "source": [
    "xx = IOstring()\n",
    "xx.get_string()\n",
    "xx.print_string()"
   ]
  },
  {
   "cell_type": "code",
   "execution_count": null,
   "id": "c8bde14d",
   "metadata": {},
   "outputs": [],
   "source": []
  },
  {
   "cell_type": "code",
   "execution_count": null,
   "id": "47c5d337",
   "metadata": {},
   "outputs": [],
   "source": [
    "\"Q = Square root of [(2 _ C _ D)/H]\""
   ]
  },
  {
   "cell_type": "code",
   "execution_count": 19,
   "id": "b8e354d9",
   "metadata": {},
   "outputs": [],
   "source": [
    "import numpy as np"
   ]
  },
  {
   "cell_type": "code",
   "execution_count": 43,
   "id": "6c124f08",
   "metadata": {},
   "outputs": [
    {
     "name": "stdout",
     "output_type": "stream",
     "text": [
      "100, 150, 180\n",
      "18,22,24\n"
     ]
    }
   ],
   "source": [
    "C, H = 50, 30\n",
    "\n",
    "def calc(D):\n",
    "    formula = np.sqrt((2*C*D)/H)\n",
    "    return formula\n",
    "\n",
    "D = [int(i) for i in input().split(',')]\n",
    "D = [int(i) for i in D]\n",
    "D = [calc(i) for i in D]\n",
    "D = [np.round(i, 0) for i in D]\n",
    "D = [str(i)[:-2] for i in D]\n",
    "\n",
    "print(\",\".join(D))"
   ]
  },
  {
   "cell_type": "code",
   "execution_count": 38,
   "id": "72576777",
   "metadata": {},
   "outputs": [
    {
     "data": {
      "text/plain": [
       "24.49489742783178"
      ]
     },
     "execution_count": 38,
     "metadata": {},
     "output_type": "execute_result"
    }
   ],
   "source": [
    "calc(180)"
   ]
  },
  {
   "cell_type": "code",
   "execution_count": null,
   "id": "6f332879",
   "metadata": {},
   "outputs": [],
   "source": []
  },
  {
   "cell_type": "code",
   "execution_count": 44,
   "id": "42a4ea74",
   "metadata": {},
   "outputs": [],
   "source": [
    "s = 'without,hello,bag,world'"
   ]
  },
  {
   "cell_type": "code",
   "execution_count": 49,
   "id": "f281434d",
   "metadata": {},
   "outputs": [
    {
     "data": {
      "text/plain": [
       "['bag', 'hello', 'without', 'world']"
      ]
     },
     "execution_count": 49,
     "metadata": {},
     "output_type": "execute_result"
    }
   ],
   "source": [
    "sorted(s.split(','))"
   ]
  },
  {
   "cell_type": "code",
   "execution_count": 68,
   "id": "b1fd4650",
   "metadata": {},
   "outputs": [],
   "source": [
    "def sorted_words():\n",
    "    s = str(input(\"Please enter a serious of words separated by comma...\")).split(',')\n",
    "    s = sorted(s)\n",
    "    print(\",\".join(s))"
   ]
  },
  {
   "cell_type": "code",
   "execution_count": 18,
   "id": "2529412b",
   "metadata": {},
   "outputs": [
    {
     "name": "stdout",
     "output_type": "stream",
     "text": [
      "Please enter a serious of words separated by comma... Hello, world, Practice, makes, perfect\n",
      " Practice, makes, perfect, world,Hello\n"
     ]
    }
   ],
   "source": [
    "sorted_words()"
   ]
  },
  {
   "cell_type": "code",
   "execution_count": null,
   "id": "e7d41d78",
   "metadata": {},
   "outputs": [],
   "source": []
  },
  {
   "cell_type": "code",
   "execution_count": null,
   "id": "6156c71f",
   "metadata": {},
   "outputs": [],
   "source": []
  },
  {
   "cell_type": "code",
   "execution_count": null,
   "id": "542c07be",
   "metadata": {},
   "outputs": [],
   "source": []
  },
  {
   "cell_type": "code",
   "execution_count": 17,
   "id": "aa20ecf2",
   "metadata": {},
   "outputs": [],
   "source": [
    "def sorted_words():\n",
    "    s = str(input(\"Please enter a serious of words separated by comma... \")).split(',')\n",
    "    s = sorted(s)\n",
    "    print(\",\".join(s))"
   ]
  },
  {
   "cell_type": "markdown",
   "id": "b4db859e",
   "metadata": {},
   "source": [
    "Question\n",
    "Write a program that accepts a sequence of whitespace separated words as input and prints the words after removing all duplicate words and sorting them alphanumerically.\n",
    "\n",
    "Suppose the following input is supplied to the program:\n",
    "\n",
    "hello world and practice makes perfect and hello world again\n",
    "\n",
    "Then, the output should be:\n",
    "\n",
    "again and hello makes perfect practice world\n",
    "\n",
    "Hints:\n",
    "In case of input data being supplied to the question, it should be assumed to be a console input.We use set container to remove duplicated data automatically and then use sorted() to sort the data."
   ]
  },
  {
   "cell_type": "code",
   "execution_count": 25,
   "id": "9067cd55",
   "metadata": {},
   "outputs": [],
   "source": [
    "def rem_dupl_sorted():\n",
    "    s = str(input(\"Please enter a serious of words separated by whitespace... \")) # Taking input from user\n",
    "    transformed_s = sorted(set(s.split(' '))) # Using set container (for remove dupl) transform input (string) in the sorted list\n",
    "    print(\" \".join(transformed_s)) # transform list in string by removing whitespaces"
   ]
  },
  {
   "cell_type": "code",
   "execution_count": null,
   "id": "d9e7d725",
   "metadata": {},
   "outputs": [],
   "source": [
    "word = sorted(list(set(input().split())))  "
   ]
  },
  {
   "cell_type": "code",
   "execution_count": 24,
   "id": "19b09289",
   "metadata": {},
   "outputs": [
    {
     "name": "stdout",
     "output_type": "stream",
     "text": [
      "Please enter a serious of words separated by whitespace... hello world and practice makes perfect and hello world again\n",
      "again and hello makes perfect practice world\n"
     ]
    }
   ],
   "source": [
    "rem_dupl_sorted()"
   ]
  },
  {
   "cell_type": "code",
   "execution_count": null,
   "id": "a92552ba",
   "metadata": {},
   "outputs": [],
   "source": []
  },
  {
   "cell_type": "markdown",
   "id": "1d77c61e",
   "metadata": {},
   "source": [
    "Write a program, which will find all such numbers between 1000 and 3000 (both included) such that each digit of the number is an even number.The numbers obtained should be printed in a comma-separated sequence on a single line."
   ]
  },
  {
   "cell_type": "code",
   "execution_count": 30,
   "id": "eb085187",
   "metadata": {},
   "outputs": [],
   "source": [
    "def even_numbers():\n",
    "    lst_even = []\n",
    "    for num in range(1000, 3001):\n",
    "        if num%2 == 0:\n",
    "            lst_even.append(num)\n",
    "    print(\",\".join(lst_even))\n",
    "            "
   ]
  },
  {
   "cell_type": "code",
   "execution_count": 31,
   "id": "c185194d",
   "metadata": {},
   "outputs": [
    {
     "ename": "TypeError",
     "evalue": "sequence item 0: expected str instance, int found",
     "output_type": "error",
     "traceback": [
      "\u001b[1;31m---------------------------------------------------------------------------\u001b[0m",
      "\u001b[1;31mTypeError\u001b[0m                                 Traceback (most recent call last)",
      "\u001b[1;32m~\\AppData\\Local\\Temp\\ipykernel_15432\\1100484684.py\u001b[0m in \u001b[0;36m<module>\u001b[1;34m\u001b[0m\n\u001b[1;32m----> 1\u001b[1;33m \u001b[0meven_numbers\u001b[0m\u001b[1;33m(\u001b[0m\u001b[1;33m)\u001b[0m\u001b[1;33m\u001b[0m\u001b[1;33m\u001b[0m\u001b[0m\n\u001b[0m",
      "\u001b[1;32m~\\AppData\\Local\\Temp\\ipykernel_15432\\2418512105.py\u001b[0m in \u001b[0;36meven_numbers\u001b[1;34m()\u001b[0m\n\u001b[0;32m      4\u001b[0m         \u001b[1;32mif\u001b[0m \u001b[0mnum\u001b[0m\u001b[1;33m%\u001b[0m\u001b[1;36m2\u001b[0m \u001b[1;33m==\u001b[0m \u001b[1;36m0\u001b[0m\u001b[1;33m:\u001b[0m\u001b[1;33m\u001b[0m\u001b[1;33m\u001b[0m\u001b[0m\n\u001b[0;32m      5\u001b[0m             \u001b[0mlst_even\u001b[0m\u001b[1;33m.\u001b[0m\u001b[0mappend\u001b[0m\u001b[1;33m(\u001b[0m\u001b[0mnum\u001b[0m\u001b[1;33m)\u001b[0m\u001b[1;33m\u001b[0m\u001b[1;33m\u001b[0m\u001b[0m\n\u001b[1;32m----> 6\u001b[1;33m     \u001b[0mprint\u001b[0m\u001b[1;33m(\u001b[0m\u001b[1;34m\",\"\u001b[0m\u001b[1;33m.\u001b[0m\u001b[0mjoin\u001b[0m\u001b[1;33m(\u001b[0m\u001b[0mlst_even\u001b[0m\u001b[1;33m)\u001b[0m\u001b[1;33m)\u001b[0m\u001b[1;33m\u001b[0m\u001b[1;33m\u001b[0m\u001b[0m\n\u001b[0m\u001b[0;32m      7\u001b[0m \u001b[1;33m\u001b[0m\u001b[0m\n",
      "\u001b[1;31mTypeError\u001b[0m: sequence item 0: expected str instance, int found"
     ]
    }
   ],
   "source": [
    "even_numbers()"
   ]
  },
  {
   "cell_type": "code",
   "execution_count": 1,
   "id": "66919355",
   "metadata": {},
   "outputs": [],
   "source": [
    "food_items = [\n",
    "    ['apple', 'fruit'],\n",
    "    ['broccoli', 'vegetable'],\n",
    "    ['banana', 'fruit'],\n",
    "    ['carrot', 'vegetable'],\n",
    "    ['cake', 'dessert'],\n",
    "    ['chicken', 'meat']\n",
    "]"
   ]
  },
  {
   "cell_type": "code",
   "execution_count": 3,
   "id": "184b53af",
   "metadata": {},
   "outputs": [
    {
     "name": "stdout",
     "output_type": "stream",
     "text": [
      "Eat more apple and banana for better health!\n"
     ]
    }
   ],
   "source": [
    "fruits = [item[0] for item in food_items if item[1] == 'fruit']\n",
    "health_tip = f\"Eat more {', '.join(fruits[:-1])} and {fruits[-1]} for better health!\"\n",
    "\n",
    "print(health_tip)\n",
    "\n",
    "# (A) Eat more apple, banana and carrot for better health!\n",
    "# (B) Eat more apple and banana for better health!\n",
    "# (C) Eat more broccoli, carrot and chicken for better health!\n",
    "# (D) Eat more apple, banana and broccoli for better health!"
   ]
  },
  {
   "cell_type": "markdown",
   "id": "fe8d8f78",
   "metadata": {},
   "source": [
    "Question:\n",
    "Write a program that accepts a sentence and calculate the number of letters and digits.\n",
    "\n",
    "Suppose the following input is supplied to the program:\n",
    "\n",
    "hello world! 123\n",
    "Then, the output should be:\n",
    "\n",
    "LETTERS 10\n",
    "DIGITS 3"
   ]
  },
  {
   "cell_type": "code",
   "execution_count": 20,
   "id": "1221a473",
   "metadata": {},
   "outputs": [],
   "source": [
    "def str_dig_count():\n",
    "    letter_count = 0\n",
    "    digit_count = 0\n",
    "    \n",
    "    s = str(input(\"Please enter a serious of words with digits\"))\n",
    "    for char in s.replace(\" \", \"\"):\n",
    "        if char.isdigit():\n",
    "            digit_count += 1\n",
    "        elif char.isalpha():\n",
    "            letter_count += 1\n",
    "           \n",
    "    print(f'LETTERS: {letter_count}')\n",
    "    print(f'DIGITS: {digit_count}')"
   ]
  },
  {
   "cell_type": "code",
   "execution_count": 19,
   "id": "206ab353",
   "metadata": {},
   "outputs": [
    {
     "name": "stdout",
     "output_type": "stream",
     "text": [
      "Please enter a serious of words with digitshello world! 123\n",
      "LETTERS: 10\n",
      "DIGITS: 3\n"
     ]
    }
   ],
   "source": [
    "str_dig_count()"
   ]
  },
  {
   "cell_type": "code",
   "execution_count": null,
   "id": "da1b852e",
   "metadata": {},
   "outputs": [],
   "source": [
    ".split('')"
   ]
  },
  {
   "cell_type": "code",
   "execution_count": 11,
   "id": "5e46000e",
   "metadata": {},
   "outputs": [],
   "source": [
    "s = 'hello world! 123'"
   ]
  },
  {
   "cell_type": "code",
   "execution_count": 12,
   "id": "4a360d51",
   "metadata": {},
   "outputs": [
    {
     "data": {
      "text/plain": [
       "' '"
      ]
     },
     "execution_count": 12,
     "metadata": {},
     "output_type": "execute_result"
    }
   ],
   "source": [
    "s.join(' ')"
   ]
  },
  {
   "cell_type": "code",
   "execution_count": null,
   "id": "30350907",
   "metadata": {},
   "outputs": [],
   "source": []
  },
  {
   "cell_type": "code",
   "execution_count": null,
   "id": "92d9c63c",
   "metadata": {},
   "outputs": [],
   "source": []
  },
  {
   "cell_type": "code",
   "execution_count": null,
   "id": "d1c305e4",
   "metadata": {},
   "outputs": [],
   "source": []
  },
  {
   "cell_type": "code",
   "execution_count": 2,
   "id": "fcc16b80",
   "metadata": {},
   "outputs": [],
   "source": [
    "import numpy as np\n",
    "import pandas as pd\n",
    "import seaborn as sns"
   ]
  },
  {
   "cell_type": "code",
   "execution_count": 3,
   "id": "dc988e4a",
   "metadata": {},
   "outputs": [
    {
     "data": {
      "text/html": [
       "<div>\n",
       "<style scoped>\n",
       "    .dataframe tbody tr th:only-of-type {\n",
       "        vertical-align: middle;\n",
       "    }\n",
       "\n",
       "    .dataframe tbody tr th {\n",
       "        vertical-align: top;\n",
       "    }\n",
       "\n",
       "    .dataframe thead th {\n",
       "        text-align: right;\n",
       "    }\n",
       "</style>\n",
       "<table border=\"1\" class=\"dataframe\">\n",
       "  <thead>\n",
       "    <tr style=\"text-align: right;\">\n",
       "      <th></th>\n",
       "      <th>country</th>\n",
       "      <th>annual tax collected</th>\n",
       "      <th>happiness_index</th>\n",
       "    </tr>\n",
       "  </thead>\n",
       "  <tbody>\n",
       "    <tr>\n",
       "      <th>0</th>\n",
       "      <td>Delhi</td>\n",
       "      <td>1.929448e+10</td>\n",
       "      <td>9.94</td>\n",
       "    </tr>\n",
       "    <tr>\n",
       "      <th>1</th>\n",
       "      <td>Mumbai</td>\n",
       "      <td>2.891616e+10</td>\n",
       "      <td>7.16</td>\n",
       "    </tr>\n",
       "    <tr>\n",
       "      <th>2</th>\n",
       "      <td>Kolkata</td>\n",
       "      <td>2.411255e+10</td>\n",
       "      <td>6.35</td>\n",
       "    </tr>\n",
       "    <tr>\n",
       "      <th>3</th>\n",
       "      <td>Chennai</td>\n",
       "      <td>3.435817e+10</td>\n",
       "      <td>8.07</td>\n",
       "    </tr>\n",
       "    <tr>\n",
       "      <th>4</th>\n",
       "      <td>Jaipur</td>\n",
       "      <td>1.745434e+10</td>\n",
       "      <td>6.98</td>\n",
       "    </tr>\n",
       "  </tbody>\n",
       "</table>\n",
       "</div>"
      ],
      "text/plain": [
       "   country  annual tax collected  happiness_index\n",
       "0    Delhi          1.929448e+10             9.94\n",
       "1   Mumbai          2.891616e+10             7.16\n",
       "2  Kolkata          2.411255e+10             6.35\n",
       "3  Chennai          3.435817e+10             8.07\n",
       "4   Jaipur          1.745434e+10             6.98"
      ]
     },
     "execution_count": 3,
     "metadata": {},
     "output_type": "execute_result"
    }
   ],
   "source": [
    "data_dict = { \n",
    "    \"country\": [ \n",
    "        \"Delhi\", \n",
    "        \"Mumbai\", \n",
    "        \"Kolkata\", \n",
    "        \"Chennai\", \n",
    "        \"Jaipur\", \n",
    "        \"Lucknow\", \n",
    "        \"Pune\", \n",
    "        \"Bengaluru\", \n",
    "        \"Amritsar\", \n",
    "        \"Agra\", \n",
    "        \"Kola\", \n",
    "    ], \n",
    "    \"annual tax collected\": [ \n",
    "        19294482072, \n",
    "        28916155672, \n",
    "        24112550372, \n",
    "        34358173362, \n",
    "        17454337886, \n",
    "        11812051350, \n",
    "        16074023894, \n",
    "        14909678554, \n",
    "        43807565410, \n",
    "        146318441864, \n",
    "        np.nan, \n",
    "    ], \n",
    "    \"happiness_index\": [9.94, 7.16, 6.35, 8.07, 6.98, 6.1, 4.23, 8.22, 6.87, 3.36, np.nan], \n",
    "} \n",
    "  \n",
    "df = pd.DataFrame(data_dict) \n",
    "df.head()"
   ]
  },
  {
   "cell_type": "code",
   "execution_count": 5,
   "id": "9f74373a",
   "metadata": {},
   "outputs": [
    {
     "data": {
      "text/html": [
       "<div>\n",
       "<style scoped>\n",
       "    .dataframe tbody tr th:only-of-type {\n",
       "        vertical-align: middle;\n",
       "    }\n",
       "\n",
       "    .dataframe tbody tr th {\n",
       "        vertical-align: top;\n",
       "    }\n",
       "\n",
       "    .dataframe thead th {\n",
       "        text-align: right;\n",
       "    }\n",
       "</style>\n",
       "<table border=\"1\" class=\"dataframe\">\n",
       "  <thead>\n",
       "    <tr style=\"text-align: right;\">\n",
       "      <th></th>\n",
       "      <th>annual tax collected</th>\n",
       "      <th>happiness_index</th>\n",
       "    </tr>\n",
       "  </thead>\n",
       "  <tbody>\n",
       "    <tr>\n",
       "      <th>count</th>\n",
       "      <td>1.000000e+01</td>\n",
       "      <td>10.000000</td>\n",
       "    </tr>\n",
       "    <tr>\n",
       "      <th>mean</th>\n",
       "      <td>3.570575e+10</td>\n",
       "      <td>6.728000</td>\n",
       "    </tr>\n",
       "    <tr>\n",
       "      <th>std</th>\n",
       "      <td>4.010314e+10</td>\n",
       "      <td>1.907149</td>\n",
       "    </tr>\n",
       "    <tr>\n",
       "      <th>min</th>\n",
       "      <td>1.181205e+10</td>\n",
       "      <td>3.360000</td>\n",
       "    </tr>\n",
       "    <tr>\n",
       "      <th>25%</th>\n",
       "      <td>1.641910e+10</td>\n",
       "      <td>6.162500</td>\n",
       "    </tr>\n",
       "    <tr>\n",
       "      <th>50%</th>\n",
       "      <td>2.170352e+10</td>\n",
       "      <td>6.925000</td>\n",
       "    </tr>\n",
       "    <tr>\n",
       "      <th>75%</th>\n",
       "      <td>3.299767e+10</td>\n",
       "      <td>7.842500</td>\n",
       "    </tr>\n",
       "    <tr>\n",
       "      <th>max</th>\n",
       "      <td>1.463184e+11</td>\n",
       "      <td>9.940000</td>\n",
       "    </tr>\n",
       "  </tbody>\n",
       "</table>\n",
       "</div>"
      ],
      "text/plain": [
       "       annual tax collected  happiness_index\n",
       "count          1.000000e+01        10.000000\n",
       "mean           3.570575e+10         6.728000\n",
       "std            4.010314e+10         1.907149\n",
       "min            1.181205e+10         3.360000\n",
       "25%            1.641910e+10         6.162500\n",
       "50%            2.170352e+10         6.925000\n",
       "75%            3.299767e+10         7.842500\n",
       "max            1.463184e+11         9.940000"
      ]
     },
     "execution_count": 5,
     "metadata": {},
     "output_type": "execute_result"
    }
   ],
   "source": [
    "df.describe()"
   ]
  },
  {
   "cell_type": "code",
   "execution_count": 11,
   "id": "96639813",
   "metadata": {},
   "outputs": [
    {
     "data": {
      "text/plain": [
       "<AxesSubplot:xlabel='happiness_index', ylabel='annual tax collected'>"
      ]
     },
     "execution_count": 11,
     "metadata": {},
     "output_type": "execute_result"
    },
    {
     "data": {
      "image/png": "[encoded data removed]",
      "text/plain": [
       "<Figure size 640x480 with 1 Axes>"
      ]
     },
     "metadata": {},
     "output_type": "display_data"
    }
   ],
   "source": [
    "sns.barplot(data=df, x='happiness_index', y='annual tax collected')"
   ]
  },
  {
   "cell_type": "markdown",
   "id": "80d995b4",
   "metadata": {},
   "source": [
    "## Создание qr-кода"
   ]
  },
  {
   "cell_type": "code",
   "execution_count": 13,
   "id": "55b9828f",
   "metadata": {},
   "outputs": [
    {
     "name": "stdout",
     "output_type": "stream",
     "text": [
      "Collecting segno\n",
      "  Downloading segno-1.5.2-py2.py3-none-any.whl (83 kB)\n",
      "     -------------------------------------- 83.0/83.0 kB 774.2 kB/s eta 0:00:00\n",
      "Installing collected packages: segno\n",
      "Successfully installed segno-1.5.2\n",
      "Note: you may need to restart the kernel to use updated packages.\n"
     ]
    }
   ],
   "source": [
    "pip install segno"
   ]
  },
  {
   "cell_type": "code",
   "execution_count": 14,
   "id": "3bbce178",
   "metadata": {},
   "outputs": [],
   "source": [
    "import segno"
   ]
  },
  {
   "cell_type": "code",
   "execution_count": 20,
   "id": "52969731",
   "metadata": {},
   "outputs": [],
   "source": [
    "# создаем код\n",
    "qrcode = segno.make_qr(\"t.me/ztkt7\")\n",
    "\n",
    "# сохраняем его в файл \"metanit_qr.png\"\n",
    "qrcode.save(\"mytlgrm_qr.png\", dark=\"#2980B9\", border=4, scale=10)"
   ]
  },
  {
   "cell_type": "code",
   "execution_count": 21,
   "id": "94a885e2",
   "metadata": {},
   "outputs": [],
   "source": [
    "from segno import helpers\n",
    " \n",
    "qrcode = helpers.make_email(\"zotovpgu@gmail.com\", cc=None, bcc=None, subject=\"Testing qr_code\", body=\"Содержимое письма. Здесь может быть текст письма???\")\n",
    "qrcode.save(\"email_qr.png\", scale=5)"
   ]
  },
  {
   "cell_type": "code",
   "execution_count": 22,
   "id": "c753ad70",
   "metadata": {},
   "outputs": [],
   "source": [
    "# from segno import helpers\n",
    " \n",
    "# qrcode = helpers.make_wifi(ssid=\"MyWifi\", password=\"1234567890\", security=\"WPA\")\n",
    "# qrcode.save(\"wifi-access.png\", scale=10)"
   ]
  },
  {
   "cell_type": "code",
   "execution_count": 28,
   "id": "53ce1db8",
   "metadata": {},
   "outputs": [],
   "source": [
    "latitude, longitude = 53.082900, 44.848180\n",
    "qr = helpers.make_geo(latitude, longitude)\n",
    "# qr.designator\n",
    "# '2-M'\n",
    "\n",
    "qr.save(\"geo_qr.png\", scale=5)\n",
    "\n",
    "# Параметры:\n",
    "# lat -  широта\n",
    "# lng -  долгота"
   ]
  },
  {
   "cell_type": "code",
   "execution_count": 29,
   "id": "36636158",
   "metadata": {},
   "outputs": [],
   "source": [
    "def even_or_odd(number):\n",
    "    if number % 2 == 0:\n",
    "        print(\"Even\")\n",
    "    else:\n",
    "        print(\"Odd\")"
   ]
  },
  {
   "cell_type": "code",
   "execution_count": 35,
   "id": "1ac4705a",
   "metadata": {},
   "outputs": [
    {
     "name": "stdout",
     "output_type": "stream",
     "text": [
      "Odd\n"
     ]
    }
   ],
   "source": [
    "even_or_odd(74156741)"
   ]
  },
  {
   "cell_type": "code",
   "execution_count": 36,
   "id": "2bd1491c",
   "metadata": {},
   "outputs": [],
   "source": [
    "from segno import helpers\n",
    "\n",
    "# Create a WIFI config with min. error level \"L\" or better\n",
    "qrcode = helpers.make_wifi(ssid='Skynet', password='ХХХХХХХХ', security='WPA')\n",
    "\n",
    "qrcode.save(\"zWiFi_qr.png\", dark=\"#2980B9\", border=4, scale=10)"
   ]
  },
  {
   "cell_type": "code",
   "execution_count": null,
   "id": "e13e434d",
   "metadata": {},
   "outputs": [],
   "source": []
  },
  {
   "cell_type": "markdown",
   "id": "d3875d67",
   "metadata": {},
   "source": [
    "### Try Except"
   ]
  },
  {
   "cell_type": "code",
   "execution_count": 2,
   "id": "8e9dda4c",
   "metadata": {},
   "outputs": [
    {
     "name": "stdout",
     "output_type": "stream",
     "text": [
      "Error: invalid literal for int() with base 10: 'five'\n",
      "I'm next\n"
     ]
    }
   ],
   "source": [
    "input_number = 'five'\n",
    "\n",
    "try:\n",
    "    input_number = int(input_number)\n",
    "except ValueError as e:\n",
    "    print(f'Error: {e}')\n",
    "    \n",
    "# Next part of the program\n",
    "print(\"I'm next\")"
   ]
  },
  {
   "cell_type": "code",
   "execution_count": 4,
   "id": "c22376ba",
   "metadata": {},
   "outputs": [
    {
     "name": "stdout",
     "output_type": "stream",
     "text": [
      "New Value: 0.3333333333333333\n",
      "Another one bites the dust\n",
      "Error: division by zero\n",
      "Another one bites the dust\n",
      "New Value: 0.125\n",
      "Another one bites the dust\n",
      "Error: division by zero\n",
      "Another one bites the dust\n",
      "I'm next\n"
     ]
    }
   ],
   "source": [
    "nums = [3, 0.4, 8, 0]\n",
    "\n",
    "for num in nums:\n",
    "    try:\n",
    "        new_val = 1 / int(num)\n",
    "    except ZeroDivisionError as e:\n",
    "        print(f'Error: {e}')\n",
    "    else:\n",
    "        print(f'New Value: {new_val}')\n",
    "    finally:\n",
    "        print(\"Another one bites the dust\")\n",
    "\n",
    "# Next part of the program\n",
    "print(\"I'm next\")"
   ]
  },
  {
   "cell_type": "code",
   "execution_count": 2,
   "id": "da57113f",
   "metadata": {},
   "outputs": [
    {
     "data": {
      "text/plain": [
       "2.5"
      ]
     },
     "execution_count": 2,
     "metadata": {},
     "output_type": "execute_result"
    }
   ],
   "source": [
    "1/0.4"
   ]
  },
  {
   "cell_type": "code",
   "execution_count": 12,
   "id": "8df331df",
   "metadata": {},
   "outputs": [
    {
     "name": "stdout",
     "output_type": "stream",
     "text": [
      "0.3333333333333333\n",
      "2.5\n",
      "0.125\n"
     ]
    },
    {
     "ename": "ZeroDivisionError",
     "evalue": "division by zero",
     "output_type": "error",
     "traceback": [
      "\u001b[1;31m---------------------------------------------------------------------------\u001b[0m",
      "\u001b[1;31mZeroDivisionError\u001b[0m                         Traceback (most recent call last)",
      "\u001b[1;32m~\\AppData\\Local\\Temp\\ipykernel_16600\\497470997.py\u001b[0m in \u001b[0;36m<module>\u001b[1;34m\u001b[0m\n\u001b[0;32m      2\u001b[0m \u001b[1;33m\u001b[0m\u001b[0m\n\u001b[0;32m      3\u001b[0m \u001b[1;32mfor\u001b[0m \u001b[0mnum\u001b[0m \u001b[1;32min\u001b[0m \u001b[0mnums\u001b[0m\u001b[1;33m:\u001b[0m\u001b[1;33m\u001b[0m\u001b[1;33m\u001b[0m\u001b[0m\n\u001b[1;32m----> 4\u001b[1;33m     \u001b[0mnew_val\u001b[0m \u001b[1;33m=\u001b[0m \u001b[1;36m1\u001b[0m \u001b[1;33m/\u001b[0m \u001b[0mnum\u001b[0m\u001b[1;33m\u001b[0m\u001b[1;33m\u001b[0m\u001b[0m\n\u001b[0m\u001b[0;32m      5\u001b[0m     \u001b[0mprint\u001b[0m\u001b[1;33m(\u001b[0m\u001b[0mnew_val\u001b[0m\u001b[1;33m)\u001b[0m\u001b[1;33m\u001b[0m\u001b[1;33m\u001b[0m\u001b[0m\n",
      "\u001b[1;31mZeroDivisionError\u001b[0m: division by zero"
     ]
    }
   ],
   "source": [
    "nums = [3, 0.4, 8, 0]\n",
    "\n",
    "for num in nums:\n",
    "    new_val = 1 / num\n",
    "    print(new_val)"
   ]
  },
  {
   "cell_type": "code",
   "execution_count": 20,
   "id": "c3802261",
   "metadata": {},
   "outputs": [
    {
     "name": "stdout",
     "output_type": "stream",
     "text": [
      "List item = cat\n",
      "My Value or Zero Division Error: invalid literal for int() with base 10: 'cat'\n"
     ]
    }
   ],
   "source": [
    "import random\n",
    "\n",
    "import random\n",
    "lst = [4, 'six', '8', 'cat', [], 0]\n",
    "idx = random.randint(0, 7)\n",
    "total = 1\n",
    "\n",
    "try:\n",
    "    itm = lst[idx]\n",
    "    print(f'List item = {itm}')\n",
    "    den = int(itm)\n",
    "    print(total/den)\n",
    "except IndexError as e:\n",
    "    print(f'My Index Error: {e}')\n",
    "except TypeError as e:\n",
    "    print(f'My Type Error: {e}')\n",
    "except (ValueError, ZeroDivisionError) as e:\n",
    "    print(f'My Value or Zero Division Error: {e}')    "
   ]
  },
  {
   "cell_type": "code",
   "execution_count": null,
   "id": "0a86cf2e",
   "metadata": {},
   "outputs": [],
   "source": []
  },
  {
   "cell_type": "code",
   "execution_count": 1,
   "id": "166d3160",
   "metadata": {},
   "outputs": [],
   "source": [
    "s = \"asxhtlitycoliqnab\""
   ]
  },
  {
   "cell_type": "code",
   "execution_count": null,
   "id": "e896b76d",
   "metadata": {},
   "outputs": [],
   "source": [
    "shitcoins"
   ]
  },
  {
   "cell_type": "code",
   "execution_count": 7,
   "id": "1f01230b",
   "metadata": {},
   "outputs": [
    {
     "data": {
      "text/plain": [
       "'co'"
      ]
     },
     "execution_count": 7,
     "metadata": {},
     "output_type": "execute_result"
    }
   ],
   "source": [
    "s[9:11]"
   ]
  },
  {
   "cell_type": "code",
   "execution_count": 10,
   "id": "fc7fe188",
   "metadata": {},
   "outputs": [
    {
     "name": "stdout",
     "output_type": "stream",
     "text": [
      "shitcoins\n",
      "https://blog.finxter.com/shitcoins/\n"
     ]
    }
   ],
   "source": [
    "# Python Riddle: Guess the output of this code snippet\n",
    "\n",
    "\n",
    "mystery = s[1:4:2] + s[6:8] + ('x' if not s else s[9:11]) + s[12:-1:2] + 's'\n",
    "print(mystery)\n",
    "print(f'https://blog.finxter.com/{mystery}/')"
   ]
  },
  {
   "cell_type": "code",
   "execution_count": null,
   "id": "601b0d8a",
   "metadata": {},
   "outputs": [],
   "source": []
  },
  {
   "cell_type": "code",
   "execution_count": 6,
   "id": "9d4d809b",
   "metadata": {},
   "outputs": [],
   "source": [
    "def lucky_sum(a, b, c):\n",
    "    total = 0\n",
    "    \n",
    "    for n in (a, b, c):\n",
    "        if n != 13:\n",
    "            total += n\n",
    "        else:\n",
    "            break\n",
    "    \n",
    "    return total"
   ]
  },
  {
   "cell_type": "code",
   "execution_count": 5,
   "id": "db3764e3",
   "metadata": {},
   "outputs": [
    {
     "data": {
      "text/plain": [
       "1"
      ]
     },
     "execution_count": 5,
     "metadata": {},
     "output_type": "execute_result"
    }
   ],
   "source": [
    "lucky_sum(1, 13, 3)"
   ]
  },
  {
   "cell_type": "code",
   "execution_count": 34,
   "id": "9a48b593",
   "metadata": {},
   "outputs": [],
   "source": [
    "# def round_sum(a, b, c):\n",
    "\n",
    "def round10(num):\n",
    "    if num % 10 <= 4:\n",
    "        return num - (num % 10)\n",
    "    else:\n",
    "        return num + (abs(10 - num % 10))"
   ]
  },
  {
   "cell_type": "code",
   "execution_count": 51,
   "id": "cd86da80",
   "metadata": {},
   "outputs": [],
   "source": [
    "def round10(num):\n",
    "    mod = num % 10\n",
    "    print(f'mod = {mod}')\n",
    "    num -= mod\n",
    "    #print(f'num = {num}')\n",
    "    if mod >= 5:\n",
    "        num += 10\n",
    "    return num"
   ]
  },
  {
   "cell_type": "code",
   "execution_count": 52,
   "id": "7fac2fd0",
   "metadata": {},
   "outputs": [
    {
     "name": "stdout",
     "output_type": "stream",
     "text": [
      "mod = 6\n"
     ]
    },
    {
     "data": {
      "text/plain": [
       "20"
      ]
     },
     "execution_count": 52,
     "metadata": {},
     "output_type": "execute_result"
    }
   ],
   "source": [
    "round10(16)"
   ]
  },
  {
   "cell_type": "code",
   "execution_count": 57,
   "id": "cff4adf1",
   "metadata": {},
   "outputs": [
    {
     "data": {
      "text/plain": [
       "20"
      ]
     },
     "execution_count": 57,
     "metadata": {},
     "output_type": "execute_result"
    }
   ],
   "source": [
    "round(16, -1)"
   ]
  },
  {
   "cell_type": "code",
   "execution_count": null,
   "id": "9384cbf4",
   "metadata": {},
   "outputs": [],
   "source": []
  },
  {
   "cell_type": "markdown",
   "id": "314b5e35",
   "metadata": {},
   "source": [
    "Our football team has finished the championship.\n",
    "\n",
    "Our team's match results are recorded in a collection of strings. Each match is represented by a string in the format \"x:y\", where x is our team's score and y is our opponents score.\n",
    "\n",
    "For example: [\"3:1\", \"2:2\", \"0:1\", ...]\n",
    "\n",
    "Points are awarded for each match as follows:\n",
    "\n",
    "if x > y: 3 points (win)\n",
    "if x < y: 0 points (loss)\n",
    "if x = y: 1 point (tie)\n",
    "We need to write a function that takes this collection and returns the number of points our team (x) got in the championship by the rules given above.\n",
    "\n",
    "Notes:\n",
    "\n",
    "our team always plays 10 matches in the championship\n",
    "0 <= x <= 4\n",
    "0 <= y <= 4"
   ]
  },
  {
   "cell_type": "markdown",
   "id": "e8d6c6b8",
   "metadata": {},
   "source": [
    "`for x, y in zip(first, last):\n",
    "    if x < y: ... # Your code`"
   ]
  },
  {
   "cell_type": "markdown",
   "id": "260c2eb8",
   "metadata": {},
   "source": [
    "`pair_comparison = [\"greater\" if item1 > item2 else \"smaller\" if item1 < item2 else \"equal\" for item1, item2 in itertools.product(list1, list2)]`"
   ]
  },
  {
   "cell_type": "code",
   "execution_count": 198,
   "id": "ac628f05",
   "metadata": {},
   "outputs": [],
   "source": [
    "def points(games):\n",
    "    sum_x = [] # Сумма очков команды Х\n",
    "    sum_y = []\n",
    "    x = []\n",
    "    \n",
    "    for i in range(len(games)):\n",
    "        sum_x.append(games[i][0])\n",
    "        sum_y.append(games[i][2])\n",
    "        sum_x = [int(j) for j in sum_x] # option: list(map(int, xs))\n",
    "        sum_y = [int(j) for j in sum_y]\n",
    "    print(list(zip(sum_x, sum_y)))\n",
    "    \n",
    "    for k, l in zip(sum_x, sum_y):\n",
    "        if k > l:\n",
    "            x.append(3)\n",
    "        elif k < l:\n",
    "            x.append(0)\n",
    "        else:\n",
    "            x.append(1)\n",
    "                \n",
    "    \n",
    "    return x, sum(x)\n",
    "        "
   ]
  },
  {
   "cell_type": "code",
   "execution_count": 199,
   "id": "b5fcae7f",
   "metadata": {},
   "outputs": [
    {
     "name": "stdout",
     "output_type": "stream",
     "text": [
      "[(1, 0), (2, 0), (3, 0), (4, 0), (2, 1), (3, 1), (4, 1), (3, 2), (4, 2), (4, 3)]\n"
     ]
    },
    {
     "data": {
      "text/plain": [
       "([3, 3, 3, 3, 3, 3, 3, 3, 3, 3], 30)"
      ]
     },
     "execution_count": 199,
     "metadata": {},
     "output_type": "execute_result"
    }
   ],
   "source": [
    "points(['1:0','2:0','3:0','4:0','2:1','3:1','4:1','3:2','4:2','4:3'])"
   ]
  },
  {
   "cell_type": "code",
   "execution_count": 85,
   "id": "636433e5",
   "metadata": {},
   "outputs": [],
   "source": [
    "games = ['1:0','2:0','3:0','4:0','2:1','3:1','4:1','3:2','4:2','4:3']\n",
    "\n",
    "def split_list(games):\n",
    "    count = 0\n",
    "    for item in games:\n",
    "        res = item.split(':')\n",
    "        print(res[0], res[1])\n",
    "        if res[0] > res[1]:\n",
    "            count += 3\n",
    "        elif res[0] == res[1]:\n",
    "            count += 1\n",
    "        else:\n",
    "            pass\n",
    "        print(count)\n",
    "    return count\n",
    "        "
   ]
  },
  {
   "cell_type": "code",
   "execution_count": 86,
   "id": "4bd3916b",
   "metadata": {},
   "outputs": [
    {
     "name": "stdout",
     "output_type": "stream",
     "text": [
      "1 0\n",
      "3\n",
      "2 0\n",
      "6\n",
      "3 0\n",
      "9\n",
      "4 0\n",
      "12\n",
      "2 1\n",
      "15\n",
      "3 1\n",
      "18\n",
      "4 1\n",
      "21\n",
      "3 2\n",
      "24\n",
      "4 2\n",
      "27\n",
      "4 3\n",
      "30\n"
     ]
    },
    {
     "data": {
      "text/plain": [
       "30"
      ]
     },
     "execution_count": 86,
     "metadata": {},
     "output_type": "execute_result"
    }
   ],
   "source": [
    "split_list(games)"
   ]
  },
  {
   "cell_type": "code",
   "execution_count": 87,
   "id": "f1f5f055",
   "metadata": {},
   "outputs": [],
   "source": [
    "def points(games):\n",
    "    result = 0\n",
    "    for item in games:\n",
    "        result += 3 if item[0] > item[2] else 0     \n",
    "        result += 1 if item[0] == item[2] else 0\n",
    "    return result"
   ]
  },
  {
   "cell_type": "code",
   "execution_count": 60,
   "id": "d0822933",
   "metadata": {},
   "outputs": [],
   "source": [
    "games = ['1:0','2:0','3:0','4:0','2:1','3:1','4:1','3:2','4:2','4:3']"
   ]
  },
  {
   "cell_type": "code",
   "execution_count": 48,
   "id": "dfebbfee",
   "metadata": {},
   "outputs": [],
   "source": [
    "def points(games):\n",
    "    sum_x = [] # Сумма очков команды Х\n",
    "    sum_y = [] # Сумма очков коман\n",
    "    x = []\n",
    "    \n",
    "    for i in range(len(games)):\n",
    "        sum_x.append(games[i][0])\n",
    "        sum_y.append(games[i][2])\n",
    "        sum_x = [int(j) for j in sum_x] # option: list(map(int, xs))\n",
    "        sum_y = [int(j) for j in sum_y]\n",
    "    print(sum_x)\n",
    "    print(sum_y)\n",
    "    \n",
    "    for k in sum_x:\n",
    "        for l in sum_y:\n",
    "            if k > l:\n",
    "                x.append(3)\n",
    "            elif k < l:\n",
    "                x.append(0)\n",
    "            else:\n",
    "                x.append(1)\n",
    "                                    \n",
    "        \n",
    "        return x, sum(x)       "
   ]
  },
  {
   "cell_type": "code",
   "execution_count": 88,
   "id": "0177b56a",
   "metadata": {},
   "outputs": [
    {
     "data": {
      "text/plain": [
       "15"
      ]
     },
     "execution_count": 88,
     "metadata": {},
     "output_type": "execute_result"
    }
   ],
   "source": [
    "points(['1:0','2:0','3:0','4:0','2:1','1:3','1:4','2:3','2:4','3:4'])"
   ]
  },
  {
   "cell_type": "code",
   "execution_count": 57,
   "id": "db45c5eb",
   "metadata": {},
   "outputs": [],
   "source": [
    "def points(games):\n",
    "    count = 0\n",
    "    for score in games:\n",
    "        print(score)\n",
    "        res = score.split(':')\n",
    "        print(res)\n",
    "        if res[0]>res[1]:\n",
    "            count += 3\n",
    "        elif res[0] == res[1]:\n",
    "            count += 1\n",
    "    return count"
   ]
  },
  {
   "cell_type": "code",
   "execution_count": 53,
   "id": "8a0d9056",
   "metadata": {},
   "outputs": [],
   "source": [
    "sum_x = [1, 2, 3, 4, 2, 1, 1, 2, 2, 3]\n",
    "sum_y = [0, 0, 0, 0, 1, 3, 4, 3, 4, 4]\n",
    "    \n",
    "def sum_xy():\n",
    "    x = []\n",
    "\n",
    "    for k in sum_x:\n",
    "        for l in sum_y:\n",
    "            #print(k, l)\n",
    "            if k > l:\n",
    "                x.append(3)\n",
    "            elif k < l:\n",
    "                x.append(0)\n",
    "            else:\n",
    "                x.append(1)\n",
    "\n",
    "\n",
    "    return len(x), sum(x)"
   ]
  },
  {
   "cell_type": "code",
   "execution_count": 45,
   "id": "3a49eee3",
   "metadata": {},
   "outputs": [],
   "source": [
    "def sum_xy():\n",
    "    x = []\n",
    "\n",
    "    for i, k in enumerate(sum_x):\n",
    "        print(i, k)\n",
    "        l = sum_y[i]\n",
    "        print(l)\n",
    "        if k > l:\n",
    "            x.append(3)\n",
    "        elif k < l:\n",
    "            x.append(0)\n",
    "        else:\n",
    "            x.append(1)\n",
    "\n",
    "    return x, sum(x)"
   ]
  },
  {
   "cell_type": "code",
   "execution_count": 46,
   "id": "db56c777",
   "metadata": {
    "scrolled": true
   },
   "outputs": [
    {
     "name": "stdout",
     "output_type": "stream",
     "text": [
      "0 1\n",
      "0\n",
      "1 2\n",
      "0\n",
      "2 3\n",
      "0\n",
      "3 4\n",
      "0\n",
      "4 2\n",
      "1\n",
      "5 1\n",
      "3\n",
      "6 1\n",
      "4\n",
      "7 2\n",
      "3\n",
      "8 2\n",
      "4\n",
      "9 3\n",
      "4\n"
     ]
    },
    {
     "data": {
      "text/plain": [
       "([3, 3, 3, 3, 3, 0, 0, 0, 0, 0], 15)"
      ]
     },
     "execution_count": 46,
     "metadata": {},
     "output_type": "execute_result"
    }
   ],
   "source": [
    "sum_xy()"
   ]
  },
  {
   "cell_type": "code",
   "execution_count": 5,
   "id": "e6cb8295",
   "metadata": {},
   "outputs": [],
   "source": [
    "sum_x = [1, 2, 3, 4, 2, 1, 1, 2, 2, 3]\n",
    "sum_y = [0, 0, 0, 0, 1, 3, 4, 3, 4, 4]\n",
    "    \n",
    "def sum_xy():\n",
    "    x = []\n",
    "\n",
    "    for k, l in zip(sum_x, sum_y):\n",
    "        if k > l:\n",
    "            x.append(3)\n",
    "        elif k < l:\n",
    "            x.append(0)\n",
    "        else:\n",
    "            x.append(1)\n",
    "                \n",
    "    \n",
    "    return x, sum(x)"
   ]
  },
  {
   "cell_type": "code",
   "execution_count": 6,
   "id": "208f91e8",
   "metadata": {},
   "outputs": [
    {
     "data": {
      "text/plain": [
       "([3, 3, 3, 3, 3, 0, 0, 0, 0, 0], 15)"
      ]
     },
     "execution_count": 6,
     "metadata": {},
     "output_type": "execute_result"
    }
   ],
   "source": [
    "sum_xy()"
   ]
  },
  {
   "cell_type": "code",
   "execution_count": null,
   "id": "e3a9386d",
   "metadata": {},
   "outputs": [],
   "source": []
  },
  {
   "cell_type": "code",
   "execution_count": null,
   "id": "77c061c5",
   "metadata": {},
   "outputs": [],
   "source": [
    "all([isinstance(item, int) for item in l])"
   ]
  },
  {
   "cell_type": "code",
   "execution_count": 93,
   "id": "a1646a52",
   "metadata": {},
   "outputs": [],
   "source": [
    "l = [1, 2, 'a', 'b']"
   ]
  },
  {
   "cell_type": "code",
   "execution_count": 110,
   "id": "06d19fc3",
   "metadata": {},
   "outputs": [],
   "source": [
    "def filter_list(l):\n",
    "    newlst = []\n",
    "    for item in l:\n",
    "        if isinstance(item, int):\n",
    "            newlst.append(item)\n",
    "    return newlst"
   ]
  },
  {
   "cell_type": "code",
   "execution_count": 115,
   "id": "5680ad97",
   "metadata": {},
   "outputs": [
    {
     "data": {
      "text/plain": [
       "[1, 2]"
      ]
     },
     "execution_count": 115,
     "metadata": {},
     "output_type": "execute_result"
    }
   ],
   "source": [
    "mynewlist = [item for item in l if isinstance(item, int)]\n",
    "mynewlist"
   ]
  },
  {
   "cell_type": "code",
   "execution_count": 116,
   "id": "fde3c35a",
   "metadata": {},
   "outputs": [],
   "source": [
    "# Как вариант:\n",
    "# return [e for e in l if type(e) is int]"
   ]
  },
  {
   "cell_type": "code",
   "execution_count": 113,
   "id": "3ed7f422",
   "metadata": {},
   "outputs": [
    {
     "data": {
      "text/plain": [
       "[1, 2, 123]"
      ]
     },
     "execution_count": 113,
     "metadata": {},
     "output_type": "execute_result"
    }
   ],
   "source": [
    "filter_list([1, 2, 'aasf', '1', '123', 123])"
   ]
  },
  {
   "cell_type": "code",
   "execution_count": 119,
   "id": "a05ef30a",
   "metadata": {},
   "outputs": [
    {
     "data": {
      "text/plain": [
       "[1, 2, 123]"
      ]
     },
     "execution_count": 119,
     "metadata": {},
     "output_type": "execute_result"
    }
   ],
   "source": [
    "filter_list([1, 2, 'a', 'b']) # [1, 2], 'For input [1, 2, \"a\", \"b\"]'\n",
    "filter_list([1, 'a', 'b', 0, 15]) # [1, 0, 15], 'Fot input [1, \"a\", \"b\", 0, 15]'\n",
    "filter_list([1, 2, 'aasf', '1', '123', 123]) # [1, 2, 123], 'For input [1, 2, \"aasf\", \"1\", \"123\", 123]'"
   ]
  },
  {
   "cell_type": "code",
   "execution_count": null,
   "id": "8bdcb998",
   "metadata": {},
   "outputs": [],
   "source": []
  },
  {
   "cell_type": "markdown",
   "id": "abc3dc4c",
   "metadata": {},
   "source": [
    "Task:\n",
    "`sum_mix([9, 3, '7', '3']), 22`"
   ]
  },
  {
   "cell_type": "code",
   "execution_count": 224,
   "id": "4948361b",
   "metadata": {},
   "outputs": [],
   "source": [
    "arr = [9, 3, '7', '3']"
   ]
  },
  {
   "cell_type": "code",
   "execution_count": 242,
   "id": "b60de3f3",
   "metadata": {},
   "outputs": [
    {
     "data": {
      "text/plain": [
       "[9, 3, 7, 3]"
      ]
     },
     "execution_count": 242,
     "metadata": {},
     "output_type": "execute_result"
    }
   ],
   "source": [
    "list(map(int, arr))"
   ]
  },
  {
   "cell_type": "code",
   "execution_count": 239,
   "id": "f98737c0",
   "metadata": {},
   "outputs": [],
   "source": [
    "def sum_mix(arr):\n",
    "    newlst = []\n",
    "    for item in arr:\n",
    "        if isinstance(item, str) or isinstance(item, int):\n",
    "            item = int(item)\n",
    "            newlst.append(item)\n",
    "\n",
    "    return sum(newlst)"
   ]
  },
  {
   "cell_type": "code",
   "execution_count": 240,
   "id": "c93a26d1",
   "metadata": {},
   "outputs": [
    {
     "data": {
      "text/plain": [
       "22"
      ]
     },
     "execution_count": 240,
     "metadata": {},
     "output_type": "execute_result"
    }
   ],
   "source": [
    "sum_mix([9, 3, '7', '3'])"
   ]
  },
  {
   "cell_type": "code",
   "execution_count": null,
   "id": "8ac3ede7",
   "metadata": {},
   "outputs": [],
   "source": []
  },
  {
   "cell_type": "code",
   "execution_count": null,
   "id": "4f7d0268",
   "metadata": {},
   "outputs": [],
   "source": []
  },
  {
   "cell_type": "code",
   "execution_count": null,
   "id": "b21c31bc",
   "metadata": {},
   "outputs": [],
   "source": []
  },
  {
   "cell_type": "markdown",
   "id": "df337b62",
   "metadata": {},
   "source": [
    "Task: You are going to be given a word. Your job is to return the middle character of the word. If the word's length is odd, return the middle character. If the word's length is even, return the middle 2 characters.\n",
    "\n",
    "`Kata.getMiddle(\"test\") should return \"es\"`\n",
    "\n",
    "`Kata.getMiddle(\"testing\") should return \"t\"`\n",
    "\n",
    "`Kata.getMiddle(\"middle\") should return \"dd\"`\n",
    "\n",
    "`Kata.getMiddle(\"A\") should return \"A\"`"
   ]
  },
  {
   "cell_type": "code",
   "execution_count": 138,
   "id": "7f52d9f6",
   "metadata": {},
   "outputs": [],
   "source": [
    "s = \"A\""
   ]
  },
  {
   "cell_type": "code",
   "execution_count": 139,
   "id": "0083bd3d",
   "metadata": {},
   "outputs": [
    {
     "data": {
      "text/plain": [
       "0"
      ]
     },
     "execution_count": 139,
     "metadata": {},
     "output_type": "execute_result"
    }
   ],
   "source": [
    "int(len(s)/2-1)"
   ]
  },
  {
   "cell_type": "code",
   "execution_count": 140,
   "id": "f5002370",
   "metadata": {},
   "outputs": [
    {
     "data": {
      "text/plain": [
       "'A'"
      ]
     },
     "execution_count": 140,
     "metadata": {},
     "output_type": "execute_result"
    }
   ],
   "source": [
    "s[int(len(s)/2)]"
   ]
  },
  {
   "cell_type": "code",
   "execution_count": null,
   "id": "e745a101",
   "metadata": {},
   "outputs": [],
   "source": []
  },
  {
   "cell_type": "code",
   "execution_count": 142,
   "id": "8af961b2",
   "metadata": {},
   "outputs": [],
   "source": [
    "def get_middle(s):\n",
    "    if len(s) % 2 == 0:\n",
    "        return s[int(len(s)/2)-1:int(len(s)/2)+1]\n",
    "    else:\n",
    "        return s[int(len(s)/2)]"
   ]
  },
  {
   "cell_type": "code",
   "execution_count": 143,
   "id": "64155fd2",
   "metadata": {},
   "outputs": [
    {
     "data": {
      "text/plain": [
       "'A'"
      ]
     },
     "execution_count": 143,
     "metadata": {},
     "output_type": "execute_result"
    }
   ],
   "source": [
    "get_middle(s)"
   ]
  },
  {
   "cell_type": "code",
   "execution_count": 176,
   "id": "d9da645d",
   "metadata": {},
   "outputs": [
    {
     "data": {
      "text/plain": [
       "'5'"
      ]
     },
     "execution_count": 176,
     "metadata": {},
     "output_type": "execute_result"
    }
   ],
   "source": [
    "max(list(str(15)))"
   ]
  },
  {
   "cell_type": "code",
   "execution_count": 222,
   "id": "5b3bfe74",
   "metadata": {},
   "outputs": [],
   "source": [
    "def descending_order(num):\n",
    "    return int(''.join(sorted((str(num)), reverse=True)))"
   ]
  },
  {
   "cell_type": "code",
   "execution_count": 223,
   "id": "0b4c6fb7",
   "metadata": {},
   "outputs": [
    {
     "data": {
      "text/plain": [
       "987654321"
      ]
     },
     "execution_count": 223,
     "metadata": {},
     "output_type": "execute_result"
    }
   ],
   "source": [
    "descending_order(123456789)"
   ]
  },
  {
   "cell_type": "code",
   "execution_count": null,
   "id": "53ff69ec",
   "metadata": {},
   "outputs": [],
   "source": []
  },
  {
   "cell_type": "code",
   "execution_count": 46,
   "id": "618fbdf9",
   "metadata": {},
   "outputs": [],
   "source": [
    "def reverse_words(text):\n",
    "    reversed_text = []\n",
    "    \n",
    "    for word in text.split(' '):\n",
    "        reversed_text.append(word[::-1])\n",
    "    return ' '.join(reversed_text)"
   ]
  },
  {
   "cell_type": "code",
   "execution_count": 52,
   "id": "ac8c3455",
   "metadata": {},
   "outputs": [],
   "source": [
    "def reverse_words(text):\n",
    "    return ' '.join([word[::-1] for word in text.split(' ')])"
   ]
  },
  {
   "cell_type": "code",
   "execution_count": 53,
   "id": "efb4448e",
   "metadata": {},
   "outputs": [
    {
     "data": {
      "text/plain": [
       "'a b c d'"
      ]
     },
     "execution_count": 53,
     "metadata": {},
     "output_type": "execute_result"
    }
   ],
   "source": [
    "reverse_words('a b c d')"
   ]
  },
  {
   "cell_type": "code",
   "execution_count": 54,
   "id": "ff861b91",
   "metadata": {},
   "outputs": [
    {
     "data": {
      "text/plain": [
       "'elbuod  decaps  sdrow'"
      ]
     },
     "execution_count": 54,
     "metadata": {},
     "output_type": "execute_result"
    }
   ],
   "source": [
    "reverse_words('double  spaced  words')"
   ]
  },
  {
   "cell_type": "code",
   "execution_count": 55,
   "id": "e7dde8cd",
   "metadata": {},
   "outputs": [
    {
     "data": {
      "text/plain": [
       "'elppa'"
      ]
     },
     "execution_count": 55,
     "metadata": {},
     "output_type": "execute_result"
    }
   ],
   "source": [
    "reverse_words('apple')"
   ]
  },
  {
   "cell_type": "code",
   "execution_count": null,
   "id": "f6333ed5",
   "metadata": {},
   "outputs": [],
   "source": []
  },
  {
   "cell_type": "code",
   "execution_count": 62,
   "id": "7634565f",
   "metadata": {},
   "outputs": [],
   "source": [
    "def DNA_strand(dna):\n",
    "    new_dna = ''\n",
    "    \n",
    "    for char in dna:\n",
    "        if char == 'T':\n",
    "            new_dna += 'A'\n",
    "        elif char == 'A':\n",
    "            new_dna += 'T'\n",
    "        elif char == 'C':\n",
    "            new_dna += 'G'\n",
    "        elif char == 'G':\n",
    "            new_dna += 'C'\n",
    "    return new_dna"
   ]
  },
  {
   "cell_type": "code",
   "execution_count": 71,
   "id": "c9d2264b",
   "metadata": {},
   "outputs": [
    {
     "data": {
      "text/plain": [
       "'TTTT'"
      ]
     },
     "execution_count": 71,
     "metadata": {},
     "output_type": "execute_result"
    }
   ],
   "source": [
    "DNA_strand(\"AAAA\")"
   ]
  },
  {
   "cell_type": "code",
   "execution_count": 70,
   "id": "e76462e9",
   "metadata": {},
   "outputs": [],
   "source": [
    "def DNA_strand(dna):\n",
    "    pairs = {'A':'T', 'C':'G'}\n",
    "    new_dna = ''\n",
    "    \n",
    "    for char in dna:\n",
    "        for k, v in pairs.items():\n",
    "            if char == k:\n",
    "                new_dna += v\n",
    "            elif char == v:\n",
    "                new_dna += k\n",
    "    return new_dna"
   ]
  },
  {
   "cell_type": "code",
   "execution_count": 64,
   "id": "4e14ceb9",
   "metadata": {},
   "outputs": [],
   "source": [
    "pairs = {'A':'T','T':'A','C':'G','G':'C'}"
   ]
  },
  {
   "cell_type": "code",
   "execution_count": 65,
   "id": "cdb6028c",
   "metadata": {},
   "outputs": [
    {
     "data": {
      "text/plain": [
       "dict_items([('A', 'T'), ('T', 'A'), ('C', 'G'), ('G', 'C')])"
      ]
     },
     "execution_count": 65,
     "metadata": {},
     "output_type": "execute_result"
    }
   ],
   "source": [
    "pairs.items()"
   ]
  },
  {
   "cell_type": "code",
   "execution_count": 25,
   "id": "22494da1",
   "metadata": {},
   "outputs": [],
   "source": [
    "def get_grade(s1, s2, s3):\n",
    "    if ((s1 + s2 + s3)/3) in range(90, 101):\n",
    "        print((s1 + s2 + s3)/3)\n",
    "        return 'A'\n",
    "    elif (s1 + s2 + s3)/3  in range(80, 90):\n",
    "        return 'B'\n",
    "    elif (s1 + s2 + s3)/3  in range(70, 80):\n",
    "        return 'C'\n",
    "    elif (s1 + s2 + s3)/3  in range(60, 70):\n",
    "        return 'D'\n",
    "    elif (s1 + s2 + s3)/3  in range(0, 60):\n",
    "        #return 'F'\n",
    "    #else:\n",
    "        #return 'F'"
   ]
  },
  {
   "cell_type": "code",
   "execution_count": 16,
   "id": "4814ca69",
   "metadata": {},
   "outputs": [
    {
     "data": {
      "text/plain": [
       "72.66666666666667"
      ]
     },
     "execution_count": 16,
     "metadata": {},
     "output_type": "execute_result"
    }
   ],
   "source": [
    "(60 + 82 + 76)/3"
   ]
  },
  {
   "cell_type": "code",
   "execution_count": 26,
   "id": "960ce964",
   "metadata": {},
   "outputs": [],
   "source": [
    "get_grade(60, 82, 76)"
   ]
  },
  {
   "cell_type": "code",
   "execution_count": 17,
   "id": "f6b3249c",
   "metadata": {},
   "outputs": [],
   "source": [
    "def get_grade(*s):\n",
    "    return 'FFFFFFDCBAA'[sum(s)//30]"
   ]
  },
  {
   "cell_type": "code",
   "execution_count": 6,
   "id": "5d6a76d1",
   "metadata": {},
   "outputs": [
    {
     "data": {
      "text/plain": [
       "'B'"
      ]
     },
     "execution_count": 6,
     "metadata": {},
     "output_type": "execute_result"
    }
   ],
   "source": [
    "get_grade(92, 93, 64)"
   ]
  },
  {
   "cell_type": "code",
   "execution_count": 5,
   "id": "61b9ca06",
   "metadata": {},
   "outputs": [
    {
     "data": {
      "text/plain": [
       "[90, 91, 92, 93, 94, 95, 96, 97, 98, 99, 100]"
      ]
     },
     "execution_count": 5,
     "metadata": {},
     "output_type": "execute_result"
    }
   ],
   "source": [
    "list(range(90, 101))"
   ]
  },
  {
   "cell_type": "code",
   "execution_count": null,
   "id": "52e1ca82",
   "metadata": {},
   "outputs": [],
   "source": []
  },
  {
   "cell_type": "code",
   "execution_count": 3,
   "id": "f7d22a89",
   "metadata": {},
   "outputs": [],
   "source": [
    "import string"
   ]
  },
  {
   "cell_type": "code",
   "execution_count": 5,
   "id": "f4af984e",
   "metadata": {},
   "outputs": [],
   "source": [
    "def printer_error(s):\n",
    "    good_str = string.ascii_lowercase[:13]\n",
    "    errors_num = 0\n",
    "    for i in s:\n",
    "        if i not in good_str:\n",
    "            errors_num += 1\n",
    "    return f'{errors_num}/{len(s)}'\n",
    "    \n",
    "    #     # return \"{}/{}\".format(len([x for x in s if x not in \"abcdefghijklm\"]), len(s)) - in one line!"
   ]
  },
  {
   "cell_type": "code",
   "execution_count": 12,
   "id": "9c4375a9",
   "metadata": {},
   "outputs": [
    {
     "data": {
      "text/plain": [
       "'3/56'"
      ]
     },
     "execution_count": 12,
     "metadata": {},
     "output_type": "execute_result"
    }
   ],
   "source": [
    "s=\"aaaaaaaaaaaaaaaabbbbbbbbbbbbbbbbbbmmmmmmmmmmmmmmmmmmmxyz\"\n",
    "printer_error(s)"
   ]
  },
  {
   "cell_type": "code",
   "execution_count": 11,
   "id": "670928fd",
   "metadata": {},
   "outputs": [],
   "source": [
    "def printer_error(s):\n",
    "    return \"{}/{}\".format(len([x for x in s if x not in \"abcdefghijklm\"]), len(s))"
   ]
  },
  {
   "cell_type": "code",
   "execution_count": null,
   "id": "7aae6505",
   "metadata": {},
   "outputs": [],
   "source": []
  },
  {
   "cell_type": "code",
   "execution_count": 35,
   "id": "84946fc4",
   "metadata": {},
   "outputs": [],
   "source": [
    "def better_than_average(class_points, your_points):\n",
    "    return your_points > ((sum(class_points) + your_points)/((len(class_points)) + 1))"
   ]
  },
  {
   "cell_type": "code",
   "execution_count": 36,
   "id": "a8745010",
   "metadata": {},
   "outputs": [
    {
     "data": {
      "text/plain": [
       "False"
      ]
     },
     "execution_count": 36,
     "metadata": {},
     "output_type": "execute_result"
    }
   ],
   "source": [
    "better_than_average([41, 75, 72, 56, 80, 82, 81, 33], 50)"
   ]
  },
  {
   "cell_type": "code",
   "execution_count": 29,
   "id": "4b5c61a9",
   "metadata": {},
   "outputs": [
    {
     "data": {
      "text/plain": [
       "525.5555555555555"
      ]
     },
     "execution_count": 29,
     "metadata": {},
     "output_type": "execute_result"
    }
   ],
   "source": [
    "sum([41, 75, 72, 56, 80, 82, 81, 33]) + 50 / (len([41, 75, 72, 56, 80, 82, 81, 33]) + 1)"
   ]
  },
  {
   "cell_type": "code",
   "execution_count": null,
   "id": "7cefd485",
   "metadata": {},
   "outputs": [],
   "source": []
  },
  {
   "cell_type": "code",
   "execution_count": 73,
   "id": "ad4307b4",
   "metadata": {},
   "outputs": [],
   "source": [
    "def nb_year(p0, percent, aug, p):\n",
    "    years_count = 0\n",
    "    while p0 < p:\n",
    "        p0 = round(p0 + p0*(percent/100) + aug)\n",
    "        years_count += 1\n",
    "        print(p0)\n",
    "    return years_count"
   ]
  },
  {
   "cell_type": "code",
   "execution_count": 74,
   "id": "35a4c4a0",
   "metadata": {},
   "outputs": [
    {
     "name": "stdout",
     "output_type": "stream",
     "text": [
      "1675\n",
      "1859\n",
      "2052\n",
      "2255\n",
      "2468\n",
      "2691\n",
      "2926\n",
      "3172\n",
      "3431\n",
      "3703\n",
      "3988\n",
      "4287\n",
      "4601\n",
      "4931\n",
      "5278\n"
     ]
    },
    {
     "data": {
      "text/plain": [
       "15"
      ]
     },
     "execution_count": 74,
     "metadata": {},
     "output_type": "execute_result"
    }
   ],
   "source": [
    "nb_year(1500, 5, 100, 5000)"
   ]
  },
  {
   "cell_type": "code",
   "execution_count": 60,
   "id": "1867696c",
   "metadata": {},
   "outputs": [
    {
     "data": {
      "text/plain": [
       "105"
      ]
     },
     "execution_count": 60,
     "metadata": {},
     "output_type": "execute_result"
    }
   ],
   "source": [
    "round(1500*0.07)"
   ]
  },
  {
   "cell_type": "code",
   "execution_count": null,
   "id": "00da5052",
   "metadata": {},
   "outputs": [],
   "source": []
  },
  {
   "cell_type": "code",
   "execution_count": 70,
   "id": "da955e42",
   "metadata": {},
   "outputs": [],
   "source": [
    "def count_by(x, n):\n",
    "    \"\"\"\n",
    "    Return a sequence of numbers counting by `x` `n` times.\n",
    "    \"\"\"\n",
    "    return [i*x for i in range(1, n+1)]"
   ]
  },
  {
   "cell_type": "code",
   "execution_count": 72,
   "id": "8e03342a",
   "metadata": {},
   "outputs": [
    {
     "data": {
      "text/plain": [
       "[2, 4, 6, 8, 10]"
      ]
     },
     "execution_count": 72,
     "metadata": {},
     "output_type": "execute_result"
    }
   ],
   "source": [
    "count_by(2, 5)"
   ]
  },
  {
   "cell_type": "code",
   "execution_count": 34,
   "id": "699feec6",
   "metadata": {},
   "outputs": [
    {
     "data": {
      "text/plain": [
       "([6, 8, 10], [3, 6, 9, 12, 15])"
      ]
     },
     "execution_count": 34,
     "metadata": {},
     "output_type": "execute_result"
    }
   ],
   "source": [
    "count_by(1, 5), [1, 2, 3, 4, 5]\n",
    "count_by(2, 5), [2, 4, 6, 8, 10]\n",
    "count_by(3, 5), [3, 6, 9, 12, 15]"
   ]
  },
  {
   "cell_type": "code",
   "execution_count": null,
   "id": "a773a4d2",
   "metadata": {},
   "outputs": [],
   "source": []
  },
  {
   "cell_type": "code",
   "execution_count": 189,
   "id": "f671ea53",
   "metadata": {},
   "outputs": [],
   "source": [
    "def remove_smallest(numbers):\n",
    "    new_list = numbers.copy() # make a copy because of no mutating original list\n",
    "    \n",
    "    if len(numbers) > 0:\n",
    "        min_num = min(new_list)\n",
    "        new_list.remove(min_num)\n",
    "        return new_list\n",
    "    else:\n",
    "        return numbers"
   ]
  },
  {
   "cell_type": "code",
   "execution_count": 178,
   "id": "3afc06d1",
   "metadata": {},
   "outputs": [],
   "source": [
    "def remove_smallest(numbers):\n",
    "    if len(numbers) > 0:\n",
    "        #min_index = numbers.index(min(numbers))\n",
    "        min_number = numbers[numbers.index(min(numbers))]\n",
    "        # print(min_number)\n",
    "        numbers.remove(min_number)\n",
    "        return numbers\n",
    "    else:\n",
    "        return numbers"
   ]
  },
  {
   "cell_type": "code",
   "execution_count": 190,
   "id": "d007e7d2",
   "metadata": {},
   "outputs": [
    {
     "data": {
      "text/plain": [
       "[2, 3, 4, 5, 1]"
      ]
     },
     "execution_count": 190,
     "metadata": {},
     "output_type": "execute_result"
    }
   ],
   "source": [
    "remove_smallest([1, 2, 3, 4, 5, 1]) # [2, 3, 4, 5]"
   ]
  },
  {
   "cell_type": "code",
   "execution_count": 153,
   "id": "688da795",
   "metadata": {},
   "outputs": [],
   "source": [
    "numbers = [2, 2, 3, 4, 5, 1]"
   ]
  },
  {
   "cell_type": "code",
   "execution_count": 138,
   "id": "89e0ba87",
   "metadata": {},
   "outputs": [
    {
     "data": {
      "text/plain": [
       "5"
      ]
     },
     "execution_count": 138,
     "metadata": {},
     "output_type": "execute_result"
    }
   ],
   "source": [
    "numbers.index(min(numbers))"
   ]
  },
  {
   "cell_type": "code",
   "execution_count": 90,
   "id": "d6e3133a",
   "metadata": {},
   "outputs": [
    {
     "data": {
      "text/plain": [
       "1"
      ]
     },
     "execution_count": 90,
     "metadata": {},
     "output_type": "execute_result"
    }
   ],
   "source": [
    "min_num = min(enumerate(numbers))\n",
    "min_num\n",
    "numbers.pop(min_num[0])"
   ]
  },
  {
   "cell_type": "code",
   "execution_count": 91,
   "id": "860cc3f3",
   "metadata": {},
   "outputs": [
    {
     "data": {
      "text/plain": [
       "[2, 3, 4, 5, 1]"
      ]
     },
     "execution_count": 91,
     "metadata": {},
     "output_type": "execute_result"
    }
   ],
   "source": [
    "numbers"
   ]
  },
  {
   "cell_type": "code",
   "execution_count": 34,
   "id": "42d449ff",
   "metadata": {},
   "outputs": [
    {
     "data": {
      "text/plain": [
       "2"
      ]
     },
     "execution_count": 34,
     "metadata": {},
     "output_type": "execute_result"
    }
   ],
   "source": [
    "newlst = numbers.pop()\n",
    "newlst"
   ]
  },
  {
   "cell_type": "code",
   "execution_count": null,
   "id": "4dce34bf",
   "metadata": {},
   "outputs": [],
   "source": []
  },
  {
   "cell_type": "code",
   "execution_count": 28,
   "id": "48f4a59c",
   "metadata": {},
   "outputs": [],
   "source": [
    "def correct(s):\n",
    "    # pairs = {'5':'S', '0':'O', '1':'I'}\n",
    "    return s.translate(str.maketrans({'5':'S', '0':'O', '1':'I'}))"
   ]
  },
  {
   "cell_type": "code",
   "execution_count": 29,
   "id": "28ee881f",
   "metadata": {},
   "outputs": [
    {
     "data": {
      "text/plain": [
       "'LONDON'"
      ]
     },
     "execution_count": 29,
     "metadata": {},
     "output_type": "execute_result"
    }
   ],
   "source": [
    "correct(\"L0ND0N\")"
   ]
  },
  {
   "cell_type": "code",
   "execution_count": null,
   "id": "0dc861d1",
   "metadata": {},
   "outputs": [],
   "source": []
  },
  {
   "cell_type": "code",
   "execution_count": 47,
   "id": "f65b2a12",
   "metadata": {},
   "outputs": [],
   "source": [
    "def find_short(s):\n",
    "    return min(len(word) for word in s.split())"
   ]
  },
  {
   "cell_type": "code",
   "execution_count": 48,
   "id": "7b6b05cb",
   "metadata": {},
   "outputs": [
    {
     "data": {
      "text/plain": [
       "3"
      ]
     },
     "execution_count": 48,
     "metadata": {},
     "output_type": "execute_result"
    }
   ],
   "source": [
    "find_short(\"bitcoin take over the world maybe who knows perhaps\") #3"
   ]
  },
  {
   "cell_type": "code",
   "execution_count": null,
   "id": "6482ec2b",
   "metadata": {},
   "outputs": [],
   "source": []
  },
  {
   "cell_type": "code",
   "execution_count": 58,
   "id": "2b3bee71",
   "metadata": {},
   "outputs": [],
   "source": [
    "def likes(names):\n",
    "    if len(names) == 0:\n",
    "        print(\"no one like this\")\n",
    "    elif len(names) == 1:\n",
    "        print(f'{names[0]} likes this')\n",
    "    elif len(names) == 2:\n",
    "        print(f'{names[0]} and {names[1]} like this')\n",
    "    elif len(names) == 3:\n",
    "        print(f'{names[0]}, {names[1]} and {names[2]} like this')\n",
    "    elif len(names) > 3:\n",
    "        print(f'{names[0]}, {names[1]} and {len(names) - 2} like this') \n",
    "    else:\n",
    "        pass"
   ]
  },
  {
   "cell_type": "code",
   "execution_count": 62,
   "id": "5ae6e5d2",
   "metadata": {},
   "outputs": [],
   "source": [
    "def likes(names):\n",
    "    d = {\n",
    "        0: \"no one likes this\",\n",
    "        1: \"{} likes this\",\n",
    "        2: \"{} and {} like this\",\n",
    "        3: \"{}, {} and {} like this\",\n",
    "        4: \"{}, {} and {others} others like this\"\n",
    "        }\n",
    "    length = len(names)\n",
    "    print(d[min(4, length)])\n",
    "    return d[min(4, length)].format(*names, others = length - 2)"
   ]
  },
  {
   "cell_type": "code",
   "execution_count": 64,
   "id": "12349277",
   "metadata": {},
   "outputs": [
    {
     "ename": "SyntaxError",
     "evalue": "invalid syntax (3451422699.py, line 2)",
     "output_type": "error",
     "traceback": [
      "\u001b[1;36m  File \u001b[1;32m\"C:\\Users\\ztvsp\\AppData\\Local\\Temp\\ipykernel_17512\\3451422699.py\"\u001b[1;36m, line \u001b[1;32m2\u001b[0m\n\u001b[1;33m    match names:\u001b[0m\n\u001b[1;37m          ^\u001b[0m\n\u001b[1;31mSyntaxError\u001b[0m\u001b[1;31m:\u001b[0m invalid syntax\n"
     ]
    }
   ],
   "source": [
    "def likes(names):\n",
    "    match names:\n",
    "        case []: return 'no one likes this'\n",
    "        case [a]: return f'{a} likes this'\n",
    "        case [a, b]: return f'{a} and {b} like this'\n",
    "        case [a, b, c]: return f'{a}, {b} and {c} like this'\n",
    "        case [a, b, *rest]: return f'{a}, {b} and {len(rest)} others like this'"
   ]
  },
  {
   "cell_type": "code",
   "execution_count": 65,
   "id": "043f7a76",
   "metadata": {},
   "outputs": [
    {
     "name": "stdout",
     "output_type": "stream",
     "text": [
      "{}, {} and {} like this\n"
     ]
    },
    {
     "data": {
      "text/plain": [
       "'Max, John and Mark like this'"
      ]
     },
     "execution_count": 65,
     "metadata": {},
     "output_type": "execute_result"
    }
   ],
   "source": [
    "likes(['Max', 'John', 'Mark'])"
   ]
  },
  {
   "cell_type": "code",
   "execution_count": 66,
   "id": "829528f1",
   "metadata": {},
   "outputs": [
    {
     "name": "stdout",
     "output_type": "stream",
     "text": [
      "conda 22.9.0\n",
      "\n",
      "Note: you may need to restart the kernel to use updated packages.\n"
     ]
    }
   ],
   "source": [
    "conda -V"
   ]
  },
  {
   "cell_type": "code",
   "execution_count": 71,
   "id": "f6c51afd",
   "metadata": {},
   "outputs": [
    {
     "name": "stdout",
     "output_type": "stream",
     "text": [
      "# packages in environment at C:\\Users\\ztvsp\\anaconda3:\n",
      "#\n",
      "# Name                    Version                   Build  Channel\n",
      "python                    3.9.18               h1aa4202_0  \n",
      "\n",
      "Note: you may need to restart the kernel to use updated packages.\n"
     ]
    }
   ],
   "source": [
    "conda list python -f"
   ]
  },
  {
   "cell_type": "code",
   "execution_count": 105,
   "id": "e4848e0b",
   "metadata": {},
   "outputs": [],
   "source": [
    "# сгенерировать для каждой буквы алфавита цифру. --> создать словарь!\n",
    "# Что с пробелами?!\n",
    "# исходя из этого заменить букву на цифру"
   ]
  },
  {
   "cell_type": "code",
   "execution_count": 106,
   "id": "15c4ff1b",
   "metadata": {},
   "outputs": [
    {
     "name": "stdout",
     "output_type": "stream",
     "text": [
      "{'a': 1, 'b': 2, 'c': 3}\n"
     ]
    }
   ],
   "source": [
    "keys = ['a', 'b', 'c']\n",
    "values = [1, 2, 3]\n",
    "dictionary = dict(zip(keys, values))\n",
    "print(dictionary) # {'a': 1, 'b': 2, 'c': 3}"
   ]
  },
  {
   "cell_type": "code",
   "execution_count": 96,
   "id": "e501073f",
   "metadata": {},
   "outputs": [
    {
     "name": "stdout",
     "output_type": "stream",
     "text": [
      "{'a': 1, 'b': 2, 'c': 3, 'd': 4, 'e': 5, 'f': 6, 'g': 7, 'h': 8, 'i': 9, 'j': 10, 'k': 11, 'l': 12, 'm': 13, 'n': 14, 'o': 15, 'p': 16, 'q': 17, 'r': 18, 's': 19, 't': 20, 'u': 21, 'v': 22, 'w': 23, 'x': 24, 'y': 25, 'z': 26}\n"
     ]
    }
   ],
   "source": [
    "keys = [char for char in string.ascii_lowercase]\n",
    "values = list(range(1, 27))\n",
    "dictionary = dict(zip(keys, values))\n",
    "print(dictionary) # {'a': 1, 'b': 2, 'c': 3}"
   ]
  },
  {
   "cell_type": "code",
   "execution_count": 149,
   "id": "5c781075",
   "metadata": {},
   "outputs": [],
   "source": [
    "import string\n",
    "def alphabet_position(text):\n",
    "    keys = [char for char in string.ascii_lowercase]\n",
    "    values = list(range(1, 27))\n",
    "    dictionary = dict(zip(keys, values))\n",
    "    # print(dictionary.items())\n",
    "\n",
    "    new_lst_str = []\n",
    "    \n",
    "    for char in text.lower():\n",
    "        for k, v in dictionary.items():\n",
    "            if char == k:\n",
    "                new_lst_str.append(str(v))\n",
    "                #print(len(new_lst_str))\n",
    "            else:\n",
    "                char == ' '\n",
    "    \n",
    "    return ' '.join(new_lst_str)\n",
    "    \n",
    "    # return ' '.join([word[::-1] for word in text.split(' ')])\n",
    "    # return ' '.join(text.replace('dictionary.values', 'dictionary.keys'))"
   ]
  },
  {
   "cell_type": "code",
   "execution_count": 150,
   "id": "51d7174a",
   "metadata": {},
   "outputs": [
    {
     "data": {
      "text/plain": [
       "'20 8 5 19 21 14 19 5 20 19 5 20 19 1 20 20 23 5 12 22 5 15 3 12 15 3 11'"
      ]
     },
     "execution_count": 150,
     "metadata": {},
     "output_type": "execute_result"
    }
   ],
   "source": [
    "alphabet_position(\"The sunset sets at twelve o' clock.\")"
   ]
  },
  {
   "cell_type": "code",
   "execution_count": 151,
   "id": "541aa296",
   "metadata": {},
   "outputs": [],
   "source": [
    "def alphabet_position(text):\n",
    "    return ' '.join(str(ord(c) - 96) for c in text.lower() if c.isalpha())"
   ]
  },
  {
   "cell_type": "code",
   "execution_count": 152,
   "id": "932c0867",
   "metadata": {},
   "outputs": [],
   "source": [
    "alphabet = 'abcdefghijklmnopqrstuvwxyz'\n",
    "\n",
    "def alphabet_position(text):\n",
    "    if type(text) == str:\n",
    "        text = text.lower()\n",
    "        result = ''\n",
    "        for letter in text:\n",
    "            if letter.isalpha() == True:\n",
    "                result = result + ' ' + str(alphabet.index(letter) + 1) # \"index\"!!!!\n",
    "        return result.lstrip(' ')"
   ]
  },
  {
   "cell_type": "code",
   "execution_count": 163,
   "id": "bb90e8af",
   "metadata": {},
   "outputs": [
    {
     "data": {
      "text/plain": [
       "1"
      ]
     },
     "execution_count": 163,
     "metadata": {},
     "output_type": "execute_result"
    }
   ],
   "source": [
    "alphabet.index(\"a\") + 1"
   ]
  },
  {
   "cell_type": "code",
   "execution_count": 164,
   "id": "82bad86c",
   "metadata": {},
   "outputs": [],
   "source": [
    "def alphabet_position(text):\n",
    "    alphabet = {  'a' : 1,\n",
    "                  'b' : 2,\n",
    "                  'c' : 3,\n",
    "                  'd' : 4,\n",
    "                  'e' : 5,\n",
    "                  'f' : 6,\n",
    "                  'g' : 7,\n",
    "                  'h' : 8,\n",
    "                  'i' : 9,\n",
    "                  'j' : 10,\n",
    "                  'k' : 11,\n",
    "                  'l' : 12,\n",
    "                  'm' : 13,\n",
    "                  'n' : 14,\n",
    "                  'o' : 15,\n",
    "                  'p' : 16,\n",
    "                  'q' : 17,\n",
    "                  'r' : 18,\n",
    "                  's' : 19,\n",
    "                  't' : 20,\n",
    "                  'u' : 21,\n",
    "                  'v' : 22,\n",
    "                  'w' : 23,\n",
    "                  'x' : 24,\n",
    "                  'y' : 25,\n",
    "                  'z' : 26, }\n",
    "    inds = []\n",
    "    for x in text.lower():\n",
    "        if x in alphabet:\n",
    "            inds.append(alphabet[x])\n",
    "    return ' '.join(([str(x) for x in inds]))"
   ]
  },
  {
   "cell_type": "code",
   "execution_count": null,
   "id": "1fdca380",
   "metadata": {},
   "outputs": [],
   "source": []
  },
  {
   "cell_type": "code",
   "execution_count": null,
   "id": "f592dd47",
   "metadata": {},
   "outputs": [],
   "source": []
  },
  {
   "cell_type": "code",
   "execution_count": 4,
   "id": "7cd2eebd",
   "metadata": {},
   "outputs": [],
   "source": [
    "# List of books read by each member \n",
    "books_read = [ \n",
    "    [\"1984\", \"To Kill a Mockingbird\", \"The Great Gatsby\"], \n",
    "    [\"The Catcher in the Rye\", \"1984\", \"To Kill a Mockingbird\"], \n",
    "    [\"Pride and Prejudice\", \"1984\"] \n",
    "] "
   ]
  },
  {
   "cell_type": "code",
   "execution_count": null,
   "id": "b8ddc591",
   "metadata": {},
   "outputs": [],
   "source": []
  },
  {
   "cell_type": "code",
   "execution_count": 88,
   "id": "bee6652d",
   "metadata": {},
   "outputs": [],
   "source": [
    "# разделить строку на слова\n",
    "# найти в слове цифру\n",
    "# распределить слова согласно цифрам. -- создать dictionary??\n",
    "\n",
    "import string\n",
    "\n",
    "def order(sentence):\n",
    "    \n",
    "    lst_nums = []\n",
    "    lst_words = []\n",
    "    \n",
    "    for word in sentence.split():\n",
    "        for x in word:\n",
    "            if x in string.digits:\n",
    "                lst_nums.append(x)\n",
    "                lst_words.append(word)\n",
    "    dictionary = dict(zip(lst_words, lst_nums))\n",
    "    sorted_dict = dict(sorted(dictionary.items(), key=lambda y:y[1]))\n",
    "    print(sorted_dict)\n",
    "    \n",
    "    output = []\n",
    "    \n",
    "    if len(sorted_dict) > 0:\n",
    "        for k, v in sorted_dict.items():\n",
    "            output.append(k)\n",
    "        \n",
    "    else:\n",
    "        return ''\n",
    "                \n",
    "\n",
    "    return ' '.join(output)"
   ]
  },
  {
   "cell_type": "code",
   "execution_count": 121,
   "id": "07d898f8",
   "metadata": {},
   "outputs": [],
   "source": [
    "def order(sentence):\n",
    "  # code here\n",
    "    if not sentence:\n",
    "        return ''\n",
    "    else:\n",
    "        #split the sentence into a list\n",
    "        sentence_list=sentence.split()\n",
    "        order=[]\n",
    "        for word in sentence_list:\n",
    "            for c in word:\n",
    "                # we save the number of each word\n",
    "                if c.isdigit():\n",
    "                    order.append(c)\n",
    "        # we create a list of tuples zipping the sentence list and the order list and we can sort by the 'order'\n",
    "        sentence_sorted=[y for x,y in sorted(zip(order, sentence_list))]\n",
    "        print(sentence_sorted)\n",
    "        return ' '.join(sentence_sorted)"
   ]
  },
  {
   "cell_type": "code",
   "execution_count": 122,
   "id": "93cefdf2",
   "metadata": {},
   "outputs": [
    {
     "name": "stdout",
     "output_type": "stream",
     "text": [
      "['1ask', 'g2ood', 'l3ast']\n"
     ]
    },
    {
     "data": {
      "text/plain": [
       "'1ask g2ood l3ast'"
      ]
     },
     "execution_count": 122,
     "metadata": {},
     "output_type": "execute_result"
    }
   ],
   "source": [
    "order('l3ast 1ask g2ood')"
   ]
  },
  {
   "cell_type": "markdown",
   "id": "955f2659",
   "metadata": {},
   "source": [
    "okay, interesting! I've been wondering if it's only sorting the digits from the chars in each word, but actually it is also sorting the chars. So when I do something like this, sentence = \"ca2da Ab1ra b3ra\" for word in sentence.split(): print(sorted(word))\n",
    "\n",
    "it prints: ['2', 'a', 'a', 'c', 'd'] ['1', 'A', 'a', 'b', 'r'] ['3', 'a', 'b', 'r']\n",
    "\n",
    "So it actually sorts digits and chars/letters in a single word in a list. (Sorry for bad syntax. I tried different things..)"
   ]
  },
  {
   "cell_type": "code",
   "execution_count": null,
   "id": "33d1f1a7",
   "metadata": {},
   "outputs": [],
   "source": [
    "def order(words):\n",
    "    return ' '.join(sorted(words.split(), key=lambda w:sorted(w)))"
   ]
  },
  {
   "cell_type": "code",
   "execution_count": 117,
   "id": "77fc47b5",
   "metadata": {},
   "outputs": [],
   "source": [
    "def srted(w):\n",
    "    print(sorted(w))"
   ]
  },
  {
   "cell_type": "code",
   "execution_count": 120,
   "id": "7f626756",
   "metadata": {},
   "outputs": [
    {
     "name": "stdout",
     "output_type": "stream",
     "text": [
      "['2', 'i', 's']\n"
     ]
    }
   ],
   "source": [
    "srted(b)"
   ]
  },
  {
   "cell_type": "code",
   "execution_count": 125,
   "id": "f27be2f4",
   "metadata": {},
   "outputs": [],
   "source": [
    "b = \"is2 Thi1s T4est 3a\""
   ]
  },
  {
   "cell_type": "code",
   "execution_count": 104,
   "id": "664920e3",
   "metadata": {},
   "outputs": [
    {
     "name": "stdout",
     "output_type": "stream",
     "text": [
      "['Thi1s', 'is2', '3a', 'T4est']\n"
     ]
    }
   ],
   "source": [
    "print(sorted(b.split(), key=lambda x:sorted(x)))"
   ]
  },
  {
   "cell_type": "code",
   "execution_count": 129,
   "id": "44e284d3",
   "metadata": {},
   "outputs": [
    {
     "ename": "TypeError",
     "evalue": "can only concatenate tuple (not \"int\") to tuple",
     "output_type": "error",
     "traceback": [
      "\u001b[1;31m---------------------------------------------------------------------------\u001b[0m",
      "\u001b[1;31mTypeError\u001b[0m                                 Traceback (most recent call last)",
      "\u001b[1;32m~\\AppData\\Local\\Temp\\ipykernel_6756\\470172597.py\u001b[0m in \u001b[0;36m<module>\u001b[1;34m\u001b[0m\n\u001b[0;32m      2\u001b[0m \u001b[0my\u001b[0m \u001b[1;33m=\u001b[0m \u001b[1;36m3\u001b[0m\u001b[1;33m\u001b[0m\u001b[1;33m\u001b[0m\u001b[0m\n\u001b[0;32m      3\u001b[0m \u001b[1;33m\u001b[0m\u001b[0m\n\u001b[1;32m----> 4\u001b[1;33m \u001b[0mx\u001b[0m\u001b[1;33m,\u001b[0m \u001b[0my\u001b[0m \u001b[1;33m=\u001b[0m \u001b[0mx\u001b[0m \u001b[1;33m+\u001b[0m \u001b[0my\u001b[0m\u001b[1;33m\u001b[0m\u001b[1;33m\u001b[0m\u001b[0m\n\u001b[0m",
      "\u001b[1;31mTypeError\u001b[0m: can only concatenate tuple (not \"int\") to tuple"
     ]
    }
   ],
   "source": [
    "x = 2, 3\n",
    "y = 3\n",
    "\n",
    "x, y = x + y"
   ]
  },
  {
   "cell_type": "code",
   "execution_count": 130,
   "id": "7df1ff36",
   "metadata": {},
   "outputs": [
    {
     "name": "stdout",
     "output_type": "stream",
     "text": [
      "['is2', 'Thi1s', 'T4est', '3a']\n"
     ]
    }
   ],
   "source": [
    "print(b.split())"
   ]
  },
  {
   "cell_type": "code",
   "execution_count": 97,
   "id": "c95035d4",
   "metadata": {},
   "outputs": [
    {
     "name": "stdout",
     "output_type": "stream",
     "text": [
      "['2', 'i', 's']\n",
      "['1', 'T', 'h', 'i', 's']\n",
      "['4', 'T', 'e', 's', 't']\n",
      "['3', 'a']\n"
     ]
    }
   ],
   "source": [
    "for x in b.split():\n",
    "    print(sorted(x))"
   ]
  },
  {
   "cell_type": "code",
   "execution_count": 126,
   "id": "0bc93ed7",
   "metadata": {},
   "outputs": [
    {
     "name": "stdout",
     "output_type": "stream",
     "text": [
      "['3a', 'T4est', 'Thi1s', 'is2']\n"
     ]
    }
   ],
   "source": [
    "print(sorted(x for x in sorted(b.split())))"
   ]
  },
  {
   "cell_type": "code",
   "execution_count": null,
   "id": "9090f84a",
   "metadata": {},
   "outputs": [],
   "source": []
  },
  {
   "cell_type": "code",
   "execution_count": 94,
   "id": "fa5936ae",
   "metadata": {
    "scrolled": true
   },
   "outputs": [
    {
     "data": {
      "text/plain": [
       "'Thi1s is2 3a T4est'"
      ]
     },
     "execution_count": 94,
     "metadata": {},
     "output_type": "execute_result"
    }
   ],
   "source": [
    "order(\"is2 Thi1s T4est 3a\") #\"Thi1s is2 3a T4est\""
   ]
  },
  {
   "cell_type": "code",
   "execution_count": 90,
   "id": "1a771b1b",
   "metadata": {},
   "outputs": [
    {
     "name": "stdout",
     "output_type": "stream",
     "text": [
      "{'1ask': '1', 'g2ood': '2', 'l3ast': '3'}\n"
     ]
    },
    {
     "data": {
      "text/plain": [
       "'1ask g2ood l3ast'"
      ]
     },
     "execution_count": 90,
     "metadata": {},
     "output_type": "execute_result"
    }
   ],
   "source": [
    "order('l3ast 1ask g2ood')"
   ]
  },
  {
   "cell_type": "code",
   "execution_count": null,
   "id": "1c8e01d3",
   "metadata": {},
   "outputs": [],
   "source": []
  },
  {
   "cell_type": "code",
   "execution_count": 156,
   "id": "937204c7",
   "metadata": {},
   "outputs": [],
   "source": [
    "def past(h, m, s):\n",
    "    s = 1000 * s\n",
    "    m = m * 60 * 1000\n",
    "    h = h * 60 * 60 * 1000\n",
    "    \n",
    "    #0 <= h <= 23\n",
    "    #0 <= m <= 59\n",
    "    #0 <= s <= 59\n",
    "    \n",
    "    # ms = 0.001 * s\n",
    "\n",
    "    \n",
    "    \n",
    "    print(h, m, s)\n",
    "    \n",
    "    return 1*h + 1*m + 1*s"
   ]
  },
  {
   "cell_type": "code",
   "execution_count": 164,
   "id": "0140c33d",
   "metadata": {},
   "outputs": [],
   "source": [
    "l = 4\n",
    "w = 6"
   ]
  },
  {
   "cell_type": "code",
   "execution_count": 167,
   "id": "73efcdc3",
   "metadata": {},
   "outputs": [
    {
     "data": {
      "text/plain": [
       "20"
      ]
     },
     "execution_count": 167,
     "metadata": {},
     "output_type": "execute_result"
    }
   ],
   "source": [
    "[(l+w)*2, l*w][(l == w)]"
   ]
  },
  {
   "cell_type": "code",
   "execution_count": 161,
   "id": "8c2d2816",
   "metadata": {},
   "outputs": [
    {
     "name": "stdout",
     "output_type": "stream",
     "text": [
      "0 0 0\n"
     ]
    },
    {
     "data": {
      "text/plain": [
       "0"
      ]
     },
     "execution_count": 161,
     "metadata": {},
     "output_type": "execute_result"
    }
   ],
   "source": [
    "past(0,0,0)"
   ]
  },
  {
   "cell_type": "code",
   "execution_count": 180,
   "id": "d18a5cbc",
   "metadata": {},
   "outputs": [],
   "source": [
    "def solution(text, ending):\n",
    "    print(text[-len(ending):])\n",
    "    return ending in text[-len(ending):]"
   ]
  },
  {
   "cell_type": "code",
   "execution_count": 181,
   "id": "c389913d",
   "metadata": {},
   "outputs": [
    {
     "name": "stdout",
     "output_type": "stream",
     "text": [
      "ai\n"
     ]
    },
    {
     "data": {
      "text/plain": [
       "False"
      ]
     },
     "execution_count": 181,
     "metadata": {},
     "output_type": "execute_result"
    }
   ],
   "source": [
    "solution(\"samurai\", \"ra\")"
   ]
  },
  {
   "cell_type": "code",
   "execution_count": 182,
   "id": "1552d9e7",
   "metadata": {},
   "outputs": [
    {
     "name": "stdout",
     "output_type": "stream",
     "text": [
      "ai\n"
     ]
    },
    {
     "data": {
      "text/plain": [
       "True"
      ]
     },
     "execution_count": 182,
     "metadata": {},
     "output_type": "execute_result"
    }
   ],
   "source": [
    "solution(\"samurai\", \"ai\")"
   ]
  },
  {
   "cell_type": "code",
   "execution_count": null,
   "id": "b1a65d67",
   "metadata": {},
   "outputs": [],
   "source": []
  },
  {
   "cell_type": "code",
   "execution_count": 29,
   "id": "d2e57bec",
   "metadata": {},
   "outputs": [],
   "source": [
    "import string\n",
    "\n",
    "def is_pangram(s):\n",
    "        # a = set(s)\n",
    "        # b = set(string.ascii_lowercase)\n",
    "        return set(string.ascii_lowercase).issubset(set(s))"
   ]
  },
  {
   "cell_type": "code",
   "execution_count": 30,
   "id": "283a5dd9",
   "metadata": {},
   "outputs": [
    {
     "data": {
      "text/plain": [
       "True"
      ]
     },
     "execution_count": 30,
     "metadata": {},
     "output_type": "execute_result"
    }
   ],
   "source": [
    "is_pangram(\"The quick, brown fox jumps over the lazy dog!\")"
   ]
  },
  {
   "cell_type": "code",
   "execution_count": null,
   "id": "433a5600",
   "metadata": {},
   "outputs": [],
   "source": []
  },
  {
   "cell_type": "code",
   "execution_count": 107,
   "id": "f5fd40f7",
   "metadata": {},
   "outputs": [],
   "source": [
    "def longest_consec(strarr, k):\n",
    "    \n",
    "    output = []\n",
    "    \n",
    "    if len(strarr) == 0 or k > len(strarr) or k <= 0:\n",
    "        return \"\"\n",
    "     \n",
    "    for num, word in strarr:\n",
    "        \n",
    "        print([len(i) for i in a]) #[max(len(i)):max(len(i))+k])\n",
    "        \n",
    "        #print(sorted(a, key=lambda x:max(x))[:2])\n",
    "        \n",
    "        # отсортировать strarr по длине слов\n",
    "        \n",
    "        \n",
    "        # выбрать k-строк из strarr по длине [max:k] в лист output\n",
    "        \n",
    "        \n",
    "        output.append(max([len(i) for i in a]))\n",
    "    \n",
    "    return ''.join(output)\n",
    "            "
   ]
  },
  {
   "cell_type": "code",
   "execution_count": 131,
   "id": "8e3cc25c",
   "metadata": {},
   "outputs": [],
   "source": [
    "def longest_consec(strarr, k):\n",
    "    \n",
    "    output = []\n",
    "    \n",
    "    if len(strarr) == 0 or k > len(strarr) or k <= 0:\n",
    "        return \"\"\n",
    "\n",
    "    for word in strarr:\n",
    "        print(word)\n",
    "        output.append(max((word)))\n",
    "        #sentence_sorted=[y for x,y in sorted(zip(order, sentence_list))]   \n",
    "        \n",
    "        # output.append(max([len(i) for i in a]))\n",
    "    \n",
    "    return output\n",
    "            "
   ]
  },
  {
   "cell_type": "code",
   "execution_count": 57,
   "id": "206c302d",
   "metadata": {},
   "outputs": [],
   "source": [
    "def longest_consec(strarr, k):\n",
    "    print(sorted(strarr, key=lambda x:max(x))[:k])"
   ]
  },
  {
   "cell_type": "code",
   "execution_count": 156,
   "id": "eadcb707",
   "metadata": {},
   "outputs": [],
   "source": [
    "def longest_consec(strarr, k):\n",
    "    \n",
    "    if len(strarr) == 0 or k > len(strarr) or k <= 0:\n",
    "        return \"\"\n",
    "    if len(strarr) < k:\n",
    "        return result\n",
    "    \n",
    "    result = ''\n",
    "    \n",
    "    for i in range(len(strarr)):\n",
    "        # print(i, ''.join(strarr[i:i+k]))\n",
    "        combined_string = ''.join(strarr[i:i+k])\n",
    "        if len(combined_string) > len(result):\n",
    "            result = combined_string\n",
    "    return result"
   ]
  },
  {
   "cell_type": "code",
   "execution_count": 157,
   "id": "fd667487",
   "metadata": {},
   "outputs": [
    {
     "data": {
      "text/plain": [
       "'abigailtheta'"
      ]
     },
     "execution_count": 157,
     "metadata": {},
     "output_type": "execute_result"
    }
   ],
   "source": [
    "longest_consec([\"zone\", \"abigail\", \"theta\", \"form\", \"libe\", \"zas\"], 2) # \"abigailtheta\""
   ]
  },
  {
   "cell_type": "code",
   "execution_count": 62,
   "id": "ea9bec39",
   "metadata": {},
   "outputs": [],
   "source": [
    "def longest_consec(strarr, k):\n",
    "    \n",
    "    if len(strarr) == 0 or k > len(strarr) or k <= 0:\n",
    "        return \"\"\n",
    "    \n",
    "    word_max = sorted(strarr, key=lambda x:len(x))[-1]\n",
    "    print(word_max)\n",
    "    index = [i for i, e in enumerate(strarr) if e == word_max]\n",
    "    # print(index[0])\n",
    "    output = strarr[index[0]:index[0]+k]\n",
    "    print(output)\n",
    "    return ''.join(output)\n"
   ]
  },
  {
   "cell_type": "code",
   "execution_count": 158,
   "id": "f3bb2c82",
   "metadata": {},
   "outputs": [],
   "source": [
    "def longest_consec(s, k):\n",
    "    return max([\"\".join(s[i:i+k]) for i in range(len(s)-k+1)], key=len) if s and 0 < k <= len(s) else \"\"\n"
   ]
  },
  {
   "cell_type": "code",
   "execution_count": 155,
   "id": "a16b47ae",
   "metadata": {
    "scrolled": true
   },
   "outputs": [
    {
     "data": {
      "text/plain": [
       "'dqqqaaabbboocccffuucccjjjkkkjyyyeehh'"
      ]
     },
     "execution_count": 155,
     "metadata": {},
     "output_type": "execute_result"
    }
   ],
   "source": [
    "longest_consec([\"ejjjjmmtthh\", \"zxxuueeg\", \"aanlljrrrxx\", \"dqqqaaabbb\", \"oocccffuucccjjjkkkjyyyeehh\"], 1) #\"oocccffuucccjjjkkkjyyyeehh\")"
   ]
  },
  {
   "cell_type": "code",
   "execution_count": 47,
   "id": "43dc1043",
   "metadata": {},
   "outputs": [
    {
     "data": {
      "text/plain": [
       "'owiaxujylentrklctozmymu'"
      ]
     },
     "execution_count": 47,
     "metadata": {},
     "output_type": "execute_result"
    }
   ],
   "source": [
    "sorted(b, key=lambda x:len(x))[-1]"
   ]
  },
  {
   "cell_type": "code",
   "execution_count": 73,
   "id": "e57794fe",
   "metadata": {},
   "outputs": [
    {
     "name": "stdout",
     "output_type": "stream",
     "text": [
      "0 ['tree', 'foling']\n",
      "1 ['foling', 'trashy']\n",
      "2 ['trashy', 'blue']\n",
      "3 ['blue', 'abcdef']\n",
      "4 ['abcdef', 'uvwxyz']\n",
      "5 ['uvwxyz']\n"
     ]
    }
   ],
   "source": [
    "longest_consec([\"tree\", \"foling\", \"trashy\", \"blue\", \"abcdef\", \"uvwxyz\"], k = 2)"
   ]
  },
  {
   "cell_type": "code",
   "execution_count": 74,
   "id": "b7a01a68",
   "metadata": {},
   "outputs": [
    {
     "name": "stdout",
     "output_type": "stream",
     "text": [
      "0 ['wlwsasphmxx', 'owiaxujylentrklctozmymu']\n",
      "1 ['owiaxujylentrklctozmymu', 'wpgozvxxiu']\n",
      "2 ['wpgozvxxiu']\n"
     ]
    }
   ],
   "source": [
    "longest_consec([\"wlwsasphmxx\",\"owiaxujylentrklctozmymu\",\"wpgozvxxiu\"], 2) # \"wlwsasphmxxowiaxujylentrklctozmymu\"\n"
   ]
  },
  {
   "cell_type": "code",
   "execution_count": 75,
   "id": "47223b08",
   "metadata": {},
   "outputs": [
    {
     "name": "stdout",
     "output_type": "stream",
     "text": [
      "0 ['itvayloxrp', 'wkppqsztdkmvcuwvereiupccauycnjutlv']\n",
      "1 ['wkppqsztdkmvcuwvereiupccauycnjutlv', 'vweqilsfytihvrzlaodfixoyxvyuyvgpck']\n",
      "2 ['vweqilsfytihvrzlaodfixoyxvyuyvgpck']\n"
     ]
    }
   ],
   "source": [
    "longest_consec([\"itvayloxrp\",\"wkppqsztdkmvcuwvereiupccauycnjutlv\",\"vweqilsfytihvrzlaodfixoyxvyuyvgpck\"], 2) \n",
    "#\"wkppqsztdkmvcuwvereiupccauycnjutlvvweqilsfytihvrzlaodfixoyxvyuyvgpck\")\n"
   ]
  },
  {
   "cell_type": "code",
   "execution_count": 15,
   "id": "45a4109b",
   "metadata": {},
   "outputs": [],
   "source": [
    "max_num = max([len(i) for i in a])"
   ]
  },
  {
   "cell_type": "code",
   "execution_count": 1,
   "id": "bae4bdf0",
   "metadata": {},
   "outputs": [
    {
     "name": "stdout",
     "output_type": "stream",
     "text": [
      "Index for Value java:  [2, 6, 8]\n"
     ]
    }
   ],
   "source": [
    "list=['Code', 'Favtutor', 'java','Machine Learning', 'Students', 'Studies', 'java', 'python','java']\n",
    "index = [i for i ,e in enumerate(list) if e == 'java']\n",
    "print(\"Index for Value java: \", index)"
   ]
  },
  {
   "cell_type": "code",
   "execution_count": null,
   "id": "71f80735",
   "metadata": {},
   "outputs": [],
   "source": [
    "print(sorted(strarr, key=lambda x:max(x))[:k])"
   ]
  },
  {
   "cell_type": "code",
   "execution_count": 167,
   "id": "4d15b70f",
   "metadata": {},
   "outputs": [
    {
     "name": "stdout",
     "output_type": "stream",
     "text": [
      "The index of e: 1\n"
     ]
    }
   ],
   "source": [
    "# alphabets list\n",
    "alphabets = ['a', 'e', 'i', 'o', 'g', 'l', 'i', 'u']\n",
    "\n",
    "# index of 'i' in alphabets\n",
    "index = alphabets.index('e')   # 1\n",
    "\n",
    "print('The index of e:', index)"
   ]
  },
  {
   "cell_type": "code",
   "execution_count": 89,
   "id": "62b95a16",
   "metadata": {},
   "outputs": [
    {
     "data": {
      "text/plain": [
       "[4, 7]"
      ]
     },
     "execution_count": 89,
     "metadata": {},
     "output_type": "execute_result"
    }
   ],
   "source": [
    "[len(i) for i in a][:2]"
   ]
  },
  {
   "cell_type": "code",
   "execution_count": null,
   "id": "4c643c72",
   "metadata": {},
   "outputs": [],
   "source": []
  },
  {
   "cell_type": "code",
   "execution_count": 119,
   "id": "cd2fd265",
   "metadata": {},
   "outputs": [],
   "source": [
    "def unique_in_order(sequence):\n",
    "    \n",
    "    output = []\n",
    "    prev = ''\n",
    "    \n",
    "    if len(sequence) < 1:\n",
    "        return output\n",
    "    \n",
    "    for el in (sequence):\n",
    "        if el != prev:\n",
    "            output.append(el)\n",
    "            prev = el\n",
    "            \n",
    "        \n",
    "    return output"
   ]
  },
  {
   "cell_type": "code",
   "execution_count": 120,
   "id": "55a069c7",
   "metadata": {},
   "outputs": [
    {
     "data": {
      "text/plain": [
       "['A', 'B', 'C', 'c', 'A']"
      ]
     },
     "execution_count": 120,
     "metadata": {},
     "output_type": "execute_result"
    }
   ],
   "source": [
    "unique_in_order([\"A\", \"B\", \"C\", \"c\", \"A\"])"
   ]
  },
  {
   "cell_type": "code",
   "execution_count": 1,
   "id": "6ec8924e",
   "metadata": {},
   "outputs": [],
   "source": [
    "from itertools import groupby\n",
    "\n",
    "def unique_in_order(iterable):\n",
    "    return [k for (k, _) in groupby(iterable)]"
   ]
  },
  {
   "cell_type": "code",
   "execution_count": 15,
   "id": "36f692c4",
   "metadata": {},
   "outputs": [],
   "source": [
    "def unique_in_order(iterable):\n",
    "    output = []\n",
    "    \n",
    "    for (k, _) in groupby(iterable):\n",
    "        output.append(k)\n",
    "        print(k)\n",
    "    return output"
   ]
  },
  {
   "cell_type": "code",
   "execution_count": 16,
   "id": "7f0f95b9",
   "metadata": {},
   "outputs": [
    {
     "name": "stdout",
     "output_type": "stream",
     "text": [
      "A\n",
      "B\n",
      "C\n",
      "c\n",
      "A\n"
     ]
    },
    {
     "data": {
      "text/plain": [
       "['A', 'B', 'C', 'c', 'A']"
      ]
     },
     "execution_count": 16,
     "metadata": {},
     "output_type": "execute_result"
    }
   ],
   "source": [
    "unique_in_order([\"A\", \"B\", \"C\", \"c\", \"A\"])"
   ]
  },
  {
   "cell_type": "code",
   "execution_count": null,
   "id": "b492ce0f",
   "metadata": {},
   "outputs": [],
   "source": [
    "    keys = [char for char in s]\n",
    "    values = list(range(1, 27))\n",
    "    dictionary = dict(zip(keys, values))\n",
    "    print(dictionary.items())   "
   ]
  },
  {
   "cell_type": "code",
   "execution_count": 42,
   "id": "278b14d6",
   "metadata": {},
   "outputs": [],
   "source": [
    "def count(s):\n",
    "    \n",
    "    if s == '':\n",
    "        return {}\n",
    "    \n",
    "    return {i:s.count(i) for i in s}"
   ]
  },
  {
   "cell_type": "code",
   "execution_count": 1,
   "id": "1dc02c23",
   "metadata": {},
   "outputs": [
    {
     "ename": "NameError",
     "evalue": "name 'count' is not defined",
     "output_type": "error",
     "traceback": [
      "\u001b[1;31m---------------------------------------------------------------------------\u001b[0m",
      "\u001b[1;31mNameError\u001b[0m                                 Traceback (most recent call last)",
      "Cell \u001b[1;32mIn[1], line 1\u001b[0m\n\u001b[1;32m----> 1\u001b[0m \u001b[43mcount\u001b[49m(\u001b[38;5;124m'\u001b[39m\u001b[38;5;124maabb\u001b[39m\u001b[38;5;124m'\u001b[39m)\n",
      "\u001b[1;31mNameError\u001b[0m: name 'count' is not defined"
     ]
    }
   ],
   "source": [
    "count('aabb')"
   ]
  },
  {
   "cell_type": "code",
   "execution_count": 44,
   "id": "10730e34",
   "metadata": {},
   "outputs": [],
   "source": [
    "from collections import Counter\n",
    "\n",
    "def count(string):\n",
    "    return Counter(string)"
   ]
  },
  {
   "cell_type": "code",
   "execution_count": null,
   "id": "53d8ec54",
   "metadata": {},
   "outputs": [],
   "source": []
  },
  {
   "cell_type": "code",
   "execution_count": 4,
   "id": "2529e83c",
   "metadata": {},
   "outputs": [],
   "source": [
    "def litres(time):\n",
    "    return round((time*0.5)//1)"
   ]
  },
  {
   "cell_type": "code",
   "execution_count": 5,
   "id": "87175fb4",
   "metadata": {},
   "outputs": [
    {
     "data": {
      "text/plain": [
       "6"
      ]
     },
     "execution_count": 5,
     "metadata": {},
     "output_type": "execute_result"
    }
   ],
   "source": [
    "litres(12.3) # 6, 'should return 6 litres'"
   ]
  },
  {
   "cell_type": "code",
   "execution_count": 3,
   "id": "2fa640e3",
   "metadata": {},
   "outputs": [
    {
     "data": {
      "text/plain": [
       "6"
      ]
     },
     "execution_count": 3,
     "metadata": {},
     "output_type": "execute_result"
    }
   ],
   "source": [
    "round((12.3*0.5))"
   ]
  },
  {
   "cell_type": "code",
   "execution_count": null,
   "id": "9aeda38f",
   "metadata": {},
   "outputs": [],
   "source": []
  },
  {
   "cell_type": "code",
   "execution_count": 150,
   "id": "4ff974e9",
   "metadata": {},
   "outputs": [
    {
     "data": {
      "text/plain": [
       "[3]"
      ]
     },
     "execution_count": 150,
     "metadata": {},
     "output_type": "execute_result"
    }
   ],
   "source": [
    "array_diff([1,2,3], [1, 2])"
   ]
  },
  {
   "cell_type": "code",
   "execution_count": 149,
   "id": "f565c319",
   "metadata": {},
   "outputs": [],
   "source": [
    "def array_diff(a, b):\n",
    "    return [item for item in a if item not in set(b)]"
   ]
  },
  {
   "cell_type": "code",
   "execution_count": 177,
   "id": "98a82cc2",
   "metadata": {},
   "outputs": [],
   "source": [
    "def is_root(n):\n",
    "     print((n ** 0.5) ** 2)"
   ]
  },
  {
   "cell_type": "code",
   "execution_count": 178,
   "id": "b9e72a9d",
   "metadata": {},
   "outputs": [
    {
     "name": "stdout",
     "output_type": "stream",
     "text": [
      "25.0\n"
     ]
    }
   ],
   "source": [
    "is_root(25)"
   ]
  },
  {
   "cell_type": "code",
   "execution_count": 1,
   "id": "9be8997a",
   "metadata": {},
   "outputs": [
    {
     "data": {
      "text/plain": [
       "'How it can be?'"
      ]
     },
     "execution_count": 1,
     "metadata": {},
     "output_type": "execute_result"
    }
   ],
   "source": [
    "s = 'How it can be?'\n",
    "s = s.capitalize()\n",
    "s"
   ]
  },
  {
   "cell_type": "code",
   "execution_count": null,
   "id": "be5295e9-2617-4657-9cfc-a83984b4bfc6",
   "metadata": {},
   "outputs": [],
   "source": []
  },
  {
   "cell_type": "code",
   "execution_count": 17,
   "id": "a9c88fd3",
   "metadata": {},
   "outputs": [],
   "source": [
    "# Let's use bruteforce approach\n",
    "def two_sum(numbers, target):\n",
    "    # check_indexes = []\n",
    "    \n",
    "    for i in range(len(numbers)):\n",
    "        for j in range(len(numbers)):\n",
    "            if numbers[j] + numbers[i] == target and i != j:\n",
    "                return [i, j]\n",
    "                \n",
    "        #print(check)\n",
    "                # print(numbers[j], numbers[i])\n",
    "\n",
    "    # return check_indexes"
   ]
  },
  {
   "cell_type": "code",
   "execution_count": 45,
   "id": "f308d00b",
   "metadata": {},
   "outputs": [],
   "source": [
    "def two_sum(numbers, target):\n",
    "    \n",
    "    for i in range(len(numbers)):\n",
    "        for j in range(len(numbers)):\n",
    "            # print(target, numbers[j], target - numbers[j])\n",
    "            # print(numbers[i])\n",
    "            if target - numbers[j] == numbers[i] and i != j:       \n",
    "                return [i, j]"
   ]
  },
  {
   "cell_type": "code",
   "execution_count": 46,
   "id": "0fd3791b",
   "metadata": {},
   "outputs": [
    {
     "data": {
      "text/plain": [
       "[0, 1]"
      ]
     },
     "execution_count": 46,
     "metadata": {},
     "output_type": "execute_result"
    }
   ],
   "source": [
    "two_sum([2, 2, 3], 4) "
   ]
  },
  {
   "cell_type": "code",
   "execution_count": 32,
   "id": "21197ad2",
   "metadata": {},
   "outputs": [
    {
     "name": "stdout",
     "output_type": "stream",
     "text": [
      "3\n"
     ]
    },
    {
     "data": {
      "text/plain": [
       "[0, 2]"
      ]
     },
     "execution_count": 32,
     "metadata": {},
     "output_type": "execute_result"
    }
   ],
   "source": [
    "two_sum([1 ,2, 3], 4)"
   ]
  },
  {
   "cell_type": "markdown",
   "id": "71a9edfe",
   "metadata": {},
   "source": [
    "    ([1 ,2, 3],            4,  ((0,2), (2,0))),\n",
    "    ([1234,5678,9012], 14690,  ((1,2), (2,1))),\n",
    "    ([2, 2, 3],            4,  ((0,1), (1,0))),"
   ]
  },
  {
   "cell_type": "code",
   "execution_count": null,
   "id": "b6a9b477",
   "metadata": {},
   "outputs": [],
   "source": []
  },
  {
   "cell_type": "code",
   "execution_count": null,
   "id": "c6a1c39d",
   "metadata": {},
   "outputs": [],
   "source": []
  }
 ],
 "metadata": {
  "kernelspec": {
   "display_name": "Python 3 (ipykernel)",
   "language": "python",
   "name": "python3"
  },
  "language_info": {
   "codemirror_mode": {
    "name": "ipython",
    "version": 3
   },
   "file_extension": ".py",
   "mimetype": "text/x-python",
   "name": "python",
   "nbconvert_exporter": "python",
   "pygments_lexer": "ipython3",
   "version": "3.11.5"
  }
 },
 "nbformat": 4,
 "nbformat_minor": 5
}
