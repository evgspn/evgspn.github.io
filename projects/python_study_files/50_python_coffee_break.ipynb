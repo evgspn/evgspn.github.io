{
 "cells": [
  {
   "cell_type": "code",
   "execution_count": 2,
   "id": "40898040",
   "metadata": {},
   "outputs": [
    {
     "name": "stdout",
     "output_type": "stream",
     "text": [
      "hello world\n"
     ]
    }
   ],
   "source": [
    "# 1\n",
    "print('hello world')"
   ]
  },
  {
   "cell_type": "code",
   "execution_count": 3,
   "id": "4e6c1de5",
   "metadata": {},
   "outputs": [
    {
     "name": "stdout",
     "output_type": "stream",
     "text": [
      "5.0\n"
     ]
    }
   ],
   "source": [
    "# 2\n",
    "x = 55/11\n",
    "print(x)"
   ]
  },
  {
   "cell_type": "code",
   "execution_count": 4,
   "id": "8b84ab70",
   "metadata": {},
   "outputs": [
    {
     "name": "stdout",
     "output_type": "stream",
     "text": [
      "110.0\n"
     ]
    }
   ],
   "source": [
    "# 3\n",
    "x = 50*2 + (60 - 20) / 4\n",
    "print(x)"
   ]
  },
  {
   "cell_type": "code",
   "execution_count": 5,
   "id": "9f9ee39f",
   "metadata": {},
   "outputs": [
    {
     "name": "stdout",
     "output_type": "stream",
     "text": [
      "# Is this a comment?\n"
     ]
    }
   ],
   "source": [
    "# 4\n",
    "text = \"# Is this a comment?\"\n",
    "print(text)"
   ]
  },
  {
   "cell_type": "code",
   "execution_count": 8,
   "id": "ff1fca4e",
   "metadata": {},
   "outputs": [
    {
     "name": "stdout",
     "output_type": "stream",
     "text": [
      "listen\n"
     ]
    }
   ],
   "source": [
    "# 5\n",
    "x = 'silent'\n",
    "\n",
    "print(x[2] + x[1] + x[0] + x[5] + x[3] + x[4])"
   ]
  },
  {
   "cell_type": "code",
   "execution_count": 9,
   "id": "9aef4402",
   "metadata": {},
   "outputs": [
    {
     "name": "stdout",
     "output_type": "stream",
     "text": [
      "1\n"
     ]
    }
   ],
   "source": [
    "# 6\n",
    "squares = [1, 4, 9, 16, 25]\n",
    "print(squares[0])"
   ]
  },
  {
   "cell_type": "code",
   "execution_count": 10,
   "id": "0c04fda5",
   "metadata": {},
   "outputs": [
    {
     "name": "stdout",
     "output_type": "stream",
     "text": [
      "5\n"
     ]
    }
   ],
   "source": [
    "# 7\n",
    "word = \"galaxy\"\n",
    "print(len(word[1:]))"
   ]
  },
  {
   "cell_type": "code",
   "execution_count": 14,
   "id": "2311cd76",
   "metadata": {},
   "outputs": [
    {
     "name": "stdout",
     "output_type": "stream",
     "text": [
      "4\n"
     ]
    }
   ],
   "source": [
    "# 8\n",
    "x = 50 // 11\n",
    "print(x)"
   ]
  },
  {
   "cell_type": "code",
   "execution_count": 25,
   "id": "9475fa8d",
   "metadata": {},
   "outputs": [
    {
     "name": "stdout",
     "output_type": "stream",
     "text": [
      "unununium\n"
     ]
    }
   ],
   "source": [
    "# 9\n",
    "print(3 * 'un' + 'ium')"
   ]
  },
  {
   "cell_type": "code",
   "execution_count": 26,
   "id": "cef62095",
   "metadata": {},
   "outputs": [
    {
     "name": "stdout",
     "output_type": "stream",
     "text": [
      "python\n"
     ]
    }
   ],
   "source": [
    "# 10\n",
    "x = 'py' 'thon'\n",
    "print(x)"
   ]
  },
  {
   "cell_type": "code",
   "execution_count": 29,
   "id": "0263601b",
   "metadata": {},
   "outputs": [
    {
     "name": "stdout",
     "output_type": "stream",
     "text": [
      "21\n"
     ]
    }
   ],
   "source": [
    "# 11\n",
    "print(sum(range(0, 7)))"
   ]
  },
  {
   "cell_type": "code",
   "execution_count": 30,
   "id": "15c86961",
   "metadata": {},
   "outputs": [
    {
     "name": "stdout",
     "output_type": "stream",
     "text": [
      "[1, 8, 27, 64]\n"
     ]
    }
   ],
   "source": [
    "# 12\n",
    "cubes = [1, 8, 27]\n",
    "cubes.append(4**3)\n",
    "print(cubes)"
   ]
  },
  {
   "cell_type": "code",
   "execution_count": 31,
   "id": "4d0e4743",
   "metadata": {},
   "outputs": [
    {
     "name": "stdout",
     "output_type": "stream",
     "text": [
      "xy\n"
     ]
    }
   ],
   "source": [
    "# 13\n",
    "word = \"galaxy\"\n",
    "print(word[4:50])"
   ]
  },
  {
   "cell_type": "code",
   "execution_count": 33,
   "id": "3bab55f3",
   "metadata": {},
   "outputs": [
    {
     "name": "stdout",
     "output_type": "stream",
     "text": [
      "0\n"
     ]
    }
   ],
   "source": [
    "# 14\n",
    "x = 51 % 3\n",
    "print(x)"
   ]
  },
  {
   "cell_type": "code",
   "execution_count": 34,
   "id": "22675fa5",
   "metadata": {},
   "outputs": [],
   "source": [
    "# 15"
   ]
  },
  {
   "cell_type": "code",
   "execution_count": 35,
   "id": "dcf7f570",
   "metadata": {},
   "outputs": [
    {
     "name": "stdout",
     "output_type": "stream",
     "text": [
      "loco\n"
     ]
    }
   ],
   "source": [
    "# 16\n",
    "x = 'cool'\n",
    "print(x[-1] + x[-2] + x[-4] + x[-3])"
   ]
  },
  {
   "cell_type": "code",
   "execution_count": 36,
   "id": "b4548b73",
   "metadata": {},
   "outputs": [
    {
     "name": "stdout",
     "output_type": "stream",
     "text": [
      "3\n",
      "5\n"
     ]
    }
   ],
   "source": [
    "# 17\n",
    "words = ['cat', 'mouse']\n",
    "for word in words:\n",
    "    print(len(word))"
   ]
  },
  {
   "cell_type": "code",
   "execution_count": 37,
   "id": "e676ae3b",
   "metadata": {},
   "outputs": [
    {
     "name": "stdout",
     "output_type": "stream",
     "text": [
      "6\n"
     ]
    }
   ],
   "source": [
    "# 18\n",
    "def func(x):\n",
    "    return x + 1\n",
    "\n",
    "f = func\n",
    "print(f(2) + f(2))"
   ]
  },
  {
   "cell_type": "code",
   "execution_count": 39,
   "id": "82a7f7e3",
   "metadata": {},
   "outputs": [
    {
     "name": "stdout",
     "output_type": "stream",
     "text": [
      "galaxy\n"
     ]
    }
   ],
   "source": [
    "# 19\n",
    "word = \"galaxy\"\n",
    "print(word[:-2] + word[-2:])"
   ]
  },
  {
   "cell_type": "code",
   "execution_count": 40,
   "id": "73945a47",
   "metadata": {},
   "outputs": [
    {
     "name": "stdout",
     "output_type": "stream",
     "text": [
      "A\n",
      "B\n",
      "C\n"
     ]
    }
   ],
   "source": [
    "# 20\n",
    "def func(a, *args):\n",
    "    print(a)\n",
    "    for arg in args:\n",
    "        print(arg)\n",
    "        \n",
    "func(\"A\", \"B\", \"C\")"
   ]
  },
  {
   "cell_type": "code",
   "execution_count": 41,
   "id": "faaa6d49",
   "metadata": {},
   "outputs": [
    {
     "name": "stdout",
     "output_type": "stream",
     "text": [
      "1\n"
     ]
    }
   ],
   "source": [
    "# 21\n",
    "def ping(i):\n",
    "    if i > 0:\n",
    "        return pong(i - 1)\n",
    "    return \"0\"\n",
    "\n",
    "def pong(i):\n",
    "    if i > 0:\n",
    "        return ping(i - 1)\n",
    "    return \"1\"\n",
    "print(ping(29))"
   ]
  },
  {
   "cell_type": "code",
   "execution_count": 42,
   "id": "46375d13",
   "metadata": {},
   "outputs": [
    {
     "name": "stdout",
     "output_type": "stream",
     "text": [
      "end\n"
     ]
    }
   ],
   "source": [
    "# 22\n",
    "word = \"bender\"\n",
    "print(word[1:4])"
   ]
  },
  {
   "cell_type": "code",
   "execution_count": 43,
   "id": "9ac50625",
   "metadata": {},
   "outputs": [
    {
     "name": "stdout",
     "output_type": "stream",
     "text": [
      "['Marie', 'Anne', 'Barack', 'Olivia', 'Sophia']\n"
     ]
    }
   ],
   "source": [
    "# 23\n",
    "customers = ['Marie', 'Anne', 'Donald']\n",
    "customers[2:4] = ['Barack', 'Olivia', 'Sophia']\n",
    "print(customers)"
   ]
  },
  {
   "cell_type": "code",
   "execution_count": 45,
   "id": "785553ef",
   "metadata": {},
   "outputs": [],
   "source": [
    "# way to clear the list\n",
    "customers[:] = []"
   ]
  },
  {
   "cell_type": "code",
   "execution_count": 46,
   "id": "fae58b80",
   "metadata": {},
   "outputs": [
    {
     "data": {
      "text/plain": [
       "[]"
      ]
     },
     "execution_count": 46,
     "metadata": {},
     "output_type": "execute_result"
    }
   ],
   "source": [
    "customers"
   ]
  },
  {
   "cell_type": "code",
   "execution_count": 51,
   "id": "290bb238",
   "metadata": {},
   "outputs": [
    {
     "name": "stdout",
     "output_type": "stream",
     "text": [
      "Want to know the answer?yes\n",
      "True\n"
     ]
    }
   ],
   "source": [
    "# 24\n",
    "def ask(prompt, retries=4, output= 'Error'):\n",
    "    for _ in range(retries):\n",
    "        response = input(prompt).lower()\n",
    "        if response in ['y', 'yes']:\n",
    "            return True\n",
    "        if response in ['n', 'no']:\n",
    "            return False\n",
    "        print(output)\n",
    "print(ask('Want to know the answer?', 5))"
   ]
  },
  {
   "cell_type": "code",
   "execution_count": 52,
   "id": "bee5dcff",
   "metadata": {},
   "outputs": [
    {
     "name": "stdout",
     "output_type": "stream",
     "text": [
      "2\n"
     ]
    }
   ],
   "source": [
    "# 25\n",
    "letters = ['a', 'b', 'c', 'd']\n",
    "print(len(letters[1:-1]))"
   ]
  },
  {
   "cell_type": "code",
   "execution_count": 53,
   "id": "56301853",
   "metadata": {},
   "outputs": [
    {
     "name": "stdout",
     "output_type": "stream",
     "text": [
      "[1, 2]\n"
     ]
    }
   ],
   "source": [
    "# 26\n",
    "a = ['a', 'b']\n",
    "n = [1, 2]\n",
    "x = [a, n]\n",
    "print(x[1])"
   ]
  },
  {
   "cell_type": "code",
   "execution_count": 54,
   "id": "584706f2",
   "metadata": {},
   "outputs": [
    {
     "data": {
      "text/plain": [
       "[['a', 'b'], [1, 2]]"
      ]
     },
     "execution_count": 54,
     "metadata": {},
     "output_type": "execute_result"
    }
   ],
   "source": [
    "x"
   ]
  },
  {
   "cell_type": "code",
   "execution_count": 58,
   "id": "f954e010",
   "metadata": {},
   "outputs": [
    {
     "name": "stdout",
     "output_type": "stream",
     "text": [
      "['a']\n"
     ]
    }
   ],
   "source": [
    "# 27\n",
    "letters = ['a', 'b', 'c', \n",
    "           'd', 'e', 'f', 'g']\n",
    "letters[1:] = []\n",
    "print(letters)"
   ]
  },
  {
   "cell_type": "code",
   "execution_count": 29,
   "id": "164e0377",
   "metadata": {},
   "outputs": [
    {
     "name": "stdout",
     "output_type": "stream",
     "text": [
      "1\n",
      "1\n",
      "2\n",
      "3\n"
     ]
    }
   ],
   "source": [
    "# 28\n",
    "a, b = 0, 1\n",
    "while b < 5:\n",
    "    print(b)\n",
    "    a, b = b, a + b"
   ]
  },
  {
   "cell_type": "code",
   "execution_count": 62,
   "id": "b38037b0",
   "metadata": {},
   "outputs": [
    {
     "name": "stdout",
     "output_type": "stream",
     "text": [
      "3\n",
      "5\n",
      "7\n"
     ]
    }
   ],
   "source": [
    "# 29\n",
    "for num in range(2, 8):\n",
    "    if not num % 2:\n",
    "        continue\n",
    "    print(num)"
   ]
  },
  {
   "cell_type": "code",
   "execution_count": 69,
   "id": "38d7db12",
   "metadata": {},
   "outputs": [
    {
     "name": "stdout",
     "output_type": "stream",
     "text": [
      "9\n",
      "6\n",
      "-40\n"
     ]
    }
   ],
   "source": [
    "# 30\n",
    "print(range(5,10)[-1])\n",
    "print(range(0, 10, 3)[2])\n",
    "print(range(-10, -100, -30)[1])"
   ]
  },
  {
   "cell_type": "code",
   "execution_count": 70,
   "id": "1b847e16",
   "metadata": {},
   "outputs": [
    {
     "data": {
      "text/plain": [
       "[-10, -40, -70]"
      ]
     },
     "execution_count": 70,
     "metadata": {},
     "output_type": "execute_result"
    }
   ],
   "source": [
    "list(range(-10, -100, -30))"
   ]
  },
  {
   "cell_type": "code",
   "execution_count": 112,
   "id": "9e41f820",
   "metadata": {},
   "outputs": [],
   "source": [
    "def matrix_find(matrix, value):\n",
    "    if not matrix or not matrix[0]:\n",
    "        return False\n",
    "    \n",
    "    j = len(matrix) - 1\n",
    "    for row in matrix:\n",
    "        while row[j] > value:\n",
    "            print(row)\n",
    "            print(j)\n",
    "            j = j - 1\n",
    "            print(j)\n",
    "            if j == -1:\n",
    "                return False\n",
    "        if row[j] == value:\n",
    "            print(row)\n",
    "            print(j)\n",
    "            return True\n",
    "    return False"
   ]
  },
  {
   "cell_type": "code",
   "execution_count": 119,
   "id": "2f35fd30",
   "metadata": {},
   "outputs": [
    {
     "name": "stdout",
     "output_type": "stream",
     "text": [
      "[6, 11, 8, 12]\n",
      "3\n",
      "2\n",
      "[9, 10, 12, 17]\n",
      "2\n",
      "1\n",
      "False\n"
     ]
    }
   ],
   "source": [
    "matrix = [[3, 4, 4, 6],\n",
    "          [6, 11, 8, 12],\n",
    "          [6, 8, 10, 15],\n",
    "          [9, 10, 12, 17]]\n",
    "\n",
    "print(matrix_find(matrix=matrix, value=11))"
   ]
  },
  {
   "cell_type": "code",
   "execution_count": 120,
   "id": "25da1ab1",
   "metadata": {},
   "outputs": [
    {
     "data": {
      "text/plain": [
       "8"
      ]
     },
     "execution_count": 120,
     "metadata": {},
     "output_type": "execute_result"
    }
   ],
   "source": [
    "matrix[2][1]"
   ]
  },
  {
   "cell_type": "code",
   "execution_count": 121,
   "id": "3953d89c",
   "metadata": {},
   "outputs": [
    {
     "data": {
      "text/plain": [
       "3"
      ]
     },
     "execution_count": 121,
     "metadata": {},
     "output_type": "execute_result"
    }
   ],
   "source": [
    "len(matrix) - 1 # len считает строки"
   ]
  },
  {
   "cell_type": "code",
   "execution_count": null,
   "id": "df78c7d5",
   "metadata": {},
   "outputs": [],
   "source": []
  },
  {
   "cell_type": "code",
   "execution_count": 147,
   "id": "ed1c4d95",
   "metadata": {},
   "outputs": [
    {
     "name": "stdout",
     "output_type": "stream",
     "text": [
      "[(0, 455), (1, 460), (2, 465), (3, 451), (4, 414), (5, 415), (6, 441)]\n",
      "[455, 460, 465, 451, 414, 415, 441]\n",
      "455\n",
      "465\n",
      "10\n",
      "[460, 465, 451, 414, 415, 441]\n",
      "460\n",
      "465\n",
      "10\n",
      "[465, 451, 414, 415, 441]\n",
      "465\n",
      "465\n",
      "10\n",
      "[451, 414, 415, 441]\n",
      "451\n",
      "451\n",
      "10\n",
      "[414, 415, 441]\n",
      "414\n",
      "441\n",
      "27\n",
      "[415, 441]\n",
      "415\n",
      "441\n",
      "27\n",
      "[441]\n",
      "441\n",
      "441\n",
      "27\n",
      "27\n"
     ]
    }
   ],
   "source": [
    "# 32\n",
    "def maximum_profit(prices):\n",
    "    \n",
    "    profit = 0\n",
    "    print(list(enumerate(prices)))\n",
    "    for i, buy_price in enumerate(prices):\n",
    "        sell_price = max(prices[i:])\n",
    "        print(prices[i:])\n",
    "        profit = max(profit, sell_price - buy_price)\n",
    "        print(buy_price)\n",
    "        print(sell_price)\n",
    "        print(profit)\n",
    "    return profit\n",
    "\n",
    "# Ethereum daily prices in Dec 2017 ($)\n",
    "eth_prices = [455, 460, 465, 451, 414, 415, 441]\n",
    "print(maximum_profit(prices=eth_prices)) "
   ]
  },
  {
   "cell_type": "code",
   "execution_count": 148,
   "id": "10453ce9",
   "metadata": {},
   "outputs": [],
   "source": [
    "# 33\n",
    "def bubble_sort(lst):\n",
    "    for border in range(len(lst)-1, 0, -1):\n",
    "        for i in range(border):\n",
    "            if lst[i] > lst[i + 1]:\n",
    "                lst[i], lst[i + 1] = lst[i + 1], lst[i]\n",
    "    return lst"
   ]
  },
  {
   "cell_type": "code",
   "execution_count": 151,
   "id": "cb795072",
   "metadata": {},
   "outputs": [
    {
     "name": "stdout",
     "output_type": "stream",
     "text": [
      "range(6, 0, -1)\n"
     ]
    }
   ],
   "source": [
    "print(range(len(list_to_sort)-1, 0, -1))"
   ]
  },
  {
   "cell_type": "code",
   "execution_count": 54,
   "id": "e19be948",
   "metadata": {},
   "outputs": [],
   "source": [
    "list_to_sort = [27, 0, 71, 70, 27, 63, 90]\n",
    "# print(bubble_sort(lst=list_to_sort))"
   ]
  },
  {
   "cell_type": "code",
   "execution_count": 32,
   "id": "001aade8",
   "metadata": {},
   "outputs": [],
   "source": [
    "a, *_, z = list(range(100))"
   ]
  },
  {
   "cell_type": "code",
   "execution_count": 34,
   "id": "c52f98d1",
   "metadata": {},
   "outputs": [
    {
     "name": "stdout",
     "output_type": "stream",
     "text": [
      "0 99\n"
     ]
    }
   ],
   "source": [
    "print(a, z)"
   ]
  },
  {
   "cell_type": "code",
   "execution_count": 58,
   "id": "bdd6b771",
   "metadata": {},
   "outputs": [],
   "source": [
    "def bubble_sort2(seq):\n",
    "    # i represents the number of elements\n",
    "    # that are already sorted (correct position)\n",
    "    for i in range(len(seq)):\n",
    "        # we got (-1) because in next lines of code we use j+1\n",
    "        for j in range(len(seq)-i-1):\n",
    "            if seq[j] > seq[j+1]:\n",
    "                seq[j], seq[j+1] = seq[j+1], seq[j]\n",
    "    return seq"
   ]
  },
  {
   "cell_type": "code",
   "execution_count": 59,
   "id": "4a1dbdcb",
   "metadata": {},
   "outputs": [
    {
     "data": {
      "text/plain": [
       "[0, 27, 27, 63, 70, 71, 90]"
      ]
     },
     "execution_count": 59,
     "metadata": {},
     "output_type": "execute_result"
    }
   ],
   "source": [
    "bubble_sort2(list_to_sort)"
   ]
  },
  {
   "cell_type": "code",
   "execution_count": 60,
   "id": "29504383",
   "metadata": {},
   "outputs": [],
   "source": [
    "# 34\n",
    "def concatenation(*args, sep=\"/\"):\n",
    "    return sep.join(args)"
   ]
  },
  {
   "cell_type": "code",
   "execution_count": 64,
   "id": "34fd4c3a",
   "metadata": {},
   "outputs": [
    {
     "name": "stdout",
     "output_type": "stream",
     "text": [
      "A,B,C\n"
     ]
    }
   ],
   "source": [
    "print(concatenation(\"A\", \"B\", \"C\", sep=\",\"))"
   ]
  },
  {
   "cell_type": "code",
   "execution_count": 65,
   "id": "40f1a396",
   "metadata": {},
   "outputs": [
    {
     "name": "stdout",
     "output_type": "stream",
     "text": [
      "18.0\n"
     ]
    }
   ],
   "source": [
    "# 35\n",
    "x = 5 * 3.8 - 1\n",
    "print(x)"
   ]
  },
  {
   "cell_type": "code",
   "execution_count": 1,
   "id": "38b4179e",
   "metadata": {},
   "outputs": [],
   "source": [
    "# 36\n",
    "# Binary Search"
   ]
  },
  {
   "cell_type": "code",
   "execution_count": 13,
   "id": "a6c1cb4b",
   "metadata": {},
   "outputs": [
    {
     "name": "stdout",
     "output_type": "stream",
     "text": [
      "mouse\n"
     ]
    }
   ],
   "source": [
    "# 37\n",
    "words = ['cat', 'mouse', 'dog']\n",
    "for word in words[:]:\n",
    "    if len(word) > 3:\n",
    "        words.insert(0, word)\n",
    "print(words[0])"
   ]
  },
  {
   "cell_type": "code",
   "execution_count": 14,
   "id": "2faf4d44",
   "metadata": {},
   "outputs": [],
   "source": [
    "words.insert(2, 'fly')"
   ]
  },
  {
   "cell_type": "code",
   "execution_count": 15,
   "id": "3c540472",
   "metadata": {},
   "outputs": [
    {
     "name": "stdout",
     "output_type": "stream",
     "text": [
      "['mouse', 'cat', 'fly', 'mouse', 'dog']\n"
     ]
    }
   ],
   "source": [
    "print(words)"
   ]
  },
  {
   "cell_type": "code",
   "execution_count": 17,
   "id": "e1fe8fc7",
   "metadata": {},
   "outputs": [
    {
     "name": "stdout",
     "output_type": "stream",
     "text": [
      "42\n",
      "43\n"
     ]
    }
   ],
   "source": [
    "# 38\n",
    "def make_incrementor(n):\n",
    "    return lambda x: x + n\n",
    "f = make_incrementor(42)\n",
    "print(f(0))\n",
    "print(f(1))"
   ]
  },
  {
   "cell_type": "code",
   "execution_count": 19,
   "id": "91bd5cdf",
   "metadata": {},
   "outputs": [
    {
     "name": "stdout",
     "output_type": "stream",
     "text": [
      "True\n"
     ]
    }
   ],
   "source": [
    "# 39\n",
    "print(\"\"\"\n",
    "A\n",
    "B\n",
    "C\n",
    "\"\"\" == \"\\nA\\nB\\nC\\n\")"
   ]
  },
  {
   "cell_type": "code",
   "execution_count": 22,
   "id": "9eb1c126",
   "metadata": {},
   "outputs": [
    {
     "name": "stdout",
     "output_type": "stream",
     "text": [
      "P\"yt'h\"on\n"
     ]
    }
   ],
   "source": [
    "# 40\n",
    "print('P\"yt\\'h\"on')"
   ]
  },
  {
   "cell_type": "code",
   "execution_count": 26,
   "id": "52d0ac5d",
   "metadata": {},
   "outputs": [
    {
     "name": "stdout",
     "output_type": "stream",
     "text": [
      "[0]\n",
      "[0, 1]\n",
      "[0, 1, 1]\n",
      "[0, 1, 1, 2]\n",
      "[0, 1, 1, 2, 3]\n",
      "[0, 1, 1, 2, 3, 5]\n",
      "[0, 1, 1, 2, 3, 5, 8]\n",
      "[0, 1, 1, 2, 3, 5, 8, 13]\n",
      "[0, 1, 1, 2, 3, 5, 8, 13, 21]\n",
      "[0, 1, 1, 2, 3, 5, 8, 13, 21, 34]\n",
      "[0, 1, 1, 2, 3, 5, 8, 13, 21, 34, 55]\n",
      "[0, 1, 1, 2, 3, 5, 8, 13, 21, 34, 55, 89]\n",
      "True\n"
     ]
    }
   ],
   "source": [
    "# 41\n",
    "\n",
    "def fibo(n):\n",
    "    \"\"\"Return list containing\n",
    "    Fibonacci series up to n.\n",
    "    \"\"\"\n",
    "    result = []\n",
    "    a, b = 0, 1\n",
    "    while a < n:\n",
    "        result.append(a)\n",
    "        print(result)\n",
    "        a, b = b, a + b\n",
    "    return result\n",
    "\n",
    "fib100 = fibo(100)\n",
    "print(fib100[-1] == fib100[-2] + fib100[-3])"
   ]
  },
  {
   "cell_type": "code",
   "execution_count": 37,
   "id": "f98995a5",
   "metadata": {},
   "outputs": [],
   "source": [
    "# 42\n",
    "def qsort1(L):\n",
    "    if L:\n",
    "        return qsort1([x for x in L[1:] if x < L[0]]) + L[:1] + qsort1([x for x in L[1:] if x >= L[0]])\n",
    "    return []"
   ]
  },
  {
   "cell_type": "code",
   "execution_count": 34,
   "id": "fd0c4dc0",
   "metadata": {},
   "outputs": [
    {
     "data": {
      "text/plain": [
       "'\\nLet me explain the above codes for details\\n\\npick the first element of array arr[0] as pivot\\n\\n[arr[0]]\\n\\nqsort those elements of array which are less than pivot with List Comprehension\\n\\nqsort([x for x in arr[1:] if x < arr[0]]) \\n\\nqsort those elements of array which are larger than pivot with List Comprehension\\n\\nqsort([x for x in arr[1:] if x >= arr[0]])\\n\\n'"
      ]
     },
     "execution_count": 34,
     "metadata": {},
     "output_type": "execute_result"
    }
   ],
   "source": [
    "\"\"\"\n",
    "Let me explain the above codes for details\n",
    "\n",
    "pick the first element of array arr[0] as pivot\n",
    "\n",
    "[arr[0]]\n",
    "\n",
    "qsort those elements of array which are less than pivot with List Comprehension\n",
    "\n",
    "qsort([x for x in arr[1:] if x < arr[0]]) \n",
    "\n",
    "qsort those elements of array which are larger than pivot with List Comprehension\n",
    "\n",
    "qsort([x for x in arr[1:] if x >= arr[0]])\n",
    "\n",
    "\"\"\""
   ]
  },
  {
   "cell_type": "code",
   "execution_count": 36,
   "id": "3d221155",
   "metadata": {},
   "outputs": [],
   "source": [
    "\"\"\"\n",
    "It's actually the best and most readable python code I found for quicksort anywhere. \n",
    "No indices, no helper functions, clearly shows the gist of the algorithm (divide and conquer). \n",
    "(The default value for the array is rather unnecessary) \n",
    "\"\"\"\n",
    "\n",
    "def qiucksort(array):\n",
    "    \"\"\"Sort the array by using quicksort.\"\"\"\n",
    "\n",
    "    less = []\n",
    "    equal = []\n",
    "    greater = []\n",
    "\n",
    "    if len(array) > 1:\n",
    "        pivot = array[0]\n",
    "        for x in array:\n",
    "            if x < pivot:\n",
    "                less.append(x)\n",
    "            elif x == pivot:\n",
    "                equal.append(x)\n",
    "            elif x > pivot:\n",
    "                greater.append(x)\n",
    "        # Don't forget to return something!\n",
    "        return sort(less)+equal+sort(greater)  # Just use the + operator to join lists\n",
    "    # Note that you want equal ^^^^^ not pivot\n",
    "    else:  # You need to handle the part at the end of the recursion - when you only have one element in your array, just return the array.\n",
    "        return array"
   ]
  },
  {
   "cell_type": "code",
   "execution_count": null,
   "id": "ee07a56f",
   "metadata": {},
   "outputs": [],
   "source": []
  },
  {
   "cell_type": "code",
   "execution_count": 38,
   "id": "ea0af643",
   "metadata": {},
   "outputs": [],
   "source": [
    "L = [44,33,22]"
   ]
  },
  {
   "cell_type": "code",
   "execution_count": 42,
   "id": "0c385e7c",
   "metadata": {},
   "outputs": [
    {
     "data": {
      "text/plain": [
       "[33, 22, 44]"
      ]
     },
     "execution_count": 42,
     "metadata": {},
     "output_type": "execute_result"
    }
   ],
   "source": [
    "[x for x in L[1:] if x < L[0]] + L[:1] + [x for x in L[1:] if x >= L[0]]"
   ]
  },
  {
   "cell_type": "code",
   "execution_count": 28,
   "id": "33edd20e",
   "metadata": {},
   "outputs": [
    {
     "data": {
      "text/plain": [
       "[33, 22]"
      ]
     },
     "execution_count": 28,
     "metadata": {},
     "output_type": "execute_result"
    }
   ],
   "source": [
    "[x for x in L[1:] if x >= L[0]]"
   ]
  },
  {
   "cell_type": "code",
   "execution_count": 43,
   "id": "d04387e3",
   "metadata": {},
   "outputs": [
    {
     "data": {
      "text/plain": [
       "[22, 33, 44]"
      ]
     },
     "execution_count": 43,
     "metadata": {},
     "output_type": "execute_result"
    }
   ],
   "source": [
    "qsort1(L)"
   ]
  },
  {
   "cell_type": "code",
   "execution_count": null,
   "id": "a456be50",
   "metadata": {},
   "outputs": [],
   "source": []
  },
  {
   "cell_type": "code",
   "execution_count": 44,
   "id": "a8c2b8ab",
   "metadata": {},
   "outputs": [],
   "source": [
    "# 43\n",
    "\n",
    "def func(val1=3, val2=4, val3=6):\n",
    "    return val1 + val2 + val3"
   ]
  },
  {
   "cell_type": "code",
   "execution_count": 45,
   "id": "74bf1a87",
   "metadata": {},
   "outputs": [
    {
     "name": "stdout",
     "output_type": "stream",
     "text": [
      "12\n"
     ]
    }
   ],
   "source": [
    "values = {\"val1\":9, \"val3\":-1}\n",
    "print(func(**values))"
   ]
  },
  {
   "cell_type": "code",
   "execution_count": 46,
   "id": "97eab773",
   "metadata": {},
   "outputs": [
    {
     "name": "stdout",
     "output_type": "stream",
     "text": [
      "Answer\n"
     ]
    },
    {
     "ename": "KeyboardInterrupt",
     "evalue": "",
     "output_type": "error",
     "traceback": [
      "\u001b[1;31m---------------------------------------------------------------------------\u001b[0m",
      "\u001b[1;31mKeyboardInterrupt\u001b[0m                         Traceback (most recent call last)",
      "\u001b[1;32m~\\AppData\\Local\\Temp\\ipykernel_13808\\1893626169.py\u001b[0m in \u001b[0;36m<module>\u001b[1;34m\u001b[0m\n\u001b[0;32m      2\u001b[0m \u001b[0mprint\u001b[0m\u001b[1;33m(\u001b[0m\u001b[1;34m\"Answer\"\u001b[0m\u001b[1;33m)\u001b[0m\u001b[1;33m\u001b[0m\u001b[1;33m\u001b[0m\u001b[0m\n\u001b[0;32m      3\u001b[0m \u001b[1;32mwhile\u001b[0m \u001b[1;32mTrue\u001b[0m\u001b[1;33m:\u001b[0m\u001b[1;33m\u001b[0m\u001b[1;33m\u001b[0m\u001b[0m\n\u001b[1;32m----> 4\u001b[1;33m     \u001b[1;32mpass\u001b[0m\u001b[1;33m\u001b[0m\u001b[1;33m\u001b[0m\u001b[0m\n\u001b[0m\u001b[0;32m      5\u001b[0m \u001b[0mprint\u001b[0m\u001b[1;33m(\u001b[0m\u001b[1;34m\"42\"\u001b[0m\u001b[1;33m)\u001b[0m\u001b[1;33m\u001b[0m\u001b[1;33m\u001b[0m\u001b[0m\n",
      "\u001b[1;31mKeyboardInterrupt\u001b[0m: "
     ]
    }
   ],
   "source": [
    "# 44\n",
    "print(\"Answer\")\n",
    "while True:\n",
    "    pass\n",
    "print(\"42\")"
   ]
  },
  {
   "cell_type": "code",
   "execution_count": 26,
   "id": "a014e52f",
   "metadata": {},
   "outputs": [],
   "source": [
    "# 45\n",
    "\n",
    "def has_path(graph, v_start, v_end, path_len=0):\n",
    "    # Путь графа от v_start до v_end\n",
    "    \n",
    "    # Пересекает каждую вершину только один раз\n",
    "    if path_len >= len(graph):\n",
    "        # print(path_len)\n",
    "        # print(len(graph))\n",
    "        return False\n",
    "    \n",
    "    # Прямой путь\n",
    "    if graph[v_start][v_end]:\n",
    "        print(graph[v_start][v_end])\n",
    "        return True\n",
    "    \n",
    "    # Непрямой путь\n",
    "    for v_nbor, edge in enumerate(graph[v_start]):\n",
    "        if edge: # between v_start and v_nbor\n",
    "            if has_path(graph, v_nbor, v_end, path_len + 1):\n",
    "                print(v_nbor, v_end)\n",
    "                return True\n",
    "    return False"
   ]
  },
  {
   "cell_type": "code",
   "execution_count": 28,
   "id": "8cd6b21d",
   "metadata": {},
   "outputs": [],
   "source": [
    "G = [[1, 1, 0, 0, 0],\n",
    "     [0, 1, 0, 0, 0],\n",
    "     [0, 0, 1, 0, 0],\n",
    "     [1, 1, 1, 1, 0],\n",
    "     [1, 0, 0, 1, 1]]"
   ]
  },
  {
   "cell_type": "code",
   "execution_count": 29,
   "id": "16fe9a4f",
   "metadata": {},
   "outputs": [
    {
     "name": "stdout",
     "output_type": "stream",
     "text": [
      "1\n",
      "True\n"
     ]
    }
   ],
   "source": [
    "print(has_path(graph=G, v_start=3, v_end=0))"
   ]
  },
  {
   "cell_type": "code",
   "execution_count": 34,
   "id": "1a5e20d6",
   "metadata": {},
   "outputs": [],
   "source": [
    "string1 = 'Hello'\n",
    "string2 = 'Goodbye'"
   ]
  },
  {
   "cell_type": "code",
   "execution_count": 42,
   "id": "7150c6bc",
   "metadata": {},
   "outputs": [
    {
     "data": {
      "text/plain": [
       "'llo'"
      ]
     },
     "execution_count": 42,
     "metadata": {},
     "output_type": "execute_result"
    }
   ],
   "source": [
    "string1[2:]"
   ]
  },
  {
   "cell_type": "code",
   "execution_count": 70,
   "id": "a09a2cd8",
   "metadata": {},
   "outputs": [],
   "source": [
    "lst = [1, 2, 3]"
   ]
  },
  {
   "cell_type": "code",
   "execution_count": 68,
   "id": "16f9a18f",
   "metadata": {},
   "outputs": [
    {
     "data": {
      "text/plain": [
       "[2, 3, 1]"
      ]
     },
     "execution_count": 68,
     "metadata": {},
     "output_type": "execute_result"
    }
   ],
   "source": [
    "if nums[0] > nums[-1]:\n",
    "    n = int(nums[0])\n",
    "    return list(n) * 3"
   ]
  },
  {
   "cell_type": "code",
   "execution_count": 87,
   "id": "5f5635c8",
   "metadata": {},
   "outputs": [
    {
     "data": {
      "text/plain": [
       "[2, 5]"
      ]
     },
     "execution_count": 87,
     "metadata": {},
     "output_type": "execute_result"
    }
   ],
   "source": [
    "a = [1, 2, 3]\n",
    "b = [4, 5, 6]\n",
    "[a[1], b[1]]"
   ]
  },
  {
   "cell_type": "code",
   "execution_count": 77,
   "id": "bf7baa4c",
   "metadata": {},
   "outputs": [
    {
     "data": {
      "text/plain": [
       "2"
      ]
     },
     "execution_count": 77,
     "metadata": {},
     "output_type": "execute_result"
    }
   ],
   "source": [
    "a[1]"
   ]
  },
  {
   "cell_type": "code",
   "execution_count": 78,
   "id": "4bc6ca73",
   "metadata": {},
   "outputs": [
    {
     "data": {
      "text/plain": [
       "5"
      ]
     },
     "execution_count": 78,
     "metadata": {},
     "output_type": "execute_result"
    }
   ],
   "source": [
    "b[1]"
   ]
  },
  {
   "cell_type": "code",
   "execution_count": 3,
   "id": "0a91078c",
   "metadata": {},
   "outputs": [
    {
     "data": {
      "text/plain": [
       "False"
      ]
     },
     "execution_count": 3,
     "metadata": {},
     "output_type": "execute_result"
    }
   ],
   "source": [
    "speed = 80\n",
    "no_ticket = speed in range(0, 61)\n",
    "no_ticket"
   ]
  },
  {
   "cell_type": "code",
   "execution_count": 7,
   "id": "e79f9749",
   "metadata": {},
   "outputs": [],
   "source": [
    "def near_ten(num):\n",
    "    print(num % 10)\n",
    "    print(10 - (num % 10))\n",
    "    return 10 - (num % 10) <= 2"
   ]
  },
  {
   "cell_type": "code",
   "execution_count": 9,
   "id": "eef44240",
   "metadata": {},
   "outputs": [
    {
     "name": "stdout",
     "output_type": "stream",
     "text": [
      "2\n",
      "8\n"
     ]
    },
    {
     "data": {
      "text/plain": [
       "False"
      ]
     },
     "execution_count": 9,
     "metadata": {},
     "output_type": "execute_result"
    }
   ],
   "source": [
    "near_ten(22)"
   ]
  },
  {
   "cell_type": "code",
   "execution_count": 11,
   "id": "43edc2bf",
   "metadata": {},
   "outputs": [],
   "source": [
    "def string_bits(str):\n",
    "    result = \"\"\n",
    "      # Many ways to do this. This uses the standard loop of i on every char,\n",
    "      # and inside the loop skips the odd index values.\n",
    "    for i in range(len(str)):\n",
    "        if i % 2 == 0:\n",
    "            result = result + str[i]\n",
    "    return result"
   ]
  },
  {
   "cell_type": "code",
   "execution_count": 18,
   "id": "39887a71",
   "metadata": {},
   "outputs": [],
   "source": [
    "def string_splosion(str):\n",
    "    result = \"\"\n",
    "  \n",
    "    for i in range(len(str)):\n",
    "        result += str[:i+1]\n",
    "        #print(range(len(str)))\n",
    "    return result"
   ]
  },
  {
   "cell_type": "code",
   "execution_count": 19,
   "id": "fb160621",
   "metadata": {},
   "outputs": [
    {
     "data": {
      "text/plain": [
       "'BByBye'"
      ]
     },
     "execution_count": 19,
     "metadata": {},
     "output_type": "execute_result"
    }
   ],
   "source": [
    "string_splosion('Bye')"
   ]
  },
  {
   "cell_type": "code",
   "execution_count": 51,
   "id": "f3aaa630",
   "metadata": {},
   "outputs": [],
   "source": [
    "def last2(str):\n",
    "  \n",
    "    count = 0\n",
    "  \n",
    "    for i in range(len(str)-3):\n",
    "        if str[i:i+2] == str[-2:]:\n",
    "            print(str[i:i+2])\n",
    "            count += 1\n",
    "    return count"
   ]
  },
  {
   "cell_type": "code",
   "execution_count": 52,
   "id": "5bfd6b08",
   "metadata": {},
   "outputs": [
    {
     "name": "stdout",
     "output_type": "stream",
     "text": [
      "xx\n",
      "xx\n",
      "xx\n"
     ]
    },
    {
     "data": {
      "text/plain": [
       "3"
      ]
     },
     "execution_count": 52,
     "metadata": {},
     "output_type": "execute_result"
    }
   ],
   "source": [
    "last2('xxaxxaxxaxx')"
   ]
  },
  {
   "cell_type": "code",
   "execution_count": 26,
   "id": "8618ba04",
   "metadata": {},
   "outputs": [],
   "source": [
    "string = 'xxaxxaxxaxx'"
   ]
  },
  {
   "cell_type": "code",
   "execution_count": 41,
   "id": "c8b078f1",
   "metadata": {},
   "outputs": [
    {
     "data": {
      "text/plain": [
       "'xa'"
      ]
     },
     "execution_count": 41,
     "metadata": {},
     "output_type": "execute_result"
    }
   ],
   "source": [
    "string[1:1+2]"
   ]
  },
  {
   "cell_type": "code",
   "execution_count": 32,
   "id": "403953ba",
   "metadata": {},
   "outputs": [
    {
     "data": {
      "text/plain": [
       "'xx'"
      ]
     },
     "execution_count": 32,
     "metadata": {},
     "output_type": "execute_result"
    }
   ],
   "source": [
    "string[-2:]"
   ]
  },
  {
   "cell_type": "code",
   "execution_count": 48,
   "id": "fe6bc1ab",
   "metadata": {},
   "outputs": [
    {
     "data": {
      "text/plain": [
       "range(0, 9)"
      ]
     },
     "execution_count": 48,
     "metadata": {},
     "output_type": "execute_result"
    }
   ],
   "source": [
    "range(len(string)-2)"
   ]
  },
  {
   "cell_type": "code",
   "execution_count": 45,
   "id": "1dfae3ea",
   "metadata": {},
   "outputs": [
    {
     "data": {
      "text/plain": [
       "9"
      ]
     },
     "execution_count": 45,
     "metadata": {},
     "output_type": "execute_result"
    }
   ],
   "source": [
    "len(string)-2"
   ]
  },
  {
   "cell_type": "code",
   "execution_count": 53,
   "id": "a194a4ab",
   "metadata": {},
   "outputs": [
    {
     "data": {
      "text/plain": [
       "3"
      ]
     },
     "execution_count": 53,
     "metadata": {},
     "output_type": "execute_result"
    }
   ],
   "source": [
    "nums = [1, 9, 9, 3, 9]\n",
    "nums.count(9)"
   ]
  },
  {
   "cell_type": "code",
   "execution_count": 56,
   "id": "21ce74b0",
   "metadata": {},
   "outputs": [
    {
     "data": {
      "text/plain": [
       "[1, 9, 9, 3]"
      ]
     },
     "execution_count": 56,
     "metadata": {},
     "output_type": "execute_result"
    }
   ],
   "source": [
    "nums[0:4]"
   ]
  },
  {
   "cell_type": "code",
   "execution_count": 70,
   "id": "a484036e",
   "metadata": {},
   "outputs": [],
   "source": [
    "def array_front9(nums):\n",
    "    return 9 in nums[0:4]"
   ]
  },
  {
   "cell_type": "code",
   "execution_count": 71,
   "id": "da47e040",
   "metadata": {},
   "outputs": [
    {
     "data": {
      "text/plain": [
       "True"
      ]
     },
     "execution_count": 71,
     "metadata": {},
     "output_type": "execute_result"
    }
   ],
   "source": [
    "array_front9(nums)"
   ]
  },
  {
   "cell_type": "code",
   "execution_count": 29,
   "id": "d79f7b52",
   "metadata": {},
   "outputs": [],
   "source": [
    "def array123(nums):\n",
    "    for i in range(len(nums)-2):\n",
    "        if nums[i:i+3] == [1, 2, 3]:\n",
    "            return True\n",
    "    return False"
   ]
  },
  {
   "cell_type": "code",
   "execution_count": 30,
   "id": "b0357ea2",
   "metadata": {},
   "outputs": [
    {
     "data": {
      "text/plain": [
       "True"
      ]
     },
     "execution_count": 30,
     "metadata": {},
     "output_type": "execute_result"
    }
   ],
   "source": [
    "array123([1, 1, 2, 1, 2, 3]) "
   ]
  },
  {
   "cell_type": "code",
   "execution_count": 4,
   "id": "49d64393",
   "metadata": {},
   "outputs": [],
   "source": [
    "nums = [1, 1, 2, 1, 2, 3]"
   ]
  },
  {
   "cell_type": "code",
   "execution_count": 24,
   "id": "6de292d1",
   "metadata": {},
   "outputs": [
    {
     "data": {
      "text/plain": [
       "range(0, 4)"
      ]
     },
     "execution_count": 24,
     "metadata": {},
     "output_type": "execute_result"
    }
   ],
   "source": [
    "range(len(nums)-2)"
   ]
  },
  {
   "cell_type": "code",
   "execution_count": 34,
   "id": "dcff9b34",
   "metadata": {},
   "outputs": [],
   "source": [
    "def string_match(a, b):\n",
    "    count = 0\n",
    "    for i in range(len(a)-1):\n",
    "        if a[i:i+2] == b[i:i+2]:\n",
    "            count += 1\n",
    "    return count"
   ]
  },
  {
   "cell_type": "markdown",
   "id": "b1296d5e",
   "metadata": {},
   "source": [
    "Given 2 strings, a and b, return the number of the positions where they contain the same length 2 substring. So \"xxcaazz\" and \"xxbaaz\" yields 3, since the \"xx\", \"aa\", and \"az\" substrings appear in the same place in both strings.\n",
    "\n",
    "\n",
    "string_match('xxcaazz', 'xxbaaz') → 3\n",
    "\n",
    "string_match('abc', 'abc') → 2\n",
    "\n",
    "string_match('abc', 'axc') → 0"
   ]
  },
  {
   "cell_type": "code",
   "execution_count": 35,
   "id": "a191200a",
   "metadata": {},
   "outputs": [
    {
     "data": {
      "text/plain": [
       "3"
      ]
     },
     "execution_count": 35,
     "metadata": {},
     "output_type": "execute_result"
    }
   ],
   "source": [
    "string_match('xxcaazz', 'xxbaaz')"
   ]
  },
  {
   "cell_type": "code",
   "execution_count": 36,
   "id": "8e927745",
   "metadata": {},
   "outputs": [
    {
     "data": {
      "text/plain": [
       "2"
      ]
     },
     "execution_count": 36,
     "metadata": {},
     "output_type": "execute_result"
    }
   ],
   "source": [
    "string_match('abc', 'abc')"
   ]
  },
  {
   "cell_type": "code",
   "execution_count": 51,
   "id": "338f47c0",
   "metadata": {},
   "outputs": [],
   "source": [
    "def double_char(str):\n",
    "    new_str = ''\n",
    "    for i in range(len(str)):\n",
    "        print(str[i:i+2])\n",
    "        new_str += str[i]*2\n",
    "    return new_str"
   ]
  },
  {
   "cell_type": "code",
   "execution_count": 52,
   "id": "0223c498",
   "metadata": {},
   "outputs": [
    {
     "name": "stdout",
     "output_type": "stream",
     "text": [
      "Th\n",
      "he\n",
      "e\n"
     ]
    },
    {
     "data": {
      "text/plain": [
       "'TThhee'"
      ]
     },
     "execution_count": 52,
     "metadata": {},
     "output_type": "execute_result"
    }
   ],
   "source": [
    "double_char('The')"
   ]
  },
  {
   "cell_type": "code",
   "execution_count": 60,
   "id": "42e55161",
   "metadata": {},
   "outputs": [],
   "source": [
    "def cat_dog(str):\n",
    "    count_cat = 0\n",
    "    count_dog = 0\n",
    "  \n",
    "    for i in range(len(str)):\n",
    "        if str[i:i+3] == 'cat':\n",
    "            print(str[i:i+3])\n",
    "            count_cat += 1\n",
    "        if str[i:i+3] == 'dog':\n",
    "            print(str[i:i+3])\n",
    "            count_dog += 1\n",
    "    \n",
    "    return count_cat == count_dog"
   ]
  },
  {
   "cell_type": "code",
   "execution_count": 61,
   "id": "0ecf0e80",
   "metadata": {},
   "outputs": [
    {
     "name": "stdout",
     "output_type": "stream",
     "text": [
      "cat\n",
      "dog\n",
      "dog\n",
      "cat\n"
     ]
    },
    {
     "data": {
      "text/plain": [
       "True"
      ]
     },
     "execution_count": 61,
     "metadata": {},
     "output_type": "execute_result"
    }
   ],
   "source": [
    "cat_dog('catxdogxdogxcat')"
   ]
  },
  {
   "cell_type": "code",
   "execution_count": 83,
   "id": "e4cc3146",
   "metadata": {},
   "outputs": [],
   "source": [
    "def count_code(str):\n",
    "\n",
    "    count = 0\n",
    "  \n",
    "    for i in range(len(str)-3):\n",
    "        print(str[i:i+2] + str[i+2] + str[i+3:i+4])\n",
    "        if str[i:i+2] + str[i+2] + str[i+3:i+4] == 'co' + str[i+2] + 'e':\n",
    "            # print(str[i:i+2])\n",
    "            # print(str[i+2:i+3])\n",
    "            count += 1\n",
    "    return count"
   ]
  },
  {
   "cell_type": "code",
   "execution_count": 84,
   "id": "2e08b763",
   "metadata": {},
   "outputs": [
    {
     "name": "stdout",
     "output_type": "stream",
     "text": [
      "xxco\n",
      "xcoz\n",
      "coze\n",
      "ozey\n",
      "zeyy\n",
      "eyyc\n",
      "yyco\n",
      "ycop\n"
     ]
    },
    {
     "data": {
      "text/plain": [
       "1"
      ]
     },
     "execution_count": 84,
     "metadata": {},
     "output_type": "execute_result"
    }
   ],
   "source": [
    "count_code('xxcozeyycop') "
   ]
  },
  {
   "cell_type": "code",
   "execution_count": null,
   "id": "1b63bb09",
   "metadata": {},
   "outputs": [],
   "source": [
    "string1.endswith"
   ]
  },
  {
   "cell_type": "code",
   "execution_count": null,
   "id": "6f7710da",
   "metadata": {},
   "outputs": [],
   "source": []
  },
  {
   "cell_type": "code",
   "execution_count": 88,
   "id": "f0700efd",
   "metadata": {},
   "outputs": [
    {
     "name": "stdout",
     "output_type": "stream",
     "text": [
      "[(4, 'four'), (1, 'one'), (3, 'three'), (2, 'two')]\n"
     ]
    }
   ],
   "source": [
    "# 46\n",
    "\n",
    "pairs = [(1, 'one'),\n",
    "        (2, 'two'),\n",
    "        (3, 'three'),\n",
    "        (4, 'four')]\n",
    "\n",
    "pairs.sort(key=lambda pair: pair[1])\n",
    "print(pairs)"
   ]
  },
  {
   "cell_type": "code",
   "execution_count": 95,
   "id": "25054699",
   "metadata": {},
   "outputs": [
    {
     "name": "stdout",
     "output_type": "stream",
     "text": [
      "5\n",
      "4\n",
      "97\n",
      "16\n",
      "37\n",
      "88\n",
      "33\n",
      "96\n",
      "70\n",
      "81\n",
      "75\n",
      "83\n",
      "87\n",
      "10\n",
      "10\n"
     ]
    }
   ],
   "source": [
    "import random\n",
    "\n",
    "def guess(a, b):\n",
    "    return random.randint(a, b)\n",
    "\n",
    "def check(x, y):\n",
    "    return y ** 2 == x\n",
    "\n",
    "x = 100\n",
    "left, right = 0, x\n",
    "#print(left, right)\n",
    "y = guess(left, right)\n",
    "#print(guess(left, right))\n",
    "while not check(x, y):\n",
    "    y = guess(left, right)\n",
    "    print(y)\n",
    "print(y)"
   ]
  },
  {
   "cell_type": "code",
   "execution_count": 125,
   "id": "95cabb98",
   "metadata": {},
   "outputs": [],
   "source": [
    "def xyz_there(str):\n",
    "    for i in range(len(str)-1):\n",
    "        print(str[i:i+4])\n",
    "        \n",
    "        if str[i:i+4] == '.xyz':\n",
    "            return False\n",
    "        \n",
    "        # print(str[i:i+3])\n",
    "        if str[i:i+3] == 'xyz':\n",
    "            return True  \n",
    "    \n",
    "    return False"
   ]
  },
  {
   "cell_type": "code",
   "execution_count": 139,
   "id": "3f9c9e24",
   "metadata": {},
   "outputs": [
    {
     "name": "stdout",
     "output_type": "stream",
     "text": [
      "1\n"
     ]
    },
    {
     "data": {
      "text/plain": [
       "True"
      ]
     },
     "execution_count": 139,
     "metadata": {},
     "output_type": "execute_result"
    }
   ],
   "source": [
    "xyz_there('abc.xyzxyz')"
   ]
  },
  {
   "cell_type": "code",
   "execution_count": 133,
   "id": "80246010",
   "metadata": {},
   "outputs": [],
   "source": [
    "def xyz_there(str):\n",
    "    \n",
    "    if str[0:3] == 'xyz':\n",
    "        return True\n",
    "        \n",
    "    for i in range(len(str)-1):   \n",
    "        if str[i:i+3] == 'xyz' and str[i-1] != '.':\n",
    "            return True\n",
    "        \n",
    "        # print(str[i:i+3])\n",
    "          \n",
    "    \n",
    "    return False"
   ]
  },
  {
   "cell_type": "code",
   "execution_count": 140,
   "id": "1e92a596",
   "metadata": {},
   "outputs": [],
   "source": [
    "def xyz_there(str):\n",
    "    print(str.count('.xyz'))\n",
    "    print(str.count('xyz'))\n",
    "    return str.count('.xyz') != str.count('xyz')"
   ]
  },
  {
   "cell_type": "code",
   "execution_count": 142,
   "id": "b57c1d6f",
   "metadata": {},
   "outputs": [
    {
     "name": "stdout",
     "output_type": "stream",
     "text": [
      "1\n",
      "2\n"
     ]
    },
    {
     "data": {
      "text/plain": [
       "True"
      ]
     },
     "execution_count": 142,
     "metadata": {},
     "output_type": "execute_result"
    }
   ],
   "source": [
    "xyz_there('abc.xyzxyz')"
   ]
  },
  {
   "cell_type": "code",
   "execution_count": null,
   "id": "f889ca91",
   "metadata": {},
   "outputs": [],
   "source": []
  },
  {
   "cell_type": "code",
   "execution_count": 164,
   "id": "49ced91f",
   "metadata": {},
   "outputs": [],
   "source": [
    "nums = [1, 10, 3, 4, 100]"
   ]
  },
  {
   "cell_type": "code",
   "execution_count": 167,
   "id": "3915820f",
   "metadata": {},
   "outputs": [
    {
     "data": {
      "text/plain": [
       "[1, 3, 4, 10, 100]"
      ]
     },
     "execution_count": 167,
     "metadata": {},
     "output_type": "execute_result"
    }
   ],
   "source": [
    "sorted_nums = sorted(nums)\n",
    "sorted_nums"
   ]
  },
  {
   "cell_type": "code",
   "execution_count": 168,
   "id": "0e8dc997",
   "metadata": {},
   "outputs": [],
   "source": [
    "def centered_average(nums):\n",
    "    sorted_nums = sorted(nums)\n",
    "  \n",
    "    return sum(sorted_nums[1:-1]) / len(sorted_nums[1:-1])"
   ]
  },
  {
   "cell_type": "code",
   "execution_count": 170,
   "id": "23d4e862",
   "metadata": {},
   "outputs": [
    {
     "data": {
      "text/plain": [
       "5.666666666666667"
      ]
     },
     "execution_count": 170,
     "metadata": {},
     "output_type": "execute_result"
    }
   ],
   "source": [
    "centered_average(nums)"
   ]
  },
  {
   "cell_type": "code",
   "execution_count": 162,
   "id": "7e766e51",
   "metadata": {},
   "outputs": [],
   "source": [
    "nums"
   ]
  },
  {
   "cell_type": "code",
   "execution_count": null,
   "id": "4dab7da2",
   "metadata": {},
   "outputs": [],
   "source": []
  },
  {
   "cell_type": "code",
   "execution_count": 225,
   "id": "febfa153",
   "metadata": {},
   "outputs": [],
   "source": [
    "def has22(nums):\n",
    "    # print(range(len(nums)-2))\n",
    "    for i in range(len(nums)-1):\n",
    "        # print(nums[i:i+2])\n",
    "        if nums[i:i+2] == [2, 2]:\n",
    "            return True\n",
    "       \n",
    "    return False"
   ]
  },
  {
   "cell_type": "code",
   "execution_count": 226,
   "id": "d5a7f803",
   "metadata": {},
   "outputs": [
    {
     "name": "stdout",
     "output_type": "stream",
     "text": [
      "range(0, 1)\n",
      "[1, 2]\n",
      "[2, 2]\n"
     ]
    },
    {
     "data": {
      "text/plain": [
       "True"
      ]
     },
     "execution_count": 226,
     "metadata": {},
     "output_type": "execute_result"
    }
   ],
   "source": [
    "has22([1, 2, 2])"
   ]
  },
  {
   "cell_type": "code",
   "execution_count": 26,
   "id": "808c7417",
   "metadata": {},
   "outputs": [],
   "source": [
    "def sum13(nums):\n",
    "    sum_nums = 0\n",
    "    i = 0\n",
    "    \n",
    "    while i < len(nums):\n",
    "        if nums[i] != 13:\n",
    "            sum_nums += nums[i]\n",
    "            #print(nums[i])\n",
    "            print(sum_nums)\n",
    "        else:\n",
    "            i = i + 1\n",
    "        i = i + 1\n",
    "        # print(i)\n",
    "        \n",
    "    return sum_nums"
   ]
  },
  {
   "cell_type": "code",
   "execution_count": 27,
   "id": "3c356a96",
   "metadata": {},
   "outputs": [
    {
     "name": "stdout",
     "output_type": "stream",
     "text": [
      "1\n",
      "3\n",
      "5\n",
      "6\n"
     ]
    },
    {
     "data": {
      "text/plain": [
       "6"
      ]
     },
     "execution_count": 27,
     "metadata": {},
     "output_type": "execute_result"
    }
   ],
   "source": [
    "sum13([1, 2, 2, 1, 13])"
   ]
  },
  {
   "cell_type": "code",
   "execution_count": 28,
   "id": "558f9e6e",
   "metadata": {},
   "outputs": [
    {
     "name": "stdout",
     "output_type": "stream",
     "text": [
      "2\n",
      "3\n"
     ]
    },
    {
     "data": {
      "text/plain": [
       "3"
      ]
     },
     "execution_count": 28,
     "metadata": {},
     "output_type": "execute_result"
    }
   ],
   "source": [
    "sum13([13, 1, 2, 13, 2, 1, 13]) "
   ]
  },
  {
   "cell_type": "code",
   "execution_count": null,
   "id": "478701e9",
   "metadata": {},
   "outputs": [],
   "source": []
  }
 ],
 "metadata": {
  "kernelspec": {
   "display_name": "Python 3 (ipykernel)",
   "language": "python",
   "name": "python3"
  },
  "language_info": {
   "codemirror_mode": {
    "name": "ipython",
    "version": 3
   },
   "file_extension": ".py",
   "mimetype": "text/x-python",
   "name": "python",
   "nbconvert_exporter": "python",
   "pygments_lexer": "ipython3",
   "version": "3.9.13"
  }
 },
 "nbformat": 4,
 "nbformat_minor": 5
}
