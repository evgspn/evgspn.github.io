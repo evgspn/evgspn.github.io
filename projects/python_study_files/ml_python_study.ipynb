{
 "cells": [
  {
   "cell_type": "code",
   "execution_count": 1,
   "id": "a8190ee2",
   "metadata": {},
   "outputs": [],
   "source": [
    "import pandas as pd"
   ]
  },
  {
   "cell_type": "code",
   "execution_count": 6,
   "id": "8171f3fa",
   "metadata": {},
   "outputs": [],
   "source": [
    "df = pd.read_csv('machine_learning/fifa_20/players_20.csv')"
   ]
  },
  {
   "cell_type": "code",
   "execution_count": 8,
   "id": "410af156",
   "metadata": {},
   "outputs": [
    {
     "data": {
      "text/plain": [
       "(18278, 104)"
      ]
     },
     "execution_count": 8,
     "metadata": {},
     "output_type": "execute_result"
    }
   ],
   "source": [
    "df.shape"
   ]
  },
  {
   "cell_type": "code",
   "execution_count": 9,
   "id": "0cb2af65",
   "metadata": {},
   "outputs": [
    {
     "data": {
      "text/html": [
       "<div>\n",
       "<style scoped>\n",
       "    .dataframe tbody tr th:only-of-type {\n",
       "        vertical-align: middle;\n",
       "    }\n",
       "\n",
       "    .dataframe tbody tr th {\n",
       "        vertical-align: top;\n",
       "    }\n",
       "\n",
       "    .dataframe thead th {\n",
       "        text-align: right;\n",
       "    }\n",
       "</style>\n",
       "<table border=\"1\" class=\"dataframe\">\n",
       "  <thead>\n",
       "    <tr style=\"text-align: right;\">\n",
       "      <th></th>\n",
       "      <th>sofifa_id</th>\n",
       "      <th>age</th>\n",
       "      <th>height_cm</th>\n",
       "      <th>weight_kg</th>\n",
       "      <th>overall</th>\n",
       "      <th>potential</th>\n",
       "      <th>value_eur</th>\n",
       "      <th>wage_eur</th>\n",
       "      <th>international_reputation</th>\n",
       "      <th>weak_foot</th>\n",
       "      <th>...</th>\n",
       "      <th>mentality_penalties</th>\n",
       "      <th>mentality_composure</th>\n",
       "      <th>defending_marking</th>\n",
       "      <th>defending_standing_tackle</th>\n",
       "      <th>defending_sliding_tackle</th>\n",
       "      <th>goalkeeping_diving</th>\n",
       "      <th>goalkeeping_handling</th>\n",
       "      <th>goalkeeping_kicking</th>\n",
       "      <th>goalkeeping_positioning</th>\n",
       "      <th>goalkeeping_reflexes</th>\n",
       "    </tr>\n",
       "  </thead>\n",
       "  <tbody>\n",
       "    <tr>\n",
       "      <th>count</th>\n",
       "      <td>18278.000000</td>\n",
       "      <td>18278.000000</td>\n",
       "      <td>18278.000000</td>\n",
       "      <td>18278.000000</td>\n",
       "      <td>18278.000000</td>\n",
       "      <td>18278.000000</td>\n",
       "      <td>1.827800e+04</td>\n",
       "      <td>18278.000000</td>\n",
       "      <td>18278.000000</td>\n",
       "      <td>18278.000000</td>\n",
       "      <td>...</td>\n",
       "      <td>18278.000000</td>\n",
       "      <td>18278.000000</td>\n",
       "      <td>18278.000000</td>\n",
       "      <td>18278.000000</td>\n",
       "      <td>18278.000000</td>\n",
       "      <td>18278.000000</td>\n",
       "      <td>18278.000000</td>\n",
       "      <td>18278.000000</td>\n",
       "      <td>18278.000000</td>\n",
       "      <td>18278.000000</td>\n",
       "    </tr>\n",
       "    <tr>\n",
       "      <th>mean</th>\n",
       "      <td>219738.864482</td>\n",
       "      <td>25.283291</td>\n",
       "      <td>181.362184</td>\n",
       "      <td>75.276343</td>\n",
       "      <td>66.244994</td>\n",
       "      <td>71.546887</td>\n",
       "      <td>2.484038e+06</td>\n",
       "      <td>9456.942773</td>\n",
       "      <td>1.103184</td>\n",
       "      <td>2.944250</td>\n",
       "      <td>...</td>\n",
       "      <td>48.383357</td>\n",
       "      <td>58.528778</td>\n",
       "      <td>46.848889</td>\n",
       "      <td>47.640333</td>\n",
       "      <td>45.606631</td>\n",
       "      <td>16.572765</td>\n",
       "      <td>16.354853</td>\n",
       "      <td>16.212934</td>\n",
       "      <td>16.368038</td>\n",
       "      <td>16.709924</td>\n",
       "    </tr>\n",
       "    <tr>\n",
       "      <th>std</th>\n",
       "      <td>27960.200461</td>\n",
       "      <td>4.656964</td>\n",
       "      <td>6.756961</td>\n",
       "      <td>7.047744</td>\n",
       "      <td>6.949953</td>\n",
       "      <td>6.139669</td>\n",
       "      <td>5.585481e+06</td>\n",
       "      <td>21351.714095</td>\n",
       "      <td>0.378861</td>\n",
       "      <td>0.664656</td>\n",
       "      <td>...</td>\n",
       "      <td>15.708099</td>\n",
       "      <td>11.880840</td>\n",
       "      <td>20.091287</td>\n",
       "      <td>21.585641</td>\n",
       "      <td>21.217734</td>\n",
       "      <td>17.738069</td>\n",
       "      <td>16.996925</td>\n",
       "      <td>16.613665</td>\n",
       "      <td>17.136497</td>\n",
       "      <td>18.038125</td>\n",
       "    </tr>\n",
       "    <tr>\n",
       "      <th>min</th>\n",
       "      <td>768.000000</td>\n",
       "      <td>16.000000</td>\n",
       "      <td>156.000000</td>\n",
       "      <td>50.000000</td>\n",
       "      <td>48.000000</td>\n",
       "      <td>49.000000</td>\n",
       "      <td>0.000000e+00</td>\n",
       "      <td>0.000000</td>\n",
       "      <td>1.000000</td>\n",
       "      <td>1.000000</td>\n",
       "      <td>...</td>\n",
       "      <td>7.000000</td>\n",
       "      <td>12.000000</td>\n",
       "      <td>1.000000</td>\n",
       "      <td>5.000000</td>\n",
       "      <td>3.000000</td>\n",
       "      <td>1.000000</td>\n",
       "      <td>1.000000</td>\n",
       "      <td>1.000000</td>\n",
       "      <td>1.000000</td>\n",
       "      <td>1.000000</td>\n",
       "    </tr>\n",
       "    <tr>\n",
       "      <th>25%</th>\n",
       "      <td>204445.500000</td>\n",
       "      <td>22.000000</td>\n",
       "      <td>177.000000</td>\n",
       "      <td>70.000000</td>\n",
       "      <td>62.000000</td>\n",
       "      <td>67.000000</td>\n",
       "      <td>3.250000e+05</td>\n",
       "      <td>1000.000000</td>\n",
       "      <td>1.000000</td>\n",
       "      <td>3.000000</td>\n",
       "      <td>...</td>\n",
       "      <td>39.000000</td>\n",
       "      <td>51.000000</td>\n",
       "      <td>29.000000</td>\n",
       "      <td>27.000000</td>\n",
       "      <td>24.000000</td>\n",
       "      <td>8.000000</td>\n",
       "      <td>8.000000</td>\n",
       "      <td>8.000000</td>\n",
       "      <td>8.000000</td>\n",
       "      <td>8.000000</td>\n",
       "    </tr>\n",
       "    <tr>\n",
       "      <th>50%</th>\n",
       "      <td>226165.000000</td>\n",
       "      <td>25.000000</td>\n",
       "      <td>181.000000</td>\n",
       "      <td>75.000000</td>\n",
       "      <td>66.000000</td>\n",
       "      <td>71.000000</td>\n",
       "      <td>7.000000e+05</td>\n",
       "      <td>3000.000000</td>\n",
       "      <td>1.000000</td>\n",
       "      <td>3.000000</td>\n",
       "      <td>...</td>\n",
       "      <td>49.000000</td>\n",
       "      <td>60.000000</td>\n",
       "      <td>52.000000</td>\n",
       "      <td>55.000000</td>\n",
       "      <td>52.000000</td>\n",
       "      <td>11.000000</td>\n",
       "      <td>11.000000</td>\n",
       "      <td>11.000000</td>\n",
       "      <td>11.000000</td>\n",
       "      <td>11.000000</td>\n",
       "    </tr>\n",
       "    <tr>\n",
       "      <th>75%</th>\n",
       "      <td>240795.750000</td>\n",
       "      <td>29.000000</td>\n",
       "      <td>186.000000</td>\n",
       "      <td>80.000000</td>\n",
       "      <td>71.000000</td>\n",
       "      <td>75.000000</td>\n",
       "      <td>2.100000e+06</td>\n",
       "      <td>8000.000000</td>\n",
       "      <td>1.000000</td>\n",
       "      <td>3.000000</td>\n",
       "      <td>...</td>\n",
       "      <td>60.000000</td>\n",
       "      <td>67.000000</td>\n",
       "      <td>64.000000</td>\n",
       "      <td>66.000000</td>\n",
       "      <td>64.000000</td>\n",
       "      <td>14.000000</td>\n",
       "      <td>14.000000</td>\n",
       "      <td>14.000000</td>\n",
       "      <td>14.000000</td>\n",
       "      <td>14.000000</td>\n",
       "    </tr>\n",
       "    <tr>\n",
       "      <th>max</th>\n",
       "      <td>252905.000000</td>\n",
       "      <td>42.000000</td>\n",
       "      <td>205.000000</td>\n",
       "      <td>110.000000</td>\n",
       "      <td>94.000000</td>\n",
       "      <td>95.000000</td>\n",
       "      <td>1.055000e+08</td>\n",
       "      <td>565000.000000</td>\n",
       "      <td>5.000000</td>\n",
       "      <td>5.000000</td>\n",
       "      <td>...</td>\n",
       "      <td>92.000000</td>\n",
       "      <td>96.000000</td>\n",
       "      <td>94.000000</td>\n",
       "      <td>92.000000</td>\n",
       "      <td>90.000000</td>\n",
       "      <td>90.000000</td>\n",
       "      <td>92.000000</td>\n",
       "      <td>93.000000</td>\n",
       "      <td>91.000000</td>\n",
       "      <td>92.000000</td>\n",
       "    </tr>\n",
       "  </tbody>\n",
       "</table>\n",
       "<p>8 rows × 61 columns</p>\n",
       "</div>"
      ],
      "text/plain": [
       "           sofifa_id           age     height_cm     weight_kg       overall  \\\n",
       "count   18278.000000  18278.000000  18278.000000  18278.000000  18278.000000   \n",
       "mean   219738.864482     25.283291    181.362184     75.276343     66.244994   \n",
       "std     27960.200461      4.656964      6.756961      7.047744      6.949953   \n",
       "min       768.000000     16.000000    156.000000     50.000000     48.000000   \n",
       "25%    204445.500000     22.000000    177.000000     70.000000     62.000000   \n",
       "50%    226165.000000     25.000000    181.000000     75.000000     66.000000   \n",
       "75%    240795.750000     29.000000    186.000000     80.000000     71.000000   \n",
       "max    252905.000000     42.000000    205.000000    110.000000     94.000000   \n",
       "\n",
       "          potential     value_eur       wage_eur  international_reputation  \\\n",
       "count  18278.000000  1.827800e+04   18278.000000              18278.000000   \n",
       "mean      71.546887  2.484038e+06    9456.942773                  1.103184   \n",
       "std        6.139669  5.585481e+06   21351.714095                  0.378861   \n",
       "min       49.000000  0.000000e+00       0.000000                  1.000000   \n",
       "25%       67.000000  3.250000e+05    1000.000000                  1.000000   \n",
       "50%       71.000000  7.000000e+05    3000.000000                  1.000000   \n",
       "75%       75.000000  2.100000e+06    8000.000000                  1.000000   \n",
       "max       95.000000  1.055000e+08  565000.000000                  5.000000   \n",
       "\n",
       "          weak_foot  ...  mentality_penalties  mentality_composure  \\\n",
       "count  18278.000000  ...         18278.000000         18278.000000   \n",
       "mean       2.944250  ...            48.383357            58.528778   \n",
       "std        0.664656  ...            15.708099            11.880840   \n",
       "min        1.000000  ...             7.000000            12.000000   \n",
       "25%        3.000000  ...            39.000000            51.000000   \n",
       "50%        3.000000  ...            49.000000            60.000000   \n",
       "75%        3.000000  ...            60.000000            67.000000   \n",
       "max        5.000000  ...            92.000000            96.000000   \n",
       "\n",
       "       defending_marking  defending_standing_tackle  defending_sliding_tackle  \\\n",
       "count       18278.000000               18278.000000              18278.000000   \n",
       "mean           46.848889                  47.640333                 45.606631   \n",
       "std            20.091287                  21.585641                 21.217734   \n",
       "min             1.000000                   5.000000                  3.000000   \n",
       "25%            29.000000                  27.000000                 24.000000   \n",
       "50%            52.000000                  55.000000                 52.000000   \n",
       "75%            64.000000                  66.000000                 64.000000   \n",
       "max            94.000000                  92.000000                 90.000000   \n",
       "\n",
       "       goalkeeping_diving  goalkeeping_handling  goalkeeping_kicking  \\\n",
       "count        18278.000000          18278.000000         18278.000000   \n",
       "mean            16.572765             16.354853            16.212934   \n",
       "std             17.738069             16.996925            16.613665   \n",
       "min              1.000000              1.000000             1.000000   \n",
       "25%              8.000000              8.000000             8.000000   \n",
       "50%             11.000000             11.000000            11.000000   \n",
       "75%             14.000000             14.000000            14.000000   \n",
       "max             90.000000             92.000000            93.000000   \n",
       "\n",
       "       goalkeeping_positioning  goalkeeping_reflexes  \n",
       "count             18278.000000          18278.000000  \n",
       "mean                 16.368038             16.709924  \n",
       "std                  17.136497             18.038125  \n",
       "min                   1.000000              1.000000  \n",
       "25%                   8.000000              8.000000  \n",
       "50%                  11.000000             11.000000  \n",
       "75%                  14.000000             14.000000  \n",
       "max                  91.000000             92.000000  \n",
       "\n",
       "[8 rows x 61 columns]"
      ]
     },
     "execution_count": 9,
     "metadata": {},
     "output_type": "execute_result"
    }
   ],
   "source": [
    "df.describe()"
   ]
  },
  {
   "cell_type": "code",
   "execution_count": 15,
   "id": "f919bcf3",
   "metadata": {},
   "outputs": [
    {
     "data": {
      "text/html": [
       "<div>\n",
       "<style scoped>\n",
       "    .dataframe tbody tr th:only-of-type {\n",
       "        vertical-align: middle;\n",
       "    }\n",
       "\n",
       "    .dataframe tbody tr th {\n",
       "        vertical-align: top;\n",
       "    }\n",
       "\n",
       "    .dataframe thead th {\n",
       "        text-align: right;\n",
       "    }\n",
       "</style>\n",
       "<table border=\"1\" class=\"dataframe\">\n",
       "  <thead>\n",
       "    <tr style=\"text-align: right;\">\n",
       "      <th></th>\n",
       "      <th>sofifa_id</th>\n",
       "      <th>player_url</th>\n",
       "      <th>short_name</th>\n",
       "      <th>long_name</th>\n",
       "      <th>age</th>\n",
       "      <th>dob</th>\n",
       "      <th>height_cm</th>\n",
       "      <th>weight_kg</th>\n",
       "      <th>nationality</th>\n",
       "      <th>club</th>\n",
       "      <th>...</th>\n",
       "      <th>lwb</th>\n",
       "      <th>ldm</th>\n",
       "      <th>cdm</th>\n",
       "      <th>rdm</th>\n",
       "      <th>rwb</th>\n",
       "      <th>lb</th>\n",
       "      <th>lcb</th>\n",
       "      <th>cb</th>\n",
       "      <th>rcb</th>\n",
       "      <th>rb</th>\n",
       "    </tr>\n",
       "  </thead>\n",
       "  <tbody>\n",
       "    <tr>\n",
       "      <th>200</th>\n",
       "      <td>1179</td>\n",
       "      <td>https://sofifa.com/player/1179/gianluigi-buffo...</td>\n",
       "      <td>G. Buffon</td>\n",
       "      <td>Gianluigi Buffon</td>\n",
       "      <td>41</td>\n",
       "      <td>1978-01-28</td>\n",
       "      <td>192</td>\n",
       "      <td>92</td>\n",
       "      <td>Italy</td>\n",
       "      <td>Juventus</td>\n",
       "      <td>...</td>\n",
       "      <td>NaN</td>\n",
       "      <td>NaN</td>\n",
       "      <td>NaN</td>\n",
       "      <td>NaN</td>\n",
       "      <td>NaN</td>\n",
       "      <td>NaN</td>\n",
       "      <td>NaN</td>\n",
       "      <td>NaN</td>\n",
       "      <td>NaN</td>\n",
       "      <td>NaN</td>\n",
       "    </tr>\n",
       "    <tr>\n",
       "      <th>868</th>\n",
       "      <td>153260</td>\n",
       "      <td>https://sofifa.com/player/153260/vitorino-hilt...</td>\n",
       "      <td>Hilton</td>\n",
       "      <td>Vitorino Hilton da Silva</td>\n",
       "      <td>41</td>\n",
       "      <td>1977-09-13</td>\n",
       "      <td>180</td>\n",
       "      <td>78</td>\n",
       "      <td>Brazil</td>\n",
       "      <td>Montpellier HSC</td>\n",
       "      <td>...</td>\n",
       "      <td>67+2</td>\n",
       "      <td>74+2</td>\n",
       "      <td>74+2</td>\n",
       "      <td>74+2</td>\n",
       "      <td>67+2</td>\n",
       "      <td>68+2</td>\n",
       "      <td>76+2</td>\n",
       "      <td>76+2</td>\n",
       "      <td>76+2</td>\n",
       "      <td>68+2</td>\n",
       "    </tr>\n",
       "    <tr>\n",
       "      <th>3706</th>\n",
       "      <td>156483</td>\n",
       "      <td>https://sofifa.com/player/156483/cristian-lucc...</td>\n",
       "      <td>C. Lucchetti</td>\n",
       "      <td>Cristian David Lucchetti</td>\n",
       "      <td>41</td>\n",
       "      <td>1978-06-26</td>\n",
       "      <td>182</td>\n",
       "      <td>69</td>\n",
       "      <td>Argentina</td>\n",
       "      <td>Atlético Tucumán</td>\n",
       "      <td>...</td>\n",
       "      <td>NaN</td>\n",
       "      <td>NaN</td>\n",
       "      <td>NaN</td>\n",
       "      <td>NaN</td>\n",
       "      <td>NaN</td>\n",
       "      <td>NaN</td>\n",
       "      <td>NaN</td>\n",
       "      <td>NaN</td>\n",
       "      <td>NaN</td>\n",
       "      <td>NaN</td>\n",
       "    </tr>\n",
       "    <tr>\n",
       "      <th>10665</th>\n",
       "      <td>49511</td>\n",
       "      <td>https://sofifa.com/player/49511/frode-kippe/20...</td>\n",
       "      <td>F. Kippe</td>\n",
       "      <td>Frode Kippe</td>\n",
       "      <td>41</td>\n",
       "      <td>1978-01-17</td>\n",
       "      <td>194</td>\n",
       "      <td>97</td>\n",
       "      <td>Norway</td>\n",
       "      <td>Lillestrøm SK</td>\n",
       "      <td>...</td>\n",
       "      <td>48+2</td>\n",
       "      <td>58+2</td>\n",
       "      <td>58+2</td>\n",
       "      <td>58+2</td>\n",
       "      <td>48+2</td>\n",
       "      <td>50+2</td>\n",
       "      <td>63+2</td>\n",
       "      <td>63+2</td>\n",
       "      <td>63+2</td>\n",
       "      <td>50+2</td>\n",
       "    </tr>\n",
       "    <tr>\n",
       "      <th>11832</th>\n",
       "      <td>142998</td>\n",
       "      <td>https://sofifa.com/player/142998/cristian-muno...</td>\n",
       "      <td>C. Muñoz</td>\n",
       "      <td>Cristian Fernando Muñoz Hoffman</td>\n",
       "      <td>42</td>\n",
       "      <td>1977-07-01</td>\n",
       "      <td>177</td>\n",
       "      <td>73</td>\n",
       "      <td>Argentina</td>\n",
       "      <td>CD Universidad de Concepción</td>\n",
       "      <td>...</td>\n",
       "      <td>NaN</td>\n",
       "      <td>NaN</td>\n",
       "      <td>NaN</td>\n",
       "      <td>NaN</td>\n",
       "      <td>NaN</td>\n",
       "      <td>NaN</td>\n",
       "      <td>NaN</td>\n",
       "      <td>NaN</td>\n",
       "      <td>NaN</td>\n",
       "      <td>NaN</td>\n",
       "    </tr>\n",
       "  </tbody>\n",
       "</table>\n",
       "<p>5 rows × 104 columns</p>\n",
       "</div>"
      ],
      "text/plain": [
       "       sofifa_id                                         player_url  \\\n",
       "200         1179  https://sofifa.com/player/1179/gianluigi-buffo...   \n",
       "868       153260  https://sofifa.com/player/153260/vitorino-hilt...   \n",
       "3706      156483  https://sofifa.com/player/156483/cristian-lucc...   \n",
       "10665      49511  https://sofifa.com/player/49511/frode-kippe/20...   \n",
       "11832     142998  https://sofifa.com/player/142998/cristian-muno...   \n",
       "\n",
       "         short_name                        long_name  age         dob  \\\n",
       "200       G. Buffon                 Gianluigi Buffon   41  1978-01-28   \n",
       "868          Hilton         Vitorino Hilton da Silva   41  1977-09-13   \n",
       "3706   C. Lucchetti         Cristian David Lucchetti   41  1978-06-26   \n",
       "10665      F. Kippe                      Frode Kippe   41  1978-01-17   \n",
       "11832      C. Muñoz  Cristian Fernando Muñoz Hoffman   42  1977-07-01   \n",
       "\n",
       "       height_cm  weight_kg nationality                          club  ...  \\\n",
       "200          192         92       Italy                      Juventus  ...   \n",
       "868          180         78      Brazil               Montpellier HSC  ...   \n",
       "3706         182         69   Argentina              Atlético Tucumán  ...   \n",
       "10665        194         97      Norway                 Lillestrøm SK  ...   \n",
       "11832        177         73   Argentina  CD Universidad de Concepción  ...   \n",
       "\n",
       "        lwb   ldm   cdm   rdm   rwb    lb   lcb    cb   rcb    rb  \n",
       "200     NaN   NaN   NaN   NaN   NaN   NaN   NaN   NaN   NaN   NaN  \n",
       "868    67+2  74+2  74+2  74+2  67+2  68+2  76+2  76+2  76+2  68+2  \n",
       "3706    NaN   NaN   NaN   NaN   NaN   NaN   NaN   NaN   NaN   NaN  \n",
       "10665  48+2  58+2  58+2  58+2  48+2  50+2  63+2  63+2  63+2  50+2  \n",
       "11832   NaN   NaN   NaN   NaN   NaN   NaN   NaN   NaN   NaN   NaN  \n",
       "\n",
       "[5 rows x 104 columns]"
      ]
     },
     "execution_count": 15,
     "metadata": {},
     "output_type": "execute_result"
    }
   ],
   "source": [
    "df[df['age'] > 40].head(5)"
   ]
  },
  {
   "cell_type": "code",
   "execution_count": 17,
   "id": "e418bfbd",
   "metadata": {},
   "outputs": [],
   "source": [
    "# What the good players are?\n",
    "# What player is undervalued?"
   ]
  },
  {
   "cell_type": "code",
   "execution_count": 18,
   "id": "6eb04eef",
   "metadata": {},
   "outputs": [],
   "source": [
    "# name, # age, #value, #wage"
   ]
  },
  {
   "cell_type": "code",
   "execution_count": 25,
   "id": "04b4c7a9",
   "metadata": {},
   "outputs": [],
   "source": [
    "df_4 = df[['short_name', 'age', 'height_cm', 'value_eur', 'wage_eur']]"
   ]
  },
  {
   "cell_type": "code",
   "execution_count": 24,
   "id": "7c96af97",
   "metadata": {},
   "outputs": [],
   "source": [
    "# df4 = pd.DataFrame(df, columns=['long_name', 'age', 'height_cm', 'value_eur', 'wage_eur'])"
   ]
  },
  {
   "cell_type": "code",
   "execution_count": 26,
   "id": "13218e42",
   "metadata": {},
   "outputs": [
    {
     "data": {
      "text/html": [
       "<div>\n",
       "<style scoped>\n",
       "    .dataframe tbody tr th:only-of-type {\n",
       "        vertical-align: middle;\n",
       "    }\n",
       "\n",
       "    .dataframe tbody tr th {\n",
       "        vertical-align: top;\n",
       "    }\n",
       "\n",
       "    .dataframe thead th {\n",
       "        text-align: right;\n",
       "    }\n",
       "</style>\n",
       "<table border=\"1\" class=\"dataframe\">\n",
       "  <thead>\n",
       "    <tr style=\"text-align: right;\">\n",
       "      <th></th>\n",
       "      <th>short_name</th>\n",
       "      <th>age</th>\n",
       "      <th>height_cm</th>\n",
       "      <th>value_eur</th>\n",
       "      <th>wage_eur</th>\n",
       "    </tr>\n",
       "  </thead>\n",
       "  <tbody>\n",
       "    <tr>\n",
       "      <th>0</th>\n",
       "      <td>L. Messi</td>\n",
       "      <td>32</td>\n",
       "      <td>170</td>\n",
       "      <td>95500000</td>\n",
       "      <td>565000</td>\n",
       "    </tr>\n",
       "    <tr>\n",
       "      <th>1</th>\n",
       "      <td>Cristiano Ronaldo</td>\n",
       "      <td>34</td>\n",
       "      <td>187</td>\n",
       "      <td>58500000</td>\n",
       "      <td>405000</td>\n",
       "    </tr>\n",
       "    <tr>\n",
       "      <th>2</th>\n",
       "      <td>Neymar Jr</td>\n",
       "      <td>27</td>\n",
       "      <td>175</td>\n",
       "      <td>105500000</td>\n",
       "      <td>290000</td>\n",
       "    </tr>\n",
       "    <tr>\n",
       "      <th>3</th>\n",
       "      <td>J. Oblak</td>\n",
       "      <td>26</td>\n",
       "      <td>188</td>\n",
       "      <td>77500000</td>\n",
       "      <td>125000</td>\n",
       "    </tr>\n",
       "    <tr>\n",
       "      <th>4</th>\n",
       "      <td>E. Hazard</td>\n",
       "      <td>28</td>\n",
       "      <td>175</td>\n",
       "      <td>90000000</td>\n",
       "      <td>470000</td>\n",
       "    </tr>\n",
       "    <tr>\n",
       "      <th>...</th>\n",
       "      <td>...</td>\n",
       "      <td>...</td>\n",
       "      <td>...</td>\n",
       "      <td>...</td>\n",
       "      <td>...</td>\n",
       "    </tr>\n",
       "    <tr>\n",
       "      <th>18273</th>\n",
       "      <td>Shao Shuai</td>\n",
       "      <td>22</td>\n",
       "      <td>186</td>\n",
       "      <td>40000</td>\n",
       "      <td>2000</td>\n",
       "    </tr>\n",
       "    <tr>\n",
       "      <th>18274</th>\n",
       "      <td>Xiao Mingjie</td>\n",
       "      <td>22</td>\n",
       "      <td>177</td>\n",
       "      <td>40000</td>\n",
       "      <td>2000</td>\n",
       "    </tr>\n",
       "    <tr>\n",
       "      <th>18275</th>\n",
       "      <td>Zhang Wei</td>\n",
       "      <td>19</td>\n",
       "      <td>186</td>\n",
       "      <td>40000</td>\n",
       "      <td>1000</td>\n",
       "    </tr>\n",
       "    <tr>\n",
       "      <th>18276</th>\n",
       "      <td>Wang Haijian</td>\n",
       "      <td>18</td>\n",
       "      <td>185</td>\n",
       "      <td>40000</td>\n",
       "      <td>1000</td>\n",
       "    </tr>\n",
       "    <tr>\n",
       "      <th>18277</th>\n",
       "      <td>Pan Ximing</td>\n",
       "      <td>26</td>\n",
       "      <td>182</td>\n",
       "      <td>40000</td>\n",
       "      <td>2000</td>\n",
       "    </tr>\n",
       "  </tbody>\n",
       "</table>\n",
       "<p>18278 rows × 5 columns</p>\n",
       "</div>"
      ],
      "text/plain": [
       "              short_name  age  height_cm  value_eur  wage_eur\n",
       "0               L. Messi   32        170   95500000    565000\n",
       "1      Cristiano Ronaldo   34        187   58500000    405000\n",
       "2              Neymar Jr   27        175  105500000    290000\n",
       "3               J. Oblak   26        188   77500000    125000\n",
       "4              E. Hazard   28        175   90000000    470000\n",
       "...                  ...  ...        ...        ...       ...\n",
       "18273         Shao Shuai   22        186      40000      2000\n",
       "18274       Xiao Mingjie   22        177      40000      2000\n",
       "18275          Zhang Wei   19        186      40000      1000\n",
       "18276       Wang Haijian   18        185      40000      1000\n",
       "18277         Pan Ximing   26        182      40000      2000\n",
       "\n",
       "[18278 rows x 5 columns]"
      ]
     },
     "execution_count": 26,
     "metadata": {},
     "output_type": "execute_result"
    }
   ],
   "source": [
    "df_4"
   ]
  },
  {
   "cell_type": "code",
   "execution_count": 29,
   "id": "fccc186b",
   "metadata": {},
   "outputs": [
    {
     "name": "stderr",
     "output_type": "stream",
     "text": [
      "C:\\Users\\ztvsp\\AppData\\Local\\Temp\\ipykernel_13900\\356995880.py:1: SettingWithCopyWarning: \n",
      "A value is trying to be set on a copy of a slice from a DataFrame.\n",
      "Try using .loc[row_indexer,col_indexer] = value instead\n",
      "\n",
      "See the caveats in the documentation: https://pandas.pydata.org/pandas-docs/stable/user_guide/indexing.html#returning-a-view-versus-a-copy\n",
      "  df_4['difference'] = df_4['value_eur'] - df_4['wage_eur']\n"
     ]
    }
   ],
   "source": [
    "df_4['difference'] = df_4['value_eur'] - df_4['wage_eur']"
   ]
  },
  {
   "cell_type": "code",
   "execution_count": 31,
   "id": "9f366003",
   "metadata": {},
   "outputs": [
    {
     "data": {
      "text/html": [
       "<div>\n",
       "<style scoped>\n",
       "    .dataframe tbody tr th:only-of-type {\n",
       "        vertical-align: middle;\n",
       "    }\n",
       "\n",
       "    .dataframe tbody tr th {\n",
       "        vertical-align: top;\n",
       "    }\n",
       "\n",
       "    .dataframe thead th {\n",
       "        text-align: right;\n",
       "    }\n",
       "</style>\n",
       "<table border=\"1\" class=\"dataframe\">\n",
       "  <thead>\n",
       "    <tr style=\"text-align: right;\">\n",
       "      <th></th>\n",
       "      <th>short_name</th>\n",
       "      <th>age</th>\n",
       "      <th>height_cm</th>\n",
       "      <th>value_eur</th>\n",
       "      <th>wage_eur</th>\n",
       "      <th>difference</th>\n",
       "    </tr>\n",
       "  </thead>\n",
       "  <tbody>\n",
       "    <tr>\n",
       "      <th>2</th>\n",
       "      <td>Neymar Jr</td>\n",
       "      <td>27</td>\n",
       "      <td>175</td>\n",
       "      <td>105500000</td>\n",
       "      <td>290000</td>\n",
       "      <td>105210000</td>\n",
       "    </tr>\n",
       "    <tr>\n",
       "      <th>0</th>\n",
       "      <td>L. Messi</td>\n",
       "      <td>32</td>\n",
       "      <td>170</td>\n",
       "      <td>95500000</td>\n",
       "      <td>565000</td>\n",
       "      <td>94935000</td>\n",
       "    </tr>\n",
       "    <tr>\n",
       "      <th>10</th>\n",
       "      <td>K. Mbappé</td>\n",
       "      <td>20</td>\n",
       "      <td>178</td>\n",
       "      <td>93500000</td>\n",
       "      <td>155000</td>\n",
       "      <td>93345000</td>\n",
       "    </tr>\n",
       "    <tr>\n",
       "      <th>5</th>\n",
       "      <td>K. De Bruyne</td>\n",
       "      <td>28</td>\n",
       "      <td>181</td>\n",
       "      <td>90000000</td>\n",
       "      <td>370000</td>\n",
       "      <td>89630000</td>\n",
       "    </tr>\n",
       "    <tr>\n",
       "      <th>4</th>\n",
       "      <td>E. Hazard</td>\n",
       "      <td>28</td>\n",
       "      <td>175</td>\n",
       "      <td>90000000</td>\n",
       "      <td>470000</td>\n",
       "      <td>89530000</td>\n",
       "    </tr>\n",
       "    <tr>\n",
       "      <th>...</th>\n",
       "      <td>...</td>\n",
       "      <td>...</td>\n",
       "      <td>...</td>\n",
       "      <td>...</td>\n",
       "      <td>...</td>\n",
       "      <td>...</td>\n",
       "    </tr>\n",
       "    <tr>\n",
       "      <th>8359</th>\n",
       "      <td>F. Cubero</td>\n",
       "      <td>40</td>\n",
       "      <td>175</td>\n",
       "      <td>0</td>\n",
       "      <td>3000</td>\n",
       "      <td>-3000</td>\n",
       "    </tr>\n",
       "    <tr>\n",
       "      <th>7230</th>\n",
       "      <td>Lee Dong Gook</td>\n",
       "      <td>40</td>\n",
       "      <td>185</td>\n",
       "      <td>0</td>\n",
       "      <td>4000</td>\n",
       "      <td>-4000</td>\n",
       "    </tr>\n",
       "    <tr>\n",
       "      <th>13003</th>\n",
       "      <td>H. Sulaimani</td>\n",
       "      <td>42</td>\n",
       "      <td>173</td>\n",
       "      <td>0</td>\n",
       "      <td>5000</td>\n",
       "      <td>-5000</td>\n",
       "    </tr>\n",
       "    <tr>\n",
       "      <th>1880</th>\n",
       "      <td>C. Pizarro</td>\n",
       "      <td>40</td>\n",
       "      <td>184</td>\n",
       "      <td>0</td>\n",
       "      <td>20000</td>\n",
       "      <td>-20000</td>\n",
       "    </tr>\n",
       "    <tr>\n",
       "      <th>868</th>\n",
       "      <td>Hilton</td>\n",
       "      <td>41</td>\n",
       "      <td>180</td>\n",
       "      <td>0</td>\n",
       "      <td>21000</td>\n",
       "      <td>-21000</td>\n",
       "    </tr>\n",
       "  </tbody>\n",
       "</table>\n",
       "<p>18278 rows × 6 columns</p>\n",
       "</div>"
      ],
      "text/plain": [
       "          short_name  age  height_cm  value_eur  wage_eur  difference\n",
       "2          Neymar Jr   27        175  105500000    290000   105210000\n",
       "0           L. Messi   32        170   95500000    565000    94935000\n",
       "10         K. Mbappé   20        178   93500000    155000    93345000\n",
       "5       K. De Bruyne   28        181   90000000    370000    89630000\n",
       "4          E. Hazard   28        175   90000000    470000    89530000\n",
       "...              ...  ...        ...        ...       ...         ...\n",
       "8359       F. Cubero   40        175          0      3000       -3000\n",
       "7230   Lee Dong Gook   40        185          0      4000       -4000\n",
       "13003   H. Sulaimani   42        173          0      5000       -5000\n",
       "1880      C. Pizarro   40        184          0     20000      -20000\n",
       "868           Hilton   41        180          0     21000      -21000\n",
       "\n",
       "[18278 rows x 6 columns]"
      ]
     },
     "execution_count": 31,
     "metadata": {},
     "output_type": "execute_result"
    }
   ],
   "source": [
    "df_4.sort_values('difference', ascending=False)"
   ]
  },
  {
   "cell_type": "code",
   "execution_count": 32,
   "id": "8954387e",
   "metadata": {},
   "outputs": [],
   "source": [
    "import seaborn as sns"
   ]
  },
  {
   "cell_type": "code",
   "execution_count": 33,
   "id": "2afd1498",
   "metadata": {},
   "outputs": [
    {
     "data": {
      "image/png": "[encoded data removed]",
      "text/plain": [
       "<Figure size 640x480 with 1 Axes>"
      ]
     },
     "metadata": {},
     "output_type": "display_data"
    }
   ],
   "source": [
    "sns.set()\n",
    "\n",
    "graph = sns.scatterplot(x=\"wage_eur\", y=\"value_eur\", data=df_4)"
   ]
  },
  {
   "cell_type": "code",
   "execution_count": 35,
   "id": "1f90c0c2",
   "metadata": {},
   "outputs": [],
   "source": [
    "from bokeh.plotting import figure, show\n",
    "from bokeh.models import HoverTool"
   ]
  },
  {
   "cell_type": "code",
   "execution_count": 51,
   "id": "e9902f8b",
   "metadata": {},
   "outputs": [],
   "source": [
    "TOOLTIPS = HoverTool(tooltips=[\n",
    "    (\"index\", \"$index\"),\n",
    "    ('(wage_eur, value_eur)', '(@wage_eur, @value_eur)'),\n",
    "    (\"short_name\", \"@short_name\")])\n",
    "\n",
    "p = figure(title=\"Soccer 2020\", x_axis_label='wage_eur', y_axis_label='value_eur', plot_width=700, plot_height=700, tools=[TOOLTIPS])\n",
    "p.circle('wage_eur', 'value_eur', size=10, source=df_4)\n",
    "show(p)"
   ]
  },
  {
   "cell_type": "code",
   "execution_count": null,
   "id": "dda7b333",
   "metadata": {},
   "outputs": [],
   "source": []
  },
  {
   "cell_type": "markdown",
   "id": "f4a26885",
   "metadata": {},
   "source": [
    "# Iris Data Set 'investigation'"
   ]
  },
  {
   "cell_type": "code",
   "execution_count": 52,
   "id": "9622b870",
   "metadata": {},
   "outputs": [],
   "source": [
    "from sklearn.datasets import load_iris"
   ]
  },
  {
   "cell_type": "code",
   "execution_count": 53,
   "id": "7a470d26",
   "metadata": {},
   "outputs": [],
   "source": [
    "iris = load_iris()"
   ]
  },
  {
   "cell_type": "code",
   "execution_count": 55,
   "id": "125ce68d",
   "metadata": {},
   "outputs": [],
   "source": [
    "X = iris.data\n",
    "y = iris.target"
   ]
  },
  {
   "cell_type": "code",
   "execution_count": 58,
   "id": "20107b7e",
   "metadata": {},
   "outputs": [],
   "source": [
    "feature_names = iris.feature_names\n",
    "target_names = iris.target_names"
   ]
  },
  {
   "cell_type": "code",
   "execution_count": 59,
   "id": "cc740ecc",
   "metadata": {},
   "outputs": [
    {
     "data": {
      "text/plain": [
       "['sepal length (cm)',\n",
       " 'sepal width (cm)',\n",
       " 'petal length (cm)',\n",
       " 'petal width (cm)']"
      ]
     },
     "execution_count": 59,
     "metadata": {},
     "output_type": "execute_result"
    }
   ],
   "source": [
    "feature_names"
   ]
  },
  {
   "cell_type": "code",
   "execution_count": 60,
   "id": "c578d668",
   "metadata": {},
   "outputs": [
    {
     "data": {
      "text/plain": [
       "array(['setosa', 'versicolor', 'virginica'], dtype='<U10')"
      ]
     },
     "execution_count": 60,
     "metadata": {},
     "output_type": "execute_result"
    }
   ],
   "source": [
    "target_names"
   ]
  },
  {
   "cell_type": "code",
   "execution_count": 61,
   "id": "410f1180",
   "metadata": {},
   "outputs": [
    {
     "data": {
      "text/plain": [
       "numpy.ndarray"
      ]
     },
     "execution_count": 61,
     "metadata": {},
     "output_type": "execute_result"
    }
   ],
   "source": [
    "type(X)"
   ]
  },
  {
   "cell_type": "code",
   "execution_count": 62,
   "id": "f43e37ce",
   "metadata": {},
   "outputs": [
    {
     "data": {
      "text/plain": [
       "numpy.ndarray"
      ]
     },
     "execution_count": 62,
     "metadata": {},
     "output_type": "execute_result"
    }
   ],
   "source": [
    "type(y)"
   ]
  },
  {
   "cell_type": "code",
   "execution_count": 63,
   "id": "27b54267",
   "metadata": {},
   "outputs": [],
   "source": [
    "from sklearn.model_selection import train_test_split"
   ]
  },
  {
   "cell_type": "code",
   "execution_count": 67,
   "id": "0dd2427e",
   "metadata": {},
   "outputs": [],
   "source": [
    "X_train, X_test, y_train, y_test = train_test_split(X, y, test_size=0.3, random_state=42)"
   ]
  },
  {
   "cell_type": "code",
   "execution_count": 68,
   "id": "129de0fc",
   "metadata": {},
   "outputs": [
    {
     "name": "stdout",
     "output_type": "stream",
     "text": [
      "(105, 4)\n",
      "(45, 4)\n"
     ]
    }
   ],
   "source": [
    "print(X_train.shape)\n",
    "print(X_test.shape)"
   ]
  },
  {
   "cell_type": "code",
   "execution_count": 86,
   "id": "0edc12c8",
   "metadata": {},
   "outputs": [],
   "source": [
    "from sklearn.neighbors import KNeighborsClassifier"
   ]
  },
  {
   "cell_type": "code",
   "execution_count": 87,
   "id": "7ea99832",
   "metadata": {},
   "outputs": [
    {
     "data": {
      "text/plain": [
       "KNeighborsClassifier(n_neighbors=3)"
      ]
     },
     "execution_count": 87,
     "metadata": {},
     "output_type": "execute_result"
    }
   ],
   "source": [
    "knn = KNeighborsClassifier(n_neighbors=3)\n",
    "knn.fit(X_train, y_train)"
   ]
  },
  {
   "cell_type": "code",
   "execution_count": 88,
   "id": "0d4382be",
   "metadata": {},
   "outputs": [
    {
     "name": "stderr",
     "output_type": "stream",
     "text": [
      "C:\\Users\\ztvsp\\anaconda3\\lib\\site-packages\\sklearn\\neighbors\\_classification.py:228: FutureWarning: Unlike other reduction functions (e.g. `skew`, `kurtosis`), the default behavior of `mode` typically preserves the axis it acts along. In SciPy 1.11.0, this behavior will change: the default value of `keepdims` will become False, the `axis` over which the statistic is taken will be eliminated, and the value None will no longer be accepted. Set `keepdims` to True or False to avoid this warning.\n",
      "  mode, _ = stats.mode(_y[neigh_ind, k], axis=1)\n"
     ]
    }
   ],
   "source": [
    "y_pred = knn.predict(X_test)"
   ]
  },
  {
   "cell_type": "code",
   "execution_count": 72,
   "id": "06d17cd5",
   "metadata": {},
   "outputs": [],
   "source": [
    "from sklearn import metrics"
   ]
  },
  {
   "cell_type": "code",
   "execution_count": 89,
   "id": "3547365d",
   "metadata": {},
   "outputs": [
    {
     "name": "stdout",
     "output_type": "stream",
     "text": [
      "1.0\n"
     ]
    }
   ],
   "source": [
    "print(metrics.accuracy_score(y_test, y_pred))"
   ]
  },
  {
   "cell_type": "code",
   "execution_count": 90,
   "id": "2c2203f6",
   "metadata": {},
   "outputs": [
    {
     "name": "stdout",
     "output_type": "stream",
     "text": [
      "predictions:  ['versicolor', 'virginica']\n"
     ]
    },
    {
     "name": "stderr",
     "output_type": "stream",
     "text": [
      "C:\\Users\\ztvsp\\anaconda3\\lib\\site-packages\\sklearn\\neighbors\\_classification.py:228: FutureWarning: Unlike other reduction functions (e.g. `skew`, `kurtosis`), the default behavior of `mode` typically preserves the axis it acts along. In SciPy 1.11.0, this behavior will change: the default value of `keepdims` will become False, the `axis` over which the statistic is taken will be eliminated, and the value None will no longer be accepted. Set `keepdims` to True or False to avoid this warning.\n",
      "  mode, _ = stats.mode(_y[neigh_ind, k], axis=1)\n"
     ]
    }
   ],
   "source": [
    "sample = [[3,5,4,2], [2,3,5,4]]\n",
    "predictions = knn.predict(sample)\n",
    "pred_species = [iris.target_names[p] for p in predictions]\n",
    "print(\"predictions: \", pred_species)"
   ]
  },
  {
   "cell_type": "code",
   "execution_count": null,
   "id": "cc1e784f",
   "metadata": {},
   "outputs": [],
   "source": []
  }
 ],
 "metadata": {
  "kernelspec": {
   "display_name": "Python 3 (ipykernel)",
   "language": "python",
   "name": "python3"
  },
  "language_info": {
   "codemirror_mode": {
    "name": "ipython",
    "version": 3
   },
   "file_extension": ".py",
   "mimetype": "text/x-python",
   "name": "python",
   "nbconvert_exporter": "python",
   "pygments_lexer": "ipython3",
   "version": "3.9.13"
  }
 },
 "nbformat": 4,
 "nbformat_minor": 5
}
